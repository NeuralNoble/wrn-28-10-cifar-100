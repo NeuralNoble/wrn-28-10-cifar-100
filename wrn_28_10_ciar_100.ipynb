{
  "nbformat": 4,
  "nbformat_minor": 0,
  "metadata": {
    "colab": {
      "provenance": [],
      "gpuType": "A100"
    },
    "kernelspec": {
      "name": "python3",
      "display_name": "Python 3"
    },
    "language_info": {
      "name": "python"
    },
    "accelerator": "GPU"
  },
  "cells": [
    {
      "cell_type": "code",
      "execution_count": null,
      "metadata": {
        "id": "7SseDm9sGEN6"
      },
      "outputs": [],
      "source": [
        "import torch\n",
        "import torch.nn as nn\n",
        "import torch.nn.functional as F\n",
        "\n",
        "\n",
        "class BasicBlock(nn.Module):\n",
        "    def __init__(self, in_planes, out_planes, stride=1, drop_rate=0.0):\n",
        "        super().__init__()\n",
        "        self.bn1 = nn.BatchNorm2d(in_planes)\n",
        "        self.relu = nn.ReLU(inplace=True)\n",
        "        self.conv1 = nn.Conv2d(in_planes, out_planes, 3, stride, 1, bias=False)\n",
        "        self.bn2 = nn.BatchNorm2d(out_planes)\n",
        "        self.conv2 = nn.Conv2d(out_planes, out_planes, 3, 1, 1, bias=False)\n",
        "        self.drop_rate = drop_rate\n",
        "        self.shortcut = None\n",
        "        if in_planes != out_planes or stride != 1:\n",
        "            self.shortcut = nn.Conv2d(in_planes, out_planes, 1, stride, 0, bias=False)\n",
        "\n",
        "    def forward(self, x):\n",
        "        out = self.relu(self.bn1(x))\n",
        "        if self.shortcut is not None:\n",
        "            shortcut = self.shortcut(out)\n",
        "        else:\n",
        "            shortcut = x\n",
        "        out = self.conv1(out)\n",
        "        out = self.relu(self.bn2(out))\n",
        "        out = self.conv2(out)\n",
        "        if self.drop_rate > 0:\n",
        "            out = F.dropout(out, p=self.drop_rate, training=self.training)\n",
        "        return out + shortcut\n",
        "\n",
        "\n",
        "class NetworkBlock(nn.Module):\n",
        "    def __init__(self, num_layers, in_planes, out_planes, block, stride, drop_rate):\n",
        "        super().__init__()\n",
        "        layers = []\n",
        "        for i in range(num_layers):\n",
        "            layers.append(\n",
        "                block(in_planes if i == 0 else out_planes,\n",
        "                      out_planes,\n",
        "                      stride if i == 0 else 1,\n",
        "                      drop_rate)\n",
        "            )\n",
        "        self.block = nn.Sequential(*layers)\n",
        "\n",
        "    def forward(self, x):\n",
        "        return self.block(x)\n",
        "\n",
        "\n",
        "class WideResNet(nn.Module):\n",
        "    def __init__(self, depth=28, widen_factor=10, num_classes=100, drop_rate=0.3):\n",
        "        super().__init__()\n",
        "        assert (depth - 4) % 6 == 0\n",
        "        n = (depth - 4) // 6\n",
        "        k = widen_factor\n",
        "        n_channels = [16, 16 * k, 32 * k, 64 * k]\n",
        "\n",
        "        self.conv1 = nn.Conv2d(3, n_channels[0], 3, 1, 1, bias=False)\n",
        "        self.block1 = NetworkBlock(n, n_channels[0], n_channels[1], BasicBlock, 1, drop_rate)\n",
        "        self.block2 = NetworkBlock(n, n_channels[1], n_channels[2], BasicBlock, 2, drop_rate)\n",
        "        self.block3 = NetworkBlock(n, n_channels[2], n_channels[3], BasicBlock, 2, drop_rate)\n",
        "        self.bn = nn.BatchNorm2d(n_channels[3])\n",
        "        self.relu = nn.ReLU(inplace=True)\n",
        "        self.fc = nn.Linear(n_channels[3], num_classes)\n",
        "\n",
        "        # --- He initialization\n",
        "        for m in self.modules():\n",
        "            if isinstance(m, nn.Conv2d):\n",
        "                nn.init.kaiming_normal_(m.weight, mode=\"fan_out\", nonlinearity=\"relu\")\n",
        "            elif isinstance(m, nn.BatchNorm2d):\n",
        "                nn.init.constant_(m.weight, 1)\n",
        "                nn.init.constant_(m.bias, 0)\n",
        "            elif isinstance(m, nn.Linear):\n",
        "                nn.init.constant_(m.bias, 0)\n",
        "\n",
        "    def forward(self, x):\n",
        "        out = self.conv1(x)\n",
        "        out = self.block1(out)\n",
        "        out = self.block2(out)\n",
        "        out = self.block3(out)\n",
        "        out = self.relu(self.bn(out))\n",
        "        out = F.avg_pool2d(out, 8)\n",
        "        out = out.view(out.size(0), -1)\n",
        "        return self.fc(out)\n"
      ]
    },
    {
      "cell_type": "code",
      "source": [
        "device = \"cuda\" if torch.cuda.is_available() else \"cpu\"\n",
        "print(device)"
      ],
      "metadata": {
        "colab": {
          "base_uri": "https://localhost:8080/"
        },
        "id": "OYjpeCV7GW2Z",
        "outputId": "aca9de50-2314-486c-b018-2f2ddd923633"
      },
      "execution_count": null,
      "outputs": [
        {
          "output_type": "stream",
          "name": "stdout",
          "text": [
            "cuda\n"
          ]
        }
      ]
    },
    {
      "cell_type": "code",
      "source": [
        "import torch.optim as optim\n",
        "from torchvision import datasets, transforms\n",
        "from torch.utils.data import DataLoader\n",
        "from tqdm.auto import tqdm\n",
        "import albumentations as A\n",
        "import numpy as np\n",
        "from albumentations.pytorch import ToTensorV2\n",
        "\n",
        "\n",
        "train_transforms = A.Compose([\n",
        "    A.PadIfNeeded(min_height=40, min_width=40, border_mode=0, value=0, p=1.0),\n",
        "    A.RandomCrop(32, 32, p=1.0),\n",
        "    A.HorizontalFlip(p=0.5),\n",
        "    A.ShiftScaleRotate(shift_limit=0.1, scale_limit=0.15, rotate_limit=15, p=0.5),\n",
        "    A.OneOf([\n",
        "        A.CoarseDropout(\n",
        "            max_holes=1,\n",
        "            max_height=16, max_width=16,\n",
        "            min_height=8,  min_width=8,\n",
        "            fill_value=tuple([int(x * 255) for x in [0.5071, 0.4867, 0.4408]]),\n",
        "            p=1.0\n",
        "        ),\n",
        "        A.GaussNoise(var_limit=(10.0, 50.0), p=1.0),\n",
        "    ], p=0.3),\n",
        "    A.Normalize(mean=(0.5071, 0.4867, 0.4408), std=(0.2675, 0.2565, 0.2761)),\n",
        "    ToTensorV2(),\n",
        "])\n",
        "\n",
        "test_transforms = A.Compose([\n",
        "    A.Normalize(mean=(0.5071, 0.4867, 0.4408), std=(0.2675, 0.2565, 0.2761)),\n",
        "    ToTensorV2(),\n",
        "])\n",
        "\n",
        "\n",
        "class AlbumentationsTransform:\n",
        "    def __init__(self, aug):\n",
        "        self.aug = aug\n",
        "    def __call__(self, img):\n",
        "        img = np.array(img)\n",
        "        augmented = self.aug(image=img)\n",
        "        return augmented[\"image\"]\n",
        "\n",
        "g = torch.Generator()\n",
        "g.manual_seed(42)\n",
        "\n",
        "train_dataset = datasets.CIFAR100(\n",
        "    root=\"./data\",\n",
        "    train=True,\n",
        "    download=True,\n",
        "    transform=AlbumentationsTransform(train_transforms)\n",
        ")\n",
        "\n",
        "test_dataset = datasets.CIFAR100(\n",
        "    root=\"./data\",\n",
        "    train=False,\n",
        "    download=True,\n",
        "    transform=AlbumentationsTransform(test_transforms)\n",
        ")\n",
        "\n",
        "# ---- 4️⃣ DataLoaders ----\n",
        "train_loader = DataLoader(\n",
        "    train_dataset,\n",
        "    batch_size=256,\n",
        "    shuffle=True,\n",
        "    num_workers=2,\n",
        "    pin_memory=True,\n",
        "    persistent_workers=True,\n",
        "    worker_init_fn=lambda _: np.random.seed(42),\n",
        "    generator=g\n",
        ")\n",
        "\n",
        "test_loader = DataLoader(\n",
        "    test_dataset,\n",
        "    batch_size=256,\n",
        "    shuffle=False,\n",
        "    num_workers=2,\n",
        "    pin_memory=True,\n",
        "    persistent_workers=True,\n",
        "\n",
        ")"
      ],
      "metadata": {
        "colab": {
          "base_uri": "https://localhost:8080/"
        },
        "id": "4D7jGswSGG9D",
        "outputId": "d2f0e18f-0c47-48e1-b89f-f705dfe63e17"
      },
      "execution_count": null,
      "outputs": [
        {
          "output_type": "stream",
          "name": "stderr",
          "text": [
            "/tmp/ipython-input-3918796701.py:11: UserWarning: Argument(s) 'value' are not valid for transform PadIfNeeded\n",
            "  A.PadIfNeeded(min_height=40, min_width=40, border_mode=0, value=0, p=1.0),\n",
            "/tmp/ipython-input-3918796701.py:16: UserWarning: Argument(s) 'max_holes, max_height, max_width, min_height, min_width, fill_value' are not valid for transform CoarseDropout\n",
            "  A.CoarseDropout(\n",
            "/tmp/ipython-input-3918796701.py:23: UserWarning: Argument(s) 'var_limit' are not valid for transform GaussNoise\n",
            "  A.GaussNoise(var_limit=(10.0, 50.0), p=1.0),\n"
          ]
        }
      ]
    },
    {
      "cell_type": "code",
      "source": [
        "import numpy as np\n",
        "import torch\n",
        "\n",
        "# --- Mixup & CutMix helper functions ---\n",
        "def rand_bbox(size, lam):\n",
        "    W, H = size[2], size[3]\n",
        "    cut_rat = np.sqrt(1. - lam)\n",
        "    cut_w = int(W * cut_rat)\n",
        "    cut_h = int(H * cut_rat)\n",
        "\n",
        "    cx = np.random.randint(W)\n",
        "    cy = np.random.randint(H)\n",
        "\n",
        "    x1 = np.clip(cx - cut_w // 2, 0, W)\n",
        "    y1 = np.clip(cy - cut_h // 2, 0, H)\n",
        "    x2 = np.clip(cx + cut_w // 2, 0, W)\n",
        "    y2 = np.clip(cy + cut_h // 2, 0, H)\n",
        "\n",
        "    return x1, y1, x2, y2\n",
        "\n",
        "\n",
        "def apply_mixup_cutmix(images, labels, alpha=1.0, cutmix_prob=0.5, use_cutmix=True, use_mixup=True):\n",
        "    r = np.random.rand(1)\n",
        "    if alpha <= 0 or (not use_cutmix and not use_mixup):\n",
        "        return images, labels, 1.0, None, None\n",
        "\n",
        "    if use_cutmix and r < cutmix_prob:\n",
        "        # --- CutMix ---\n",
        "        lam = np.random.beta(alpha, alpha)\n",
        "        rand_index = torch.randperm(images.size(0)).to(images.device)\n",
        "        target_a = labels\n",
        "        target_b = labels[rand_index]\n",
        "        x1, y1, x2, y2 = rand_bbox(images.size(), lam)\n",
        "        images[:, :, y1:y2, x1:x2] = images[rand_index, :, y1:y2, x1:x2]\n",
        "        lam = 1 - ((x2 - x1) * (y2 - y1) / (images.size(-1) * images.size(-2)))\n",
        "        return images, target_a, target_b, lam, \"cutmix\"\n",
        "\n",
        "    elif use_mixup:\n",
        "        # --- Mixup ---\n",
        "        lam = np.random.beta(alpha, alpha)\n",
        "        rand_index = torch.randperm(images.size(0)).to(images.device)\n",
        "        mixed_images = lam * images + (1 - lam) * images[rand_index, :]\n",
        "        target_a = labels\n",
        "        target_b = labels[rand_index]\n",
        "        return mixed_images, target_a, target_b, lam, \"mixup\"\n",
        "\n",
        "    else:\n",
        "        return images, labels, 1.0, None, None\n"
      ],
      "metadata": {
        "id": "W18LXvYLGK08"
      },
      "execution_count": null,
      "outputs": []
    },
    {
      "cell_type": "code",
      "source": [
        "import matplotlib.pyplot as plt\n",
        "import torch.nn as nn\n",
        "from torch.optim.lr_scheduler import OneCycleLR\n",
        "\n",
        "def train_model(model, train_loader, test_loader, device,\n",
        "                epochs=50, max_lr=0.3, weight_decay=5e-4,\n",
        "                label_smoothing=0.1, use_mixup_cutmix=True,\n",
        "                alpha=1.0, cutmix_prob=0.2):\n",
        "\n",
        "    # Initialize\n",
        "    criterion = nn.CrossEntropyLoss(label_smoothing=label_smoothing)\n",
        "    optimizer = optim.SGD(model.parameters(), lr=0.1, momentum=0.9, weight_decay=weight_decay)\n",
        "\n",
        "    scheduler = OneCycleLR(\n",
        "        optimizer,\n",
        "        max_lr=max_lr,\n",
        "        steps_per_epoch=len(train_loader),\n",
        "        epochs=epochs,\n",
        "        pct_start=0.3,\n",
        "        div_factor=25.0,\n",
        "        final_div_factor=1000,\n",
        "        anneal_strategy='cos'\n",
        "    )\n",
        "\n",
        "    # Metrics tracking\n",
        "    history = {\n",
        "        'train_loss': [],\n",
        "        'train_acc': [],\n",
        "        'test_loss': [],\n",
        "        'test_acc': [],\n",
        "        'learning_rates': []\n",
        "    }\n",
        "\n",
        "    best_acc = 0.0\n",
        "\n",
        "    # Training loop\n",
        "    for epoch in range(epochs):\n",
        "        print(f\"\\n{'='*60}\")\n",
        "        print(f\"Epoch [{epoch+1}/{epochs}]\")\n",
        "        print(f\"{'='*60}\")\n",
        "\n",
        "        # ========== TRAINING PHASE ==========\n",
        "        model.train()\n",
        "        train_loss = 0.0\n",
        "        train_correct = 0\n",
        "        train_total = 0\n",
        "\n",
        "        progress = tqdm(train_loader, desc=\"Training\", leave=False)\n",
        "\n",
        "        for images, labels in progress:\n",
        "            images, labels = images.to(device), labels.to(device)\n",
        "\n",
        "            if use_mixup_cutmix:\n",
        "                images, targets_a, targets_b, lam, aug_type = apply_mixup_cutmix(\n",
        "                    images, labels, alpha=alpha, cutmix_prob=cutmix_prob\n",
        "                )\n",
        "            else:\n",
        "                targets_a, targets_b, lam, aug_type = labels, None, 1.0, None\n",
        "\n",
        "            # Forward pass\n",
        "            optimizer.zero_grad()\n",
        "            outputs = model(images)\n",
        "\n",
        "            # Calculate loss\n",
        "            if aug_type in [\"mixup\", \"cutmix\"]:\n",
        "                loss = lam * criterion(outputs, targets_a) + (1 - lam) * criterion(outputs, targets_b)\n",
        "            else:\n",
        "                loss = criterion(outputs, labels)\n",
        "\n",
        "            # Backward pass\n",
        "            loss.backward()\n",
        "            optimizer.step()\n",
        "            scheduler.step()\n",
        "\n",
        "            train_loss += loss.item() * images.size(0)\n",
        "\n",
        "            # ===== ✅ FIXED ACCURACY SECTION =====\n",
        "            _, predicted = outputs.max(1)\n",
        "            train_total += labels.size(0)\n",
        "\n",
        "            if aug_type in [\"mixup\", \"cutmix\"]:\n",
        "                # weighted accuracy for mixed labels (mathematically correct)\n",
        "                correct_a = predicted.eq(targets_a).sum().item()\n",
        "                correct_b = predicted.eq(targets_b).sum().item()\n",
        "                train_correct += lam * correct_a + (1 - lam) * correct_b\n",
        "            else:\n",
        "                train_correct += predicted.eq(labels).sum().item()\n",
        "\n",
        "\n",
        "            raw_correct = predicted.eq(labels).sum().item()\n",
        "            raw_train_acc = 100. * raw_correct / train_total\n",
        "\n",
        "            progress.set_postfix({\n",
        "                'Loss': f\"{loss.item():.3f}\",\n",
        "                'LR': f\"{scheduler.get_last_lr()[0]:.6f}\",\n",
        "                'Aug': aug_type if aug_type else 'none',\n",
        "                'Acc': f\"{100. * train_correct / train_total:.2f}%\",\n",
        "                'Raw': f\"{raw_train_acc:.2f}%\"\n",
        "            })\n",
        "\n",
        "        train_loss = train_loss / len(train_loader.dataset)\n",
        "        train_acc = 100. * train_correct / train_total\n",
        "\n",
        "        # ========== EVALUATION PHASE ==========\n",
        "        model.eval()\n",
        "        test_loss = 0.0\n",
        "        test_correct = 0\n",
        "        test_total = 0\n",
        "\n",
        "        with torch.no_grad():\n",
        "            eval_progress = tqdm(test_loader, desc=\"Evaluating\", leave=False)\n",
        "            for images, labels in eval_progress:\n",
        "                images, labels = images.to(device), labels.to(device)\n",
        "\n",
        "                outputs = model(images)\n",
        "                loss = criterion(outputs, labels)\n",
        "\n",
        "                test_loss += loss.item() * images.size(0)\n",
        "                _, predicted = outputs.max(1)\n",
        "                test_total += labels.size(0)\n",
        "                test_correct += predicted.eq(labels).sum().item()\n",
        "\n",
        "                eval_progress.set_postfix({\n",
        "                    'Loss': f\"{loss.item():.3f}\",\n",
        "                    'Acc': f\"{100. * test_correct / test_total:.2f}%\"\n",
        "                })\n",
        "\n",
        "        test_loss = test_loss / len(test_loader.dataset)\n",
        "        test_acc = 100. * test_correct / test_total\n",
        "\n",
        "\n",
        "        history['train_loss'].append(train_loss)\n",
        "        history['train_acc'].append(train_acc)\n",
        "        history['test_loss'].append(test_loss)\n",
        "        history['test_acc'].append(test_acc)\n",
        "        history['learning_rates'].append(scheduler.get_last_lr()[0])\n",
        "\n",
        "\n",
        "\n",
        "        print(f\"Train Loss: {train_loss:.4f} | Ttrain Acc: {train_acc:.2f}%)\")\n",
        "        print(f\"Test Loss:  {test_loss:.4f} | Test Acc:  {test_acc:.2f}%\")\n",
        "        print(f\"Learning Rate: {scheduler.get_last_lr()[0]:.6f}\")\n",
        "\n",
        "        # Save best model\n",
        "        if test_acc > best_acc:\n",
        "            best_acc = test_acc\n",
        "            torch.save({\n",
        "                'epoch': epoch,\n",
        "                'model_state_dict': model.state_dict(),\n",
        "                'optimizer_state_dict': optimizer.state_dict(),\n",
        "                'scheduler_state_dict': scheduler.state_dict(),  # <-- ADD THIS LINE\n",
        "                'test_acc': test_acc,\n",
        "            }, 'best_model.pth')\n",
        "            print(f\"✓ Best model saved! (Test Acc: {test_acc:.2f}%)\")\n",
        "\n",
        "    print(f\"\\n{'='*60}\")\n",
        "    print(f\"Training Complete!\")\n",
        "    print(f\"Best Test Accuracy: {best_acc:.2f}%\")\n",
        "    print(f\"{'='*60}\\n\")\n",
        "\n",
        "    return history, model\n",
        "\n"
      ],
      "metadata": {
        "id": "UDXEqTv1GNe8"
      },
      "execution_count": null,
      "outputs": []
    },
    {
      "cell_type": "code",
      "source": [
        "def plot_training_history(history, save_path='training_plots.png'):\n",
        "    \"\"\"Plot training history\"\"\"\n",
        "    fig, axes = plt.subplots(2, 2, figsize=(15, 10))\n",
        "    epochs = range(1, len(history['train_loss']) + 1)\n",
        "\n",
        "    # Loss plot\n",
        "    axes[0, 0].plot(epochs, history['train_loss'], 'b-', label='Train Loss', linewidth=2)\n",
        "    axes[0, 0].plot(epochs, history['test_loss'], 'r-', label='Test Loss', linewidth=2)\n",
        "    axes[0, 0].set_xlabel('Epoch', fontsize=12)\n",
        "    axes[0, 0].set_ylabel('Loss', fontsize=12)\n",
        "    axes[0, 0].set_title('Training and Test Loss', fontsize=14, fontweight='bold')\n",
        "    axes[0, 0].legend(fontsize=10)\n",
        "    axes[0, 0].grid(True, alpha=0.3)\n",
        "\n",
        "    # Accuracy plot\n",
        "    axes[0, 1].plot(epochs, history['train_acc'], 'b-', label='Train Acc', linewidth=2)\n",
        "    axes[0, 1].plot(epochs, history['test_acc'], 'r-', label='Test Acc', linewidth=2)\n",
        "    axes[0, 1].set_xlabel('Epoch', fontsize=12)\n",
        "    axes[0, 1].set_ylabel('Accuracy (%)', fontsize=12)\n",
        "    axes[0, 1].set_title('Training and Test Accuracy', fontsize=14, fontweight='bold')\n",
        "    axes[0, 1].legend(fontsize=10)\n",
        "    axes[0, 1].grid(True, alpha=0.3)\n",
        "\n",
        "    # Learning rate plot\n",
        "    axes[1, 0].plot(epochs, history['learning_rates'], 'g-', linewidth=2)\n",
        "    axes[1, 0].set_xlabel('Epoch', fontsize=12)\n",
        "    axes[1, 0].set_ylabel('Learning Rate', fontsize=12)\n",
        "    axes[1, 0].set_title('Learning Rate Schedule', fontsize=14, fontweight='bold')\n",
        "    axes[1, 0].grid(True, alpha=0.3)\n",
        "    axes[1, 0].set_yscale('log')\n",
        "\n",
        "    # Test accuracy zoomed\n",
        "    axes[1, 1].plot(epochs, history['test_acc'], 'r-', linewidth=2)\n",
        "    axes[1, 1].set_xlabel('Epoch', fontsize=12)\n",
        "    axes[1, 1].set_ylabel('Test Accuracy (%)', fontsize=12)\n",
        "    axes[1, 1].set_title('Test Accuracy Progress', fontsize=14, fontweight='bold')\n",
        "    axes[1, 1].grid(True, alpha=0.3)\n",
        "    axes[1, 1].axhline(y=max(history['test_acc']), color='r', linestyle='--',\n",
        "                       alpha=0.5, label=f\"Best: {max(history['test_acc']):.2f}%\")\n",
        "    axes[1, 1].legend(fontsize=10)\n",
        "\n",
        "    plt.tight_layout()\n",
        "    plt.savefig(save_path, dpi=300, bbox_inches='tight')\n",
        "    print(f\"✓ Training plots saved to {save_path}\")"
      ],
      "metadata": {
        "id": "ydq9detBGPI6"
      },
      "execution_count": null,
      "outputs": []
    },
    {
      "cell_type": "code",
      "source": [
        "model = WideResNet(depth=28, widen_factor=10, num_classes=100).to(device)"
      ],
      "metadata": {
        "id": "k3ienocmGQbe"
      },
      "execution_count": null,
      "outputs": []
    },
    {
      "cell_type": "code",
      "source": [
        "history, trained_model = train_model(\n",
        "    model=model,\n",
        "    train_loader=train_loader,\n",
        "    test_loader=test_loader,\n",
        "    device=device,\n",
        "    epochs=200,\n",
        "    max_lr=0.3,\n",
        "    weight_decay=5e-4,\n",
        "    label_smoothing=0.1,\n",
        "    use_mixup_cutmix=True\n",
        ")"
      ],
      "metadata": {
        "colab": {
          "base_uri": "https://localhost:8080/",
          "height": 1000,
          "referenced_widgets": [
            "d280752e4695415bb75fb76b72ede23c",
            "e0bd15d269e84925a77c7aa315b35c64",
            "ed0cf9a9d6414a33bb27724feba0d555",
            "7d30a5f0d9df488ea63af1d2c15aad10",
            "957d9932fb4440d4b50ff9e530eb1e0d",
            "1c0b1b1b84eb4fb599c52bd96b8f8ad3",
            "cea79f15502345bdaf1270c1cb318cb9",
            "114a9b10be18464ba42a84b88343ac98",
            "045db44cd00e430bbe011bcd35ddc6ac",
            "dbb8b68ef4b14cc6b2b4a26e521203ec",
            "2290cd33b868457885397ae879f5a69b",
            "cc5491b0e98d42f2925972192844b4b7",
            "5ecadca8181d42ceabd54ebc07ca426d",
            "39afeb1cadcf4fd2932302291395d145",
            "a4a52575db4141acb1102ac59c05e6da",
            "763790f492e9487a9345f9aceb334fd4",
            "6454ce25e64b45b994cbe105fd302485",
            "7204ba5a3b2c45a89483ab0b222275d1",
            "2ead8382d027417ca2e92137a10fcf5f",
            "a43abbcdb4a14c028dbe933b62b67320",
            "9b1c9c919a204470b91b13722cb2050f",
            "c952530f6c6a47c0a670164d6379e2df",
            "4bb7ffd063df4eebb6d3c6e93af961f8",
            "8b176c033c6348eda138fc8c84edaca7",
            "21629a20234e46ccbbc65e1061ba9f6a",
            "b1477647d65c4e97831cc5ff0c6ff51f",
            "6572101a1ec840dfa7f839e4878c55b9",
            "75e695716a8d42be8a35cef848da04b9",
            "1000b500ce2349419f0327e1d9e8521b",
            "c68824d259f84601b8947e4f7e397ee1",
            "c94d1a0565fd4fee9c4eb5239cdf3098",
            "44aa74cedf3941c283dd30aabfd189b9",
            "e8139f7667454bcfad4f0a197f5b3ff1",
            "f0a39dc44eef4e6dbb8e3f511107c542",
            "ca56ee51a47c4c2787021a4fb3c9b62b",
            "3a820f585447488b817377d22a1fc5b4",
            "3723b640295249e2aa717ee75a1c417a",
            "d9c08a9a69c44cca954f96867ab71747",
            "0ce2322bb9574017b643e1413157433b",
            "5960061daf4f4214a5636f3e466346b7",
            "e077323391344538939c92c3762f4808",
            "b7486482172e428ca7aac3d4be17f6a6",
            "44b09c6a689148d4b4812d5f1671583e",
            "608895b14b0e4083849aa572a7a62b4f",
            "930981d5fcf4448bb185bbc00d475829",
            "3f19c1355cf04fac8aa9fefd4cf92d74",
            "6f2e8fdc116448ec8596d58179764ac4",
            "c132846a515243a984194b512589c5a5",
            "a86e10071dd446e6835c3ab81c7c2a25",
            "4921cf551de540ca9d728d35fd30422f",
            "a45c508c724c4f00b497e8a439bb314f",
            "edf65afce76d4097b3e5a6f59d6e5e00",
            "8b537743216743149d100b5e58e68e44",
            "2e6ddcd68cfa490dbb2db51da59f90e2",
            "9855bf30c3b14f8bbf64b28e0cf00897",
            "20ed39754f2b49d4b135e7698c927345",
            "dd09bc1f40834563b144f294f62f3418",
            "93b0c5658e4f49258f648a306c3c9557",
            "c385746efa7f447eaa008f620d8296e3",
            "6a057da0839a4e48b73e3cb83def3af1",
            "b504b2b218de413b992eb132d5325dbe",
            "d531c55d2f134ce59d3deb742bbd68c4",
            "3eca953f266044678c1cf7642664de13",
            "0ed9a145d06e4bb4a1343606b28a87d9",
            "587b846a132b477888c67ad0854d39ca",
            "ae12bf3bc0aa4879b9aba9918d465371",
            "e748c8418957451f813be757994ea088",
            "4f437f4bb3924f608e3060642b2a9dc1",
            "a7355bb28ea44759817392227332a08b",
            "2f952cc4fa7949adb44343b7ff621e7c",
            "c94764b129bc4775b36815b8f991c155",
            "bf1c2e76b77b40d8b12e72d269d2ed18",
            "bb0dd916cf0a41469cf53ed9fdeb514a",
            "e3bf37e63d154d7d9dff67a1dfda8471",
            "a2b22c472df145278587d5a1e18aab7c",
            "69b71327e029409385d037cb7f5e83c7",
            "6e6c2b78090241c59fa31d9120603bd0",
            "ac997995c45f4e4482f370cdf8763713",
            "ac9380a93d584b708ae58b154564e8de",
            "db576337222d4a909bc4528e1db93568",
            "737a557d0fb24b2cace524bed2166665",
            "6d6772b943974b56ac949ea196271b86",
            "5ce20831c3a94414a6346627bcc51f4d",
            "dc5d145bbe8140da844b722a205fe956",
            "7dafcfc3598e4bfabc80b431b00d2785",
            "9b9e8552477d405da63dabb6b0423a59",
            "38baf4415a904fad9ebca41fe21762ed",
            "bde0be9ca6ae4b4884fdb4b772c2d198",
            "3a1f6b8a600c4aaabba14a75bb008272",
            "0548d6366ad34c5daa7c4d64fc4eccac",
            "66d6106156a44664b92d554b0c4ae022",
            "7e202576bfac4d308ce4366dc748a035",
            "75ec3f6f34e74ab4a2187d2a0676cf50",
            "ab0aae0037c24c6fb0cd64232208bdeb",
            "fdfb713040094d6a97775c3430be5d16",
            "78b19035a0a549209b8c5df9b1d1dede",
            "eb2faad723654828a71b2590c1c85a80",
            "446cf9acfd3b4eb28026097ddbffb42e",
            "e45773742a3942a28b7d4bcb1429aa1d",
            "078e21076f764f85ab639761606841d9",
            "025246837bc74080830f14a8087c5da4",
            "2ac1544037024efc969cbc9633a73963",
            "5cdeb1776b9746648e8f1fc938149657",
            "2958ddb6137b46359f314fa2307eeced",
            "3b9ea9a23d8d486a88ee948dcf8c6cc2",
            "5aa9ad348efc4292aae7b89c588d843d",
            "b60383c10e5e49f2953f9404a605c32a",
            "300e1f40095a4d81a6e3155aa0b6a7e5",
            "68651168f10e45ceb2902ace49c64624",
            "d226946de87949aabb93620c86c62466",
            "cca3613b65fd450d95a99d0aafdcde4c",
            "aa7ee0af22e14520846f800fb112cb61",
            "a5e05e30091f42acb5165ca618052d92",
            "ac6506b74d0f401d8edb20088ea3a95a",
            "32a03da605f44754ac488acac5e30e6a",
            "2d0c6cce444c432b88f609ecacc17f3e",
            "0b593158083e470c944386fd55e36d13",
            "66b4a5ab5d144314853b25c16782d700",
            "b4b13f2d998644b3950d166d6e48b4cf",
            "5c8812529cda4d8699b69399a1ae4003",
            "92c48bfede314a4e8701316470f760ec",
            "8c810216b18948e887f22241eee5d566",
            "a3704d45c2a94d98a55734abd3a405ba",
            "0df421c6e9ea4178a55bacff202d352b",
            "cbfec63a840f488eb751b2c9a2e9587c",
            "ec83a659376e4769a07d2bbfb3579e33",
            "c5ce5584a6484152a7ad5f1b0bb5d79d",
            "036c1d3603ab44aa84cb4c43e3302081",
            "1ddc86ec73b748c88508f3e5a59a2f51",
            "faeca34f98264f49bb82e9cadaf2dd0f",
            "4691fd0841134af388fe40f4717f8540",
            "eeeb356e9dbc4930bfa844390863507a",
            "3d9979a6e42b4c32aa4796ef9f6335d1",
            "4777b7e54e1b4d0cbdffda09087205b6",
            "914528d6671643248d4ab55706214ef2",
            "6736f031cd644e07b52036931b31313c",
            "20c90997d1f94669902e7c91cb791a69",
            "0bdcfb2b882c4fdd9a9d649cd46055b1",
            "24cb5bc5046d41a5bbb52be2d3253b8e",
            "3504157161484f829d9d09084a45df26",
            "21b61b9f3a1a476f93334bcecc72b60e",
            "2eb4120a08a64853a52d1bd94cda4165",
            "7e2f0610efd646a1ba0cacb751030249",
            "cd02a42a0a154501857b78d20605ef0d",
            "036acf4a836749e89c37e8485d9e3f62",
            "7777d6645b9d46178c6141aea64fc380",
            "43c9ee01858d4e2d9a582877aaec9125",
            "9bb496ece1f54b3ea4e84e98ef58742c",
            "eba104fa05b540fc8fa4f27a0937cb08",
            "8375daf43cfb4912b517907c13ba5c0b",
            "85d00f3bb79e4bafa20ea7b1d0344d2c",
            "17e92034d74e4ee693639713a779b4e5",
            "c95a0b78b2b641239dc93d2b1a461bb4",
            "00d2e5f8011445f6ac10433b72f84742",
            "b94e31b83fc64519b07d234086982650",
            "df6c55f62d2a4b7dbd8c21c4cc493f8d",
            "fa4e9acab8b5444692f3a556940b08bd",
            "5b7a586f7f594a1d8f0ccc9053db81f6",
            "1bfe1b1c7cfd44bf89db6b5383f220d1",
            "761a0580b65446b0b6dcb2889d47291c",
            "342c770d1e6048b78ba74f900ed2cc24",
            "f535b2d3378944529eb2501a571ee840",
            "f8ad19abef8a418188741b9e0a5aa8af",
            "b6c2b810f2464b59a3488eba1fcbf940",
            "b03d68dcd65c430e8c145280ac823313",
            "42f047f749ca451e970d86a591c338ac",
            "ce377d3cbabf4567adb6d6fd6f467527",
            "3cc4820c97784b078ade17dbd1cc9484",
            "37fa665d826f41beb1aa78f1cedbe3dd",
            "752721820063436da5d4df0d357fcd38",
            "f5ee7f509bc8498691841fced9abbddd",
            "8c1b04637cc34659a7a83584b7925623",
            "63f19d86df4941c6add5ab26d4e9381d",
            "d8e77e1c7f0043f4ad05b6f14476ffc6",
            "caf44a699c3742eaa77ee37932a0947e",
            "03b0508e14464032ac74de8bed471194",
            "56367c7a537f4376b370ff8edc8450d0",
            "0716e706097c420294577722adbccc1f",
            "ec08d787e4ca4c979d485fd24ebfbfff",
            "12706d915cba430ca329a3826a8d4ad4",
            "eeada41d457b4836bcbe6a72c1040a13",
            "1594059acd1449feb81e6f96de556d57",
            "71051ee57dbe43ef812f739f6ae04070",
            "22056785b0874c80a0b4630e48ab6967",
            "8d57ce497785474b9c45714e0df52a60",
            "b6cf2d149afb43cab5b5beccb94cdbfc",
            "282a5d277a3c4bcd80c2832bad7eccfe",
            "9fba7b08e279422fb918b3f4caa15f1e",
            "d6e371ff178c46f4b76eb12bea305e42",
            "ca61082c8d4649809481ee27392e925c",
            "38c62504797144368fb42b71b74ec631",
            "fbcf64c066c94cd1b574c0ddf5bc16a0",
            "2cc1c01fd508480c9772cb7dd3dab6d1",
            "51965ce425ef4d728c0b147da13daaae",
            "367f8230615448d1b82fbfc3e5487d38",
            "0b89fc2f9bbe4a81bf0868f61ec54720",
            "34b197cd128f4812826c60a3a1d2e76d",
            "f0213a7e9ab8428a98593f311851d65c",
            "8d2f2a11e3b94773b1c608878aa63dd8",
            "8aaa01cefa964323b581793efd4c7dce",
            "a4d11ba5e904442c8ddfa8d125398dbb",
            "22be35120a67496f977e2135c10c87ef",
            "ec65d653ece64f3eb3856e8d282b4245",
            "6b5f3cf75e3e467ab97462fc41d0da6a",
            "06cb6c4df3084280b8c4e1854e0f0cc8",
            "a203c353a4b745868e8edfbc1cec5918",
            "281f869232bc4f68b6b2600f374b2bdd",
            "9487ecd1cbc1417c9c5a14ef13231dd2",
            "c26fc86cc9454bc2ad3755ead1d47119",
            "3e386edb755f45d5a2e415c79ff45d70",
            "425dc39499724304b351a1e752349994",
            "e5725d5548244944962f2cfb47b1881e",
            "ed1347d38b3c4deaa48db23030c66958",
            "d7c16eacf2374306b43ff3fe1502ba94",
            "18a8b4d8ba5141e79a3107ab9cba5070",
            "d6e4e4dd19d34cc89a014b1e5e014a34",
            "6183bb58ca61463bb105c74402c222e6",
            "a76aa3ce21734d2aa8e0f8ebab738715",
            "7ff0f3018b7c4eb1959083b824b33a99",
            "9a5c9f08a3cd4da58fa8d70caab4ae0f",
            "bab21680bf6a47b49b77e3d9f2d5501e",
            "9c372941919843d8bca63c530fa26b7f",
            "0919d3c5eb9b44dfa1bf3bf4730e1287",
            "53cddaf50e194586a59ddfaefe067bc6",
            "d91b71896c1e44c6b724dbb6816560fa",
            "fbce89d1f6f04c73a5f884a1de62a677",
            "f482d5212f884a9295dda4679d733874",
            "a0af7395941d437783078d97da3fa26f",
            "b5dfea68b2e942b8a670a0647ef11b7d",
            "348635ed61fd4d478c89e8ba3925e7e0",
            "fbd45170421c47079897d028b495cffd",
            "dad7c0d3ef4048bbb399379f8f6152c3",
            "ffdf2f8223c54ab19a358a5baaa4c76d",
            "7d0f3664d5f140d5b1b58caf8107c81b",
            "9923f0bcb6ec413fa397c5a1b3b07eb8",
            "5e5859a72bfb47a592cf2f3283f63d57",
            "77c2fd028edd45b696ec7df23b5b719c",
            "11db75f38d2949fb9b4fbe07f947ceca",
            "e8afb9fc77bd4b61bbca5e6757260817",
            "a2a530d5169445cf9cc9060acc25d857",
            "a4ea57877e994c54aa829cbfc11a5dbf",
            "68a2f292603f4768a03e67cac434c697",
            "cd35199c643c489da66779a783b139e4",
            "cac52516c5b04104aa68f0804df93137",
            "3ddd4d890daf47eda120d0346b2a9a04",
            "9297d07b33744ccab0e62fef949d9c24",
            "1e554a771c6e4b1b81fe2ea740fa6f53",
            "5a8a9a92b950437db08d71c98af5086f",
            "9b585da8bea2457eb449eefb2e4dd841",
            "2f3773cfa7fa4ffc9edbed88ebb7e85a",
            "ba839c1077b14d4d904a00404c19130d",
            "e1cd7522a35c4930958771f6b2c2b880",
            "f2c28863e6894690ac738021339e3bf1",
            "d9736149de4d439abca7f68df7999465",
            "84577aaa7c5546d5b90f50beab701f0d",
            "84b66e3c19fa4215a33f3feea0154479",
            "771ae6342513461c8f55bfdfc85ea9ef",
            "659a6b2211864d05b2681bc415c0fa19",
            "94c2a2767a4e4856815aa268aa21d1e1",
            "116f9dba1b824b5e9333b7421fe1ad1c",
            "bb1cf96641174b5a8d50bedc10df9763",
            "519ccae245e2455f97fba9c12add7abe",
            "d5f97f04ea1a494f89760f5befadaa44",
            "75dafd2eb10c4f3daa611fcc069cd0c8",
            "12bc128054cd4f41b1b3bc00785d8c0f",
            "dee876753add404c8dfb4f3a897e23d5",
            "71c5580b3f7f4299a725032fb885fe2f",
            "bd93f2ec786541ca95b92f19a7939bc1",
            "89262d368f154e979771f60a135ca333",
            "fc6ab68b1dbd418a8ff369530b65d9d1",
            "9cc100e0ce0048a08cb46e45cf135660",
            "88fe2dfc54374f9b86b4ed4db00329a8",
            "1c78438dd56d4b79b611ecd1b13c4aba",
            "644c75ac1ceb4d0e800ec39c9032633b",
            "6c1d8b54cdac43a0bfbe664efaac7862",
            "afd27870b9844578bea66eb18b48c4fd",
            "5b89fb10f90d4f29a3d212858d145d77",
            "d34fc3b5cecf432785aaa7a4d7d40b67",
            "443a0ed926994c6aa4497d28b16bc0ea",
            "aac21f75359e45ebae69d8f7c19b15f1",
            "772f19a27361436793c2214de92372b7",
            "f256d998a7b4470d8d0ea2ce5a84cbed",
            "64acd68c327e49e385c236d000bd12bc",
            "89fd9b42d5ed4c7ba9b8489d5bd76efd",
            "3a568f297858411d8651837ac1922994",
            "c8ee01850f28411995921b3b504b0475",
            "aa227184972b40e687173b26ddfb8611",
            "65d0034d570d409ea6d45809a3373f89",
            "e93e8053cd204c62893948c861a09110",
            "d1b9d1360c7241249cbd6daa363d0367",
            "3ee5d70e867a4845820164d3b0b63627",
            "49e19150d63f4ebaa744402bd34a7539",
            "1eb0a10c294e49f8a0b63a179c11fda8",
            "40e583414c774d15844e715b8de19ca3",
            "5492e55e40c64e9caaec3ed7f8194964",
            "27b8e49e7bac403189e2228e912891ed",
            "97023305c61248f0ad3565acaab71cf9",
            "42907c1e405d4ba3bc68a12587181d14",
            "314478fd71ff4c24b600202efaf52beb",
            "727d8cb0d8cd423aa052c59e90d48758",
            "8fa6975a02d54a3d8d231ba505bced2d",
            "5dbc88512f1f4638a58dd52af0c8c6ed",
            "6e36cd77ca1f4aed8a9b7f1cbc2af818",
            "990b80e0fe5d457fafbd55ff2cb64f64",
            "a832bdd67af249f98d178548990562ad",
            "11a4dcdb1f85451ab2b5ac83706d33f3",
            "a3bd0ac9b33b4623b289c978e75e5f3e",
            "076bd063638046d484b2be883212be36",
            "a5758e35604a46ddb805490f0d1e9ae7",
            "0be3619d9fce4b0bb7859ce2cf5e073c",
            "c5e7988d26d94e218a9e1f0588b8a7a1",
            "8129433bd14c4787ae023b35d9f6aaf2",
            "860152dde09d428aab3a07f546f2d306",
            "919109348d45492cb487c06428bd3f82",
            "5187a4c91a4a4cad886a9e08ba48d298",
            "97d868c2b5614b62a12e1920266e3900",
            "c8aecf24c0e8458cabc8cb2c95dd3ee5",
            "4664ea00db5e45d2833ec6c8b349fa2c",
            "956c66d7fb114fe1992c65aa2eda14f8",
            "f6ef120271bb4d4a836ea6cb9dce2143",
            "7749b78900fc4ae2a6f5bdceec2b6534",
            "0c7435ddaeed47a28fa3e69baab68616",
            "a8dd71fb3cc341c0b548a7116cfb3c9e",
            "deeb0b9860384cbfa53e4fe92c91799f",
            "7a4ae5c67f454361a21fcddeeaef4fb4",
            "b289e745160b4eababe3d0dd5d1426e1",
            "ca93448239fc45ecbe62422cc82eca54",
            "4ec690cc552d4ddd8ec0ff3a5dff7869",
            "fd3b8074439e4a42b5e90df51d4e1e6a",
            "b4c082575a86409a99c6d3949288b9c6",
            "922f862fc7784a4d867b163d205b4219",
            "abccd1e857e549b39a98fcfce2dd3d5a",
            "f88beb3109ab458daa847b17e3107f52",
            "2aa6c3cd2e884882ba34d4773f1c9fb3",
            "2cf751a90306461a8deab9ea3fa09715",
            "ef3dabc41e16442ab063f6200260199c",
            "b9fe5a1a00a745ddbc9c50e5fb9c35eb",
            "6895bbe1e6ae47dc9827509472f1a820",
            "1c6d8250547146daa17b43b9c0195f27",
            "c4a0ab2ea47b4d978910d84e1dfd5f79",
            "3b2979dc7c584227bf568aa3d1f25c27",
            "7c0ebba803974e999a856adbebc3822d",
            "0b9cc17f7a624a70b552d10d3576fb77",
            "0132ca3690314bafa5e459eee6836342",
            "ab68eac095244173b116e3d25ecea8e0",
            "31db67b128274440917d520c9ea115f5",
            "fedc490b298a4399bdd6a106cf8ec427",
            "e1e09b0e0c8644d6a30bdd5c7d9342da",
            "c9d665b62a4043b18a83ab4cc3466867",
            "fa4c68f7e7214e52a1c039d98fa3d27a",
            "232b0f6c401a45b997c961d2babcd906",
            "d54fa57a71f944c68c00b1818c5cf4c9",
            "cb4b034e541044be8a1e04ef9f49eaa4",
            "30f1c6c42f304d269f5c5c42984d417d",
            "890db3de227643b4af2ad11bc6634c26",
            "c070e0837d9448c3a5e648ee0bd36290",
            "fa7de13142bb4a03abd0a52b9a49b26b",
            "ae39c6cf52e045818f65f881e7c04c08",
            "4dfa6ae33978484cb4695d18a7c09215",
            "e499ee13031b4ab684a22e634b1ec571",
            "5ed67e59bafa4327bb8a3803c43daea0",
            "00e560ed243d47dab9e57805fdcea17a",
            "efddef7f1d91420e8e9dadcc0ce84c72",
            "cbf075641df94b4cb28cf85b73214189",
            "0a5a63a42c7f4e42a6ead5a13c3e6929",
            "da3ff1d76ac44e2aa5be14ce677af27b",
            "0b07d1976d5d471dadcdd7b1553a6c20",
            "0657bade24394e7d9d3ee7610c352505",
            "7c59c7d7b26644ecbfa8814faeeb7773",
            "f6498e98f15944fcadf5cb07b6e10a90",
            "f49797e3ef46447d85f080699e38338e",
            "9ac3f618e2534fa5b1dd8bb3aae57fb4",
            "75a597d809824e79ab053504f6070a49",
            "ad75e1649e1a48d5a1b88a839a042b60",
            "f82a396f93b8473cba4d6fb231613b83",
            "c0afc19bd1194d76aed1a0dc6dfee4b3",
            "55ec121335e94c2f833187c868160884",
            "3290474c2ff94c2ead384f59f98e1389",
            "6eacd60f8e284a00bfdb919e8e3331a8",
            "cedc3e888caf48d989a6d68260e9e35b",
            "e4ffc3afc1ba4e8d988f876a47110f7b",
            "6cdee5a9f52a4bd7ac3a6c7d2ba599d3",
            "38dcf33369c74ee1a312ab50fc0a1046",
            "f34d22f992e246dc8b944a0325722190",
            "4d5c4257f8f64c7199eb5afb8cc4259b",
            "417f5fcf238a462db49bce6f17fe3262",
            "9630ff5680ce4a30ac630df7d4e1e292",
            "535bb96ca79b47babe52dd3487f6baa2",
            "38fbb80df25c4417a00b6d7d790c97b3",
            "94aa57cf5ee845faa60fde75740e1685",
            "18648228ce3b4b7fb4743f48c8d94db6",
            "4fd21bb7592f4084bce337d86cab2656",
            "212016667dc548969cf0ce76433beba9",
            "45a4a7aca2e94cb587b2c9a78fcb3c6d",
            "ab7077b7fd20484a83a5b9be7bb20377",
            "681ee0e224cd48499224d5bf1d80d92e",
            "22e05c670f2e483d8bcc38eacadf6acf",
            "9f1c9eacfdb545a0b8bc47e38402bea1",
            "6dfa548097114faa836b663e63e30565",
            "bc68c207f0db4373945599cb05cee209",
            "2793513baab445e0bdc70e81343ebd5e",
            "4567634a37074235acfac060f369fb61",
            "1f86415b1954424c891bb772a7006bd0",
            "4a26b537d174464fa2cc619ff964b4fc",
            "6bc948af518f42e289b429deebeff659",
            "47755e2325b44a7d89d9f68ae721a62a",
            "ab885ec0cc31474892a81a97bb72fbab",
            "6f6f49b9157f4af48d4dc0157c787eb0",
            "230d3ef45d5c4156853a9fbb224f232c",
            "d13d2b7703324cffa961f4895878a67c",
            "393ed4ea4baf4c3ea9f545f945188b68",
            "5a4ccfa7852543148c77e321621fbf2a",
            "b39dc40bbf5a49b18629c1de26ba7776",
            "77d6711edbfa42668025d8ccab2ca7b9",
            "64e2f1486d504fab8f5872727d9a743a",
            "d871166c6f2848af963fb260d7817df8",
            "976a0e1a5a054c38b349253f7dc2675f",
            "b508ffdfca7745b191fae6925fc01c58",
            "ae78a3a07464473f81e52fd27199d7f2",
            "d74b6dc8e9bb444a926c2f87c2880a7f",
            "c60e23aa4bed4aae9bfa240ff6e5b667",
            "2b54dded8cb7476faa32bd3ee4f2aa73",
            "5f621879ba7d4792a7193b6b1f4540a2",
            "f048798a67034fc8804e84aae36553d6",
            "aea5380771374c2a838d72ae871862af",
            "c195eaa7825b44c8abe75b6d7072bc6d",
            "79fb28bbfed14c26a256050e68c989c4",
            "83ef271a011a4ccf97efc80e0234479b",
            "84cd8d320d9743aab6c9b4f848727209",
            "4d02ff3499194fcb8c9ad35c23535123",
            "a56a8ae13cdf4f7185641a7e3c6f061f",
            "957595aa065d4b3a87ba3450f5973a04",
            "0f57ec0a50a54ecf8ea703cfd2c67b33",
            "2d7d9a97ea134211b7516a26a0029a09",
            "820acfc898d747feb7ff9a7ac61f47d6",
            "f5dd0e6b06da429db782cdd8e9f49a71",
            "753e7ba3e50e494883e326a6d59a9631",
            "7d0e0793295d4ce3ade239309fa3ea1d",
            "443f52a14c5a4c45a4dbb5ab4566e0a4",
            "8375a17ae102496ea95981a3879cd131",
            "358d981a48ff41a4b09480d153eac72a",
            "7420cc15a0ba46b7998cb98fc83aa638",
            "13b92f4a06fa4fcfa253032cd3f40310",
            "7cd772ad1fe945fb856fdd6b2f3a9b36",
            "cbe809881204461ba11245357ce9214e",
            "42918a1dbc0d4397861d8311d6b41dd5",
            "b845d9dd6c324615b598761294d08701",
            "5aa8a5768b57487398b39a1d85b6d0ba",
            "f7642c81610a44c3bb299d082a9f3278",
            "9d5bccd8256b4d83b247584e7664cdd3",
            "bf86cc41b2614d768418b152971a4ba6",
            "e38ff65dad164a8d9bb28a1e78a3e5ed",
            "e7c409581252447db7ef00b69c65bfca",
            "adac7b02232148e5899be8cc52d73e93",
            "a5b1b8a3d11a4f9c8cb18a30bf3019d1",
            "671594ec44784b13b76cf017c27a4eaf",
            "2a4a46b169d44df08007c13bc246d566",
            "f08a2ddebdf3495abf7c4e006eaef7c0",
            "7e3283e5ee9346f194838ffb18883ced",
            "354bbf708f004918996e93d09caacd25",
            "ba09f37de7b84ee7830d452e329ce6b5",
            "b1c182218fec45e3a5f706dea2b642d7",
            "48bdd934ce364f1dab8c427d17fb064a",
            "4482c14fc1a84796aa321f3db7019ac1",
            "5b4eda7a642d40ceba3b8c270469f59b",
            "c1f6797dfb9f48c2860c6be7a21ac6a1",
            "4d545eab16c04e2d92269183eeb5cc25",
            "21ed24a7cfc34378a491613cba40c15a",
            "8207b3bb8c4d44e9b744a03257d27259",
            "894a4f21be5f43d4a0b9726f49e06e63",
            "aa49a9dc8afd453f82a3b927cc971b74",
            "5d220df963b84e6e87d8ab0b9c866d25",
            "e42afae57060420ab9635cbf0957ae1d",
            "8f3e8d123f6744e5b1d7f4c31c67a535",
            "91540976c8fa4f0d8f4a129e71441499",
            "54766e0b84974498b45334bd60463e5d",
            "e5bfb9f2159e44b2a4e3c95afc24f11e",
            "a14a230c1b53408bb91a6d651a68911d",
            "ec97d91143934a4795ce05a1e059c72b",
            "42e8733092ee42afb2834119cc228699",
            "1586c8fe0da54ff4a029c19209caf995",
            "eed921c887e84486b7cfa3c3383c8382",
            "d6bce8ea7ecd4137bbec1b3baaca3452",
            "5b83f9edddad4929bf0ee7b3c93e75fe",
            "023e309dbdca4121a0324c57daa348bf",
            "f7361e241fa148ec84a6436174d711c4",
            "b8d2b02d1bd245febcf848f4b747ebd9",
            "27f996e14ca445b8b2dab18f24c00c9f",
            "2d166f27b38e44bf8412525e14bb41f4",
            "483322a0958f407fbb486b4d1d7b11b6",
            "a6dea34c8e9a484c996a892c15cf8bae",
            "067b407de4f34ae7ac0ebef5d62b8529",
            "12509ded287e41a7989f9306f112fb71",
            "0f9807e50a204ca6ae8a55e198fff178",
            "26218059668f42409b668eff56f536ee",
            "7f0a6f48f3b440ffb17c00f3d6ceacfc",
            "8e92ee8b387e48ffb99b4caf2b07e7f2",
            "d7b3a7726544444e91f97307115f0606",
            "ba648737fc2f487cab8b90b9fd451431",
            "a8d9aa01945843f0bbf0446c9c0d9880",
            "21c67477a2bc4ad7a1d0df187e84819c",
            "6d8ee640e7524900a9bd53eaf53da48d",
            "4d235d40e503475887b384f935e8254a",
            "4120e845f2c44d58acc6b48e9381ffaa",
            "fd211e09b13d47a29f6ef424363254ca",
            "fa2c6a8206724419ab2f40fcef4ca47e",
            "d4832dacaded44a58dc83a095bfae875",
            "ebec2ed5cbb141a4add2f27891378a67",
            "f5456a3ad94c473aa5139ef11e40a841",
            "08486900aa4f42d481e62ae0a62bd364",
            "ead2eab6edc64a6899df4fe56c05dcd9",
            "5181e76ff19741599182596785c0636d",
            "72932921a0cc4483b500d8eedf7eeea3",
            "cee15f67ba614f30a33ffb0a02211c47",
            "189ec9a35e0647508be031bfea4a4845",
            "0d2482a230ac48beb4be9a259d018d16",
            "aab3595ff747470f8b4f4728163addc5",
            "dbc623fd7b7a4b06b060fb5d34343f60",
            "f028cef49a9c47b6a7274878febe2acd",
            "a55b3557adc24d5a96fca50d666b44f6",
            "f97cd5d001694b8ebf4ec50d56cbc8ba",
            "f355c51912e44fb38b7100f49ebddb11",
            "0cd85c41be6e4fd19305eded80b0148b",
            "768eeff1caab43f5aee8b9f1783460f3",
            "becc21476c3847b8bdf74952d396ba9d",
            "a7292d7e9f1e45e7ae399aa34b9dff86",
            "c32409f2ee3f4c4cbe04b1a7f491f18b",
            "4011689b6e284342b8c49688b30adc71",
            "7ae0dcb9775242149b0ada24d6efa398",
            "d3f5811a5e85471d8fe8412ada090ea1",
            "7839e0ba8a414f6d8d869583ea776c0f",
            "9d6235ac015f46d6b59be6390f1c1c53",
            "17883d2bf83d4e689bccafb30d9ffdb2",
            "d135c2d1384746669f30395914415d93",
            "a4932d54d17241c9b5df6b24bd0b8925",
            "2d6daf1a45c34ecb8b50f08da6269990",
            "a88a1147deb146a2802467adf1801911",
            "5d1ac56fc0e04f93997453e969b076a4",
            "57508b1f6ca24da48f9a39f07a4d4a3a",
            "eef77b5cf12f46438b29aa5cd3b2937c",
            "9191c4740fb74a68a39454ed9d173088",
            "0ff6651636df41578dda255c1400bf00",
            "e8e575d2ee9a43f885c8a18eb206c55e",
            "934039b0b82e453a98c127259f5f036f",
            "51ad04fd726e455ab286f6e932f261e8",
            "aca42f7692c143199bb961b6a765c670",
            "9e00d40d1f9c4e0fb63f2b1adaeed769",
            "a4f01754716d42c7ac0e59acc4aa93c9",
            "c544e3a072e14c0b9da26b5c5f8d6728",
            "edded5766f6341158d3991b201b88199",
            "c1724fa1d1fa421a929a4df387bba9ce",
            "5e7bd587cb53473eaee4daa35606236f",
            "e5376df164b74a49acfad41531dc8c4a",
            "380801ec804e41dc8a6f4f2380044725",
            "594e9760b9aa4a14a6617858d512b8d8",
            "2ca4a840b7374c5eaa595d71a5894583",
            "3a4fb433446d4c47a44ac40b866dfc77",
            "aff15b1a648e4cebabc631ed99ebe639",
            "4fbf602b9d85410a96d13b5a64886068",
            "b1155f79d03644a0b75cfd847dbb6a91",
            "5bc01d467836482dbc428b720174dbc6",
            "0a31ddd925cd42d78fa70ea3bcf48203",
            "47da58eea589421da220ad0d133dbc0d",
            "cc7552f103a14fa280b14e16d6a2e8e3",
            "e4459b66259d47aa98c5ec89fa2b3a94",
            "dce6d4ee6a184e94a091056d0e0d9b62",
            "46b651f62a2540c88915577afd2e3d1c",
            "b53aa261201448a8a3c704de9a1fdb7e",
            "0c78560dccf144988e17481206112abc",
            "6a709306c6ab4af7a707344bcb40cb62",
            "f72fd00336514937bc164d48e3eb4090",
            "2e23103c6f9c4f36a5b0637f9e6869e1",
            "551569c24ba249288e44fe026e7b7ca2",
            "46d37aaab2134b0f8be10b6dd3675af5",
            "b56eb9fd43c0408881b43f6967145391",
            "db6b52b768ea418e9d42fa15a129fe43",
            "28f990eb196b4f11ac1426d2e50e92a7",
            "164fff99509341e2a9bf45138d595aae",
            "1abb7fddf3464b14baab5f1b41d66f56",
            "68f459b5501c4f38ac0174cf3dfe6b87",
            "0e304daf609b4568a976d6b32ce6c0cc",
            "24634f59034f487d8185076fbbac0a7f",
            "b7f5f54d7f00465e92ea9786d5645161",
            "86cbca23520d43d9b3a0c467a5d39133",
            "aec3a167d6f248c0acc40ff2992e4d1e",
            "944dd2c73e744d3888bda39a05724d88",
            "6c808831036d45ac8aeea733579603e3",
            "4b1110dca3364631a7bdc4786392b9a6",
            "9d4e0b5abbe6430d8b9feb92638ce4a6",
            "fb353e853a764b628432d576df47b8b6",
            "30950492913e4beca4a077c3baab8859",
            "de698df3004b46d5b0a8d5bb238a5a2f",
            "824c3bdeee344414ad6d20faeed6cdd4",
            "a2a5905829c045b2a08a192cab49272b",
            "fef87dc148904ae5a8c91add0af6646b",
            "536c6e3dedff43b8a7e706a310ba73cb",
            "81bc9afcbad04d0b92944d0ae843d10c",
            "c7b8ffe98f1d4149a24c82bff208e7db",
            "067c8cf8826f47e4967fc7d9383afd85",
            "4a4fe9b0705d496fbe1ed7dcc9f7a049",
            "ca6fd7c781f7403998841a082970bc6d",
            "9cf26d873d2e45b497aae11f6abc7198",
            "bd19b6791f034751854c63880f8f8bda",
            "0ce3ba876e324200b2a4ea074e3ecde9",
            "945dc8ba42614567bf97cbada354bff7",
            "02a17dfe2c68414d9a5841f4f857475f",
            "b636611ece4941bba627f52ab7228d7a",
            "70e3e52e7f4247f6b54e25ac839954eb",
            "878facc6b6d64da18bb97ce56649e9d6",
            "fcca0113f5e44c3cbf92fff89e59b743",
            "121701c2f014472ca0db4976d5aa9135",
            "5c9a3d517de040a4a9d21bbccc2943c9",
            "24275bd2e94a4ea4be44a2f4020164ff",
            "792032b1586848aca68d3ae76e1d6ab2",
            "ce933d33a5ad4c33a20261df8f06cd72",
            "69d481f61cfc436ca60c61a4ac6fb712",
            "9b7e4525ed97447faa29448ab1d8d7d7",
            "2c4fb10f025e4b3c9836cecbe05c722b",
            "e4d92f28b16f40b6914a634d3fe51589",
            "6caa63281c6643de9ce29c708dde63e3",
            "68fcc789cda74a56b67b8776ab8cba68",
            "a298be38267742b082069ced065595f7",
            "bccac6ad73ae45a9a917c873f6fb44ea",
            "eedf816231e44fa6bdc3bc824f3b13d8",
            "2036184866984e2cb55e172c668febdb",
            "1b50f572739b47c494a86e1e30968c6e",
            "b6bdf2cd7c0548f080c628e28d1d5da1",
            "313b53117d124d11887c87aca3aac85b",
            "4c92746dde054e8e920578273a28dc43",
            "8c322682412147deb0c699d274b3a36c",
            "85045d4bc530462f976a70ec77b942cd",
            "59127c4a914840e19df841183adc835d",
            "a93ce62682fe4a6d8a22d966e03ba826",
            "536915eb98034fd881e34ef6e4ee55dd",
            "c5385f25eca542adb2c1babad82aad83",
            "5892a26dc7a04537bd857e01b5a92a33",
            "d688ac3f70ac44f797fa6b02cb519224",
            "4e9de77bfaa74a4098b1f4e367b16043",
            "971a4044d53b46dd9859b6367f231fe4",
            "3dfb066a925d49b494db8864fbf770d4",
            "2ead61a67cd64d8799e60e645e69a9f5",
            "0cee182fe2d949e5b5e806e75eaeb33b",
            "9c35a466eb9946c994bc7c6d71dd06d0",
            "3de9595caef741dd8b32cca39edf9b3a",
            "9b0b37142b3640eca16c6db65a12c485",
            "079792e18ac844afb36185d44756168c",
            "e9e07b6f2eab482aaf124d18e21c3cb9",
            "6a0fed2bd53f44a6ad24adaf3af036bb",
            "4520d275b6b54404b8efaf1ccacdfffe",
            "662e05f49cc34474bbd2e66ea3fa9f31",
            "f70b7279110445cdb32e7c0d0d758f6e",
            "17979f18e8d646da8803248af0de3629",
            "3a1d09a37de4438db68ba6af76ed6fb4",
            "85f98fc8889a47beb864ce1ddc3453ed",
            "11b62e9ed3ef463fb71d417dd547c2b5",
            "aa0ed5a252d143ec851c128eeb618b1c",
            "7fc5bbd79e8a49f2ad713c1026afac7e",
            "e3cbc8b409a848998f04400243034d35",
            "f0780e6fbc5749af8d7e4a47b1d34dc8",
            "9c50dd708de84f4f81a0c2be1d1aaa47",
            "bcf2c67f3db74ff49a12ab96dcfc725b",
            "dadbffdc768b48c9ac8ff229a972f42a",
            "10e4948cad1b403eb6d5caffd0c6828f",
            "98897b3fa63947c4951e1f12b52a7c72",
            "a5e55a8b853a4539a8a210d81ff11227",
            "40731b9002f941aaa5af6855c9b7eb31",
            "4a1b4ff1125b439eaabe89409afbb08d",
            "398b65f16d454866ab9056bbc217ac5d",
            "6d8c85ae0ee043a08303bffed4031f8b",
            "f898cfdad4564aef8906e930f9eb1ebd",
            "3c2dd4171c6b4287a00e4117a186d66d",
            "972dbf18e33046f09f6de23e27191f69",
            "329c67420f664667987e3ed952800593",
            "c1bae9e3d51944978aad619da2180b1e",
            "8400f4c417f84655896504bb0553ca56",
            "8fb15f0b7ca6457c901b0bdb830058c8",
            "cfdf6a609858423aaf31bb5012982450",
            "acafa195222d491796e3a453141bbe52",
            "c4c0d4f279ee47078ce3d88306770307",
            "1b1767d8a7fd4ef0879096f4d0393293",
            "356666c3a79c4ac8b72d1354dcc13d2c",
            "c09c2d8ed08042d6b45d76f6eb8317ca",
            "6527570aca6e4f6bab24a593b9dad98a",
            "21ffa005b5c34359b9c0bcbe758c2e40",
            "b78e64914132468884c59baa06712867",
            "0c0c513a5cb24df0b8858afe9fd345e1",
            "ebae96cdaf304b869939909e0d6a4c5b",
            "229f0f8735a04e44b4caeed823be23ed",
            "e425bf85ffa840008325d0050d22b3dd",
            "4923c45a81094c988ff979276425346a",
            "a848673c58a54a5dbcc645219e7659dd",
            "761b0c1ec5d74c49b660553f422eb340",
            "c9dca51b87054386a3ea297add51ae61",
            "1ca282c9728440169457c4d08c1bbc3b",
            "07d1f3cdb0db49cf8ad72ce07b11e8a9",
            "f8470fc3f0504d3bab753574dd078a30",
            "e272c279c72a45ac89c1da6fdbb21920",
            "15ff7f6aa8784f4588c5fbb03ad105e7",
            "cb8feae108cf479f97f99763f39e9332",
            "907176b8321e428bb8a87a73cb8fb403",
            "175182291f734d578f3c02817fb3cd6d",
            "9e66a2e7573d441cb028c04570dd690f",
            "847c91a71f884e0fa01c565d8e60a8c8",
            "905b701664564e53a6e4cdfd3efee32f",
            "b76fb5035d0c47d7b2c3ff306442750b",
            "b8e7936deadd45eda7f27387354dbd4c",
            "f4a2ad297d7b4d24bfc2c7cd960d00a9",
            "f489009fac58419e846a0622dcc9ef24",
            "ca35ac5e267940da84c599f7c625ea14",
            "d849c9be4dd24342b8eb76066d56a7ba",
            "e06f54adfb204aa4bd21844941293951",
            "1bdbdc38c7c64f5fa9ff8fa8f6d320d8",
            "6143d66e213f4454978a89a1f1e5ea8d",
            "2abbc0ccc6374d5896dd8de2e81d0e17",
            "53fc871965a3486684eeeca19e7fd013",
            "fc82c0af0c084f2c956f3659794ef3fc",
            "3f76318c254d4374a3866b13dc70b1ab",
            "58468050f83d40deb71492c3caeb6261",
            "4f7346bdcda940b3a4484f831f24b0af",
            "f9812a51d8ed4603bfde42d73325fd28",
            "f95a18ef180b4f94b3daae36fdc26232",
            "bd233701e26c48659135e0b17d5222b1",
            "8789f6325fd04da89baacd6390f87c76",
            "fcfa60e3379b4e8eb7dbc58b0e408267",
            "6112ccc34a7e47c1ac0d5a8dbba4d6ce",
            "d24458cbf43f4a29af1ba68377d087e9",
            "aed5113ad5044046b76fdcb095964534",
            "63d1d0df5f984afba1c8d0c6d91dd46a",
            "859cb6a7501545b68519ce79f7fe7c44",
            "7a8be9b14bcd49f6acbbedf728354d4d",
            "4aa086eedbc34c308a954eafe3b45b89",
            "eac1abee329e490ab8339ca7bc787585",
            "8cb049942db14f46b96d0cb345dcc58a",
            "b71788fa334842d1b220f3c6950bb88e",
            "c84cc755545a4ed5975e762c3027a554",
            "1c9826dd2eb24d488c8eb827a565e7e6",
            "840a82645c414023a7bc974d8b866f9d",
            "62f02a8afa804b89b44de02f1e1d47bf",
            "35ae96cd3e0b4035b4e37b72ef35838d",
            "d19a9f16e5074f79a967f65ecd7bec83",
            "e3b8d7933e0243a9bb62cbed7b0c040d",
            "64c289247ef344e0b88b52a59e3b0638",
            "40555d340b32470f80c90f55acfe2501",
            "a43548d35183451b9cea332ffb6f8e10",
            "d8677cd9430c48a0aea5a5eb3cc6dac9",
            "58974c84c7b045e882a2a784c6aa03ef",
            "20153e9599e04a4b96af3bef3d81c179",
            "44df21f2b80a4b2a91a81d71ecf97323",
            "f57ce0b4453a43efb900f4658085752d",
            "b1b1f8847b95419b84b33247216fb352",
            "9f8aa155e2b54ee28f6ca7242dcf22c3",
            "d15ddeb37a9947a0b9205cc264df1533",
            "e0f931e5bc86492ba8f845732942b0ab",
            "5e30b72843ec4b4caaaf306a43134222",
            "0a73e877460348fa92aa83255efdc1bf",
            "1e86bc9d714741b8bb010bdd2b38af07",
            "e924b05caa194807846596f2f9ed1c39",
            "986a5d4220d5476c8d543ab35815f6ca",
            "17bafe3dca6c43f099e3fbb442571e12",
            "c1787f2b27c04370babb7693d9c74093",
            "103dee17ad3948738d71feff887d01fa",
            "1fb98fab8558494fa563031255a661bb",
            "a0bd764b4f854fc483580a8f740acf47",
            "088afe05ebae44db9745ca4c50e317d8",
            "7ee62bc5b15d4a9fa16c146e66d921db",
            "500d7cdbcad1444b9c54a3b09d5f6972",
            "193efd9cb3264df7891f7cc621379da9",
            "cbbe85a0842647fe83ea9df3c444e49c",
            "47ca3096b85348bcaf854507cfb9d8e9",
            "2ba869d66a954fdeb7d7ee3ba50bd7fb",
            "c6c609650d494dffbe54a8f2fe7f781e",
            "b1c7ca852ca245079f26541e73e6edb7",
            "ddada5b211cb4387bd8ea7e9fa218983",
            "ae0a1de4d291465ea64fb46d9b33c4d1",
            "a70b183be4d449c2b0fda5f32fdb151b",
            "cde80c3509a44143ab05ba1c23e11fad",
            "670da9d43f4f4a529ca923cfd236b7bc",
            "6b5e21ef39104de488ef6696f24d7535",
            "ada9ccdceb924d97b8a3cfc7d6289f38",
            "05bb6fb01b7d45a0a3767315cbb57ba4",
            "97b5639d8e504f43b78700455ad77e1e",
            "6878ea0698d6455baafb5bd1a83fc322",
            "fc04c20ca1ca4a80a6a0f24b91b09b0c",
            "99686b8eb667408abd3ef2149a904fd4",
            "9c8c02b585df4bb694b8d51ee9ddd8b8",
            "85d5bfe103de4fb18ca3a7b644b82105",
            "96ac132ef4c94cfd8051e983444c4f82",
            "a91c81b82101429bb2d9673d974316e6",
            "d5a2b6a181e44d5fa3c1d8a8f6a85bcf",
            "ae465a04593349c28c7ff1238dc7433a",
            "9d42a44d5325454f8663bf61f85a8039",
            "eedf4fbdc9cf437cb857b3e472df72d2",
            "f6b2d2fc7aca4098bbfe0fb5ef12cc23",
            "27466cb33201495b96465df6657ca001",
            "d1f078547c154305a1fdffa017dfcab6",
            "9b26ab91bf42441c8b614df6dc7abc97",
            "ba85970f2ada4d0cbd7520996f218b28",
            "2752672bc0e942e993add5c452f84f8e",
            "a5af1d5b7ac74f52b2bb7dada7f8257a",
            "355ca377b4184553bca491c9d35c8358",
            "92d1a9a054fc4b2b9a335b7992b9ef3e",
            "02f9ec1ab2424687910e6cbcd7701c17",
            "0b39e1a2d11e4c278ebe871b7cf630f6",
            "28001f2e34a04a5c9af255029b1572e7",
            "2808b64dc86e4b22a917ce11b250fe4b",
            "5a5fa2668b554282a71b8644cd70d203",
            "05bad0867b204928b93eeeb75836b9f7",
            "8a131c5e29b848f4a9fd1cf6ac2ea603",
            "018b8572be1243918e9b56a35e46b681",
            "432209cb4a0c4072902f461950379c60",
            "5bd641d831df4e52bbea1016051733e6",
            "544085ff5ac6448289d031e26088bff7",
            "5091bbcb844b437bbad3ab73eba7fdb9",
            "f8155cb3c49d41aebb672695b028cf0a",
            "c5c85424e86e40cfbe71b224d9d134fd",
            "375193df30f74f0ba8c61af178ee3f80",
            "c7121f1d2d944f2499903ff7e53c0cae",
            "f47ac8e450ef4ba2b526fb8971fa70a9",
            "71d57b9ba00a49b19782b720e32f49a5",
            "bb74f2bd14bd4e389baf45770ca5b508",
            "cd76a3fd4eb84abf9499d5b2948c2737",
            "51be4353d3fa4ae28198568b433e3d26",
            "d99cd0ce17e14e87b26d80ede6b2e380",
            "28ec710b2de64669b5cae9de291d4bd8",
            "ead284401b244e499cf60c6d0217de49",
            "f217bea7d43a499abbc0d0b098f9a8bb",
            "823835afea854c53975878f7abf1e508",
            "7f0948847bce498cad7398b18ac0ac49",
            "ca8b36222d9246d28e66b51eb6569510",
            "43638cc6cdf74031a5b44bbf67207aa1",
            "b39c70c584834adb9923a7ba3ea140c2",
            "39a8fdeca9804e47954a0cf4628d64c1",
            "ca7bffd4f657452b84905b6e70f498ba",
            "e2a7ba09516b4dcbae1e72d30a6899da",
            "51ab9339b8a24ad395ef8013508982fa",
            "24bd940737634fe2828eb04ce19d575d",
            "eb62e30609a141f493c118ad84b682fe",
            "4aa9919a9f9e40ff9b595633e88ebb66",
            "508d520a7d9a4eb3a4e57b3ecb24f42d",
            "7cbddcf6735544019b9ec46eb6101c8d",
            "329595e95ca3426eabb2fd7f0e657ece",
            "7531d28b04c04baebac6670a4feb87ac",
            "68b3673a75d34ea3b0578ab346adbcc9",
            "a466393c73f04795b9664f6434e8626d",
            "b71940bc750d42dbbe6dadd8ae15e9e6",
            "73ef54426ee34e9285c98568b89536a4",
            "3ce9a811443d4d7e990911c9276eaf57",
            "70b3c6aa9f7143979a120e763f38dc51",
            "f11a5ac7ddfa48f68b0415a70d4d6012",
            "880a0014cf224a179d2ed1759bf62b5f",
            "40fff28b9afb45a3b7c0c6895d6eae74",
            "8c9d9233b86c4d09808cfbccd789d81a",
            "86abfc1b911242dc9eea07b24bdb0b68",
            "e0c8f06bda0c405a890bf6e5aad34f40",
            "b3df5a76f3be46e981f8d5c127d919d8",
            "d33eda4e815b44df858ce52bbbe543e0",
            "397003c4de5244968d7a0b93c1eb39a0",
            "5eb03bcdbf2f45678cea705a7ed47034",
            "2737e96f567646faa61c41a10fc052b3",
            "d77c7f60b01049ce9c24472e725668d2",
            "d7dac2d092e547e5a30f2acc110007a3",
            "c8d1e93533394556b5ee1d708c1c4075",
            "997ff4494e2343768a2faa0a6260443f",
            "43dac0517ff34e8d83bfdd4e66d0e50b",
            "eb414c5c0d5b4c36b581462613c61363",
            "9fc8b92e35074c25b5bfdc423167a5a3",
            "1ce87ee95032422ba59cd2e25f8f616b",
            "557f111c24af47ff9d6f7697cadfaa08",
            "539dcb874aa845c785499d45f4c82f9b",
            "1864cb376190461ba3b9d5662686af5d",
            "3cccb9f68b4549a78d13a33b7b605f5a",
            "dbadf7ac0fdd4d4c97d0a0bb418c5efd",
            "74816326f72b4bd9a4c2e7b1ff20e837",
            "3b629dfe38e44bbfbce76fed3d27fa93",
            "5dec5471f5e741d2ae010ba3b2f9bfe2",
            "1edc4f3adfd740aaba45c1ae08b371ac",
            "abcabe0510a9454eb04c5f3f903a402f",
            "770f68831af544a8b736679bd45193cd",
            "680f72369c1946ab9c0e5d207fb5771f",
            "2bcccd367a564b22b26da52eeb93e4b9",
            "37bafd3de9654215a63e995717241f16",
            "65159bb3dff24fd0bf84f0427170452b",
            "fe39c153d28d4dca99cd354e95e4a02b",
            "9dd6e2f985d9448fabcd859bc0bacb75",
            "9960cf3b332f4070a45bb3becd9a73a6",
            "0c6803ae81e54e89afe68dbd6d8cb56f",
            "9e8c5a88e7b34fe98313ab3176c51446",
            "ca5e7cce376f4290a9dae2563c44699c",
            "9ad11202bf2c49cd9551855bef90a2b6",
            "5548fe2e1f5f41df9c0b4eb27172ef69",
            "50e823606416431d9a8dcb59705b37db",
            "dad8d39cf5b740808e883cb9ee0579bf",
            "1e13d948c6124821b912208fad85e574",
            "4d770c0bde3c4179ba3698d1e0087143",
            "6705035f87ea41c6a7092e2d1bcbbf24",
            "ea3cb35afbb9457a97be2cd769ae7ca9",
            "0309493ff5f24ff59e683286d1b40afc",
            "dd6bbea8a567497ea50e12e8ea21c0f2",
            "bb33b8d987334951b719e1751d92c35e",
            "4197525816d64135a31a812ad2839f1e",
            "c669c9497f8942768748eed1f5592dd0",
            "49cd333a877b43d4afc8c75de3079ef1",
            "f773445cec1b4152860fcc69664f1148",
            "c2f1827cbb5d4145adf896e8ee3cf9f4",
            "b9103bfb57b84a4fb09c0ec429e53811",
            "27d05076ed5f48578589929a7345562e",
            "7b47381a4b4b4a3887e0b56fcc4c26a2",
            "3931edf61da342b2baecd3e6c9b5eee3",
            "5b69903a02d54a3382c6573d0615b68b",
            "cd2f2427dc674aea9a36066bc7265417",
            "1039561197b645b683d72a53956a2e9d",
            "932649f3513a4b1a9caa9ae6f6083437",
            "e01e4db6d102433293d86c36ce055146",
            "83fb60ccbd34485196f2fecdb58dfb36",
            "43f1095658624fdea42e025b26eb437a",
            "d6b714cd9c284358adbfef70b023f479",
            "c3711e1f154b48eba46424a59f3e1483",
            "7566d4b085e14f56b64392af28b94662",
            "00951c5e03a04c3f8be9cbbc0d563602",
            "7594f9bc436f4225ae6389d59c1ad256",
            "6889686e814e40ecbc93e83c46d2a028",
            "4018ef1adfa444ffb42d1a922e49fb4d",
            "de1b7f835e34481a957d58554828e6df",
            "55e38bf813524554a3df19df8cf53409",
            "a671604ee8e24f46b32e8c7ddf9d8778",
            "c1a922e93fc64ac99a78ce2e23d5d7bc",
            "96308f545f654b279c53f80946799e48",
            "bfbc57afecaa4514ab4012306fad51ba",
            "5cc5326a09ce4a9585c0143c09d347de",
            "c10ee26078314d95b119462c80253c32",
            "55f22015525a4437875c746ad332d813",
            "a36275c2f1f1449593601f1565d61cd8",
            "9e9bdd529bd84c55aca3d387f825cf2f",
            "892aa438c098407b91cbd8f21964e291",
            "0f562fefb95742919135b40aab233d38",
            "faae3794c74440a6931143532b54dc6c",
            "11b4880bf8de46cd9056f7e66a572255",
            "2f9ea2a848bd4888a70f60b3afd1687a",
            "7ada5f51245d4e53b562c1de05fe9c5b",
            "35032d5b0c6d43ffb47c2eb837c2b391",
            "8e9f05aba18a4b6f8184960ca4d45285",
            "88e970817c3a4ea0a38fb3c406327a16",
            "63389028237b4560927159086b3ade44",
            "54acc030afb948e4a932a4bc350e1e64",
            "3a8579e41f3c43a78e2aa4525a0eb702",
            "52646ea1c8654a15b5c1b63858653e40",
            "0b23f74214424d4383d9aac8c3fd42f9",
            "da4fd0fb20cb406dba1b2067ca50df57",
            "36be4818041941bf94da5b908a79b9cd",
            "bbe4fae5cf82487092ea1a27de1a0116",
            "7bc6c08417da4b1d94a2794ac429e601",
            "f20ac642dc3a435597d5fed4b58c9bc1",
            "acdf0a6e508f400fa3b8333712b16dbe",
            "64c88303fbd846f693b25b26947e309b",
            "5057d3972a4944988dc045d6ae0678e8",
            "0e6bfacc12264a278de456f9ad55b9db",
            "0a23e4a80c164af6a28a541bcf21dfd1",
            "4ed0ac40e2a2420daf2c881496bcc65c",
            "9559dcdca1c2499bbda61c1e5ec4f349",
            "4cd8d23097364e57a25650b699570957",
            "13ffa38f348e4980908251e84e80044f",
            "45d7f1f931a4422f98fc2be6ba64c5da",
            "06cc66d2ab10407c95fb6decc2282ae5",
            "0888379a38a543b784f026539dfb8ee8",
            "6eba90e7a9e94c0ebbc7549c07344938",
            "3d26ff52942b4e898b8f7f5cae333b99",
            "53075de9a7d046aeb5468286dd0de5ce",
            "2675b8c1f94d487b92c05ac7fb67ae85",
            "a32f188fbd2c46d8b48a66b8faeeb254",
            "b3cb17b5125a4bdf8daf522bda7b4cd5",
            "9ebb1839b8e848df87d2bd436bddbac3",
            "1405de59838846f0981804b0fb3d71be",
            "cf357938e17a48f2b12d49d595550b0a",
            "abfd2a1621e14fedb27fcd29c1bcdbd5",
            "619609a850544a95ae1375b84d381356",
            "c6e674512c9a440e8f27b0cb8372859c",
            "73fc1bde64ba408692af24b8a33d0342",
            "34bdf4b8e8c8495f91baa4d0ead75465",
            "03b7cbb6251143348e41f48a26058a3c",
            "b4980a8fecb94b0c80c9b462f2f673cf",
            "6b563f406bbb447898322203bac68a0e",
            "ee79798a7d894ee29096e5b3acca2612",
            "cab92a5e696e48a0bb73e4d2cb34a780",
            "3ade040fafd146c29aae0704e1f4c7dd",
            "e65bb059512d4d0abe30f0e5fc5734fb",
            "47e613de14d44090977ad95f640d5901",
            "13bd0cdf592144d08dee1618939a4397",
            "beb6d4f5487b4a9599a0c5af8548c182",
            "9f092ec66d80419a892f99d904956f1c",
            "51366d975d754ea68f394d87c9462801",
            "cf5d68ece8ae4189a9a230f9f550ab33",
            "bc5b1ef0c67a4cd1aa743faa44292540",
            "75959eb018d44a5892f816b9c79028a4",
            "0f63e7f96dc54291812413bf496194a1",
            "58ef709758534a568b08f17d186abef8",
            "526c5b2df8994632aab4aca3da7daf12",
            "1e1e497fcf944c18ba43ea187a47d059",
            "5ff40740e5474807b162557d389e32ef",
            "f496f69103354b8e8747f5f0b56d0542",
            "0b246253ad894a44a8a449af8b3bcc17",
            "6ae9813831e84322be37403b38f75756",
            "fb1c1850581f4e099fbbedbb86962b07",
            "418cb8ea969b45e0b827b0ce032bc5e9",
            "363b14acc3e34a8bb75714d60cbafb65",
            "eedb25e79a704481929a2736574e7221",
            "ef7cae650bb04feb917cf46ff2e4deaa",
            "1f91a65c37dc46eaab51482e42e1af81",
            "8ec68bd653c04863857c8a205fd6f978",
            "937a8e3cbc234364a428001ec8b06428",
            "5971573f46d14a8aa95822afc6f4065b",
            "32cdffa202eb4ae283d0ecae761fb6b4",
            "f66c2a7c42d34585ac98ede367f5d873",
            "700d05ad6c9e49219d5b4197cb04d8c4",
            "d62e59d0cde0443b8563cdd039ccc038",
            "9b2ece7ec93e43c8a23b4a17d0086598",
            "16c4de131a584efab94180be3efa1996",
            "f4d661544769432285972db1cc0e74ee",
            "191e71ea14b841eb99727b71ea54a423",
            "1c5b0756a06040f4b8d801e35fea9ff8",
            "91c7d166e02b4b4eb02b5f82b086276a",
            "43b42eb71f964a28a6cd7bb11aa2b2fd",
            "498e4012618048448ed86218d9d27eb8",
            "1b5ba2420e9d4178a0bb9e1b161c8b87",
            "2894d6eed99c4638af373ebe674f1bdf",
            "3743d8afd753494e8c8a5cbc21928781",
            "1dfeb723dc0f4e269f95deb9fa51d5e0",
            "cc4e66a1c86f42e38aee356ce51c8064",
            "3fb9288de35d4ce2a798288264230f14",
            "f1664f04859d4698a4d159d2684cddc9",
            "d21ba2416afe4c2e960c9e4d26519fab",
            "a231bd3790da4d1bb743c5c4763a5f03",
            "d82ac985094d4964902a7655646a28d1",
            "b046b2a593674640a64b13308ea2124b",
            "8b1c3abcafcd4a059f9f7770e7cbf7bf",
            "14704b750edd4852acf602752ab8c7e7",
            "98b8bcd9e1c04ed9b5700ae07d050bd3",
            "0d35fb3dc1ea4f259e120694de5ba580",
            "b4f12a1422d345ad84011589878aff80",
            "583d445dd3b045f699bae5955883d282",
            "7e18526f1644411d939ec48b396bfc82",
            "8f81069749d94fd6ad204e05f9697a00",
            "889abc339d9947248484cff1061d5a35",
            "ad42a29b520e484a92fdd7a80ee4a147",
            "deacdaf7d34f4bb59f1487e6163d0c8c",
            "4bd8807ed170403c8a681ae622bc3cf6",
            "661e98c0b429467da12037dda8c8ec87",
            "14f4b673c5ea4d35b6ed5c4f58ccd510",
            "5a67a7d8b4f240e5ad449e92d7615c65",
            "3004ac06ed27437d9fd95fc6ffa67859",
            "f4fb9d8489d84f7182843bce19edafa4",
            "b682d85b19324f078f520559913cdacd",
            "4404d33b70cf46d2a27b47fefac93bfa",
            "75b1f4eb8d534a9ea971ee9ab65dc67b",
            "5dcbabfdf5524cf1b9ab13b5caa8f485",
            "a307dd4237ef44e5a5c165a1683125b6",
            "7804178617d94691a0aaa32b936b00d8",
            "34e199296800474cbbbe68dfb6a528c7",
            "96a03eae414a4166a43c696cd1a98042",
            "3f90dc9410f440d2a219b97d638372b6",
            "59bde0fbb3904167acd8f11d35eb8a97",
            "d8eb962e2740460f9d91898230403e86",
            "cb77d89374084b36a559609dc6c9ddac",
            "353ef5adce3a4ad895e648003824fab9",
            "13e85b83a3244a4b88615a9674b05de4",
            "c089b35087cc438b9c820ae125f4c70b",
            "de8e78bb0f5f4c7e9d9ea3b6e132abd8",
            "c65fe8e863094e6298ea416b67dea4db",
            "6a230d42d11a46059ce196a02639712f",
            "5a51432d185f4d6bb753f17410cde438",
            "bd7c30752cfc4b3996a9507cf87e504b",
            "2e018ce1130d4494af4522e8555e13e3",
            "6017666c1f4a4ab1b6ad33c95614c456",
            "e91a07678ab14488bdb3f6c0021fda16",
            "a8255f54b76c4d859808af8d64c0d462",
            "24b3edc5bf5c400987f244cd42f5f6b7",
            "634b4f47c24d417187d17e6068d68ab0",
            "e651dbf95b344ce4b09b80b18cd3fcec",
            "341787eeb2844876aeac377af8c8e25a",
            "15d9bdee1ef240cdac3dc1502187f571",
            "caa7c3b5e0c641229c52503a33e3e3c9",
            "d456bd6a5430419596b650a070ab22c5",
            "112ac0e7a2ae41e39776736828967535",
            "6ef6ce0218d44c6cab8b7e0609779fbc",
            "dbb5028dfa824fb69abf86c235c684ba",
            "311134db64a742b3bd316749f74650b7",
            "937f80506ec74a20802bcead48ebd280",
            "581d22f44fe04c0b98e3199b6b1b09db",
            "6ac6379caaed453c9f295fad320fe782",
            "277eca9d425b4687951089ae54efdabe",
            "c09f35476f0d498e8579ede633d6a6b2",
            "4e90028759db422db986b2f86f0c4e3e",
            "3bb3ccc97540410a958a71bdb1aa82ab",
            "1d8f7c09abb641d5aeccecefe529e0d1",
            "e92e2a5d3e9948a1be67817a2783042f",
            "6ae67e3a1b4045c7b6891964eb4087a9",
            "34a645059a65485e9658582a36c3f415",
            "fbfcb85fdb1640e2ab55997c3493ffae",
            "c671550e874548f2ad6837effb273919",
            "da66b23cc96a4653a9b14cc4268d7434",
            "625b536c01de4d4e8414294c5dfe42f1",
            "f0c1013d1ab34e1bbc15dcfa8d4a5feb",
            "19a03a5124c641669462a0e963bf3ef9",
            "5fe18002cf08440087df183c2fbecb9a",
            "4dde09114df74fbda115d6f1289eb6dd",
            "132c827907534f8f90fe8bb08d1a583f",
            "abcecc5e4b7a4829b99a717a6d76ebb2",
            "0bd338c49a154664b379955f65d17f62",
            "3dda072f4d2f43328fbc4f186124235b",
            "afc34644134145d1a291f0da9ccadf57",
            "d309e9503bc24391b0020311ae6ebbcc",
            "ca7bb8e7ef314b99bacb30bda7ad2b4e",
            "9f7ad011be03447bb4501abf1b4eb47c",
            "f9dc48f940ca4426b1d388be7a4bfc9d",
            "5f5106e1f10c48e2829d6969579602a0",
            "33b574c243c549c3b221568d42c9f425",
            "d195ceff64274f798fc4ab3fe5adce6c",
            "07135b9c54964f0a8d1bd33b414d160e",
            "284fbbffcdd24f469ae391fe31cfd9e2",
            "c444a235c5b0445099b0e571b39df948",
            "ce8f608583b24359b4b2108d2d09b132",
            "ee731b1721644056bec1146f137e0ae4",
            "60f517949250421ba4bea04978531329",
            "a6f773e2f1ed4b4aa1032e62205a2e83",
            "7587fae38bb54b27a2417f73d264e5e1",
            "5a72ed5f90a24569a53aa487ae5909f4",
            "54d21fe7724c4d188963b38d338a68e0",
            "5e0cc480229a411e8f59059c05c75c56",
            "af64aa4547514af49fee7b96e42e6e3b",
            "f22a77d13b784e00afc11daef5ccfd65",
            "56d80fc9461a481e87cebd3793b18659",
            "58ed8551badd4f5e9333d4a7f92aa1af",
            "3d8087226dac4d73ae379658927ad5f0",
            "243eae536f4f464abc25981c8fe3bab1",
            "999b973e8de94b28a46fdf17956cfd74",
            "97f0c6d296774541859d88ca6076f1bc",
            "189d48c0dfbc4db4a7a183911189b64b",
            "758044455db14f22953ece8a588f46fd",
            "a8359473ef754a988240b65fdb56fabb",
            "e7b52ca52e5f4b0083a2531106f47f71",
            "076707674c164488a7f3f625e0029418",
            "d00175d4efe2495090063a89a1fa2b8a",
            "8f9331cb11ba4fa49c212d82f8afbe2e",
            "74d16d60d2d44842bea671eb53b92f44",
            "f3a426d568524a548e15702655f9ef11",
            "eef8e08594994eeeac36fb3c496905c0",
            "17629e9059d9447d8d7907f2f67c23a5",
            "a02e2128fa4c4642b7090ebabe7717cb",
            "be1e7d9b68134b9dadb2c9a3c3049061",
            "fd5533f5af84402f85d2d69db1c99a21",
            "f0c4e4c9cec74a4a8eccfebcf2a7064b",
            "0ce16f97f7ee49ca948a6e8b518bd1e9",
            "21e67863502a435998f75d984e0e3c50",
            "7cdca9763a41479cbcebdb360529e183",
            "8157fcfbfbb24d4eba9d75a0d43e33f4",
            "768af587f2d94e7bafa5849d016cc562",
            "c97e569e18864ba09e307ac9cb6c496f",
            "3834f6a554c64300adb0be97a27ace1e",
            "f863b02274a1448b966ba30435fd3541",
            "d5e08e09727e4a18936ead774aa01393",
            "8f88b1d6840d4ec6b0dac124acc6a5bc",
            "fc8f7d289a154c6891c039f3493cbe64",
            "147d68f05e474e5aad5c5878298831a3",
            "fc987b30c1b1459ba2156fef8b267eae",
            "b613ad835a3a42ccb9dc00114cc441ba",
            "a2f36ea6761d4114bd5301c14ae48eff",
            "7b8b52fc7dbe4bf4bbd2dfeb58afb8ad",
            "cbfb798a25564d9894ea49acd26fab70",
            "5c41b37c513d43cab7de095093e24f71",
            "9ac342c69d40407fa58dadb290075c54",
            "d81a386c8ee34ca5b9cfa8ea8d67f2d8",
            "9fea1184d9b8439fb2036850b8c7e93f",
            "42f08ba6b85c4746bcdbf4f4755d16b2",
            "9c614a0160dd4111a5e2ae80a011c5e7",
            "dd34bd5c704943e3877dc4789ade3a10",
            "76f5f6d95d0e4597abb69b2ff05624f4",
            "951a6450fe404f06aa54eb82359f840c",
            "b7796b9e25d441e99e5e948f90cb6ea3",
            "9c7b96fb41764c5ca5fad73e0ff366bc",
            "6f211f226c32453795b70a72c0f8e5ab",
            "c9801e58b4fa4984bac93c7bc18d18b9",
            "7a32d25a8f414e77b6ee851e9bec35f4",
            "f042336724f343119798d4f91062ac23",
            "700867249cdf4e7e9eccedb5614dfcb4",
            "9535e0abedf247e4b8d0410b2e6598ba",
            "4da5f687d0cb4d94b3e9ccf4f68de4e0",
            "7be6b6a1f5d84c38bcc8fe5d52554dfa",
            "8f92f9b6518e483394deb2f6bf4c9407",
            "be61d049ed114fb88f059b8aa9e22d9f",
            "7c1b0d51d552440d86e3d75fde91c5d8",
            "77b644cc89254374904c88d08e0fd2e4",
            "ea78e84d845740939d3c7ad97659fd01",
            "f10f487325f84cc4bf3bfacf2558a03c",
            "ecec1a5aaf2e41878f0d5283ddc0edd7",
            "f1d3a365a62140afa40386b29ee34b19",
            "3223890ed42b4397926a8049f8c69cc4",
            "49d7f8825614492ba44ed42cb41e1d7a",
            "d721507e41194e59aacc399dba63d963",
            "454aa02a39bf4b00b9ab3587dc795cdd",
            "bff60bc59d344638ae28299f4d94c301",
            "eb57ceeea505465aa3fc3d11c2ef7750",
            "c8ac89dda8bb4c6d96e44ebd92b861da",
            "a2ed76a54a164cdd938d7de752024f84",
            "178c50a93ad04cf3a4a1c3f50c6e2e51",
            "2eada2ab8c634337acb3130940834b3d",
            "8ef22baec95e4aada8b3027a4e55a486",
            "0d2b8cf71eee4c3290106eb9b6e59b21",
            "c8f1f38af73c416683242e94623101a6",
            "8a4fc3788f5740db90d7ac11b3f6027f",
            "4f7e7305028341f48ff29ea855b2a81c",
            "1849507c26b44b11bc7f8d94971449b8",
            "8f2899d64fc24615a33bf0be987b4bd4",
            "55de075a947f48ba9d4f7ae014ecb6fe",
            "52921511038c44aabce1954cae6dc08d",
            "d6b2f7791250422684d2437242d7c58e",
            "c0376100baf8427d8e103b84530a7ad9",
            "c2775c8b9eaa43c29e3ad67929712957",
            "c8ac53c1771a4d3699fc5fb08a9ff377",
            "62688e6d43e94bff8bbedbdfb5787317",
            "1053e62731da4b3fab024246cabc0669",
            "a53909fa65e74006bfe5b3c060652a3d",
            "ad9829d644054f208b8328a9c914f073",
            "f7a2f1c0c13d409f9a51d226a6b12ce6",
            "b2f2fbfae3184048aaedfa1e7a5ca49f",
            "1c0f2993b2764d3988fd472cd59d5281",
            "f800823f875c4f7c8ca4ac4d3543e530",
            "31333d9cfa5d49829f7a7773d298bd4d",
            "e48340b6b4074997bfc0fad42318f56c",
            "edac13650d1c4659ac7c8538a98c79ec",
            "c9fb32416fef4e34a2b2685833cdc524",
            "b3eafa2225cf4605b60bd4977cdeaf5b",
            "1f0b830180454a8699af52a9cca783c9",
            "5ec3371563c04eeb9ce079ffc7ebf2a9",
            "68a1184f57264f4ba6c7312000f1c645",
            "81c46f2e5c8e4418b3641433ac8e9393",
            "40ce94cc477b4d9385f9ace00c948645",
            "8e6cace4a18c4c0da1050ab57a014770",
            "772bb99ce2064d879a6f4a649c20ecae",
            "5a4f9f832fdb45dd90bd8e320fc4c288",
            "a9fbbf9081e742359e0bfb5e079ba7c2",
            "e42da0cb11964a4394e3daa6e4015ede",
            "a2ea7db5fd264537bb63cd44aadc659b",
            "b256f4b008884777ab9eb51426e474c7",
            "5303403e456a4e6b9b5763b416389a45",
            "7eeea49f677f4d839cfa05f4f3f565d3",
            "9dfec0c1530b409cba272fb2d3fb0705",
            "20607a0bc8824a76af306dd862d2dede",
            "e8c9bd516bcc48cb81d10fd83c665faf",
            "dd78640810b643aa9d53f028fd8372ba",
            "6e542c6ed78f46a386d810055a333d12",
            "f2694b0ca0bc407981c895ba218b88f0",
            "e30816ee3697476390559101931b1da6",
            "d498d814e852400a89536c4bab8f7944",
            "eb0ca946b14643c4a82720eb2e104bd0",
            "256307127d4c4f3289e9f2c9f476de89",
            "1d906a0abaa944b2a1608afec8973ded",
            "1cc1b8ffea1149ffb4a2ab4883a9ef1e",
            "4a1701f76e1e41de9965acc240896056",
            "8b1dd03e48824f54b79f4e42614696f1",
            "cd9b7af4dfef4a788289ee60a5e88783",
            "2cc18b475b0a4f4992db9142a8c91cf6",
            "179aa74d12e1457483c238468deaf74d",
            "c8c7c3dd026249ff855487154176b8c2",
            "90d3705f1e5e407fbc4946a0a3ce098b",
            "1c2c8a6fd4754f4ba4633b2f93221756",
            "eb8706676f264c9483e3119e6fc12796",
            "6586d8e52951417ba1e6c3586032c5de",
            "9338c75e005c4d5ab20c864dd5830dcb",
            "d1bca967a0ea4427b607b9b9cd5f09db",
            "5aa1fbb8e9ce4fb0a82514681c01725c",
            "4eb7d124f6cc4b71857dc4fbc664b4b8",
            "7f31925564544e518e50fc73b6acb576",
            "3d6146f42c54483a9d3ffbceaa2cb3eb",
            "10a08a72184c45bf89fd29feec07768e",
            "c8838070a85e4c449ed40f01afe000b6",
            "7f005dc587cf44eeafe190cca2ec08f7",
            "3f914a74044d477fa760ab8652321d35",
            "171bd83f29e941e7b76ce88a319bb0ee",
            "3a437ab623be4a09afe0097df84a683e",
            "d4877bc45ebd41019dce98ad8d8f6a74",
            "f027c7d16789402daabf96cc722da615",
            "5ac6097feb03477bb83593bbac1954b6",
            "7fd934c31e8147f29f63eab450e712ed",
            "7b09c35e33ce4831890c09cc8aae2fb8",
            "b6db96011e66468eb923ec451a665667",
            "d09d9e7944fd4fb997b36971fa734f74",
            "6433bc60d2074dfb9a6290f9ff9ca58f",
            "d6a2b700c5b84fa9b38f7661dca3f40e",
            "f877f3ab32664b9bb5c9a69840f8eece",
            "d301feb285ec4c778ea4e0ec85bc3a2c",
            "9bbbc149aad8427ca746b3e93981aa63",
            "480051f36dac4aa19c8fa1dc856c7ec3",
            "4b448addae354285a50ae1b6a3834c90",
            "1cdfb594480744369e2b472681df350e",
            "40e759ab988d48af96c14e3363a90fd8",
            "9aac8c924a3e4e78bcfc734369e4067f",
            "94e38840cf724ecf812d396a362f4ce9",
            "8e2c30fb7da94a1085711a76ee411c3b",
            "f96baecd714947cd871c49f3380b12c9",
            "de74d0fa179b4b12b023bf8dbf4ac065",
            "2ba1a840500f484eb2d54f9d6545e087",
            "51a220b54f7241d7ad7df5c20d793633",
            "68185d4bc5c44aa28867b662123f8b8a",
            "f816868ec85e45edb2b42da1b165323f",
            "71ff09f5d3e14e5e9917c9f10a95e78d",
            "7eda5e05931344ba87ee52b7c8f10f35",
            "72548e9576b1482e9876288db4f1d00e",
            "ea826a3580c44a858be5762bb431db26",
            "327572b2fbb74396b7676466d51d8e76",
            "6ef5746eafef438ea9fbc515d40dc19e",
            "b92813c4083746d0ae906f01851d8fd6",
            "4ccc57c7752d4ae3ba8a3cf6d4a44d3c",
            "1087e2230f684343827493704be6099a",
            "ecd581fe95614968ba0d4d9b71e9e26c",
            "96b8acfc0c7442c9badd9a68d209b150",
            "6c74ae0953ad458bb4d2b899281ae74f",
            "30cae6c10e4041e4b1b7684da0e2a443",
            "4fc086d5302b4223a31e3204d09588ba",
            "254d39f0d7184f16b3fdd39b9d86a6d9",
            "1bb1c74e854f4086a8f7875730c6af07",
            "5ddb545c82d14681adab9a1499d4e9cb",
            "ac9ff53d96e44a808808c7125c5347c5",
            "5ed219fee1e24da68a62ecdd4b3d9bcc",
            "8243ce9deb76409fb6e45691e3fb4927",
            "5fd73a4a87344a47aa282d4049d56728",
            "0296fa7d4fe44433a58b2df8e6de6c4c",
            "687172d49be54a63bc44286790f8ca1e",
            "5827669e421a45d08c43204ca7fa0818",
            "cf28cf2eaa3147d8bbe9fc66145208e6",
            "9b29e0c175794e98a324b52c2a77490d",
            "4aae06fdb7cb4ceaae88b847160e8a4d",
            "2b33a1796fb74a7798a02d09c9c6419e",
            "095895fb020d4819942b5b81268c0f4d",
            "8fc4e891c2414e318561a1715b9e1c33",
            "2bfaf763f498478396c7707f59256d97",
            "0195b4b3cab14741b190be822f736661",
            "d111e768b3a9484b8f3e86a64f38783a",
            "34c66a23bcfb42658ab142ffcc386c81",
            "3f481a9bd46741119991fce447ae8ad9",
            "4be67975860e46dd8c16f141934016ed",
            "6057927a27c14b3582bea3347c8031f2",
            "a2f4f93845634065a76c1299ca8c9ec9",
            "4425178e77f84d9780ec752038054887",
            "57e5fe47222a4f7794b77dd03fd70841",
            "40259ddb366a44479e1a683bb5440982",
            "4c17a5d032864a6897957b2cf95aa68d",
            "2b69565619774f0aaa31d1b2f9c2a088",
            "3fdc868845e94a66bd7c31c05ff6abc5",
            "fe5b21860d0643cbada0394d70976de0",
            "36d2876bacb548bfb4a3ce2200499acb",
            "55b6bdee32874c5dab25a1d793c62d48",
            "f1b3394d7f2e4a16a5af7020e1ecf1fe",
            "590c97b8627b4e0885d478f9eccb4f30",
            "e451e38684104898b7fecc1e34e6522b",
            "2f16f57328e34eb2b84379023aeb0dae",
            "2c20ada38cf2472bb0ab4d2af3edf5a6",
            "6f08c5760df642fc9cf889c1fd2314f3",
            "ca5521aad36a4e71bfd06506edc98206",
            "a1fd9041c99b43b4a1eb5216fd5c1b29",
            "5e9356a68afc436fb2b27f773d43cd20",
            "867e9f31ed2348c4a1c836d66c06c7d8",
            "cb9b44b1e8994c8d9c305742f58445ed",
            "3b8201b65e2a41738dc073ce11e41650",
            "b35065c6df2a4908b0ed47232ad054fc",
            "f36d7319e39146a5b7ddd28797d61d42",
            "e1e79e9be3374063a52f1ce04a70ba3e",
            "725f880bf7d94216b749c466a47deb0b",
            "24553b4be1c54a3ab2f4d0a24f6fc874",
            "12202cc91db347a1aa88c059edd70b4b",
            "a3317effe5bc4f3d97992d44786bc0c3",
            "ddc54f07f4ec430fbeb606edd6cb2b85",
            "f80ee60ee3784063a20e1977d4f6fc0c",
            "5e858f2b1b904f4d84190714ed1bf2d8",
            "ea40b55f4849405d8598cfc65ee35372",
            "df6cf26d7d2c4de89e3bf5dcb38a5144",
            "cfd51a1d36f64bb8989d8ae018fb809d",
            "82938afc0e534fbaa67bc72bc7ba5b66",
            "8acdcc89eb5a4575aaee2e1034f87f1a",
            "76743a49bc16478e8f2701abed63eaa6",
            "a87fe0c1037a4836a9defa877b25a464",
            "cddd8346303e413e996111b65f312def",
            "ed86eb3c4d79476d8d957a0e1cc1e822",
            "0c831f63e3db4cf2bee2890e2e577514",
            "8466f6a0cdbc4b0eada778a084af7e62",
            "b26b585a7a414961a16f28223a9f3b7f",
            "aab8454bceee4c85b237a9e8c15db6a2",
            "1042ce5ba5bd4cf4925ee79f93d4594e",
            "b977881df5554582bbd855fea4704b03",
            "552549c937de4b0d9ab66fefdba3a07e",
            "f6f42ec3d2764024b64ce0e7970164d1",
            "cf70dd275957408983dfa549cbdb20e0",
            "281380415cc84b74a25a5c24d7ac04a6",
            "6a32f7e9b601484ca1b83a3916a58765",
            "2c1fa0af88cc40dfaff3707ba2d9d445",
            "dfce4f8e4ba744a1b3deb907409a7796",
            "deb471299afa400b98c999f29479d4c3",
            "29200d753075434a963323a144f1622b",
            "c6fd061633784bbba663dda7c3281c2e",
            "3495fb53b36b43c79dcc0f03db7d0228",
            "b4539b8c88ba42ffa22a8d52fb1c7694",
            "cf76009545434bb496f4640f634aa41f",
            "a6e7a8ffa8b7424d9421390b560e7fac",
            "1657f716a84046aba69fea9639004faa",
            "43d62afd17c54c93aeecb01a2dd3258a",
            "146e5f0846ca4705be95f584ad6ed04d",
            "5dd527682c004a559557c2e5081219db",
            "b094964539134585b2e50969d68012f2",
            "aa782c90366c435f80d4bd42f3490056",
            "6f394d595b5c438680852415d2a4222d",
            "e0aab4a4856c4e3c911de0123689e9bb",
            "65cb3fe566284bc7a9bd4a0aa53e6c48",
            "a02918330c594a5cbf1b76d799758325",
            "11258d020bfc4a54a954396f3c917696",
            "0078731debfc4e73b2747d417939e993",
            "63c0d00ebed247cd9b852f9baa6431a8",
            "d7f3df630da24380938a284477486eb0",
            "0e02b1256df1401a8f5e43fa44989f7c",
            "8622ee42e2564762a241673a932c3de4",
            "9e2e12155907473ab259e537e6c95d5b",
            "fe7aabce7501459d9313f79b2a16a466",
            "fbef9afd1030449ea9f9f4f0b042eb73",
            "e884a107626345ac840f347a540f82b7",
            "203ab4a91be14a2f94dd38099cd00381",
            "22cd6f8c42334210860beb7c1e1f13be",
            "6de9732525b943e89e413b9fcfd14710",
            "2c6373477af948b494333b2c9c3ed26e",
            "d053e62e79d64defb9b66e04784b6fba",
            "d5019e9e61564a7b98406a56c8bdff3c",
            "e5262b6c79234f6d833afdadfd7c58f5",
            "7f79410df00840c29e92f78b44f7c425",
            "4290e9d2696342b0bb610595755d15ca",
            "862f19f4934444cbb8518fef3b866327",
            "31856001922d4bfa94b45c738b1703fc",
            "1e261242a6ab450bba92fa2018fe49f4",
            "a941707ae30743758a64b1d7a9eaf6b6",
            "1bb6eedba6e64601b6ea2d21d8854699",
            "bbdef9f50fa9431e95477b5ee6478b44",
            "1b009ddd2a2b4b54b494810a616be472",
            "96830cb83130472c8e0bb80934b77f4a",
            "01a4dba53c0145639645dcafceb074ae",
            "50c9de5360364b548f0fb71997b4b9c7",
            "d940eeb5e2624472ac54e44b570bd334",
            "244931fc24b94e64af2b06c0ba22ddd2",
            "0e09128e6ded4325ae455719a26a3c79",
            "d7af8f992ab747d78a7abc15b274d9e1",
            "b110eaacbdfa4c68b157dd08483d9bab",
            "9dad3ec9cff24ebca20d1285108dc6cb",
            "6367f2185bf7478c97c399e1b8f6e153",
            "33576650f2034d56abf4a02f4aabea2f",
            "8804abe646cd407e8e1f3901f4edd549",
            "e3202717b21a4d4abc9e86c7b7211b9e",
            "b0708663526d4a34baf20e9035b6208a",
            "3e56c91bb7254ba0ae137f6ef1846061",
            "ef1a9d82bd1b421db2d14ad3db93d6e5",
            "f74b32a2a2a344aa90cf3eacad958fcd",
            "7aaaa37eedc34d368b43be7ab74ff60c",
            "d4df18e0fe8a4e2aaf046ca572f4effa",
            "d0244344bed045c685055540d40d3fe3",
            "d1f14c03ea654c26923d4e38b5503913",
            "76330e00225343c2a2c12410fbeab16c",
            "ec177c6417eb41bbbc424fee15c5b0ce",
            "e66dd8709cbf4888a4cc3b9670134b63",
            "c8ca64e89dce4389999f6b2edae5ac53",
            "64c8f39f6af4489e9aaeb070c5b72b8c",
            "0d3c77a0a0b74e26bd0dfffc92f98bae",
            "48eab84815704438af44102fbe0e6595",
            "17ca6c8521a44bc0b32b630d5555a683",
            "3a888417197946bfb4c7649307e11b61",
            "e2d364f7684c49eab12ea2f099d8ee7c",
            "e0416f3fa0734973aae05adde0ea29aa",
            "9265d85c45bc4f54b85796218e61a5bc",
            "847abe956d5249eba47af5835e111050",
            "f8c41a2d390f41e888124e2cad81551a",
            "4f74b137af894ed681af9d2f060c5bff",
            "09c506caae584f5392b7ce8344e5f9d8",
            "5c539b4d2008401e8907357fef59a322",
            "b5686e84b1eb4e1e806becc29c873f8d",
            "1e3a745b9a224010b963dfe7714feede",
            "7c8e841c0df44c97a1813072fc2b3fb8",
            "3f298a01c2ac4fdf8239386573e99c57",
            "fa63b781f5ac4c94868851c662e096a7",
            "cb5d2f9a91f6483ab003b9b2fe56141d",
            "69e4d0008b034b94876074667d0ee830",
            "a0db53751441465eaae20b22a36dad0f",
            "c9f2e16e230547d1a51e35cd61e71638",
            "0f579e2c3bc84c50861fe5d3d01dd53f",
            "45cd726db4ac45ddbecf1b36be6f0a53",
            "154712b5d2194951a6effc39309d8e86",
            "ff299a7ed7b447c492da8fee23647684",
            "9b556ba017444a04bb83a6043b6cd66c",
            "d5807cc5fbd7461182cd5ce396a5f4f2",
            "38321e75ea704368b15778f3dd063208",
            "e165fec77d30479eabea84e85c0ebc27",
            "6fd4880a70cc4cec9a975da7861af45b",
            "8f30128b0e2549ffa07268312166615f",
            "5c1cc73dc05643ca98601d508eb7ff0e",
            "78247f2ca77d4bd9b8e5e405bdef97d9",
            "04eef3c4b99348ae9b1f83b9315635df",
            "b75d9936065d4b3e928870b3e04ed410",
            "6992ad6e76b84eb59221ef21e333e0b8",
            "89a8daac968243a9b8bbf4cf3ee4045a",
            "a3de6ea864df4b5dbfa9236974d87460",
            "4e4a08f71d1c4e0a852216908e5a840d",
            "0e6de3c343b842a6b09f98fad36a90c2",
            "a76fa5b263d445b1916626f90ce6e37c",
            "adf782a235aa4a29aa8b9d3628736545",
            "0b2bb283009d48e6bc80421371b2ec80",
            "b7249f83e35c46678016811f0b182a06",
            "212d04767a114f00b8800b9c2423d8b1",
            "9c3477d91d2b4a08861e569f04f51b4d",
            "9b5dd86595774f5d91467eba0bc35c6d",
            "79ffdc2191df4cb2a53acd82628fe6ff",
            "70ae3685865c4071aa23de33db85263a",
            "cfa59cd7d7c544c28eda7a70509afe9e",
            "cfb47c4439b74ed189b23f5634f49488",
            "a4fa9a001cff4e6f8b6311a1cd96db92",
            "16ae9eca8db846e5838afdb1038e9a31",
            "1735987449374057a86a5d942cdba35f",
            "e72f43d68ffc4fbc83075bde1c3e34d7",
            "74b22583dff24a81bb9e4526b61e46e8",
            "f72340cecc05471f966bed4541b552ac",
            "6556666a82094dbba77e015aac9e6dc1",
            "2c8474527c9f4afbbc542ce762257886",
            "975289dcaf3643118031bacbf044e0bf",
            "a82054fe79394f43a5b888c175952254",
            "687b76a60659424db8b886a8ac4ebaf8",
            "f5a44299998a486f8bceef5bda22f3e8",
            "d74af8c6190b40f790c649779730304b",
            "47314e9a866b4185b981573d21ab5702",
            "412cc4215e5c4cf3997f8b23f86b88f9",
            "7d894299a5ae43e0a3f3afe89c9d274f",
            "665bd5e18af740319fa3de0131a19051",
            "c096075f294041be9272ac6826a72bf7",
            "22260dc076d941128e6ecbc7f9d2401a",
            "e309a0b728174075ab5942f0abe20155",
            "b0c06b91355b4ac8b11ecce6391a7b22",
            "d58adb9595c04724812a058d1fc15030",
            "5db8188967e74b37baf19de7c73d8530",
            "3a0aff0e8a8048de85e9a040fa67514b",
            "4ed46b22f4ca4e75bebb79cfeb085031",
            "513d2d0b4e0f46fea7848276770c13ef",
            "79fed23c4f8640bdaa4f3337cdf76ec9",
            "18b2ddc16b224cffa3608dca5653665a",
            "3d17c9e90a6e47e684248c6f22d35adb",
            "e682a8a623094cf6834050ad1ccc6f1c",
            "26f6516d95fd4732be7f3d2dc34957cf",
            "4ecb5216ae8343f5ba4591b970c96167",
            "0e156f5c33f04857b84261aaac63ebbf",
            "e8960c5ccabb4d47aae622587ef5d6fc",
            "c2eadad8cacf4748b8bb0f3a765da103",
            "24455ab8d5b6444bb894b7848b6d3810",
            "5d4d4527989b492d813152c682c3aae7",
            "5d2646ffaf444138a5055c8c83795061",
            "d8e4e0ed820f4e609ace9a7a6545cca3",
            "1a69489e70714015b9e454e5a78c9271",
            "f5486db87cd24f6bb96cb049a356be37",
            "6bb80a61fbe442ab88de3d46db0d6ed7",
            "b1b3dff5cb194abf9bac5c9e7c547a1d",
            "ebfe02c16146424b9b41f91d64d57347",
            "e576c472ef904e01b8930c8009d570f5",
            "c0df6dbb7811458fbdbba735bdc9628e",
            "836a58be0241446eb7f0246b89e76a7f",
            "d535ad1af8eb4d74a358d1ef7e6779b0",
            "d740a6c28b54405d96e2d1e32a0c1c05",
            "ac463da1acd848f99d2717827417cdba",
            "3efa373ddf874e8e92970a82c78c2592",
            "f0ccd61929aa47c39ca04bad27e60fc8",
            "298bd9d8a7e54f55927459a4aed8d180",
            "5443ff4e49df4475a1ff5e96d3707891",
            "e9939ab711f84c76a46be2e3eabe413b",
            "7bd036aba53f4d63949c37d6f13f32be",
            "bd4334c97ee94c21a95556ddea8be34f",
            "bfc6a183d4ee41ec8458b9e51fa94d67",
            "e16d97fc68eb4644a66d756d85b8acf3",
            "f4326f36bdaf4e2b8953a4d6263b771b",
            "019302e43a2041a0b93d3eb93e8cd1fc",
            "e132029f89c242e68cc1da85aa390092",
            "643042df3946409e9eb650f121300fbc",
            "b069760c3e2f480a8dd4be2eb4813dae",
            "f37ac0e1b3bf4e2b9f8cfd6d2a400fe6",
            "ddc2b9afe68a469897fca3592f90bb85",
            "fd0414619f9c4bba8dd2b7c185231580",
            "26b2417c7f544a14802d756bc51fe4d1",
            "bcd23359a6a64f5389b3c31cb40f4519",
            "dfcc79594d614b7da05336cbf85764be",
            "069a3443900945b3b43d091d4f54feea",
            "f5dfc1c2f8fe4b258c56b4269f49a796",
            "adc2dfafd2564fd8a99c56e29671b13c",
            "e3aee992739b45049577f541a2c57571",
            "b8d59471cf8b4ecfb9e9b383c56e1fc3",
            "60ef37e9a18c4b0a8fa7641bd07a1383",
            "086eb66ef1a54154badf3158d0b5bd97",
            "3d5448d3a97d462cb8011ab94588c9e6",
            "c9c691297cb54cb3bbb6ad21877ae05e",
            "4400a7f3ea724aa6a93149e13961a5c2",
            "34127022e77b4ab1aad24426f6115f34",
            "817f650a0d73451eb902756f8bedbcce",
            "6b4cfffa350a4960a37e1c5ed7950f83",
            "293c855b61b240ce97ae23b08ecfa65b",
            "35c819f3e62a45f4a86eeb69bd3cec88",
            "35eafb3d7ad5430db2b473388ed34e03",
            "b3499d54d0a346e686ee9b534d449da0",
            "bade4bade91a4e399f89c7b272c970aa",
            "ce420ffbf8e148a58cbbf17dd1211e1b",
            "86daea2fe2e24856bd3d5bdc7ecf9def",
            "cf829dabd07a4a929fe522e299c4c040",
            "31d90e908cf947fd8a29fa4e88694c8c",
            "b96efeb9d71048c3b705d137105f15b3",
            "a8ef08700d7e490fa4a837c28cc88286",
            "523466f620644d5591e9d91862ece85d",
            "2d135c2e90364482899b0539db62de07",
            "dcf83824fbf84eed912bc530a801ffaf",
            "d61e4f6648f848898653f93f113781dc",
            "0ff71e0b5a3244ec8d1b31e9ab78e4bc",
            "be59225d5dff4483bbf1e3079d8c98d2",
            "9e00f32707c24115b060db223bc40167",
            "f9c5fc9ce6ed4d888988b71b66f9f304",
            "3c025c4bafda4ff0a3401dd11ef176c6",
            "07ac5e0bd19b497f83cb6300fe9d323a",
            "16c8e8de35d147d680b22876d5ba82c5",
            "fb174aaca16d4735bd3a9f2b5895ded4",
            "20c8428df449406aa83afc8e20119675",
            "e45852e3ce5944ee929195df3753b284",
            "d706187803b445ae9bb859f2ce7fc642",
            "a31808aacc954e17bf7c667d0cd4727f",
            "1d46f70b89d94c309f9cf87470a129ab",
            "667b7bc88c57423fad5cce562b4dcc50",
            "56ff89df429c453cadd0e37af54071d2",
            "23a95a782a524012a0fd08cfe84997ff",
            "0fa07b4b3af24a0a8a888fb716ab12b2",
            "45c51c1e550a47dc9547fdba818a5831",
            "3ab9a17aed32438786d02871db33e9cd",
            "7fa865601ed84cbba97e30714b5192ba",
            "5c504dcf9410495d953912d075852075",
            "d0ca544a017240f3a8d801c32401661c",
            "ca9111203f50494595872056277d097d",
            "1d500904133144e188e5b01359a89fcf",
            "4f89650b43cb4d24ba5c0f2ecac823af",
            "581a9d7542494a0ebf325f2b8a3b81a5",
            "278eb627a58d42aaaa4a11ccade4933f",
            "0d2295c57cba4a38a5db1d4d23a1f683",
            "e46c6e06b84f40a89b29c1fb15d4c1e2",
            "e07ebc52fd954187a3c49f57c1e9dbd9",
            "b4463c66fdc343da83474d8644091c5b",
            "3123e97be2004462ace9da13ec916b3c",
            "d701c74c797a43c2a037993e970651a8",
            "f626d1351826465db612b7e97bc6bb69",
            "b94c053b69954c5682735410a14f76d5",
            "d62ba4ac0dea4265920f4cea0214a8d1",
            "4438589d9761418792398db6d41fba2f",
            "abf6217aba0941c18ced1fd37a8599e0",
            "bff8257cac414c9992d1470dfa46b60f",
            "3ec6bbce7dde415aa69bed6c34d6cfaa",
            "0d438650363947f2a620b10a6f46941c",
            "54ab1defd0844282924c6e998e9af456",
            "15c5847d731b4fd58ad7a502d48f008d",
            "62f57b3bf0654115b66a8bbcb9749017",
            "8989712c76554a9e98b3341185dd2ebe",
            "acdcabc957934a988a1457b50725dbf7",
            "445fd07868854d318841e02c5228ced9",
            "4d8406e64798467ebffee9bcecbd2032",
            "6168e0265a6845418b6b006777be30a9",
            "d7b2e91312ec499dbd0588199036e2c4",
            "c0bfa63de6f2426d8e80e46691f37f5b",
            "1c1f66d3136f48389f194298ceb64652",
            "3f50308332f74b008f5e0ab725ca00eb",
            "e2049b4ca11543d18f19e3760cc7f669",
            "ee04222fb1144cf59fde58272f5cfe90",
            "9ca004eeae214946a5e2f7eabbe07602",
            "aa625465d601455b95fb57eafcf27146",
            "79a8360fb5144be8a23f5be82dd7c1da",
            "45651b60006d43b3ad54dc427d235378",
            "0a0215a3f6064222a2b1b040e3dca26f",
            "6f0664d6e06344d8aa613a40ba95b69c",
            "54d9ef3a6acc4f16b0dd8d28821bc39c",
            "e9725e934d9c4c0182eb083c3c49f720",
            "076e3725a971488086d139c10cb5bf3e",
            "0cea8c752bd942e0af46e482d551e9b5",
            "9a544d7accbb411a8b2084699892714d",
            "0c1d9b2bb726424296ab07aa7a4dde5b",
            "1a033c56cf274366baed0a766742cafa",
            "abcc29377da6477baa5978b273b27603",
            "2fba00088de54654922be8ab586b5eb9",
            "ce7d52091ada48989399a41f6ce23831",
            "a105cc8aa08a48a9b6d8d274acff66e3",
            "7c7b92c6f5864e58a4a2a7f68ae0ddf7",
            "122930d73fcc499583f8bdbb56a16801",
            "1f81d6de17e44229bbc781264ced934d",
            "9188b601bd3e4fb3acec3fe2567b40f8",
            "d3a1fa871f9647a1a807d40240c74d13",
            "39d0fff477744c24b5581fc8ee3a6368",
            "8549a64b9ff04e57a8425eb12f4ce703",
            "7e1e654dc06d48c0a7166ace028fed00",
            "f8e26a96585945f1a85c95cfb59f37dc",
            "8003572e200e45509e3531d766f7490d",
            "591cd2843fb34fd48e26fbeec8a7fc9e",
            "46c9fabc93cb4caa8e32bcc2a90fd7a0",
            "0ed6fb1870f644149671e408fe76d10f",
            "607891b2ea054026a7d4d62211d6c807",
            "91cf500ebe9b484fadf9a0e5380b575a",
            "670a5dd6da5640e48547f0bd7148f6f8",
            "5c427cd22e2b4d3d8ca3561992224f91",
            "3f434bcf43c94da99f7d4dcf0def52b4",
            "08f7573055b944c498e35b81c45e400e",
            "6594a901ad064c8b87cc0170b98a0223",
            "aa968bada8964d11834abb0a645cd955",
            "6f8ed31b6a6d4c99a1fa4d3fb382259b",
            "e923e0294b3a474a80ef21c8a10ad17a",
            "abc0f5daa21449df853ff08c0e93691d",
            "1307d5552d5547e3890a3fba7e82be44",
            "0c5c990f1dc346d08f948dafca0ee8a1",
            "8aa497bf77e248aa964cb259165c5d54",
            "e89b40404cce4aa29d05a2c5530bebba",
            "c50e9ee9b78040338b77a0bce6f55f43",
            "7f1c8b053aa045b0896dce691e433f2a",
            "8ea07c305aa741ed90016feb26278284",
            "6785fa716ca8499f928608623da22fdb",
            "87f92b8893464d35af3eb844722731f9",
            "88f1a644f5b1420c98cb745ff85570af",
            "11973551a0024c4ab7788cffdb129b18",
            "998adfca536f49bcabe5289418c7ae58",
            "513c30568b8e4f15bc264ae7c2b3f11f",
            "efa866152d5445bba5c428c5752108b1",
            "f76a0c29bd7240eca9510a344f8cc89e",
            "340d0dc49823448882d06e562eb717d8",
            "59218e85d60b4d0abaf6521875fc6cd3",
            "e2e29ea7d3ad4552ab2fdb9db5113411",
            "dff76ca659b641f9876768a0a501004e",
            "e9fb19c74c3447a791bd5f58b6b0986d",
            "e5124df8fab04d658ad6ecbbd9e9f4ca",
            "a9e3dae111444c8794bb68da776c2e4e",
            "f51be291fbfa4746ade06eba75600817",
            "3ca39ae106b4405b8e20226ce7b606f3",
            "412162a9f95a46e7bcf7c8231fffbd6b",
            "35145255d6884215b2b80837cb4593ee",
            "9d9c4b271827440aa65e7be78da13963",
            "0add543839164773a0903e97192d0ce9",
            "a4c54b210bf141659d4d08bbeb2f7dad",
            "820377e1900a4fd2a50a7c6c5349035b",
            "1b9ec99ee78a4a749c36b1a628d9bd26",
            "39f06d8b7d6e41b0a04131aa81f93df0",
            "f6501228d68b48c28d46306be46fd5c1",
            "cbc4678fe2ed46f98ee2ccd96ee7ecc2",
            "dc681bf606f542849fa66698886f5f0a",
            "999f45184d1a49b5b23737de5b2cae3f",
            "acf20be9d5b542fe8012973fa898a989",
            "7b4bfa16cbea490d88e06a0a2facd417",
            "b1aa6f9073f943ecbe02476f180fbd38",
            "2ca88ed751db460c95bf2c2bb5944967",
            "29706ff248bc4e44b83556c6a36f1c11",
            "50d3c963feeb42f2b2bac434698eea73",
            "6820df1f143f469b8f7f0e86728d81f2",
            "30080790cb75486e8efc8ffd733c574e",
            "d3a78e9c34f94052a054071bb4ac10e1",
            "47a4d05c27b44b9d9d352b22a339749b",
            "0c447bc145974f779d371c359b69aa64",
            "6e7093b72d024410a7416d6a26934d8b",
            "24ee659659e94221b0014824765d772d",
            "430be49f33be45f08a4c8c43799a449d",
            "324a36edba124d319a07cfdfe65265ec",
            "d2e17611f9644beb8914bca603d6b1f9",
            "491562ca34bf49af89bc23325c8c4fc2",
            "b90756adb5fc488c80943c33b4b51a87",
            "978bba600b9044caba0521935da53e8b",
            "dfc978288bdb4341a927fcf266f78bbc",
            "e04a1021f79d4b4a94af46f3d3766c34",
            "da86bc9442d247d395b50b7c2aeb1b80",
            "76821a1b17ff4c4491784641e28de617",
            "95403a7c3ec348a3aaadec35e678882f",
            "f4ada1796348431faa5ffe7aea09bd30",
            "b8c39dbf8f304f28ada43da702305ae8",
            "9ad855ce30cf409d9c18916fd466597c",
            "ba08a50b1ffc4d6c97fc7e1ea03b3102",
            "fbdd347180c04515a0a7b2ae8bf644e0",
            "f76379f4659a4ecdbced5b7939ca9805",
            "dd3028682ca94fcb8be14fcee6403f11",
            "5b59ff07a41b4e47b40a087f0ed284e6",
            "df13595a55fc49af8665a8a7994bbeea",
            "e83ca626307c4dec838020cc364fef2b",
            "95849b28982c4e42a81fbe79c08474ff",
            "bdbfcb57ea084c8f92ff7e4cf092cc5b",
            "1148255b8af84a429f1b629d7f9af18d",
            "99b0f48f65fc4a1c8662d63642debf30",
            "e66421dca6d24643b314e6e143154d30",
            "59301984747c4e24b71fa624697e3b8a",
            "48b525e09a684722a043a65dae72389a",
            "d8f31e0d34354bcc9a7da9b1121237d8",
            "86ce8bea988443f2983d0b1e394ed187",
            "d8d08d948f20496ebe69c1b77f96f0ef",
            "679e0adde1734538bbf85ab964be8e3f",
            "4cf84f5d15c647708d38c9e2d3049432",
            "72e3354b4bc743a9a839ccf08f8729a7",
            "973de36ed5af471ba6fd5da959de22a2",
            "a48fc9efc82a44e1b2492ccafde4f7e1",
            "a0e4bcea4f9b47f98f70405a7542a43e",
            "26e487d1c9074d55961a51e74f09714e",
            "b217fc13f4364c03872d1b5ecf41bbbb",
            "9ec6e159318b4f67939dc100a5130b3a",
            "9901edfaadef4d11acd0847742b51bbc",
            "a9e2d256688f4def8c39a38fb89706e0",
            "8a201be955d6420c946f9d8ad655e870",
            "5257646dd7b4465e995dd8340710663f",
            "9195acdc034241d3a66072353c66ab61",
            "e5bf2ae4649d4a68b8fea6c7e3420bc7",
            "cd8270e1a0ff4e2ea84ca2e012ae505b",
            "4630a1e130d146f8a9905a6b979817ea",
            "db1793cdbe92443282141e793e6331b9",
            "43108e76f6e149b1b5aae2cc3a194cb6",
            "2cec61baa0014585ad471a04edbb8244",
            "e0aad8c8f199446ca048f7ae5c905187",
            "5aa5d0fe548e4813bd22814ceb32f83e",
            "38eefe994a2144b49df650f420d112a6",
            "0998b9ce8b9f4b04af2161a3b3aad2d1",
            "d1e3d78a1b17455e9f2f58f333df6aae",
            "af795706241746429414244df7241cb1",
            "20e48506edeb4b96b742d6753e2bea18",
            "2d2a8e1cc15242bbab2f36735c739a0a",
            "818ad9e93221484d839d6900515b49db",
            "cd7e5b157c514ba3ab7b69a3a31de58e",
            "e32cc04e16a046369319e28476dc866a",
            "c6a9c8370a09487bb9190f1d2c7e0c8b",
            "7167d227eb4f4b21a84c6e0901340805",
            "e443a554d4ff46e88450f5e3da71b63c",
            "a75bc0b596cd4ef7ad1a6b6f9e046535",
            "671b1ccacc5f47f5939c520542c510f2",
            "6fbb426a53c6433595b4e0905e3e52ef",
            "98d4cf180ddd4cc9b3f378669b0fbacd",
            "d5172666e88b4bb49c3b0834920b6320",
            "452ba9f8dcb9467e8257e141ee0fa84c",
            "2a14ec1dbd2d40b290de88ba35d1471b",
            "fae18f386fbe4c91ab019d581dab6f64",
            "2dada1affd354518974e22e38eccda1e",
            "e5c00e41a39b44f98e611ff35d8e809d",
            "3063fb202feb4f3084fd426ca878b965",
            "76e5e6a69de245378e57039ed2b27b1d",
            "df06d38670a1458db7c24666aa0f6dc6",
            "46a942b0fd804c939dbbdc1dfee31004",
            "70a90c476ce944a5b8a9f63b1d9b3ac6",
            "0894172158af4ce892def1c5c0b80039",
            "8d34ee98dfda49b0ad7e8aad7f55b134",
            "63deff891f8e41eeaa410d0db629110a",
            "7338dd27a5c24a72b8e7c22b1133cb66",
            "b1a8bcf33e63463e92dafc2cd1a8ea30",
            "edc061cbd9574eecba4d312084d8e49f",
            "2d4a59b8973343afab8203292eeda070",
            "e4e41e0c1dbf4e3e9dbd7cd14a68c25f",
            "ff289e9461a94c1f92ab4fd2c0dbabec",
            "b5a1f8d6437b46f0b85b5627230f8150",
            "dbcb67032e6a4ef3a1e995f75afc1993",
            "d4ccfd214f7541e59d1eb0aab1fc2317",
            "38235387232641e78228a5583adb30ad",
            "da45896a85344057b70c033d4822f7c6",
            "09c407803e56499abe39fdae24a100c8",
            "cd3415f75d784f8ca75b19441aaf203a",
            "262a38561a8a4fbf88ef1c36459884f2",
            "c09cb058c2b44225b0d0a665a763434d",
            "32adb72fe1ac438a98f6249081c70298",
            "e6933c5e48c84eafb5d4a85e6c910da4",
            "788662dfa21e463694ace8f7b0ef6ccb",
            "5f0a1070e30d4d889547e6966abcd786",
            "545fa784a9464595a3468ff363166bc2",
            "9362a050af5d4ad89d7bfb1c769a2d74",
            "41591cbe33584fa0b633ee87e3b7c8d7",
            "84b04932e1ea4ee09b3f8dba0b9ad990",
            "7431e7df013040c6b767c66d664337f1",
            "82263795b24f49dba08817d33ab4eace",
            "7e04d7d1681c4e799908264a97ebf0b6",
            "f20d8d265b8345229be59f313ad1f69b",
            "30e97b20757b4c618b763f706c8b9634",
            "f43f1ac95c144b25a3bc34811d7f5447",
            "d0f98aa1b4894015a30a2e044fbcb7d7",
            "8ea924ad12bc43d79f29438485ac6bec",
            "bb52a4c201bb42dc88188654da9c8079",
            "d9647cfd2c7048818851be93ae43699a",
            "2880f9bad1f942c88f133ab934b88564",
            "e0c518d650c245af8a4e69bb0c488e86",
            "6d9eff0cab31428d9e68655338e11453",
            "fdb14738ec8d4d59bbe35f8a77706bbc",
            "d951fe44cc3748f4ae4d9b7a4b63e09a",
            "abb77c749fcb4b9296fa1600f88bd94d",
            "c16d2216424d455bafb81968af1b493c",
            "dfd22c538ba347b28c4b6abebdc3b32e",
            "447f5a1704a6458d99106b9dc3d9c8a0",
            "d8e2cf37900744cb932af06800b671c2",
            "0193280a5c054ca4b6aa3ea452c68eb6",
            "0cff8b3bcb644a138597b81ba2b18768",
            "6fc8de63525142fa874feb21dfb8f18e",
            "96f3ad8b8e4b461181a372856f96685b",
            "8ce32809e7804974a84992a74ee1362d",
            "3e0553d082c94987916e7c4215a16245",
            "3090eaf86a654fec88bd1675a80ad658",
            "73f23b5000e4415984a3bf8c72a47ab2",
            "d9808bdb51374c5b9f51e6a211e8c2e0",
            "d4a55801513b4576b9377cb3fdb0face",
            "2f4b24fa51164871b1bda1f6c3ce90cf",
            "8f7d6e71afc64bd28c1f17402f759c0d",
            "675dd590ae4c4187bc92f6a5ea64f4c2",
            "1da96e6ee71c4ddc92b07f5bbfe789e6",
            "d4a53e5a6ac8463495db54c9966fcb1a",
            "2cf26f4a457e43dd800cdf6713f3bd44",
            "c19dd0e867e44713a6de793990ae85da",
            "e553cc36904944aa87ab68fa1cf1c0a0",
            "c7c491cc9c224f97be79440ac3ce3841",
            "f82a073e979f4fb4b27159d1a915baa0",
            "7f9b3129cb4c461996923965e4d1ec53",
            "9fc126b2ac7a4c83b6e5e49678dac3e4",
            "4022a8fce72847a9afffabd049273399",
            "f81a24ecb0274e78a3916011275eb78e",
            "8b97aea7ee104c22a23a26a33b83c39b",
            "6575d30947b943f48bd8f1e4f65a80ee",
            "b9ac36832fec43f0a8b27b2ade0ac98b",
            "292ee6c339914f6f8b5953d763f6c69f",
            "b6dee8e95eff4a81b1433424abfdde39",
            "4d3f532db8af48a089be882558feed23",
            "6a94621837ac4163945192d2bbb52550",
            "67a6e0bdeddf48a29106ee404d52bfe5",
            "5576275c22cd4640b1115111901b90bc",
            "a8d76dd308c94ae9a2e048524a75d304",
            "517cd6ada3b1426b97c5706ffe58aeb5",
            "84dc81933776468eb6e6cd4b115e2a8c",
            "0bd713d2837c4f2c95862cf9fc4ee525",
            "e221257e45804b7c883d694ec9a8c973",
            "78933464ed5d4b9b9511d013ee4e4890",
            "b90534cde91a42c4b452e6d1db68bc74",
            "f16d5d944e964c8590d5b4aa92f497c8",
            "fed4c414725740cd97369bbfef739d02",
            "f619aaa07b4443779a304a5cc2773ccb",
            "7aae3d7ca09e486ba4756f9d80cdf683",
            "2e210d5dedf645e7af64eb5ed8a769f8",
            "d0286e3d6c2b4d34bf36d4eb827ee598",
            "1f730212fdbf48379928383ee9f2394b",
            "4b83cc119d0443fa9974948d51828432",
            "c002fba7a7aa4abf9a98aa40bd8de15a",
            "7dee0f9a379b41abb289c402c5c6a3fe",
            "6295358069ad4953910b0a027d70b0e4",
            "b149acc97e6641ee830b0cb8837d8556",
            "e987f28523a640f7a61693bc1f9d69ef",
            "023946dbba7d4341937262cbf8332315",
            "c279117dd8394e54bd230c129f25d86a",
            "710eb8b0966548589ad3ace9da9786d8",
            "4a01e448e5ca4fe5b1c5b042e41982c4",
            "29643e37e17a4638a2538b793e45f076",
            "17ab40391a104512a2f2e358382485d3",
            "21e312b8a250423aa29e3ca8434c4a80",
            "108f6803a52e49f49a8dbfa09e2cd874",
            "6335db6b71c74d7096dd6249d83228fb",
            "c82e4f0a379849d88640d9b54e0763cc",
            "7481ef062f304be3902f96f5e94a5cae",
            "e2f83e4a554242348a7d8727460643e0",
            "acc5231a01384755aac3ac90d040080c",
            "afd2b826851d4346b5252c9e5eaba6af",
            "2b84ae55fdf5499db20a208138b97795",
            "765d95c647b54e8ca5b0554c6e8d1db4",
            "7aa3422cbe874239baf7092c5820ae2b",
            "a3a4f5562ba94b6fb5c55449bd5e418a",
            "6051e5eb568c48c39b8375fcbc9ada50",
            "d04f93fdfeea4e12b377653ca4c4399f",
            "711ad0e27cb94fbf84d29ff0a959153a",
            "b334c5dd2ca24a1cb566ae1837f8f482",
            "ef7dc276fc3b4e68814fc3e3e1e66297",
            "754d5865266d4413846ac52e1a63fe64",
            "e13184074c89484b9fa5b5eecce77d14",
            "61c4023f4c214c08a3963aac2614eca5",
            "382ebdc60b4b4eb4b9f6c8161f7f6401",
            "1c57ac32cd9041a3825ef342aeee936d",
            "31b5486e169c42f483a270c9649a26bf",
            "92d5a91a211d4e1b8716554c4cf50cfb",
            "fd8f57405e8e4b54a03612c9f8e0cc70",
            "d796e62dafca4b0aaf04a09e8831a3db",
            "e5f1959f8ee84a3bb5cb003d4d646f92",
            "604f527990d948028bfaf0df8577d4eb",
            "7b021fd8cb3043e49b51883d936ee9b5",
            "bf4c0bdae6c0417a95b7c778468fb734",
            "b2f97d95c8f24288b37bed08acd08afc",
            "6517d4f08a4747c2b19eb4b04b67af48",
            "c80ce1d643b144c59c21b3d1136deb52",
            "30e993fc9596483ead89e07953758b49",
            "cf5565874e014732b4a1c35c06dbc668",
            "9504e58ce6ce40e69449dc828e9e1ab0",
            "820ed88169684f3d92b71bd84430ee96",
            "b7f4fa9f2f7b4a88af25bc1270ae7e01",
            "c1830fa81847423b8fa0eb23e81996d4",
            "93f69a79df08404f97f5e3f1d97b1bd8",
            "4131faf222d846cc8fe5f935d084ecd3",
            "fd5ce254731949649eab4cb3315840cd",
            "7f1a168e29994e9a90d443021f73cd58",
            "4ef6f13a63964a3dbb9800d1aca63b2c",
            "570d4c9be9114b70aaff3b4a3706a060",
            "f24a77014dba40b19dc81cb619d953dd",
            "be462eb3fa4c4505918636827c5a290f",
            "a1b7521e82fc423c91ce15c7a7d9f917",
            "b062f429de6c4e27a668a842f85265b9",
            "c91c3b8f7b674e468b85fb368de49a5e",
            "a8f86e2c8f784672aab5bcc05447bce1",
            "2f3f02d53d334ff5bcbb583a64432074",
            "f34342346e394eddadd64e7880323de6",
            "21cd7f612bfb4cef8609ed8aac79f43c",
            "ea39c9cc5ad54eeba1edd25a4d900704",
            "6338e670aa8e4d5e8269303e6fa534ee",
            "316f91b2646d42e58306de053ea8674f",
            "5c6a97dcc6cf436d8b8663ccf256e1cb",
            "7fff6ac7963f48a3852c2d3e374f6f06",
            "effd411e43504d7280344905312abb9e",
            "5bec973554a74865a98dc6e9d5eda32f",
            "76cc0d7fa8e14c108147e8c966bd7368",
            "abacb8e1cbdb4f3cbe37479ced26c3ce",
            "1d6db4f05bad473ca759c834804bbf4c",
            "6fdd4eb0911445aa99c9496b2d6966a0",
            "a14081483e2d406f99da422cbcf32ad9",
            "430d14ca62dc4373bc45647295dba843",
            "3bb12a7bd6d64fb8be63bc66f08eb4ce",
            "fb5f60baa8334e33ba1ad3046fe76e65",
            "0a71b490a11e413fbf6f5aa3fd2bcb64",
            "c5f69fcc33fb4652ab2f10de3e365b3c",
            "ac198451f46e4f8184ad10ba475226aa",
            "00ed185e97614a868dab008daaeeb849",
            "265cfcfdfddc488bb322a4ac7a69aaff",
            "3fb51f79740d457ea981f75dc7ab370f",
            "8c5b1d036f2148c29b90acad668d15c6",
            "6e335689623045649841cfc538cebeab",
            "f5dda5ad17794c2ebd07a32c1ee9ff77",
            "6db8205db4594bbaa001cc6f5530b77c",
            "c1195f8f5d594863b98d7b33a69ad1e3",
            "66c95c67c8bd4c4f985c5d9e21eb4ad1",
            "83d49ac86e7b4a01a5ff78edce5e3b11",
            "e4432e9a966749c49647a9e24a1b3cd2",
            "6eb97d3c94344728856bb18f387314b3",
            "7df31f5ad5844d3a9d16bdbeeb26b876",
            "f99034cf7eee4a5cab677c633af3b072",
            "5a5a85fb791041b1a2693dac5094213e",
            "3e2404a9d2e84a82a72ea6f2ffa68dec",
            "829a5d5b5a624dc3b7cb91ec527f2cd0",
            "4f2da76ec44348b5a3249696cccda28f",
            "d15632aedc954d4ca7cb1029b8254bc6",
            "1e73cb0fbef040d78d90fb5f2830bb62",
            "c30fff322d4a4643a589138e250c5b2b",
            "50aa74a095a84384a28e8c5f32a19449",
            "63836afa57994508a70a13336bdef60a",
            "c9d8ef30b7b44fa1bd16c85a62a8d348",
            "441f108e5d094d1685f1abc2e3d7d262",
            "d05f95cd2a614a99a7967a0ea7d9cf9f",
            "01f58d4e34d04a6c8dae617f7fb7b25a",
            "995c5fef1e74454b90029eae00a52e93",
            "ecc3ee19e86545528d7dd50f3957b37d",
            "0341371e2a1e45af9752fb903572f3dc",
            "3e425bd93699481597bd9d0146486e94",
            "7103e2bb829f4f0cb05b0862570df944",
            "1510478ee4ea4784ae0a284558bf8f73",
            "21c4a1f77fb54d0a8190a1db3af922b5",
            "5dcb1f33dfc54e8982df313b0d2347bf",
            "bb4523707ed34dd2bc7ac443e1a26798",
            "7dc8f569c2694dc8a5eb00a1efa53ebe",
            "4ff2c9923edf483797f8b5fa7eafd660",
            "57015ef35f1142f4975740ec2250bc27",
            "9e7c95e5475d49c1bf368a4d302e6f46",
            "8e21f7172f4046f095efb4309ce8ae05",
            "c04d8feb99414fc9a1b637fca1ab60c7",
            "5a2aa98c9e844b54ae3f4626155b857e",
            "e5f31565378e403584f0581f3877654c",
            "a0237ed2ff7b478d8e71754239aa9214",
            "20fcfa5f488d4ab6872d36feb84e5812",
            "bb6abd1fd3474d09aae156c82dc8f6a7",
            "c8480f7cb6934a029e4990c1fed352d8",
            "9b37aac1b96f4955a272f5e7191debe1",
            "7cb036f95fec489a97eb98afe6c29bb0",
            "c0b00806aca84d168b905ac3c18ac877",
            "5e1076abc5eb4a7fb3d367f899b3780f",
            "768b151a1693484fa9e0c6e14232f5e8",
            "f70da41a1cb4453386915c35923b4298",
            "72cc20eda2f0456190f096a55039add3",
            "d201ee8d74474aee9e4174b1afacb14a",
            "75b036e9541a41c48d2282e82ddae637",
            "3a3d29a4fa0c4cdd89173702cfda9328",
            "290068af2eba4c748d81d4cab7385c42",
            "f110476efbb944f69fe63fe28ad65875",
            "c3cb673f4cec437fad5f8a9a59602308",
            "4a5d9aa628c846b89e338dfca17607df",
            "fa6d9c24a0434fb68b6d244f6b736c2d",
            "bd1dbe8e8f1a46bbafe01c14f47f5b49",
            "a0420121512a4073ba33e852f8022c89",
            "c60170cbb9ea4a1cab10884dd709c4df",
            "9069c3790198440696a6bd3facf0ac6a",
            "d10953031577468eabeac3942cde1c26",
            "4098cb3cd31549a28ab8419363a0bb18",
            "d5d7b8ef1cdd4dcab71c8d0a07609d35",
            "c8fdd2eb5dc24dae93a621d79ea35c0f",
            "52253b143dc94d6a9f1d2105cef408f7",
            "159ff78eb5eb466fa89f72580371d338",
            "b192064ca3f14ef289c4715849ab4e8a",
            "c3c4f3f3d73e4882abae51f7b3958369",
            "ec512bc515c440daa7295ab18401322a",
            "18fa0109ebf2480eb86ca7afa322849f",
            "da24451d19eb4d0b932db0ca01d09153",
            "101a1b2f20094436b523ec2e3a3131d3",
            "6d79443d9e7d479189ca148d024f74e4",
            "53ccf3409a554ae29c1372e98c9135ed",
            "2a0c210ccd7d41f896fc786614731d67",
            "ffb0d3c69af348a29559dec1142df722",
            "688b53585e304fd2a2b622fab606a0a5",
            "40d2f109bb7a4d0793f8ee06fd30df6d",
            "6f6e31f3f75944d9b2754d4f442950f5",
            "56b1babfd97f4fa389bda8f09ef8fdf9",
            "f0c801f633b44926b9082fbc6c38caaf",
            "42b880d38a8e444bb7114d6290ca03a1",
            "f1daf84651734378a765945be990dbf2",
            "3dd2e4eaef1740d8a51d319def20b99f",
            "fb9edceae63a470cb030dab3b1f0da43",
            "0b3b2ac3e8ae4df98ec81193613bb088",
            "532e4030106447ebbf6c1a713d664d82",
            "32c97ce00ae44ae69aef6409a9d5d0ee",
            "4ce1352995514a4b8546652540779582",
            "4c13eee59ca8412b9e6ee94073efb79b",
            "5a6651a02b8b4f839477676e6298c4fe",
            "3fbcf87b4d124b329194f5eefd4ab6e7",
            "121ae4e52fd94aeab0f930682c28408d",
            "e06b63f991f14699b886b9e36184c39c",
            "7018177776cf4bf1b1d3388aa962681f",
            "0756f8aa61b34734b13b7097c307ba21",
            "fc331fc976574d32afab449b3b2c9ee2",
            "1bb1c150175f47d99f470ac34dfbe017",
            "f932550a230b4004badd03ec29288e6b",
            "209cdcae68ca4ea692aff8b9d6fbc050",
            "7d0f80db3e9241b0b02c22ab92fef861",
            "a74ef7ef918e476d8dadb1a7bbca65cf",
            "fda74f7629e64b10ab57d36330e9febf",
            "f8f85ed24c834ce5949097f9dcdfb220",
            "fa3e21d92ab84f4792245a20886b032e",
            "32ca645f42d74638bd02f8408219f994",
            "7a8401effd6349afbb2b95a494414aeb",
            "aeed784eafa74ad8a9118f63830a7c39",
            "9a9631c4bf454644b546e2509b0af500",
            "caf7473967b84aa8b858e532ef68ffc2",
            "27aa472b35bc4271ab0d77adc69b5524",
            "48a25dc8cdbd4c268c512b0dcaf4a5a6",
            "294b927b53ed4d2cb55f7dadeca3e009",
            "68188949f64e41a19642d1cd6e9b7232",
            "fabeccc0d4f74ca48114bb35adb6aedf",
            "6bb5e286e08c4076874378d718eec018",
            "c3d192d7dd5f4622bd29e54085f2e0ee",
            "7e47f56ca141475d9672959fce6569c5",
            "0ea62a2d353e4c8494bf86163d9e392b",
            "0a42d0f5195443929a0f124e548fb3bf",
            "b4be1dcd47ce48549eaa83e41564a2e7",
            "8333fce37e83400ca6a39989384a32b1",
            "9c924fa0bb264138b9cb97eda080c018",
            "78c41500e0904a5baeaa490c418000c3",
            "0157dcb61f4048eca165f30b087dd0d8",
            "3a71d23e25164b9795c37ec9207c1ae4",
            "1814bc8cb5624872972bb3b5e0ee0f8c",
            "3f1d148babbe4cccb0563276f7a76bea",
            "908d076c9a034063835329cd038d0a6c",
            "58e34059cdc0416981f884f6c9653a06",
            "e0fad984b6264e4faca2e39fc8ab9dee",
            "d42c724164f04dd785c3af06ffa7815a",
            "8f4d3cf4804c4f3dabb81aea6623fd3b",
            "016007d9a5604cb290758d2013fa25d9",
            "789854d8d0984b7e8d630a586ca39882",
            "b998732dac3141ea8651bfd7ffc51f1b",
            "b3c0a056dab740d78adacf12cf7460ea",
            "23449021744249849470e2a7eb21176f",
            "9520613ff6924b74945d0c2f7cfc1231",
            "701b42db1fe64d55a54e7e312151a485",
            "1a58acb7f0bf4a18bb44412e40ff2a55",
            "54f068798ed34d72916227a875766718",
            "a8e5bb1bad0b4676950b2ae6922f10a2",
            "6518ee1e902041489609f0d7cf7bb969",
            "c6757dc0f2154ede953abcde2d16e0e6",
            "103348e68b9e4304a8210982eaf7c9ab",
            "cc943d85aa3d4f0c840c215bd8da9162",
            "faa6525f491c468c9fd7c15a500c94e2",
            "6c7d905fa5004d39a3b3123eae01c9b8",
            "10f17d5649df474897287de3a9418f48",
            "beac4e2317a840b0879b8424882abe45",
            "19cb76c68c0d4ac38d354fea300be517",
            "a873a439190e4be195370dbf9c6aecc2",
            "e828afca75374b01be5e11dda1ed3bb6",
            "edd6fc8b74c141d99ffd7b988f59349c",
            "9cae9549868c4aefa17b98131bbfcf61",
            "f273351d80e549c7ab4daa768e9a4f72",
            "157dfbbba6b443df8bf374dd2c6287c2",
            "c2fc31148ef74e0280a3676a596a9869",
            "6540aed3ae2243e99a355fa24ccaa88a",
            "437caa4ccb5646d99d6b3e8f8c8446e0",
            "bcb68173e8bb41e69cfdcaaf5f8fef68",
            "6bdc4ce743c7487990a3c69281eb8f7a",
            "8b533a68781e4e80a2e8fcba3840f653",
            "a3302c77e41946fea42c6ba8f806d955",
            "c40f41205c3c4544a408089da2433fe5",
            "39bd925a58714396814e36449820a0c6",
            "a7cfbfefca994ec6b8d578c9a19e7d53",
            "fb15a102fdea4fa69f9fc14bd8a6370f",
            "1f0b2862e94a4a73a2288583eafaec06",
            "7b52e468ccbf47b98a9521d824c2f98c",
            "a12141fe1e80443a97db427e2190e1b2",
            "7102fbe8ada54eeb81baf2a9033ffd6b",
            "414bac9ce6454a83b31d7f1fc15381d7",
            "2b5e0c3490374030a8d63145b178721b",
            "2cf09631c4da42d5b619f6338d1f0fa7",
            "b42278ffff154b9e88ce17e6c4ab75df",
            "eaa5d9ddc88540fe9aeb9f3e3a351e61",
            "3d16c9650ab64efbbfcf3c2b0352d021",
            "e7b8a5e229c347d8a11e0443d1c0cd7b",
            "8add5a7e19654dc4a8ca108ccdc95c33",
            "93ade3f6d4ae40f290e59e515c194041",
            "99a5db4f83c645e5997e32c417fb5f03",
            "52b7d560e0ab44a49295b79685beceda",
            "706b781001d0445f99b4f3182ddd3f6f",
            "0e58c6c968df45ae9dae73233cbce61c",
            "648dddc5321c4fe5a9a9cef5dcf7cccf",
            "e6a8d73dc15f430a87d8fd45f4f7eecb",
            "71616ec55df3434f98238b5171bef6bb",
            "fd5698f9a42e4be49a4cb37a0f31b710",
            "7b28c08d2d3b41fe875a2e9548e1ea36",
            "33fce20a24344439890fd53cc72b3cba",
            "eb62e6389a0d4fd5bda504153b6782d7",
            "588e4dfb94f14c409736f065904b32da",
            "3649877db3b34c11ab02fac216c76f50",
            "9d552f5eca90491db989e631f9c7367a",
            "e92a11a296b941339c97758df9c84918",
            "b01b8403d61d4828b8c883eb53cd7f14",
            "949823687ad0470f8cace068b30d5f5d",
            "b3469387b1f448efaf0a0cec9c213bc9",
            "60d2ef89a5de4b5597a92493f1ce341e",
            "45654bf45d5c4007922bfe1ac4390ada",
            "00f79e5bb722420cbbda59c81dc152ca",
            "8beaaec50747443ebde37f3e43b43544",
            "38e833f2da854014b5861e1599bec4e4",
            "a7413cb113ce453185e837d402d7098a",
            "743af195b4074af88be7d1aa5c9e9d57",
            "0a2fd43f2c4a4852a3d521a5c7d7ab7e",
            "9a6657b3bf0e4eb9b99670075b9910bc",
            "7e5b6c94d9224256bc0b3933665bd75d",
            "e80a5315ab2e487d957bb13ce98ef76b",
            "4099aeb510084480886d1d8708fb803a",
            "ea100f744c3d425eb5efd084882bb16f",
            "1da3746d5f5243f8bce7a54b0169dd52",
            "6df0721d42024bd089066d73b0041e67",
            "23e1fce0f35940d1bfd6549e11bc1abc",
            "68d40bec7c8b4e53becb0f3ce81058bd",
            "eef2a923ae7a4c129e65f20413f22a0d",
            "63ef38d9fe704df0abcbd1ec3baee391",
            "a4cf68a4894743558593b4539c13c40e",
            "f1cf8c5e235e42dfb26f2e457e3df026",
            "0955ecba53a648138c21e202b7d6ef9e",
            "0e6e9d9148ec4957addf9fd95b35ff51",
            "39d692a2e7a645bba00ee67e2bb29116",
            "af3cb48f76274c1880d593ab3649a7b8",
            "e5a33461fd5b4043858fdb4e500c9d83",
            "4ef55a0fb59f4df4b37fe7d5712a93d2",
            "263337b3707b40c6b4c5035943c9d377",
            "70a8fb477d2241c4aef64be602018d6c",
            "3b934dda271c45548874530e6d36b6a3",
            "5d45f06b95664a6aab947df0a7519581",
            "c4f59e395afe49a9851a46af7d7065ce",
            "bd30130b5a414b46a753015fa1ca06d6",
            "3b15f0c31b694aa4b3370e60af179c79",
            "b6d372f5ad90412d993fc14c1409f3bd",
            "6bfc66d72f204b7f8b6f282d2024358c",
            "46f9ec71b6724f42bfff6b2143b506bf",
            "a4e38f8c2fea4a0cb88963bb2d7a9db3",
            "25a9e753496e40b18682cef473ebaf8a",
            "63ca99e2f4e74cc4a7bdc3e57083f9cd",
            "73636c08e01f4f41a3bb35a2a7318c3b",
            "8e58df3290694a8c95633f8736e15826",
            "b3b72884109b4cbb851cab682bd5e61c",
            "f2c14d15fe43499f90c903660aa0cf89",
            "6a7f46409609440a807d972b4b964b4a",
            "faec25aeb5064a8788da9362f7e8d74d",
            "5aed586998ac41fabf4e8473cf7d65a6",
            "04177be7c60a4ba68b6bd6358ddfa6e3",
            "9b97c21ac3174c928e9490d0e56a272d",
            "ecb294875ca64faba45dfc519e66b6da",
            "18e6be5d69674bcebf47d45522267085",
            "ea09f853184f415cba17fd35e8e24edd",
            "c8841baaf128436aace13ba0439d67a7",
            "f3878d3dcf5941e1acb59bec2c13527b",
            "5719f52e026847818ffac22a5102899e",
            "3131da6c613248d688372b91fe2548c5",
            "acbb0bc323814e9695a0d237a830ad29",
            "aa83899827e04515a169357511d94438",
            "c2efe508299c479e9e20c1c138de2720",
            "d3d94af5930d49debd8293b85cf1568e",
            "5ced20f9922844db98aa6e2eb8395d38",
            "4c22027a2b7e49f78aec58244c49eaed",
            "f44bd7e951f84138ad8cf66ebcfc3776",
            "2b1350c985114086b913c179e16b7e3b",
            "a60a76ebad4641aca2efb97e170c2da2",
            "0c3a1c000ad540f28ece97356fa2c926",
            "ff7659cb729c4bedbbcc77bc7c59fe29",
            "b8b5ee546f1e44aba463680eb23f3a62",
            "32a39487ce594d0d9a558adfc9354145",
            "34032e14c3154d658c60abcbe7dcc7ef",
            "1d569d0e495f48af996280f2fe083962",
            "29bb2819bb71428e8cd82f457dd5dc7a",
            "8f4177b4ecdd40fc96b1cca384d7cbfd",
            "81ad35b4a02c4e38912a89648b6a3da8",
            "d3327b7689384911b556d56992f2089b",
            "8758f790dfb94421b79aa1f432439de9",
            "2cf1fce50091467e92a128660fbb5db1",
            "626a821b07ea41b99cf185474cd86f44",
            "7ce88ae8209042edbd505087143ff514",
            "4d43eab98c8445a6a0dadf3ef9a05d61",
            "1d4ce3d66a0641f58c1cd1fcdf7bb66a",
            "419f22b76dee4b02b0ebd4ae091115e6",
            "c16b558aff184656a51735eacad1fd59",
            "c4befb12d1734d13b615e91f4ea60ba4",
            "32947d400aa64d4c8ee0a8b09c7cd508",
            "97b422ec62744f3884d64420133d8693",
            "870fbddea16443a1b344cde723c082c7",
            "4ff88692896b4745a6ca1fcd45afd4b3",
            "d9d09d8e3dd146ea9629ea743a655c32",
            "81b46d379aa94e16aaf759c9a57966dd",
            "ff7c3b4c160d4602a5ed8c57fd4a8dcd",
            "253234b7a88b47848fd496e9aef83cf5",
            "3d30b868ba8b4f699452dcc2df67ca24",
            "183f7300820e468e9687b6c1725b5028",
            "40eb76e0255a416e8fb0cc114b24a45a",
            "127b6bf2353b4d3d87f67279084eb601",
            "6388e8d3126d488b9eb87d0806422578",
            "71a4efd4fd5d4a248dc81b8310dad776",
            "a0a1bce0049c40338b1bc53f626e4e7f",
            "ac1a8346713247dfac2cb380a38e3155",
            "6925f3b16fe64f8d8cffd0a9bad73f5e",
            "d24e7b0ec19a47d79c7630bf4dc25256",
            "bdcc2b08efed4e609fb39568c6035b1e",
            "72167c257e8a46b9b8fb859207318c65",
            "0725e88a7429485e951570d03c685ae2",
            "382c640ed8514db38f9b63f8f3bb1114",
            "6b2148a7eb2148c38deffb7aa635623c",
            "06a5c9bc2cb84a34b27deb14ba2ce8d1",
            "ef264ba038684679ba58a4f80127278f",
            "15d653c2025747b081b81568ac26cdf4",
            "dd2e31969ea44438992411743b7b04e9",
            "7205405b073b4a3dba49f917253a401a",
            "95665cb5cb36402c82a44df56a4570aa",
            "4feb4a05a0b34774bc12a04c8684bc23",
            "ef777236d60549c0a6a465c20315d2ba",
            "5d43e4db4213430198d8b808e1523db0",
            "7d313a4d13e940bf850aa2839781b701",
            "9c2e76df97d543a49e44506eb11dda80",
            "ae7928e53b924dbc919c6aacc62e2c68",
            "53939f67f8dd451c859de3a54b412bb8",
            "1fd843e429fa48e2b171718f00bfada6",
            "334583dade7f41a485f7bd2087036307",
            "403420d56f17402d9ddd0b23e0290bab",
            "f15107b044d8478da38052b11b23ccf6",
            "df793bc5d3a14be88ea42f57e945d84f",
            "7ef06685adaf4bacafc1f07edcd5c568",
            "65102f69d3304c98bbefcb4205e47e3b",
            "ff147b38ea3448e78d41163b21464ffa",
            "66a110cdfe8945bdb4178d6b2411fcdd",
            "43a64ec613034870b31d9068a8823e8f",
            "3a1c7df06cfc4d0db9ffe1b709fff18e",
            "efeeb584c328482c8585f7fa507e801a",
            "06949a4ca38f4c029e910b50cbccd1c8",
            "fb40d40d192647de9a77bda41707ab52",
            "99d909a9f10c486c8e9851b4ac9c3b9e",
            "0848ea665a5d4ec8a32d8378e6b53465",
            "c66b2dab12d747d996495d9787ea21bd",
            "c44d97a6610d42e286c2c190daf39194",
            "1006bcb2b16e41f2badbac1a51bb83b7",
            "d88885f798234a959aa11f1f276d07a4",
            "0a9223487ede4aa1bbbbf058f6632c8b",
            "e7f737a47cdd4a799d377631d5523af4",
            "99c520fefad54cbe99c2acddc4461da0",
            "12a2654245874a3a896777bbd6182af1",
            "065ef98b6d364227a0ef99c7192276a9",
            "6b5191fdf1e84b8fbbf64c07492f0556",
            "81751b317cc04aab921748212faa6df6",
            "f94eaf7decb6458a864c44d5daa4f621",
            "84975bbb56174894bc88231a14ff07c1",
            "7261bd6f5c024490b2032418c00858a5",
            "64a8fb706528498e935e1e8bb44877ea",
            "31b768ff374942d797b685a083756c14",
            "36f731346e86404ba8701d0e222d0869",
            "b2f5ad757aad43abbb01a41d1af48ba6",
            "b2bd639f9a9047ecbe4696c4a47d9360",
            "3a330e2d7af049b2a01cdf1b5d70bacf",
            "7db97674f1014a499be228efe8c72938",
            "6eeee0c8f4a7446884a12de5a082ca57",
            "f988c75ccf74485790e76be4f7a389ac",
            "abf38c24d24d4312ac0e709d985e51b6",
            "87dfa2c6cc2f49eb80e8a482c0275b5f",
            "7abee8cbc9824a5195afac7e69a19226",
            "6f283408f5f741b795efbaa2477a8d80",
            "020d3d366f924b6a95d9ed1a2a395522",
            "bec3bf04c333464ba4d515956f28584f",
            "3dd8f8d67df64fa3beac2c85cc5ffe46",
            "596dd5eae08e4e4780130df1a76ac522",
            "97996c5fbd294881b8106a8b457922e5",
            "d79b36c2a84f4c1e987f1e8f009078ef",
            "d0f96eab667247999a9059ac99952027",
            "bb7d1934f06649f7bb702b5569774e7c",
            "2937d5096fe44d618ef76955e2d79c68",
            "9bbb0c71926d4b7ebed311f37006c820",
            "1c2a39a18aae4a2db6b225b6f29d32b0",
            "0eb1bbb3a3fb454a9cb0cdbcc2996f14",
            "d0958c4c0df64eaa8d0e265385027f60",
            "95cc6fea0ce74216b57df1e8927bd5b4",
            "4a2952e413db46eaba15d742580df329",
            "657d5f949a3b4fcab38125ecbb9adc04",
            "6d771511580149d28eaefa49dfd24d17",
            "93464675d40c4fed9829f1802e744493",
            "d8af62db79104803bbd9a0975bf9b03d",
            "c1559dfb875e425fac0259ec28c0e625",
            "0f5415a94a4644099168858906ee3f72",
            "9e06ff785f644ee9a0718636a00474aa",
            "3c24033323544d049244d868c6ea0f82",
            "3eaf163e8bd14d4dbfb4be11c93f2c89",
            "492bcdd7626e429eac20f810b24fc1e9",
            "eb39ab1b960d4f5b917fbee4429532d3",
            "222110920c5640c69163789d7aa71b0e",
            "cd29c21e6e00498b8d4fc6a695bcd01b",
            "ad941933e32743ddbc669584bd65089b",
            "a2fdc59ec25a40a1afb53186a6866f83",
            "7daff567b28346f7845f9b78ceb4008e",
            "f558b373768e476580a34ff53a6545ec",
            "b8f8eb71cab84cc6a1ddc54fe8205f4f",
            "6a82523b6d654905b9471add1b516e98",
            "a482292de45a464bb6533ab18c261575",
            "b15576843fca45038d78d2dac85f9e61",
            "e68af664b0574942a91bae5791239420",
            "87c8be1b998d4fe985330d41580fbc3e",
            "b0f5612bfce649a9a69cfad266576e2b",
            "1e026b53eeab48acbee54d3cd222b8f6",
            "5062ac745ac2496c91544bbffad55287",
            "51a96aad49314416b3042d4f714d70fb",
            "66088d1d34ac4dc98df218078403f0cb",
            "62740e9b2c2a40a7931143f90df0c7e4",
            "f43c8943df8b459099d4c829e572b85f",
            "31194d5d5d4f4b32a2352b01ea33e15f",
            "66923efb005344e4b23f85f739b8e8af",
            "6edff79a1fb14572ae2f0453da440c8c",
            "53da46f51b834f72b2a6e9bcdb692f32",
            "37b1944c810641b5aa748e914defe1b0",
            "028735353ca948cca54e4bd8ebd6c7d6",
            "2b467215147a4ea6b6bb315984ed7f50",
            "fad9ff4424ea448a94a8e8a28bb9873c",
            "f8dff41fd6cb443d99a4220d093a7938",
            "8318c90f6f224954bd4587c953d56b32",
            "85b00d9313224a289a9ce79349a2ae2a",
            "ecdf5d8c03124ced91f1b2ce8ff8ac10",
            "222ccc66bf064240b174bd89a8ab36d5",
            "93bcff9293aa490d8338be8ddcf3c4d3",
            "f90d49f5d89a461ca6623423a6f8ffeb",
            "7730347372044427a6c7b5a3ac9bee81",
            "e045ba660a6743c48c5fd6f597f43b95",
            "7f652d3876cc4ffca5460028fa4dc71a",
            "3b728b73b3aa4ff1ad465ebfc9cd4127",
            "0d7d7af000ad4d8485c8f8fc97019d57",
            "60fea7d8b2a54a60b8601074b53f59ba",
            "bd7f764a972146689798d4217b116d01",
            "934a8a5dc0ed44d4972d116adbfc51ee",
            "c16b00df651a4aefb5fc567c7fd89062",
            "f44b6a4288d94f1ba8689a06994d4c3a",
            "9c3032d94b004c36a421e9704a347863",
            "0f40b7877d2843e3b59fc5a2fa125e33",
            "175b5835141f468ba1b4a32337e2fef2",
            "eb3e61f81f8a4c01994d184324f9d2ec",
            "eb23a4f80e234dca8dccd21f91f6d298",
            "822f8ea7f425453fab61a93c1c61312b",
            "246d0702070f4700a58b49a69f8e34e9",
            "1ddf6f78275a417fabf52750a19a2b22",
            "052cce173d9c42298459600411de03e5",
            "21c4e32ca93d40f0ac67f4af851e69e1",
            "31726f04c829472aac49298fb7d67ff1",
            "05229733211e4f28b2ff1a77887bc63c",
            "d5c4adb3502a4749880b22d950c5706d",
            "b29ae3bf369643e2a3f37ba555af09e6",
            "c0df044e18884d12b0ad1ff9745fc84b",
            "9d34ed06fa4440a787edc2f5cfd53a5a",
            "db3e041bd9f04ba4a2d8d357fa6164aa",
            "16bdc8605eef4a9fac9ca1ffa1dc2634",
            "6d5d4de63b93487c9010446ff87a646a",
            "0a5fa30382da4fe086b62341a5e5e998",
            "70c4764285674ca5a9d15a4705bee7fa",
            "12cc8326c43841719a9eed40e7174997",
            "37982df6385c4d0a8f14c5a3205ebd78",
            "7956267b797b4e3dbca9a1c0dfa9da70",
            "26d8591487624587ab1a4c6b9ed2d303",
            "766f945d2bbd41dab396932e09c32199",
            "1de3d5e47ee948a6b32c6e9e48bee87a",
            "6ff7be9faf87453bb19ff84f89d6876b",
            "520dca48c0584b78bda44f29dc03902e",
            "c300dd74a70d467981884ffa1b3affd0",
            "7bf04e0d33d44818b7ad13fb8d7f3600",
            "76af688759c647f9805a2d465bbabd9c",
            "2abada8ec2a845be9d181440edee3913",
            "2c06d93b62c546a6a784f74bd70a5b70",
            "e9ffd878de93446e94cc48cceb47af33",
            "2ac5dd31a732434c866f4b518ade5e8a",
            "2ad2aa8a696842a58f791d43a315ecdd",
            "2adc4b1d7cd94a37b3bba9203ad44978",
            "a62131cf59794635be4132af3d96a32e",
            "ee75c4266aad4a65b11f4c52cd82e8c6",
            "b560e4b6977247e0b15e7a04519d6276",
            "dda79d06f65b481aa73423b0f1fbae82",
            "8aa9baab012a4e65b31b32152ab5f0e8",
            "5b1e1eb59ac742759edb0b4885191aef",
            "3029f4e35d704087afdd2917d000895b",
            "592c93fdedf74535be217416c280d88b",
            "96015e983d2646e38699731b12e55db1",
            "5033d35c29dd4570927c61cc8cfbd0c2",
            "fa9fb55cdeb644ac8b46972c06631cfa",
            "4cdd3199bd8043189e1ce0b09f37efed",
            "5b6acf03bca9487690925f78c8fcad98",
            "cdc237f574064c958cfde0fb6caf96a8",
            "031acee3099a466186bf4456dd06ac09",
            "64f7312a45c043b4a94e2fee92934d35",
            "43a34d5981f74ee8bba21842b3175c77",
            "94cca6da243b412d8a1b041c148a9560",
            "947b2619d27e468194a406926ed43195",
            "a9149e21a98d4b35a2b27c3a2c0e29ee",
            "1d8ccd3d111441db87695ed4c949402f",
            "3128b75dd1364151a6b2ad6921722cc3",
            "ab827ae63c7a4c2c858220403c3400d3",
            "ce8b95a0e4704f929cdedd8eeec9f67e",
            "ee130f7773cb4fe3a5bd8ab4d2387578",
            "a8ddc5be41ed4d73967b0eeb41df7f81",
            "4772a685d3ea4f34895702df2a0e1e87",
            "9a68644d6bb64632a753bf9d17874758",
            "6077569c11684eeda0586cf6bca1cc92",
            "3e31f291a434437aa85c4267016730a2",
            "0d62f7e6de124a049bf5fbed55972795",
            "ee45046305714a8c83d6e12aec698b65",
            "4fb241366acf4089a2fbff477654966b",
            "487154995271443a94947d77082ae1d2",
            "2d9c0d25d7ba4624aa56f3a79497309f",
            "d689b4cafe574225b3cde69ad6057dca",
            "53d94984fa2a44f78a10603120bc5b49",
            "a6140769b6b8489bb076357945764d36",
            "ef796009eb0340eb89807bb32fc2583b",
            "39791fc993864a76a15cfae4fce37c21",
            "492f9104492a4de7966ba3a88235cd96",
            "1873c815f88f4511b2dc7c85c2271e37",
            "2cb85c33181542cea2d97fa1ad76bea1",
            "45b40c273bef46a39c5dc07e3c93e4eb",
            "2a30b8bbd86f4dd5ad0426a2be66c8e6",
            "b172e5865df24537aa85377c9e63e35d",
            "48130ebdf8dd4cb79ba4d478bae8dedd",
            "a1997d5188e24d5f8e8d5f382ee6309d",
            "ac1d6474d1024a5792f87c6e79e8e522",
            "0b259d0b1c9140b5ac53fd0418d5b4ee",
            "2327700903964bd5ae69a116a1c78c29",
            "6f385dd57c82491e827c093ba58057f7",
            "a018957e2d3047a7be2a63ec849d4294",
            "074b3aa371334bdf85cc4c176af7fb40",
            "bbaa4e4524d84c53a9486f2bace9398e",
            "8edbebcd3b4d45678c23f96a7b35de2b",
            "898b4334a5734a30adc7273eb6fdee9c",
            "3c397386b0474b80ae8ffbb7a6e0331b",
            "6dcc037a31d844b1b60761968a663269",
            "8fbce8cc8e3e47469215554eddb1d874",
            "86441dce4e0041b2a3a7ce581b7f2bd2",
            "a94754a278424835a81711723bb0f527",
            "fa01baaabf834f11a9923b18b5085470",
            "310e90647a2e4b65aa10bf92e5611bec",
            "fa3f958c3e4944d4adad4be1aadd244a",
            "164ac749e60442648eb5157e96b4424e",
            "20c78b8b555347f0a66a288e7a74ef41",
            "780fae9fc4914946864bc88461d06d18",
            "3d6f4296a31941b799c35838d1e413e7",
            "0e92da9447ba4146af702b8dbe2fdc28",
            "dfe3d4ae73eb440d818c29210b5f8dc7",
            "d866d2807f6c4690b5f7564a7b8a3102",
            "ef9d3776b0cd41a4bb28b8274bf28e9d",
            "149fe2b42d7b429c93b974bde27399e7",
            "e996f1d09c5843dfb8de361b90a162aa",
            "70da85913f8d451b8f0fcee90eb1d659",
            "0c13a7d187714512ae39bd558802d66c",
            "7e4ea0c9339b4d0ab92a017ad06462f7",
            "4009b67ecbbe44a08b29760bbc14809e",
            "bfb01c90ff5749d1a5f409f9877b2f64",
            "b1892f7213ee4e15a806a2dec2293fcf",
            "af23890e147e441f96d09ef36e33ddad",
            "fcbf6d0ad0a9461e82bef9262c76faeb",
            "c5ff9f0c0fde4136b608a74cba946a32",
            "20053d8ad7274eb6b37dd6f08cf89a4c",
            "0449e0d778a946f197d315123036db21",
            "ab56f4f76eda4fbb9df756ff1762667c",
            "e348f47f71564495ac37c68e30a2c70a",
            "602f6e933dbf45c99e2aab519a831f46",
            "d4b38e9b9ab440de88d3e9807a435d11",
            "add70452af4945858fd881c88e291038",
            "d2004864045d458ebe64aab24a9f6ea4",
            "13be607ecc314d24b6ac3a5a3f3d715d",
            "79498e9b688146afbdee3411a1308b4e",
            "454d83406f4d41aeaf3faa796138fde0",
            "969db3cd2e654be081db37512ee518a1",
            "3013fce85f68432297285500e915a006",
            "b5f8660c0e294ef08646c73e47ed2bf8",
            "c028251b9e3a4e7eb268166054b4cac9",
            "8e7db3bf506847d585bb1a78e5d36b95",
            "1d25ee87ef4b4390b0c9be610c4d0b65",
            "4311114c9e9448a0b62a853e66905804",
            "edf3cacb48dd452cadcc99af318660f1",
            "3f1bf91f91454125b13162eb36ff9097",
            "4dea66ec4f634e0ab24508c3601f0840",
            "16d4615ec8424258b8a2994916964082",
            "38a75a97250c46e3babc29212ba1e091",
            "22ef268f10b54ad6a301896d2dd1f8ff",
            "420d42825b6c4ece9a9450967b79257f",
            "73286f5d7d784fc691d2ea201cd61527",
            "c115e8c76c2a468eb39742a29ae5c4cc",
            "6f75f66b4b11479dac031f3670f1ac52",
            "90f77407096d47c8b769fd7a4fd9873d",
            "2cf58ff733e34ca9b1b5cde98015c5b6",
            "dbde9f7fa0f548eeafad871379229c82",
            "99bd36da5e3f40c78cbee0de4447ce24",
            "1041aa48e7714571979b5237131a72b4",
            "73b4b8f7595a4a1285b9c385ee8d143b",
            "b1d7b7c9e35b45fe9c8480472a590c8a",
            "604129e257ec4e5b8827c489bd1fe7c1",
            "eea27efcc53a479b9ca7d4c5bca69c77",
            "10a0a01f7070457082b243f6bc6e6c70",
            "58967671c796458eb876001eec43be32",
            "292d361413d34884856d3c27c71c4c17",
            "d903e1aa77b446d998e71131b38e71bd",
            "82b2793e18e941b98c8575d747dbcc72",
            "4713aa286e8b47c4bbf9295be523db21",
            "fc2756106606403ba59af17ccde5d502",
            "54529903a6524b4d9fae05557509fa5d",
            "5eb7a4456f3841e6b874cffc666358b9",
            "2969f8128e6e4415b1552e342607c03d",
            "01b91623696e48b0bb087ffc386042d7",
            "797aa28c41374c529537c372cde5e2d9",
            "c4e906eeb49c4f77b74d4db57a58bdab",
            "f746f5ae84c248648b652b488a056a31",
            "d1fb0dc4389e401f82ce8c1f39121f83",
            "6140c810291a4180a58722e19d44feec",
            "d41100b91a014b70a06066fc20d45f23",
            "1b5c728f9aa84676b5d7d43536241292",
            "045c1a50b8e14965b8a55009960faa8f",
            "c9c6b242a94f4e6d9ecaf17eba0ce179",
            "965e3b41220949c680fee1bcb9324575",
            "8b59c45dd71f4363b0c85452d45f3343",
            "4e01d192ff234662813d6777d327a4d4",
            "e1d5f6a9fa9048d0ac0606239381479c",
            "d4045cd701c945c79d2bf00628a926f6",
            "9ab64308401144d0a9270e105d0bce64",
            "4f8bc32b12794587acf361ab7f193b76",
            "87c20d0efb32414992c623358eba4be4",
            "8e3c00fb784f47d9960228809d35c31d",
            "610d9a1926144c558f5a426b7f338b0f",
            "5a237a645c4e4af6b52f1e99645fe993",
            "d992156311ec4cc39e83ab1c367e1c16",
            "3d1cca8dfa984a8a90ec339fe49eecbc",
            "3d3e3bd8b6c2415b9fad8b22c8ec8a02",
            "8b6a71d3ccf34742913a899ab1413c08",
            "3dc3e5bc7f9f4ff3ac91d27c94afdff5",
            "d09ddc6f388d4e8c9d83e80cba008030",
            "5ab92ad4eed04986b42b65df1955e9ac",
            "5c805b4f304a41a79b20eb4efea43a2f",
            "8eae0db7b44a416da6046e6d8c406b93",
            "0564591b60af4a2d81d00f11b5700073",
            "213bdf2e6df948119a36e727de8c40d1",
            "6e163b6b1eb846b1af06454a95a1add0",
            "5cf1aa2ddc214ad68af282b417b61cbe",
            "b5227d067f814082b167c1f8d491c6fe",
            "c7a20fc99fb8498bbacbc7fd2032412c",
            "724bb4e0596d4a8b9deefe7f2474d2bd",
            "f92615a060e94be69dd8d6911d1c6fb4",
            "b6c6aced91374db0bdbb721548200d96",
            "6671d83eb17546d1914bd91d96cb0ba3",
            "34acee4072644a83beafeb65cb057417",
            "c779bd089a0a48d4bed1a18ccc7b7a00",
            "79ab0fd113e7490c8df62396e7279378",
            "f4ab93c85f294cdc97887e9f2bcdaefc",
            "fe8f15c01bd649b59f29471011c21b86",
            "845aaf5b729a44efb2a51b609c8fffc0",
            "e43d229d93ee4205963c6b9d07307d68",
            "9c0f8e43bd324f5d9014101c49e5bcf2",
            "9db3699037364d00ba5f29c2a3e2328e",
            "a50f292c2df5477aa81bbb2e5aec0f76",
            "8d8b4150ba5442e1adfe7bd0a29c6980",
            "9adb8499a5704db7af30860d7e05988d",
            "1d5245d6c679415da08cafcd135316a0",
            "254fd996ded04c9f8aa28abedd7b0ec4",
            "46e3bb51426e4f0fa55dc518ea2277dd",
            "e5d61693ae9742dfab25a48dccb1e365",
            "4c291a0970eb48d3b43f563d0b16eeb5",
            "578d8b71c5c743eea820e2ef043b622f",
            "fd0bda67d91146858056c08b33db6e85",
            "bd814e2011034a47ba4b055a54958a0d",
            "1ecc3f9a25d54a8eaecbdb12ce30a2ab",
            "8cf77f48d0d046b2a70290c69d1e8715",
            "cf23e5a25c2143d486a94ab19a9b9ccd",
            "c7fd25c028f34ba7bee895d4cf7f577a",
            "1f23a0774ea141e8a76f3c7a371ba901",
            "312f06b23cf74eb4bfffca3511b8fb1c",
            "c23d03c6a2954021b45d479273cb881a",
            "363e8a3657844fc182c29858bf177b7f",
            "f671fd500e0c45dcb09f5e3ef554343d",
            "e065bf0ad65340fdbc0c9e5392fe7cbf",
            "7ad12d02735042eca2aa30cac183deb7",
            "2bf83d02922e44ee9dc061bb752bd83a",
            "25929e36d0f44f7eb4cc0702d26b4258",
            "984fe73326f443b286c9330c4e1b9da1",
            "9a5ee4cd6b4b40078913a37826869a02",
            "9d69232a04d44b5ab4f92f7bc787289e",
            "d589ff89238f4de9b8e53c70eb22d897",
            "a33215e5221d4ddd84c56734b1752b53",
            "534007db5b9a4bb9ab08392c85d4bd87",
            "b2336e6cc0994a8294f7d1e5aa281026",
            "14bd46a33f1f45a7a17b6003c2a0eee7",
            "83620a471a5a4360879505ae7ee49973",
            "6412b8f8feef49689cffe4a2106c5099",
            "9a8810a31a2541919ed0dfcf792e82e1",
            "d7890fcda6e846dda6109013b5145566",
            "79969dd4395e46af94c7b2cdc7e3b706",
            "616440d0f85746278cac60ec6b527501",
            "feb0feb38ca744be8a5afffca55db1a2",
            "98d727661b23481cb3856031f1bf41b9",
            "f8fa4b3a477b4b279f708bcbc5d9afd7",
            "d316ac2ca3944dffa4abaee66ee068e4",
            "07e12bb7659948ebb3c23be9861fb01b",
            "a7efbf360da54ae59a52017123e8c1dd",
            "afa0bc8d3db24fba8c8b2539eef8f9bd",
            "04f9cd30cb0a496b863d8a71fd39605d",
            "3814beb904754d2789fe79aa89dcedf4",
            "7008394ad98145beb9815bc635b83a24",
            "e171d00605124efda64a540771d18882",
            "63ea84c2a88949efa9676551857c0a4a",
            "dbbdaacb5d6f4778aaf38ae0263d46fe",
            "bea5163df2114b3c99de254e9aa7969e",
            "135f665a45744dd5ab4e98b6be293dcb",
            "fc78712b5a4e4c508235bca84f342e70",
            "2340feec5d464eeeac7d7521ad58ce18",
            "bdcf8a4932634658ab5f6f09852efc9c",
            "eed6f8a4dc4840b194817367ba91a281",
            "f2f19683f64743b7b966ba47bc061185",
            "bbb749b449204c56996c559c9327a202",
            "07d3448c102f4867a5bde5d732a9b0b1",
            "4e064e860f464cbb9ba52a3a1963eb14",
            "4fb5ca2edd144c7f8e6bb07a5c021c44",
            "6364cab2fd864629bf7cd6f09b8448e0",
            "37916eed182e42ad88f209b9a688a7e6",
            "d4975a45f0984cf087d5ff84699a3b00",
            "fef8980d69324e32baf044c25c05c3ca",
            "64fd435d15a14defad7dcb8860a8daff",
            "64e99a6fac914f0fb4ad1c8336260110",
            "feacd8b3f60b4c878aee86a6261ef703",
            "546b3eeaacbe473d9d5de8c50dada2f7",
            "2104ac00c5ff438a81707d3c97f525e6",
            "1f63af0fc63c4aaa93ab08d6ee284bcc",
            "f29d4ded09574e80a638b1a815f02a28",
            "7ac2b863794c475dad68d72f989453f4",
            "59f4361cac414cc9bffc60eaff10f490",
            "984b4a4673d84b3e8f5d73bb2784cb68",
            "697d4ca0a64249efb9f0dc35077d63f4",
            "91fd72e322f744e581b6e5cf29b4d1ed",
            "7387c07717f1421ab205f5c01e52220a",
            "cb08bb27b8014926af06fcc2f0bccc93",
            "8f35ae69afd44e239e74a5202696eb09",
            "afe93ebd317f408092114394b88359f8",
            "e047c25405d543a3a2ff98743a1f9716",
            "002793f4aca0475497bf516dde9472e1",
            "b744e4773d3240d99ae472f997fff818",
            "9f2be1ef6194424e83470cb956ba3a86",
            "0ff9a1875bb7415f9b2426223fb1da55",
            "f21586502bd644f4b4dc1423b5540208",
            "2c24837c80eb4aef88427f83d725b6b3",
            "53caae5544e449eca746a964efea843f",
            "9a2cc1aa26cd4b0daa1792c589b97abf",
            "06c9ea89641b49bca65c1f4c9fda50a2",
            "81598c22f1d54ce2b73c17dce484d095",
            "1fef7a3a585541df9d365f07edc33ad0",
            "a9314969926b435a8447b13bd0ce4fdb",
            "d5e4ac9d68da4ea1a47f60ddc0b7d255",
            "ef70a9cb4fb542cabafb09b3b8f80a31",
            "c8bcfee3d4864dbfb3ef0c501822d93d",
            "773f59e5f0c441a2af0e45b347e09e69",
            "a725076793064cefbb62b8be0e1a0c41",
            "43a8cd661f8442a6a0b1f8d01bc4e845",
            "db6aa2383ccc4c32be25a6a1f784913a",
            "6629d84daa284c12b53d44471f034802",
            "b0d5eb37a2c24d479c1c9d9d61c12b83",
            "dc3d27b1a4124c048ed291f792bff4ee",
            "627f32955fba4cb297797b98c475be1b",
            "b0f8fa805c6345dda6cea301ac5d4614",
            "3b4a2b73d33f4df7a2ce308a413667f5",
            "cc52a70d8db04760b2b95590c3d92aac",
            "f0fda35d609541c791ae8d9b26fcc11a",
            "a91bb5b1cb054a1f9b913912664ff54c",
            "b3ed69867b3442b4a1019695a3cfbd1e",
            "6c9fe8a731604708b08772b485b63c94",
            "159ee11b9ba141d1a306ccfa74627b9d",
            "48a09ef15fff4a8b857812905d8c21a6",
            "021c61dbbfaa4c8bb6db718655a0bcf7",
            "40f4783eb50a44dfa08b936dd672e461",
            "1c805c7dbbe748688647a69aa4f04562",
            "c3f717b94c7242caa7bbb726e5f07123",
            "882c205bdf52472ab9fff333ea03e118",
            "02c6a653a0dd44339bdbb289a519d8aa",
            "76708b73a3cd46679e4e3c17132e62a7",
            "c12861005be041acac8bc67c41ee523b",
            "8121ca1960fb4584899705e4550a38df",
            "c3db6b54e1fc41698a120736fc8c4d22",
            "c6ddd8895340473794dfe9bb35afccfe",
            "4eb7d9059dcd4ed1b858098458b25bc7",
            "635295c1d87d461b85b2818989f09f75",
            "572354a909cc4b0fa7ab343553d50a96",
            "e1e76bfd66624d668f7e2ac5ea4c2650",
            "d0940068ba194c92b5baeadf7961657e",
            "20f0383e35c644ee9bbe8fb356728bed",
            "248b3ea8daf64f98b96ab0d464a7dc2d",
            "79d86d287bbe454b99ee6c46330b9544",
            "363a3bc332ad4ebe935044b3d5c5715a",
            "207941b3306343848c627bf3b754d28a",
            "f44fc2543c804fa3b6bcf2b718275fc4",
            "2e18b6d33b904fe893f7035750f20e00",
            "7e672b7ba8474633a51e7d79b5c4feff",
            "29bf58c82afd4ef98ea68b6917c9ca96",
            "759bd26742f64b1684046c9e0925fbb9",
            "440387427f5e4193a89074f03cf32935",
            "cc34ff76c6954223a0330086b6013fd1",
            "97f9acc76de34aa089758bad0954d08f",
            "fb0aa29d8bfb42ca9161844a2a37c58b",
            "7792e89ea33b40048cfd42ad7be178fa",
            "e83119ecd9874b3b90f6a5c6c9234db7",
            "d8bee816ba6f4670b4f7a15c62151e0a",
            "e4add9d989ab4f2da7b779e7c55cf932",
            "1905ef555ee64727b8569b631e51c8ee",
            "ba938b473e5147ec81787bb88f4c9a63",
            "08d800fc2fb9448d8cf817fe4bf5e3ad",
            "38f2d992845b4b0ebeb9663fad28cd2c",
            "4ffa3f32134b47ed9ee5aec36e7d8986",
            "9da4f05931904173b40e3058a8cfbafa",
            "a460b3b5691c41a28418f7a7ee030d4f",
            "338c91f26945428987f8b184e485a637",
            "b1711e9402eb4d71961b2898e8a3b91d",
            "12546468f97140c69d54f68d15aa0bc7",
            "dacbcc6c2d2544e28065e135805400a1",
            "70131d2de89e4a8c9dd8e8a47a812466",
            "59104f2640d34ff3aa384d63be7f672e",
            "1ea4afd4c0204215aae44fe414813205",
            "999046c7fcaa459291e858fca66ec5da",
            "99bf9771852e4262af41c0bef6718fb3",
            "70a5f196071a48939857ef71cab73fb2",
            "e6f48a1139d748dcb1832941fec75363",
            "7886698d300b4a2e8ff6374e82ea0fd2",
            "95b15ad4f5d54889ad38635fb3dd5547",
            "70caab66dbcf4c568dbec7c6880ed53f",
            "eeb50bf7d292476faadaf429fc0fad5f",
            "dcc57f956bd247baa8ebcfabcaa63e07",
            "083078d97d474817aeefb416531a89b1",
            "7be8d402fefd41d29d7b780c688c4882",
            "b435b38a8e0e4ae290bd821b9b9e723b",
            "9a683b9ceae649bab9c5b8d4c7b8c0e6",
            "2e40d8ccf18e4b759d12f3910ceb6d0c",
            "f0e3dcca065f44afbac2a54f06eeb981",
            "e502701a03b74218a306f094c9001f4e",
            "4b221278901c477384a1adbf36c8ccaa",
            "0eea1733266b4488bd215191307b8934",
            "22bb6543534740eba4aee12908e63b73",
            "60d57eb63f5f436db44676c7293ffc3e",
            "dd933b4784494b3f85a06e3961b6e909",
            "c826985ad6c344e0b168deb329cc2f0f",
            "387e26085b034c0f9e0c8db58586cecd",
            "bda1be43b46e4353ac563c44db707c21",
            "3d721728167b4dbda34a6b7f59f0ab60",
            "25892d6657e747e8b1d123a521844be8",
            "677e8ce923294613b02036f5d5635be9",
            "e33ae50c261243cea454ae0261b75cd0",
            "752f4dd69ead4600bae9523fc92ba1ee",
            "0357219902a949b289dfe5d0c6de0752",
            "675debc3212749b89aca35d2dd02193b",
            "5e2e29db9cc74dcfb969fc2ecba5025e",
            "e37555c5a11442c5b4d4c8b6e9a76b69",
            "dc00660a0faf4e45a0d4b80341e09055",
            "19a3337e85c14b5593342ca17ae45df4",
            "1811214726ed47548770d244f0303819",
            "dad708f301ab48ce83b265c776db86c8",
            "782e731a8620449792e5010ca1182a61",
            "0b2f4ac36b7d447bbc57af2e2f6fd06f",
            "ce82d8141cfb4ac39171ad4bc511c8ae",
            "fc353f87fba74328af005c5de2722d32",
            "2affcf4cf8544cc38789fc2de46e1a5b",
            "154ba61f3f634c0995b9426e2dc3e69b",
            "9474568e60a44024817f5a9cce2fa001",
            "2f0d056c48614be58b502c9defc6d828",
            "19ed6fa2944f40d9aff81d9b9745347c",
            "acdf8ea65d244efeadfe98c92595fb82",
            "5003c76296a74b8388d9a8fadc475a4d",
            "dcf968a883fa4e429a2b99391e526d04",
            "38bd1690473d43bd8d0a85796250c06b",
            "52bea86513a9419e974caf4b1cc7d2fe",
            "99ba95b890144bfb9b1dde191d0def75",
            "03ce3bc4f5f84716855fe56bf233e910",
            "ed1bdcf0785f4b66b6355106819e5031",
            "b6a0ad58ea5945049827c360a6999caf",
            "030642f3d033495db2a9a7bde2eb26bf",
            "c6bf17c318bd49b1b9c3d26ad744ca31",
            "a888877d5de34909bce2c9c4f338b071",
            "2c92aa5d028c4216b9b1d77a20ffe119",
            "c9462b35e7fe4041a6d584727d1a13fb",
            "4c94b87a628341259a3348b79d7b359f",
            "c4dc334b356d4997951a4e19e71b1068",
            "0828aecd8bff4e148dda869e4b2506c4",
            "d2081723f3fe422b88bdd548749a36e3",
            "a6a573d1101c43ce9297cdae08641ea0",
            "65688c3879874c298fb40635c7f9fa99",
            "75d3dabcddbe4339a45917e2e77e1a16",
            "cb75326778ec496aa0ae6a7cb764fc8f",
            "0fc5fd9decb7433e8dba7a0a3f1cc89c",
            "d8228d01e135455b88cee5022b243cab",
            "2ae3b8f63dc5404b911c56c9c81151c2",
            "202d1ede9e50422286bfdb3fa8576607",
            "c85d612bca07461c8c196b0b3a13046b",
            "90c1bff796924832a4438770f040455b",
            "e6667cfb375742a887eb8acded9ed0ff",
            "12b458542a274ffc9e90bb682c6cf66b",
            "d22c99148e624680a9e7c4d6ada56e2a",
            "17ebc0d9502247ef8aad35a8ceb1e8a0",
            "e357a5b8e73544efb969101ef12fa959",
            "266f655ca19142bf94ade44d4867b407",
            "6e8b066914d94cbd89951e0dd8331a00",
            "60fb3041c27445be98056792b3380f1c",
            "40997675b21a45a8b487bdcd26095e41",
            "e625d454021544ab8204d2b90e6da84f",
            "9ba24067f72c46c8a22e93a9e6871f1e",
            "ad1dae4649d74e54bdb84a962c8b01eb",
            "d563e606c51a4611b159dcbbad0fcb69",
            "277769d4eec4437d8b51ddf98d44c850",
            "def8ad0c4597456ab8d3ab91511a1fd7",
            "143690de125e48578fc44f98e499da2a",
            "7af007ea315b43eba0ad2491de3232e1",
            "37733035c52648d798f9bfc32747f57b",
            "c500438dd9414c8b8d4d1ce51c3de820",
            "d83c02fd39a740f3ac33bc3a87358496",
            "db3fc74726994db497f19d71daef0517",
            "bfb63387ddb64f528ae8ee0b9ff8f5a8",
            "791da90e5cec4d96aaf70e6fc5f8e54f",
            "76444298736743a38ced2fc470bbfa70",
            "37d50127ed3542d89684cf98555aa7ea",
            "94b9e52dac3f4def913d4a9119b5706c",
            "a289eb22168b47beac9a653ab4fb7f26",
            "f8d0a3d81bac43b5a02dc8c07bd09fe2",
            "916efa4eae25451884941c81d8732a14",
            "4cb707908a6d49a9b6119dbe1c345735",
            "ad51298974e440dca37b9be5d6a946e9",
            "84bcead7d6344e63b1b4843f2dedf063",
            "caa1b7803b404d25893414c174b0b76e",
            "ffe2920cb6af4b679c823a99d4d80817",
            "f2ac4f0ec2dd461e93b988ea4d525b62",
            "86d56d24b12c4d739b220126b757cb0c",
            "4d62698d5cd94bb7a2db2172378892cc",
            "d73654835bd44efbad9f499a1df5adcd",
            "16cfa2eb0b564836997a021ccaeab889",
            "c65ace0257f74fe990b57ab8a0716c0c",
            "108518a0d4e54c788944731a4727cc9c",
            "41c3dd670aa54c7f86568e842da64781",
            "3030d4cce0e040ab860476de6e7a8aec",
            "c5e5977e3f91417fb71d70f3087759ba",
            "d2fe62688b0f489894a61266e1af81f1",
            "282182db8a5244e7bd06620d4545ab4e",
            "9cde2c32616a485aa52c8fad023276ce",
            "64abe8aed4e747bfaf6eadb61e2fd454",
            "0081e1ad6e4d4a82ba648fff668d4452",
            "90b2eeaea0f74cfdbbf4950e2ef4a03c",
            "ca1863e652ee4114b7ec9fa31bb2fc62",
            "8826a0a07fed48d4856419a5a7599d96",
            "60a11690d72e4bb3be536190f8563610",
            "7a124c2b8031418ca3b4384fac6b8b2a",
            "646fca76df4249e1aed8643c0d59aaea",
            "29d3259843024617980c43a00d4e8c36",
            "6f10ebf9bc46458fa8307e98a5df2257",
            "4b0bdf00e0ba4c878636aa4267b79ea2",
            "deeae4e931ae448daf46e636b4511229",
            "109a3758444943df896be1a82ad5083b",
            "1878440fb090428cb2383334441f9e6a",
            "ea15a67523ae49fca9c8ebf825e9b249",
            "23fb65c8aca941b79a7a4b6a94d374ae",
            "ff557ccf289448b88d5e653f09e7cf51",
            "6a8f9f2f91f242fabcdf723a8828c70c",
            "19b6f5b39c1845a3a827bc216bf25f21",
            "ac0f727ff9c341cd9d0dacf9a96e8d2e",
            "27953c5dcb034e4ebcb32c2c6e95d6de",
            "fd1cd750097f49a4a87c62484d31f354",
            "70fdd598f9ec41e292743e956308b282",
            "ec86a2e8ba214fe18e23ff83144aab38",
            "bef294a620c54c08afe4f696ea4d3cae",
            "87ca8b8f75a14e349a42816680dc173f",
            "36c4d3d4d8264444b9652eca30068928",
            "db4c78c83def4abb99295467a1484834",
            "122c3bec5fef469b87b97bf84cc6bab1",
            "f326f7c62a8d466eb23c1a0875bf2dc3",
            "880ff93db5b4469391ff63f4746be1fb",
            "d2dc8a84004841568fa3ad69b5de2315",
            "da165b3e27944523b100f08ba9c9b7c6",
            "1a48c74d21074dc58e4add0cc843a64f",
            "dda475f7f00d4097b36c19bf47775e40",
            "ac63af48d2ec4edbb6df07c4ae4c3e8d",
            "e086376036444e37b1d32f4cf598b31a",
            "a706ee81306f4dfbbed75309d112d65f",
            "f64c792e30c0496282d5a40b059af744",
            "c2d4ba580c6e4ae495d21589c55e5264",
            "ab8b98f66e8640bcbd77cfe71eb295fc",
            "185f2a8c97984b08ad51688bc0f59973",
            "c5805036a0824f178de5f56620bdb52e",
            "b9c2e79a54bd4fc09b841dac2bda448a",
            "2a888a0405004e18b88e7aa9c442a1c5",
            "3815273211f34b01aacf7978816bf8bc",
            "7a1b26b04a124146bba1f07cd9c42d0e",
            "37e81f7357d64931bd41fcaf275099a8",
            "6002bbbc15bd44b5af4c34688312a4c3",
            "285ca18a2a6b4cf6b1fb50c05b0acb20",
            "edeeed1267af43beab26778f17d10b7d",
            "60e35d6c24814065afa5c53920dbb0a4",
            "92d7328f92674128bc39d5a29c8261ef",
            "6094baac3d7242128f2c377b809d25d8",
            "67b668d77f7249e7af844d7360fc51ef",
            "445c48021e5847068c3851def32b8728",
            "6221334d3b954c108fdf54dd5fdf392e",
            "6b8678640a724f4ab2054dfae9c111d2",
            "a69765a4e78447e4a7a2ddb0049ad7b0",
            "3dcd3f5f6b744ba9b6e699463c6f03cd",
            "aed77c3880df48159b31ab239b3d1daf",
            "abb1cd8b16d7420faea59611a347625c",
            "be2210d201f54f7893048471d8adb762",
            "9785cadcde9f44cfa4cb6ce3a3d69f61",
            "ae138e5c5428446c8434c593f7055831",
            "74750bcd201f4c75b67e22178099e8e7",
            "d2a23191808f45eda5a6f51060dfac9e",
            "90c2f4787e754c28b11056a1e2879d32",
            "a582fe0028c14f6db0ee5682db530bfb",
            "88ced0e33a3d425c881bbc096071996b",
            "567d8d3b091749cc9d8e54e395d383f9",
            "1a851de954664483a1b8de0bab2c925a",
            "cab2afff12214aaeb7b7a3396f22b673",
            "56b57342b4e14b23b9fc7cc413e03291",
            "c85a508642bb49e2ae8418581febe509",
            "3a74de7d3b734e79bd18555336927ccc",
            "4da7bdf564da424dbdade7b2bc5a250f",
            "5eeae92483d148e1be19cb26297dcad8",
            "746b0c5ef3a047f1a17388fa19d0e8cc",
            "0d054558280e4b1ead87db8c3aa33a79",
            "aeb12b30414b458c86ba986c2130c021",
            "1a7ed0733d344b43b58ef6d80b4a615d",
            "b3a52ad9ace74a68acaf15e5b9847b7d",
            "78280c0a11c24953b1be0c1d18794141",
            "ecd92aa848c447ed8ab2236a445d88ea",
            "b3c99830af2e455c87316823c8a6d7fa",
            "76bc5ef64a764993abd7526cc9e637a2",
            "c95c150541d54d1889e6292bfdf299f4",
            "00c74ef837ce4bf1a6442a0d0e69e223",
            "75721f837c4f48569b3784957e33e78b",
            "f5275178cc5049819700e1728f34c63d",
            "7e7c623f2df14d96b675e1423fc4e4d3",
            "67000e5bf26348c98b66fd11a2b69728",
            "7b3a62f874c74f9c9946a04a0983423a",
            "567563b215834a6c907de6890aa4aeb0",
            "6085051cf902458aa908794cf34d8722",
            "14d3e6a55c5645e4b46d2f969a10c10e",
            "66c2107e376d4c92aee464ccb759405d",
            "64be8bf2b4f447c8ae343dd722e39627",
            "4b91190d2138426fb980c43f6b9713e1",
            "ae10b0165ee14baf8bc8df656fa29f12",
            "2bca1f105fdb45238d057face8a0b508",
            "e6f003149e724970a7188ec4d83bef86",
            "d36766201cdc4e4684a3ce5f56fbe741",
            "8da9150db4514dc18f6e51da886a6551",
            "19bc168cd93e47f59efbe0f178a7bc7a",
            "e70d25908a194607a057c2fd23c64a6a",
            "b6135e285b37443d9e6e7bc6de81c6cd",
            "44092c1e51d94f368f07ed8cb7fe2426",
            "82e926ebdaed4bc5a2443378b54fcabe",
            "5840b936f3074aedb703c327b4af29ea",
            "ea464489cc0944c3870a90365312376e",
            "d2e23d38ee4a46ae88229aa9c1c1ef3f",
            "f04f6eee12704b2e8e3f44f5114a2a17",
            "1fa73a79c7d94366bcd66e9094c590a9",
            "c2644d0539fe46b490e7a41327e456a5",
            "a16bb113418c4097a47757e7e79acae4",
            "22323f6346014a738491f3a318ea150b",
            "549a90f981d5412ea3990146c384c9e4",
            "ebd6bdbbdba245fc8c8b33764f5b2297",
            "4691027e68694dff9b71a917b7a3cc72",
            "fb22c47c186b4dab92b6b8dde71b861d",
            "8b3d1b3515c04da880250a561dbc2afa",
            "4a65ae24c1594f46a6e70c06dcc0a0c7",
            "51e6954e6ff54242853db34f9397655a",
            "027f3f68d8e94b59b2475bcdb7822912",
            "038cfa02d57446c697c6100016e1f873",
            "198d8cce52c542e09be00dd2cd7bc168",
            "b062f49cb0784671b79ccc7594eafe73",
            "0897b381945b477a999ad97b9095531b",
            "8e1bead509bc457f9f2b5a6f0c3f63ab",
            "33881b30244d49b4b693460575925378",
            "c5fbd6c313b44d86bcd07d6a821aaccf",
            "f4ade3ec9ae34191baa679c32f8ef978",
            "c7be9a5601a04672ae704b2a27252732",
            "37123f57d6454fc4aac8ca326ad128af",
            "2b522da9049646a8b2d888aab51e33ca",
            "937aa09b90534405be5801c449fae15d",
            "0c4e1f92e7844f4ca5912c3f73864c1a",
            "075c48eabed84b0bb6c48a8575146807",
            "1d781dbb420f4b03865e5344f26c94d2",
            "625ffea9c6f942a6afd9d32c3e73143e",
            "4afae1f4a780464d861734e2b3a516d8",
            "4314e64568934d98a1bbe0b9ceda2d6a",
            "eae53336926f4eb59d3732134d5c317a",
            "efe931a1799c47acbde5c2d9d404ea1e",
            "01a07a2163e847afb725d53b1f51f4f5",
            "5742ac6ee12c49bd921a20ba3e6afc88",
            "0695be4936cb4e02b5b83533a50c3b16",
            "36a1e2e79b54442898bcb4b800eaf22f",
            "8a86670e5de6492eb77291f673378976",
            "526dcb890ea94a14a06fbd9932436366",
            "f72c65e6396f40acb606b496d0e8c671",
            "22c65012ac6b4d9a8bb36d4e150ce8dc",
            "73426c06fbd249a2be95fc78f3b24ca1",
            "04cab20ad63c4ba2b1218368c4d2926a",
            "4756e2fb43994ddfabaeaf97bb52c4f0",
            "327348d3e26941e7bee503a443c2bbca",
            "ab72854bbf114d138fc1bd05b030cc87",
            "26b6a4a73ec04fbe820b106ea5a6f579",
            "c60cf70a94d04177bac7d725689e0abf",
            "358a61a8333c4342a8f6d2fb076b432c",
            "d65cef9019c74a5aadbabc957b35ec3c",
            "c62a4c489f22402f9f593a3dd1b2b363",
            "0d73f125e8df4823a752c21ff2f141be",
            "d2082996d09948248705a97ecebf3383",
            "5827788c670a46029816a711fa4eb62f",
            "8880c2e6c3b4441d863d453b1f87c5fc",
            "f6a7dfa5931b410886432f10c27c4f62",
            "6e28eefdd7974ff0a553462cc2b4d00a",
            "23304179b7b747fcaed621e87ea6a8bd",
            "a375f3a28a0b45caa8b07df22a0b08d5",
            "84c1bc9d117148b7a76e9ff857138099",
            "5ffbf0be23ed4edc88506fc155ee5b63",
            "6fdd99339aa5409d86eb2b03ccd01cb8",
            "501ad694811f4b1f886d98fca850c0e6",
            "004926271fc74b6497938e2b59e85b87",
            "94409d79483849cba198785c14894fbd",
            "7fd7e0740cc246a2b03d5f4019974fd0",
            "c62ce6518eb1443989e593acf2822b7f",
            "8cd4cea89d354c199defea1d10a7da43",
            "5316d157a47c4735a2c352a0cedefeaf",
            "1d80829fb2c34d14aaae3822b6deacb4",
            "0e6412589c484058a134689c5ceb3a33",
            "fad87be37e194dd0bd41cd4bbdc1e686",
            "b1b44ec03b3e4fa29d1b0e79f7ee2630",
            "be7b547670684414a56f46a73218f6fe",
            "bfad7da404b24fd8af24babacd32cf09",
            "fc4d641029e342c39abb4b29ae3ae565",
            "f4969c22a80d4f02aff360c6c07a7088",
            "6777d9f11b2d488c9696333c6a632ab7",
            "c3ae1b1adfc54a858aa6f80acae58e7d",
            "5d47794f335540a3a1271584bbdbfe78",
            "85218f18e8644eb4b78586234deb7d62",
            "2912ec6d918d49ab9982b3ae1ee1d46d",
            "025c2dbd08194562819337d7ea9a75d6",
            "edc4c92349a34c2db7fb9343b34db92c",
            "ff6098f182fe495e8057620f9799d8cc",
            "5b98d727321649c0a8f36daf00e27fec",
            "725bde81a6404ba19eb7122307978e32",
            "fac1de28817049dea38ce181762d4d9e",
            "5cddfa43d9ba4efab970bd0bf8b4eaa1",
            "f414e725faab44b183d396535b1f8c31",
            "bddca999ba754646b20f4c2d4d3b443b",
            "5238d53931c14a47a1edcef1a23da778",
            "e1495d12d7e54d338cb071eaf4983c6c",
            "f3a66ac1756f44d8a76a7d4d9d845403",
            "5c8df11dfdd74e2bb535ec0514fa6a5f",
            "9b176304555f4f16bdff350797e32536",
            "d0dafd06e5ca495db2afbf6002deb9b0",
            "5e8a47fd33fc4e6e96f1ba30c03aa995",
            "6ab39d204f0c429cad3a21dd464ff83f",
            "3f4e2613a56b4334a288701d862f9896",
            "2230e832758c4d4eaf7daacefd08128a",
            "33c5299a0fa74221b1ef95e5631da564",
            "6c9795b08f56477cbf62397eafc2c423",
            "0b5983ccc66e4854bba5f8030f79f12b",
            "807c87a33f354a9b8071b10527d35e41",
            "c85b52990fbb4f9990874c3e85c0ebf9",
            "742db11704b94991ba6a340d2888bf2d",
            "8240c5d7b0e946608a51b6305dbe3f5a",
            "d00c8023088b42df94ae8551471ee59f",
            "35addf7ca332445abcad1e15661c68e2",
            "642cdb962718402ca8fc74a0e9b99c49",
            "f8eefb9ab9eb4e80a1305048fe137eeb",
            "f0420ba9dc8a48f0b2900ea7f58ece07",
            "470bef748cf545edadef9ce5c3a31705",
            "2a13aa527d6847febedf6f64ef310bef",
            "50d665fe48814acc9cd332d441fd8c10",
            "f169f784a71442ea847c8fa90c2b6002",
            "cf595cbb4ddf4f69bea43d1ed31c30ef",
            "932c2ce665834f428481c0fc1e74e616",
            "9b8d538894404bc9a9cccc15d54df0fb",
            "edb1d84c6a274f3e89ba94baee5d5667",
            "485afacafeb04fad9a085ae05dc72afb",
            "ab0d9ab486324ed7b1f45b7e228c9570",
            "db42719cd5bc4fe7808f9f3f3f6f129f",
            "f2dfcc791bde4a4794b4daee25d61e06",
            "5c104d7f3b3a4d658fb9f2f2d952e14c",
            "f67095b59868437c941c78c66d526dea",
            "c8a8ad7960a54c2196d71227894eff34",
            "0cd97b6ee1434c359648a7f12a69fbea",
            "bd1fb924cb584d52bca1a9daa69964cd",
            "04af683abbf94bd8a853afcc9baec52e",
            "b70ffad7eb6f455889326a66ae9d891d",
            "64f3647dd31e4bf49b62ca2ca16365f6",
            "f705ec67e6fc41538aec5c7c07b76a05",
            "0073feac4ef944fe8ae56dfb7da174d8",
            "a9a64c5a926c4d80a4a5257ed370e07b",
            "e24624a451d748e6a2d017bb4b545159",
            "2b620dd648424467aa1773a57f9ca247",
            "8caacb6e97c24efe9ad17a90424686ab",
            "6bb8c40ddb124a56a389d2d24283ac16",
            "c5f1cb20dd3e4c1a8cd4ebdc839928ce",
            "70a47d9b38a047cdae382a6c80da2faa",
            "acc2e5e49937404fb41f49436e37a144",
            "37a79825652d4e1e8ef624cf3c6b6360",
            "30c7338b6ad04e8685ef78f9f71829e7",
            "632584380d014223bb4544255aa8cb68",
            "d2099595b7744736a21ae47c342155d5",
            "3a391372960e410a9517280a36e1985b",
            "f18e6b73bd4c4d04874b1e3e5ec8d07b",
            "d01693a60f894bddb9a536de944fcdf9",
            "b0467e503a6b4cbd990fd990ca8f89e2",
            "c7379308fd9c4dba9f7cfcddb33157d8",
            "67b7e623848741ce97d8d4419b8332bc",
            "707d95633316422b8eee424911fe0c1c",
            "10a4e244cb81487ebe7091757669188c",
            "052d170ce544461cb73ba338edbec997",
            "ff64cd6d22284d06b3f93e8a56d25ce7",
            "17831cb0c49c4424a3a58f1e21626ae4",
            "b7299aa4803745eaa417609e0c303f9d",
            "f9d068414c7841b3a2c9eba06b7c0da1",
            "3e94c29fcb814198b9135611f9d7260f",
            "d6527b167dbc471eb1be852978f564b6",
            "b637982afcc847e387c71a363452e1e9",
            "4055b00d81ec4e178696fa31c9ec5bea",
            "b2393da775bd414da7c114a79bf115e9",
            "548f8be15b2f47fc816ace1510130845",
            "752341289d5c48c9a31178b6d0a289e1",
            "cbcf52a985574ff69a1bce6dd0fdd9d7",
            "6a44d2ff55814cb2b0dea35feaedbb3c",
            "98d270eca3a94b95b5f9afe6df477bce",
            "e49eabe52ad94652ab37b23d16f2b2dc",
            "d9bc1608a7f94b7aa919cc9630f386d7",
            "ba2a8827778f40a29ad945a921dffca0",
            "4ac10639921c438fa98442adec19b266",
            "560c6b806d3045e686588a13234e2344",
            "949791dc594e42c0b3875a21064d1484",
            "79812c633c364a3c976cc05731f577c0",
            "61574af108d740f581123c18f90adb83",
            "e49947c90ee34b4da2c284b5c6e3d363",
            "c90c54ab5b6148a3b775c593e7a32446",
            "4dbcd51e00544c35a109a4860b9850d3",
            "b2a031128bad4760932e1988e7063cf5",
            "e8dd88a291fd4f3dab61732d609f4faa",
            "ed4c5ac476424c2f80663700d1be2b45",
            "29cdcaa8decc40e0b1258d226727ca7b",
            "714e4643f486468d87c346c542dc5ac9",
            "4e088dc4d2cd44dbb2640ff4365466d9",
            "a9473e4c75d8434ebe33925b4a234490",
            "e228521a53914bc29e79f3d9106ff0f1",
            "4619a69e05c148ab83da6bad874cfd48",
            "ee1ae404d3544936833903882f36b1ea",
            "8706835f0ecf456d9a4f611f26517fc9",
            "1f5974b587da482a8d179119f3c76571",
            "703e207669874a12ad33f8a709480691",
            "1e32e14bab1d44e39390693aaa0c8454",
            "543b2b381f9a473cb1b041f1c7daeb12",
            "6af0c8b621a34924acfd4776ab0bd153",
            "51dd46d166074a79895af5f35ac7dfc6",
            "9573b6dc2b9d44f29f9feebb66978a51",
            "fe00ad992c334127bf9eb49a5d7e77bf",
            "a5361c3ea5f84d458840b3ec84191a25",
            "8e9f053a59e9476aa956e6463cf998c7",
            "7e873ccb88a24222bc574a34f6f0ab13",
            "36567eaeba814971a5faadecea331598",
            "4116ef8e4c7c41a8a3e551c59a3cdb1b",
            "9fc76756c95d4ec69852ab94209599f0",
            "490c33fd37754808925abac1a464b2cf",
            "5fd85ee89f404b87940914ce6a793ab9",
            "095faff897294fe49ba5fd5da2659399",
            "4c5277f7964140c8b9e2a8b1c747e9aa",
            "72a0aeb6bbca4425b8b1eebee5bcbcd8",
            "392adea8e24b470682f711aebab2f2a4",
            "93c82d975b424734a3625b4de5c7c49a",
            "cd422427ba464a2b9cea5703e211a999",
            "1c31910c1b314d21bc6f0bfc07372385",
            "18a701e0791543199a4a6aa4c0ee2077",
            "e260d42ae7b24447b69d20345bb60da3",
            "9cf696a9f12f40278f53dfc1e4d3883e",
            "499667b1842d489c96fbf86527413154",
            "a664109a7e1c45e388e0c4e94c5f2183",
            "61dbee19fdb34083b553b1dc60c871f7",
            "36b4e15f6be5443d9b4d56a9772d5e90",
            "aa4575ed47cf4342a8e12296f7b84268",
            "814515ce71f04067bc5b17fc769e38ea",
            "6354654c117e4bb8ac7d24f4c30f9c36",
            "fe528e7f7e1e4d7ea2de65894e21f350",
            "4c4b0c1e74624da6a7091fcc4801debb",
            "1dc7c09c303c4d2792cef18220572e0a",
            "d085b6c51ae24430837aaf650655bd1e",
            "ca929a80ca6443dabc4779cf8b69d115",
            "a34c9cab8f554614a8ad342eb0adc25a",
            "0a85ce03157a467887c030d221cff740",
            "31614253092b4e9c8e7ebdcb9f3e81fd",
            "bb4bd76582d44c5d9f17217aaa2257b5",
            "bbd41d0e1663434d97d4487e27fba3d7",
            "8f320e4fac4f47138b8a36e9eaf3ca37",
            "53a00c2a2008447dad561ca796cd258b",
            "6cbb40d390c447b6828186f422b0ece1",
            "e0509499daac48c6b0b697b5a47dc7e7",
            "30bc1ca9f5c845b6960e9e49ddc78a0f",
            "f17b5263d3a1472285dbfb63f41e828e",
            "36c9bf3c7cf14c49a07e115f38dbbe77",
            "f543c3fb920a4a93ae819e42d3a2bc5b",
            "da66dbd2dee140c2890c05406a628064",
            "0bc3450f0bb143d5a76d85a4fe67c5be",
            "56dc3bb0b604467ea4a726892a402923",
            "b1b5a38150b4418ea99ae5266ab7a316",
            "2169ef93cb074ff19f2710fd98f9ce04",
            "a1adfc00ad8945988bdfb07bdecd3725",
            "51adf052ce9c4cf4b6709ba052bc3e69",
            "2cb578c40a884a5d8ba4475f032f5dd3",
            "b53e857a817043f8841122c225246c87",
            "7c64308787844723840c72986235b739",
            "885ac4084b2f41778fe2c6a19d03b0b5",
            "06385fccfccc4d9b91646ed7f38a521f",
            "d377877c5bc14e0f881eb3d96a0c5bde",
            "9f97f8971ed944378c1440d992a50f43",
            "0dc00183803a4bd3b66f21080c602a1a",
            "f311c19f583a46a689fdef7a43295e07",
            "107a4cfd5ace4c91b3208c92b98e5ecf",
            "14690067d5d642c2b2ab59f21bfe8973",
            "a68a020cd07140fbb56a3158127aa16a",
            "acf226732613404b9fb51cd0ee76e014",
            "12209a7b1a9e4e27ae12ee19612c7e48",
            "f8a9db6735e54d3a952e5819db632817",
            "83ffeadee108403b97258d1877765fc2",
            "f31aa8a7b3c44487ad49a8e15553ace9",
            "3302fd94e9794793a0a6f89fc5be3006",
            "d95edc4cb0fd47f8b179564626c14e6d",
            "59cff4fd7b2a4da48707dc9aaed5f0c9",
            "3608b86b786e432080a6dcf880eaad30",
            "d3e07dfeb89a487f9d94f15a9bafba42",
            "a2ce5ac2b714445b9e6418461051618b",
            "d87041194fe7417eb2199168e617bdfe",
            "372c088d70614b14838d1cedd46342ec",
            "8a3e3b122e5049958c17e74293cf749d",
            "847ff9e667fc49af8870cbb12a2b39aa",
            "30c3ef120e4a4fd6980405a5253e5c06",
            "fe3995424fbd4111a7cd3c29fb3de2b3",
            "c5de7bb29cbe4ac4975bdfd0699d6da1",
            "1d2f1af1600d46f88502875051e0ed0c",
            "300da639298d44b496b5ecaa5cbf2c50",
            "52bf037e818049959513047fb16ebacd",
            "d119342ca62b42b98c14044a01b917a1",
            "e2ff51e798ec4a5b982368d84e9a7986",
            "4585f5f530c8489bb595d2c09efacc7e",
            "7af48783b189460487c456340c04ab83",
            "cfecee113a8147be8b3d0a39ca8f7ebe",
            "c69d6f494340454a8031eb2eb5a116e3",
            "d2ad5a6a46c541fd907a55d941a99def",
            "14eccdf136ff494ca3ae3c7dcc815966",
            "d855dff7608e42e29f1c5fecb52903d0",
            "c65b7a3fe2c944fda7273da397c73d32",
            "2d44266bb152400998e5b4c6906028a2",
            "44021f51d32f4e20a721c321ef4f1754",
            "911c9ecbf1724f7394c5fa664d9da651",
            "d1a89f3dd2c545a7a3265d751a9b4f42",
            "6de77f7c97bf4a138980aeb51995e222",
            "7eeae13d3b9f4949ba1f1a0785f6f908",
            "caf8295236634b6787cb7905da3cdc75",
            "7c5d91dfc11a411ba7487e58726221ab",
            "9fdd5062868644da875cbd70e23198a8",
            "3b7042d4ffec4c8b8f3858166438b9b8",
            "e45ea49ad4b942c6ab81ed0d1ea41a55",
            "655ef4e11bb3497084bd743189e502a6",
            "13dbf0af876e4e728d58f934d9f0d8c4",
            "ed0dd685cc1e444e986fa15f24c06612",
            "839dd4cdba0e499283184ac7962470e8",
            "4d43b68757f24441a05ca76ddf538319",
            "460891e9ff4b4296b4f81785cb62e45c",
            "545f8fb03f1849aaad46f884fd742dec",
            "fc4d87c84ece4fe4ac28c83b4b02bf16",
            "5b3fac092665419a9fa744402c37d51c",
            "49401273f12a4fe88be0676e0b78068f",
            "24132ada1c8e4553a07b0186db6e8da0",
            "c17b593fbbfe43b0b376b7e32383cec2",
            "922eb27fe8fc48ad98958b3317e5bf65",
            "3c11c0596516461fa92446832940fde4",
            "be7dd5a05c7d4b8fa593d4457634d3c6",
            "eba51f66089d4689ba2cd4b62ff98292",
            "0d63a580aa064e38804b240989e89471",
            "aa092eb1f93a4144bcd1cd44aebf04ee",
            "fe076f9482b043bf91ea2b0178ad3e1d",
            "e2b7fcb1028a4bd0a1cbe9cc1a75c962",
            "5769fbc7e6e14c5eb2b89e02ee29eaa3",
            "a67908d81d0e441283b8a3e1e52f80b5",
            "7a3af7a923974f429430103b02191592",
            "944a4b0972c942d18461117a70b9fbb9",
            "80054c2404d943cd96c301f63ce1d90a",
            "9602ed0e867e4056bb281f5bfae1c3b8",
            "d8af55cdca9a48048a0659bdf6347677",
            "f66373ceb1db4fd79ed747bd5faca744",
            "09d9153eb282444e89fd4409484b5c04",
            "10cf357a3ea14878967542b96cba87eb",
            "03abea74382a4cdf8fcc4f91a7ca75b6",
            "c3d62b5164b64e45b60c5057dff07500",
            "3f373b859eca418f86043cbb52377458",
            "31b7925320684cd795038a023e5157a6",
            "d247355d81e141c4a47e4bb5a8fe3794",
            "8e1c27f80dc24fd9a7bcf1db69b4a8e8",
            "8fc17719da3047a39f9bd114bb6341f7",
            "6df0860b9b864cb7911cb7bb08812a26",
            "795ecbb8738f4cfe841d8d6f0238dfe8",
            "3d81f11f94df4588a1ac85145c64b3da",
            "a40e1cea23494dc4a7766dc88e51b90e",
            "6d4e8a394b084e398e8ad1b2172a0ebd",
            "32c415fe96a74ec78b05c9bf1e0ab17a",
            "49180e2a80164b26b2d998169232e223",
            "dceed38196d54cacaac016a698e0c917",
            "87be4796d4c34c76be415a7ceee761c2",
            "268ebd115492490784ace458b7fb6c32",
            "3b29db5bff244ab79828b42a13983682",
            "a9ccf39bf9a647b7adf815833c8e5d2b",
            "80be2bfc32a4489286f287a69705690c",
            "f70f2b54212244298e60d0130f6be6a2",
            "c2db21e5d565422985620c23a58bbb61",
            "6fcc485c46574a14a62b1ab98ea22753",
            "3caf31a3362f4659be5adda112626284",
            "9a2a0e3bff504fd484d1bfc7f6725846",
            "db2d79c089fa482e8d761309d611a5d8",
            "8a96ce91dc1e4dc3ace303e69fb66375",
            "4b19415dadf3442992b84138682733fc",
            "cd5b9896b5394dcf8b43c4176547a30c",
            "a71849c29c8f447bbdb81781fb687190",
            "69fd225ee69647e4865f9ab6bbeae8c7",
            "d47c801d697b40a3b3270b0a2b53f80b",
            "2922e4de4e44422f9213c9890a718108",
            "3f327a5b390847d38c0d89a4236e3b03",
            "b0ef98bec19042b48f7315171225b2f5",
            "1463877a07764f86959067bb5ef28dd7",
            "cb8dd9d364184c30a30887b98dd5af96",
            "cca925eea3df4d459a394118823cbcb6",
            "1c113b7996454362b555823d93964b64",
            "e356763dc703435db779634d28c4f0fa",
            "1bc1d771e91c400d9bfda3b7909ba3a3",
            "d5e7c1a3944e42618abb3c7babeeb8b5",
            "314d0634a75e41c7ab3ba1e415f11e43",
            "9d9de6efd94a4ac387c873874d101549",
            "be7beb6a11184cde92be41c3bcf84c72",
            "3e8d4bb9bdad4e88916a22745a993c7a",
            "dab10bb8e19d4ca787cc80577649f611",
            "f09d9c85665f4fca99eaf06626e4cea0",
            "3c905025cf074e03b2b64b9848a01a2a",
            "ba06061c82b04b958b124ae2301df6a5",
            "60853e1c378d46ea8f81ecd0f14860b5",
            "f60dd416e5ee4092adfedf91cccbbb45",
            "2d8045b2b088481da0ffa563663ea925",
            "c3a2199412384b3cba6d1d1e619c8587",
            "87d27adadd5148949077128839fff3a8",
            "eb94239bafe04765997645895c0bc86c",
            "7a17bc98f9d34e8d8f138641b5503743",
            "1234ad19167440799ea63efc35aeaf22",
            "0c34d4146c354064b845c676b9507846",
            "f120ee358522418da7b45ca2445a3fce",
            "60387e911e724f48b9b8f537a13a072a",
            "4925e027484e4d6fa42cdca5a92ae9b4",
            "feb5a2020d8f40cf93865e36baee9d82",
            "bcfd040db9584e4c9f96e2cbdc590806",
            "4ea4f0d2d4e54ecebb0a65e82343c56a",
            "6f646d11236c4bb092b0a6b5c9be2560",
            "239429f8c79540f4ae108e19550920e3",
            "b8e0e33030d94604848d865542907106",
            "c5318bd04fd24003aa8e12f2f6734eb0",
            "0f7216e58e394654aa6ed24bd360d92b",
            "ebc90d131e6a47b89bb65165e6cff21f",
            "6f03b236e4094621a7d3135e2372d5b7",
            "b8a42928b93b4010be6150cc82edf350",
            "ed90fab469bc4c129713783ab60f6738",
            "8ebbf366da964c2896499fed3da4d9c1",
            "acf8bd1b8a73470597850c1c15e52eec",
            "40219a9cf93e46aca363f7e1af42695b",
            "9454ee0aa1b64b909899082ec5f0e09f",
            "bed772aafbfe49ce9767ce53e1786890",
            "d16b868848a04c05ae8db6556927ebe6",
            "f62580c2fb0d4bb98601162f5844fb65",
            "b96515d565134d0389a65b90b6eefe8a",
            "f8fcf20be4b54d848c82a7e15f15cde2",
            "c17daaf50764483e8b82fa1b93668723",
            "fb87c3e5250645debd22de630d95fd92",
            "d9a8d7ad538e40dc8002829b603d555d",
            "046c8d796166401f9db02f14f0b12bd4",
            "a53cfc9ec3e1474fbd68caca676f6121",
            "d716cc3a802c4ce0b8f4e6dc1acdf76a",
            "b327b5ede9ec43a884df56affb3a66ab",
            "44966d7e4a4347c19bda955e6b1ebab2",
            "7b1984eba00a49a9848b78613b93c57b",
            "75fc0ab089e243778a4140aa710d60bd",
            "314327e5df6a4f66ae69e4176ec7be47",
            "5a5fb1b99af44296a276b2dc9a94ae4c",
            "856a47fa1545449783f259c7010b708b",
            "bff1f32602584f1b85e4136a7a4855cf",
            "46399c532d55403ead4cc4481afa5c04",
            "b9655dd497e34dbbb2fe2c105c43ca66",
            "44f4badbe24c45088e78b952e0338d3b",
            "039644d0d8bb4b32b6dbb2ad9b85ea50",
            "1970341585c74941bcb63b7e5f34728c",
            "d7bac8ecd321403f97f87d43c9f2e810",
            "cbf4c2b4ae5e41b1bbbe77c2840dff5e",
            "dcdd491ef811474eabff54052e6639ca",
            "3f30618f59bc4706811729344ecb8f00",
            "16f70944998b41a29db5399cc7dfdd0d",
            "2c09035b887b434c9ac7c8660c81e58d",
            "28be55a566da4cbf943adfe949d98bab",
            "12270c9e57c54a1e86c57e11b24a79eb",
            "c9f521d5edef4b1280cce6458a0fd247",
            "669e83f7198d423da131f091269d2144",
            "631dc19158b8464a92a18e8fc3278fbf",
            "03b49171b00c4627a77376530ed38df3",
            "ec0fde76b1764148b43cbfc1bb1655db",
            "517471897f5445f7b4c6cefb224509ab",
            "3b6ee5684112427c83ad5c9c9356ef0b",
            "f1a401f5d2d54825918f429e6e1ddf51",
            "d35d3a22e1cd404994edb3d801feb4e9",
            "b1ce3e4166ee4ca6bc8e55d465612153",
            "61fe4841a24b46838f0755a217c45f59",
            "a5d448c41db04531a525700b673c1441",
            "781f9bf7d2a94d4cbab8b1a68e0d345d",
            "40c7c66f60f944129293abf0e7db3283",
            "d9bfcc78ed194862af6796d8aa5e3859",
            "d8c03cc97a374019848b31e6e78ff144",
            "d407a491f6b9404ca93893ef2cad88d5",
            "3821b4d081104f7fa78f493e4c8c5004",
            "94c6f6e809194080a32e581f9e3a015b",
            "63af58bad930404a8244d735aa846c1b",
            "101c207bfaee4175b9661cfcedf23a37",
            "d91713aea4ba4843a5a4bd37efaff5ef",
            "2d511098067e41fe99be76e71cdda48f",
            "3dece064052043339cb6555b0e55d2d7",
            "cf0610089d594c1ba444ad998ecbb79d",
            "72f8e5e5ad9c4b8b9daf2cfce13e8ae9",
            "6f8975de19a64d1bb576a12d3f7092ca",
            "a2ac6d84868e41758e0dc5c51704b7f0",
            "5eb57ca9ae96417697b8bad003e1ecdd",
            "69219a223c06481e9715108616ffd3e4",
            "a5c9a67d5d9444bba527d81f221156bc",
            "53d1af7c91de497bbf51feb96f9cbe93",
            "93f19354b0ed4aeb94ceb255867905c1",
            "d9669568bdaf4040affb8a317d247b5a",
            "1246c78b3ce64f469f95a4ce00a3e699",
            "a55dd4f9138548f4b4561a440efece01",
            "e1261d6f6bf4406f8a6d29366bb215bd",
            "1312a0ddc285405fbd05cdbe8065e710",
            "9e3c78af68124c40b1cf8c33a5d3d9c1",
            "ab585ad75e6f468ebfa834d32153030f",
            "fb9f89813e28431f8035bdabd6f42750",
            "1cd1b98e3347401f9b42343de8cd8a57",
            "ed6bf6993ed6480c9f03c9ec90ae0fcc",
            "dff4fc1b029545b9b06c816fa90ae6af",
            "332f7453a6c74b82b01d39647d2e7917",
            "c1e397c7b4b243a5af619cb2b03bcfd1",
            "455e5ca2699149c595e09d74f0489ea7",
            "9586938cebea4bc3b132925a8a465b70",
            "f960621431ea49228576ca7af5305883",
            "3c0998dbeaae40e9b32173e274ea13ab",
            "5e491a3cbb2d41e8ae01bbbe60d026f2",
            "5f949ffa8a4642388dd4d8556beff3b6",
            "c42bcef3baf04a2a95145169c3eef92b",
            "5c932142ca72439c80b64eedd9f0b4f1",
            "28b8aae686f04c56ab136f2cc570b6bc",
            "80cb55ed667b4a5c97d2079c9acf4f6d",
            "a5ae1d691bb44554ae58001ea8fbcaff",
            "0759bc02b47b45998c819aa42cf381ee",
            "66b3c5c7ddf1491998d04b0b572a1893",
            "4575654e34724af38e5342ab3e9a0fdc",
            "f6bba0d6dc6c49f8bc9073e794705941",
            "215b355195474de7b5e9f6f87ec31f79",
            "6530e0785fd4458992fb7a8d7e7be9d3",
            "6b90e7ccb4574ea7ac7265d4927dd34b",
            "bd2644a2ecb4422f94aa35e1a335817f",
            "ab9b98ab90bb41468f08bd62f450b4c2",
            "5a5f4fa3ad1d44e1807583cc566f38a6",
            "c5ae48096bec41e18fd6166abc60f892",
            "c0d96287e81c4812b8a7ed81a1a64392",
            "5f5ea8e5399744cb98e093be568847b8",
            "245f95024bf2401ebf0f45f2d4259fda",
            "fb8e717e91614a128d384ee22f8c1dc9",
            "13a4b43e79ae47caaffed3a56bf77a65",
            "1059afb8339c4f00bd690ae43abf4fd3",
            "1b04103d54534f18a37b6a80864d8883",
            "764cb5e5b0b0450eb90ecbb8bf5d7034",
            "af57383840ad43e687913f5c546f0e99",
            "07b5d11cfa2e4de4b0536bf99681d5a4",
            "bee3b38804b64ee2abeafcd4d2c9902b",
            "fa516621da6344d8a54c3b1373aa8ff0",
            "80c4a3b652a04aa9a61d0b5e971d72f3",
            "3c718b4e8cc04311b9123c31a0278695",
            "90f5dd7aab574d1cbc2fdfc95d1298eb",
            "b0e6647a8f914ec197156c88209abc45",
            "ae793d98ff37447a980263085ac8a32e",
            "24eed6a85da3473898aac216518f9f1c",
            "936c6f51deb5488491125a1dfa566926",
            "9203a25b66964456b4618e80a4a00866",
            "b00bb57ed89a4fda8ce2e304b7eaad49",
            "bf41737fae3c41409454cadb23e9e412",
            "7f39df39f50943feb9ed235015d0b4c4",
            "8cd611a52b7a405db624672bb6ebbaf0",
            "5c2fd4b8995d4f22a4d3c804090dfaa3",
            "93758932dc814d93a24d1419632fa5f9",
            "075afb667a2144a2b75dfe6db618bb7d",
            "7f89fd7616374e60a156e7ef23e3e02a",
            "9666f4e7ea7d4e7c99f7d19cf506f163",
            "fea1425d560d45a6a4fedf0d1ddc5166",
            "2c38e462856549579d404df46b842cf1",
            "a5a77b3b17a44e62a7520d268a4dc5bb",
            "d284b05cd3a6455099ad7aec270c8a48",
            "33327ebda95342acaa519e68bbc39d69",
            "d2dd43c7c3fd43639b5e2932c190ab6d",
            "9cede2b6123647b3b000d44e6bf448d1",
            "a014fff144cd42b497d6e73a92e28e9e",
            "faa932f821334a9b9764532558204667",
            "8de9761c367340ab8f270fd0ff008484",
            "6019f73acae14061bb7c6a13a93eda80",
            "5b7ed7e26d214ad18786f27ecd9e7c59",
            "d9edd773d79d487abf1f370b7df9c8c7",
            "911aa614777042a3930bd207d4234767",
            "9039207b52a242e2a710efdf1843c69b",
            "55e8c4761c644c65b66ddf62272a91f3",
            "9c5a621d291140a7847b44e09592f3a5",
            "bb09e60ec7a14296b5616024c51af41b",
            "8bc73939db76450b984f5b437c8eb44e",
            "83e1f36f396f4155b52972fd1d1ee540",
            "e4be903a07c84b3e80e4f43ba594a174",
            "93949239ef6a432e8b6101aaaa971711",
            "89b960cca02e494ebb9b5d20ffedb6c3",
            "176055a1c8b8430ba9a5c66bdc70b4fc",
            "82f47129b0ae4b8e889b76753717fb4d",
            "192986fffc404bdba7ea9ea2ee80b244",
            "0b73807ccec4490bbdcdf8c8cd1eed18",
            "506e4fe3a8e440fab15c9f91746ded3b",
            "431911093b5043fea2980894f8f34e30",
            "8fe050f229a140208039718332d5b5ac",
            "4d1c3203c56d40b99f1da94db4fb1351",
            "45ed2b20ad794c1f9f66ce4b420931b6",
            "ff9baae716ed4b0daac8e8fdb072c689",
            "3310cc8ac56b450c8a807ce9e88100e1",
            "48149bb306354e109cbee77c564c40d5",
            "3f138b0176284c438239ad3814155f78",
            "7925556a8a32420a86e7c97e959e825c",
            "3d16ddb80d4948a6b6427790394bd4d5",
            "1580c95c433c48fab90753175fbfb158",
            "a1d797e9937640a99457cab9a2a0c070",
            "a51c98001c6c4d278a0ff77a6ea2a014",
            "5df73705eecf4368b984a7b30a0d0755",
            "4be58274d58e424f9d5425e8c1a21b37",
            "ba0f6dca9d654a4987d99afb7750d6d9",
            "9f5c39b27f75479b906528a01d5af679",
            "4799389a050e4b868e967db9b6209e72",
            "e0a279bedda048f0afb6dff8a110f673",
            "5431676ee9af43c49c9d6d6613b992eb",
            "6da47e678b1244299aaa0aa2f79d9680",
            "dcd5d5a75b774a99915fadcc2d4e9b2c",
            "6730c1430cb54a11bcd203e75d096c28",
            "b897c066acfc4f068bbdb59da732e91d",
            "2ff7b41f2e8c44d1929fa41f7127b267",
            "f9ae2f25a89d4bf490395bad014e6414",
            "77d3d2f081dc4fe29d54a7758bf54d3c",
            "fe84acc0ed9849f8be900c804ef466b4",
            "4d2fd8ec5a31465fa21f022db8eea71d",
            "4aec54ab11584c1bba2f8b2320b51f2b",
            "b4628f84b6534ccea2c54ab3bddcf961",
            "ea06447243924a06a538d1c577c37f26",
            "fdfede6e038b43a4829841a14e8b601a",
            "8afad1fdd55640fa9002d942e3a06f7f",
            "d1eb6b553abf4a5789fd9e2329e97646",
            "c84381262ea740df83cf39bc1d35bb7d",
            "dccf1c78866e4e3fae7892d11e7a27cd",
            "eb0aef0610cc443ca146610343c8066a",
            "797c381833a14918a8da208e15a562f4",
            "066d0534d25449ef9b265b7f86e61070",
            "3b3b81751f1a4f1cbcd5c7a273f1ab9e",
            "19b18f6f06ae4a018e70bca95cb66bce",
            "d78c5a06aca04cd7aaacc736bb2d13e4",
            "a277e7ed338241bfac684aa316c4d97c",
            "81c76da8877643a59366f2d8778291a4",
            "762a58f315f74b79aaa2f4dde26180d8",
            "3d4cb2bbcf894991afd706c8689a1573",
            "8cdb54e6b9e54173a50eef8d81b6d401",
            "c12279d7d6d049279b6685b20b8b6ecd",
            "f6bc22efcaf54eb0a382d2a5687803bf",
            "e95e8acc2da0488595b8f21d0068a17f",
            "0ac04c02903a429b9a31894bc94400e7",
            "337353aec19c4c9a81a1689786d17aee",
            "2362073e50a24f2c85ebf1dd4bfc1379",
            "dd3eb440ccb54d70bc6e9ff694f912b5",
            "6eac05c7b7d34d03bb1488d8425858e4",
            "1dc917d8a44542fcb0b76a976ea60ad9",
            "601babdfb30a482eb3a49bfbe186f70c",
            "89e31cd8e0064db18bfc76628944e3e5",
            "b2f4c2329d6241eab599d6af047e4f88",
            "6fef5ae02eeb479f96a07bdfe97258f8",
            "24d73ce4a4c54760b02571a96a4e25b2",
            "7dd1807d65384705af77a19ce0e4befd",
            "16efaf8c6877453f8529864d59dab134",
            "2c914ab4f7e347c2998f48f9a4635484",
            "0da48d7eacd14ab1880f9cbb9cf1265a",
            "597ee7077f3d48618ba2ce9c98621f10",
            "e74ce5a8ad3641cead05744dd46ed4c9",
            "5e9b988c45f44d96b5821f1d6b0642fe",
            "29fc7b596e164310afa80667e5355ff3",
            "973b621877974402b2133c84511e4875",
            "24202494237a4b369370fd0d7399e87e",
            "bfb1e99d5e6c46aaaadf1f93e3e8a88b",
            "c39424f2ac0841c3902d8df3f9fc1209",
            "859f395b7b42436abe1c25573e0e2434",
            "7c460d0c68d14d08a152dafd3fc9a579",
            "67c003ee47e04693abe65a1380ddf1a6",
            "b8ed9d7dafc5487b88a7e14aa8165dc1",
            "eefe9f2ec8664892bae860d6d81f04b5",
            "7bfeb480f3f14f5380691c42f7fe211b",
            "1fb9f88dcc174ecb95bbcda95483de11",
            "3a154f9e2e244a468a3b9eefde644deb",
            "eacbb824cfef4299b3a7019d6829da53",
            "f891d166a30d4c4b95be04db19e0616f",
            "b3d98a2094b74eeda3969199c9946007",
            "25524fbfd082481a8afb8fbd0b4b0cd4",
            "95eb8385b8884f0a918e2d7ba5318e4a",
            "03d84fc1063e46e394a09cfd9ad30a5a",
            "d9dcf20ec3054f3e84d18fc9ba0e2691",
            "59cb8a36bdb84c73b8ed7e5ba0f83281",
            "5225adcbcbc2494bbc6440ad3276479e",
            "a68b39a205f5402da36218ef511d050d",
            "0fa2a479eaa044eb8ca7af08e17dbf39",
            "c9a36b440292430da68cb9cdd5fa35e0",
            "cacb127e3706405f926ce2c5075cad5b",
            "4cb7cecf42384358917a684aa040be89",
            "879db76b971a47619636207e35f59f88",
            "82baf37f7c4c46068c248f069a45bef3",
            "bc255bcf26194a33bbd076a290a13fed",
            "d415c7bfb5d349b9bcb741c8c7b785df",
            "8a3f433e1ee84e9da7deb7ddc46b49e2",
            "6b5cc64c8ea34abd934af8b587d9b19e",
            "2802cdd94c1149f5ad357a79246b4d38",
            "743bbdf322de4ec1a807edc10a003013",
            "52e79072ccdd46ff9e4321639fa609f5",
            "3b904358926f486aad4559e698fbb32b",
            "0b39572aa0794a9d99fcf855e1d37c45",
            "3d0574412b614fd5861a301088e236a0",
            "46dc098861b344d88effc7c5ca18cbb2",
            "a5815b45fc734617904864a7fa083a55",
            "ddfcefd5193848f28128bb65e75cab26",
            "abf792c6749c47369d6667a05b74fb3d",
            "5c90474189a74bd081344e2feb5c3209",
            "cb720b9aeba54909a166ec135b5a22a3",
            "af6ae03ae58e4849af1fc2f6d9e16461",
            "15720771240143398c2cabf0aeb40b88",
            "fa4afb8893f443d8b825295ff16f3735",
            "c3116db27ca441c3a4d8f48fe5b8eba4",
            "955a84b7f5b54f30b8ff8f9199b2fd07",
            "126fec08e13e4027ba5505e29eab826c",
            "26162ff634df4305b3a2d53863c3a776",
            "d450083df79f407c83a70b2a5c394d1e",
            "0fc3276514ef4b09b3b0ef9c7f51f03d",
            "4fd1bd06f53444309a5cf0013ac2a0c1",
            "32b2c4328c3c452a81331170ef116e56",
            "861607969bac46c7a73c83bea421008e",
            "4dacb48b50a64367af480f08e1ec6317",
            "3c3d8aac36d14c468ef590d3273881f2",
            "71144d64b8eb452dbe33d0a82560fc25",
            "16e49e490ee84737b74bf51907941504",
            "b7533856722446b1bdcf6ec31f800d12",
            "e1c27b64606b4099bf1c1d3774cebb21",
            "4eceba48aae64c76be5fb354ba5cd23a",
            "ac0de9be93184c46a825be8502d0262b",
            "8a86f13b5f4643669131a68d983017d6",
            "6e67ad87f3564835b28ba9b5c17e9304",
            "f426f63c30c248398b740623ac1fb999",
            "8a195f81a50b427d9c44b4c06a64682d",
            "9132f63eb8f04a62a076692a3a3a1a6f",
            "8a27b3f0d8d64244826f16dbb37a99c5",
            "cb3e198032b7487b86eaa559848b2ad0",
            "97d1b1ea3fc14a52ba7bda2eebee4f6b",
            "76ee0e1ee4e245429743f7676bdda34b",
            "e6c46ece43a345c49ea8487e24f101b9",
            "ffb9a32a81bc491594adc53f224a2d2f",
            "0646404f92544aa5a52765f5a0ccdc8a",
            "d650ac5c92bf4aeb9973b450647e232c",
            "6471362d99b74dbc980b7e1278701e25",
            "838e45d643784eea81832a51e47acabf",
            "a8cf16c261e44f4faed375c71abe235a",
            "3320f5cb882544628a42743965e87169",
            "f17d4d4a786e4f1ebdd406a27cd30715",
            "eddfff5ceac2401da53d2c6302df94cb",
            "0aacd2b10e6045f6ac0f529eb001d57d",
            "9b3f299c6aa8440197192d2fab2c2c69",
            "8e1f0fbfbeb84afaa1dd7032c6a4031e",
            "2448e5a2a65f4d119ea96f130da789c8",
            "27bdca4a082c410097bbb6fded2899c7",
            "8939c2b542fb4d08bffbd64a7217a45f",
            "e6bb3730b309434690061a9e911696ec",
            "5f7d7fae4924468cb71c096ac7155717",
            "94fe6b63647543799dde3e3e07d0dd1f",
            "d7fa906c3a7c4f3580129351aa9cb673",
            "0bd7bf01cae64e8a9ce4f2831000ca87",
            "6f8df482e97642719d28cc18c2f487ea",
            "56b020f9035f41288a62c0aebbf81b2e",
            "cc468dd3a235449bb40d8c6c48a3d946",
            "ab7e900d1568477d8cbf62dc66c1f569",
            "3333b5497abf4bfe8a85c9c90154742b",
            "64539db0872748539204c3866f76401e",
            "a84d7f4676e24d348a23f4c18686f4ea",
            "8f1d1e8ecc5c432ca340ec5b3f8b64c7",
            "4e5774de257440609f658463faf86a0b",
            "b91776d7b09041138cf2f9644d752dea",
            "b1a77dfc2479427f99a7c87264c7ab34",
            "65bf9d4263b24759ba56a3ea882433ea",
            "de37ebb8fa4b4141ac40f7a0043838de",
            "e475abc3430144929260b77b3ad9efc6",
            "017d4f4e5e31477a9b388edeb7806b47",
            "0a5000380b1348cbad19936d08166b70",
            "032338f9476f4e14b13945695e36d494",
            "90970c518f6e41cf944fcf86060e2970",
            "1f0125cd905f4661abe542b7ff06457e",
            "3775dae24f7c4dd983fcb69f74c82251",
            "88a076c899eb465b96acdc5cdf799f19",
            "37138dfe3b2342a09bca61e6d3150602",
            "e9d70379cefb46e18864484dff3298ab",
            "fdcfed37f93d493181ff44be677637bf",
            "f1fdf9771c5b4492baf3a72eafa373f1",
            "44ba4cfaf0d842609e615f2820c39b40",
            "81c0043283b1451fb5887de1172117eb",
            "f6f47bfb04d7409fbce6318325057dd2",
            "fc7e56f2c2db4de2922ffa4302043a87",
            "3e3769c4d270409fba415624fbe4ed0b",
            "9f7c0d89c1a749429d0c2a124aa5e8c4",
            "6997136869a04e018d6440de2390eff1",
            "95b4a0030ad04031adaef346813105d8",
            "f82a5cbfb5a642c6b42e7026db043498",
            "52b174c0f2ef40e49e63821df27020f8",
            "58b9202f8a7844d3be9ef84b525a5b0c",
            "3514d04c414d47e1935426a9bd3dd235",
            "939ab68c3e7946b983da91c460f3243b",
            "0e0cd63f999c4414a006d4f09e84ceb1",
            "8c246137c85d4e3b98bb8b804855328c",
            "00f82a0100244d97b5d54d3cdca700b3",
            "c7860b0c668b4a0da74618cb9d6f315c",
            "e062e68b1fa74047ad6c6c1f535ace7c",
            "08cdf081af7647cc822fba038389236e",
            "2ae21ed2cf214f46b297d25d7cf0e499",
            "e5adf2f9120444fe9ec4a74c08952921",
            "f748c37b203f47e2b71cbc2a12798585",
            "4c067f3a7825409fba0be1fe50fb5434",
            "f7e5081dd3584a98b4464c8b7c914667",
            "39912408859848ad8d6eebd66a9853c7",
            "5e7cc64dbfc1491c81d49e613507a57f",
            "7bb33ae96d5c45b8adb510f4b07551c7",
            "09acf5a0511a462694e5357e44f44aaa",
            "d9ae8a6bb5c546dfa34b81cb998ed502",
            "bf9d9a85af39490e8f1a12c674ca6cd5",
            "89e64a2a80df4b26865bf48236667807",
            "930454c2e5fe43ad8ac4295e000946e0",
            "7eccdcfc235340268be0308badb0bbd6",
            "93f3a7384e394600b1381f9b320b2436",
            "8782c2f689a54b1f956e971d225d16da",
            "1ab2b1511bca432eb2da8922d699d3b6",
            "d80717327e5e4774b1238f64b6e814b3",
            "50480b85912c40878cf4a2fdf89019dc",
            "dfcebfec83c1457f8c65a3a06a2c8b88",
            "653c6f6154054efe887982dbf877fdef",
            "f22fabebf1f14b50bd666248dca88f6a",
            "a11b903037134482a45e07207d3b6617",
            "33322834b1044bf7ab20b0bab0cf5167",
            "6a1684300561473ba0519fd5809c6583",
            "89b16dabf0b849e5be08028e498dc6b8",
            "f211fdf809854736bec427acb09b324d",
            "24e6338b494242c59a268e48f3eff926",
            "37c3fd96c75442258cbde3971d150ae9",
            "5897d979bc404c3aac8c4536c6c34964",
            "78c19db4726b4542ba48295250147ac3",
            "39f65e301784453e93aa5ffe8c3ccd9d",
            "24c00edf88904ebabbe4ac18c29f4f39",
            "e11276135a6c41fcb2cffb309f3d27ee",
            "e36d364791c44f9b8a1b91f4856791d6",
            "0035615202534d178a1e018b0d1835b1",
            "a1387793dab94427b0b6280a1d1891d3",
            "08c81921967b45358b39dbf1fc4871a1",
            "3921e32020b74dbe8acdea8c9dc7b096",
            "d817ba32a4eb4773a530e8c3f146f5b1",
            "81739e61d4d44a77b916040cbb8cd353",
            "2d29032a29494520b0e2b8308890688f",
            "06bdf5c2412f43cfafe84b119b33b7bd",
            "5c912c6badba4d5c97d9519bfefc495e",
            "8ad10bcab0dd46779a8edfa4242c5fc3",
            "eaa381748dcc486d881aecd67ac416b4",
            "c4010d24b81b427db95a20b0f02ecdd6",
            "e83fa3de84554d9b8ea72598bfa6bb3c",
            "ccbd416eff404f97bb96cbb757ae0411",
            "f0901027478f4860bc9dafd08d214fe6",
            "62726b997e7045869ef95ffb04410f90",
            "b0e1faad5c75454b9b615fb44c365f97",
            "0d4449e350d04b738f3dfd687e2b6227",
            "1bca346184904691ba4c195f077ced60",
            "a616300faea744a3b9231601aae77cb1",
            "c64ef17a734d4e948651378c7ac6e405",
            "af495a98c006425e8fd44df82a4290e3",
            "770b26194c3e45f1992fba7ee60b10fa",
            "0fa0d87dfc18447d958c775310e26f37",
            "ef4e3a72017745c7a3f0b0c6c870ba8b",
            "e204d6fc27c84930893e1978e26f19be",
            "84bc6b6e077a4b9db49c26ede27c2e1d",
            "55b75bdaf8bb4c89a1887a56e20bafbc",
            "73efd317a886422f9f41894ef0354e1a",
            "8295e66c44a34f8f897dd07effb4d39f",
            "d267729f9a0f443f817af2dfb30ab5e3",
            "22169832174348499b6d4837be5cb674",
            "4dc5c102403e4ce59e06a7c91da539f8",
            "d4bf6ecbec764406b4c44354e57f93c6",
            "84cbdfa900f04bcd9a6417f34b2cba59",
            "21de3dd7ece9473084eb355b9803ef02",
            "440d95f4aa624c92ad49daae55403ec0",
            "225cbe824bc14186825321357edd2fd8",
            "f413bb4cdd5542bba428583e0d76b4c9",
            "02705a432a3d4334afa6ce9d1633b727",
            "f17dbd8103004447b6b38b4afa2e3bd4",
            "87655f879a5547cc86e1c7d4677b5cf3",
            "169671aa9e874be8a318315b5d6779fe",
            "ed5fd93a9ab5409e9d8a718770c89d18",
            "fec387c448de496eb88f5e751f05beb1",
            "c1fcb1d5c60a41b38c770e7dcdf886a5",
            "d79c5af9bc1f4d55b57dea03873e08c6",
            "407736fd45a34807a0db72e3f3521ba4",
            "76204a46e8dd45bdb3e9e5944ea75b3f",
            "f1666f14da504c2caa67bc05a5d3879b",
            "9b28d0331c7641168359f818259403b9",
            "ebe5bdef467c4a928136bb560ea15c7d",
            "ea57e201d7544860b0c3227bef85d642",
            "23cb44c3a94542fda65d5c6d8675352d",
            "3cd726c0befd48888c5a82607fd211f7",
            "e8a83a0932c44b66ac010e3c30c54849",
            "edae64cad2484c22af8074b4430a6bc0",
            "31503bd23ed842b3933c31b0b6bf6a68",
            "33c5a23b600142cc81bbf68e4f78f6c0",
            "fc8a8da5adb9455dae678ec503c4bb8a",
            "a4bab5dc8e754faf9ca22e1cb6a19476",
            "4f2d939e5a0c41058f7000ec82155f42",
            "d4d59c9ef4af4f3885b5f2d2ff9eff47",
            "c3a7233924a54fceb39010f79d98d582",
            "3b816804c6214573ba8db4e5800eae83",
            "7bcf8af7e3d7484bbbc0d553e6fb37a7",
            "941d155c3c124984afa82a944efb2eac",
            "86559e25991140f9adf32de332aa3876",
            "04e7d85b468c441188aa5ee080faa1e5",
            "24dc60ccc6314cc4a80ae281cc629649",
            "793f9f5261474497ae4c1c198e834330",
            "22ff23ed1e39467498ab8e4cbc37ed85",
            "67d2ee29701c4ff7ae41b8a569206204",
            "dc4b02401b2b46b08a37c690039ef8e7",
            "0fb3518ed8e94239a602523dd7fa560a",
            "20d6845823ee459db35063cbf72a0406",
            "9d4a4f0b9e574201ad141ebd4b014c1d",
            "63029b9d30264ceeb6b1c0e64be3de6c",
            "2f95ddd51889470d89aedc281dd930d9",
            "901c35df0c734c9ba57bb9450efdb5bb",
            "2ab43c5a4ed740c79961666ad5c080ef",
            "b89252334f0f4504a16dfb387a51b6f5",
            "8424eb5a86c84d48a9d50f1e8f31a4ed",
            "3482a4962d4a4ae38accebcd775e952f",
            "66872f972abd44cc8cb157af58c9c0d6",
            "17315f2e673745548d7da864a7176b0e",
            "4b9775b40bf14a738e5cae891185d99b",
            "2124c40e6b7d4519855a571336ca3983",
            "ed78707154fd4335848a5c505c4be99c",
            "d811a7e910a04fd0907d72eefd61ce3b",
            "5f39369cfe804581ad8d8b7f48a91799",
            "c37529151dc44cbbb56c465345884023",
            "caf1c05404bf41d0bb29acffcd1ab610",
            "6855ff34aca14b94a99366b3bdc61962",
            "fc061b9682e341adb606d7dce755ed3d",
            "73c9b1a862d6485baaeb3453c1758364",
            "25744a2054154c65b293723d1e7bb73d",
            "2891526ee86240c9977f7cc9a1acf673",
            "eecbe78c0bcf4a7abaab804c58251c4f",
            "0692f31a57d34169a114cbc72567ed14",
            "3efb934fc8d04f00b1427b5d6d2a4b05",
            "c6e94ae832f4448fb5defad6bc7eba79",
            "42854f06fb3d4895bb9d3d2c961ae6bb",
            "59b374101fc4432e99e4df539bc32202",
            "86232acb056442f69290a93a981406a0",
            "2f9dfe6fc07945a8903f0e73aebb3368",
            "54eec7c42142431db4f6176853b51534",
            "c0fffcc0fe81464282eba9807b07b747",
            "db731498c6fb4a1196aa559ba4453de7",
            "de3ea602363a4049b291137d1d49b64d",
            "b43ae073a9534bb4922d434fd4a38b3a",
            "cfb2a58083a14fa0b83c8ffed7596806",
            "07c39abef39b45b8a62e0e74cfda58c5",
            "962cc30086334984a5056eaab7c5226b",
            "9e2466a5d0e64c239ecf3c052e18ed41",
            "b0371cabe2044dcab19d168a67448496",
            "5111641f017445ccbbb9c0f55fe4370f",
            "330f5c9e8fa94ef98099bb25c029d727",
            "b65ecff405204eb5bde99fab145af420",
            "c347b4ef8f4547b4b1e3f02e4bf917c5",
            "d6106e9a57394d4a8874a510464a5124",
            "0ffa5ac402f040fdb6bbcf791313b042",
            "ade186d75bec4960a893848641ae66ea",
            "47c6be408bed4f64bff9fa7289e4ead5",
            "4e987ae71ec148c6a2080e78992d8540",
            "d0a977f9212548dab0b98ca06a2a5d39",
            "c213b1f7f9ca45a28ffa19369aec8952",
            "171781800bfd4f7894910dc5357c8f39",
            "5cb527e51ef14459889760d1f49327c6",
            "c362a23fef5844ac80cd9ea6e2c015e2",
            "dda687e335db448392ae834d4e01d547",
            "278c9a14978945e384b12b920dc1e3a5",
            "a71b7f2135eb4a50bb4e8c594cc3875f",
            "52f7d32e44c1425e950e1329454ee883",
            "3abf7a99f2e949409d9e2a399f112186",
            "3097e17bab4d4de09ed4373ef1375360",
            "0d124543e6354ece943d4f73888961ec",
            "d470d3377ebc42d98e2dbe12e6505941",
            "8c16dcce57424c5798ac33229b66aa57",
            "6ef1d2b58d094d6393a773276405e3b5",
            "fa8b0b7f6cfd416fa304451ce99f5586",
            "81483fbf48a64c80ac43495a040a50a3",
            "5acfc851e4f74effad9133c9f3cd9b89",
            "62eea885cf274ab08936098eaa314294",
            "3c3cfb32b41b40d786857852e4da174a",
            "88d37018ee254b69bb2285bea0d25dbe",
            "1b3bd080110440d49e127aa366ed4920",
            "91da20f6cbfd4180b0791b45bfd51eab",
            "79730d4ad06642acb0470d4c34b60fdc",
            "afe432e667ed4230ba3be33b3720d86b",
            "818829523b114887b6dd2b5233412d75",
            "5ce592c0a43942faae2bb6bee4820d73",
            "14a4a1a34bdf43c5b203d7b0605e9e1d",
            "644d23b2d3954d91bfe515e87dd19c71",
            "14c30107b33c4f04a3d7be0702343469",
            "adf061e339c64c9ba10b1ef617ecc8f9",
            "731138df89174af1b318121a18f267d8",
            "81a7f224c6514ab8aa67b9501ace7dfe",
            "bab89d11b2254b569c1b725de023f953",
            "1a27cd2b088d49cdb2c230bc942cc3c2",
            "7440fc33a53541e89c9568ae3acea485",
            "de0a5fba7245445da7010ed156f0ae2c",
            "d902567b5df340319fe4ee0e9dd57e0b",
            "ca474e3a67fa44abaaf47a71a0a0df90",
            "4e87909c36ec4970930d175e9b91aaee",
            "d7a2b09280c14341a9860af63830fd95",
            "31254a03b54143f28130575b9dfcb655",
            "3d1f7a80f3ec48cbbb5feb8502609a1f",
            "46768e7dd9454dbb8b189b300f2e12d3",
            "e2c4695bdc78439aa6c6f7f6841f8d59",
            "3baa6a7814604fdbad229152267fd2f9",
            "6b65130e289a4a0ca5b07eff1a9ef5b1",
            "993c3c3acf4145b888604d682d05f318",
            "be6e847716f341c6a21da124305893e4",
            "892e92ba30b44f559456da0b468d31f9",
            "5e725543f915457e88dd3b56aa3a6f00",
            "0e256418cf8340438913d5092ad6354f",
            "1585debbe88a4ae7918417c24a08b4e9",
            "97a3e4f9e4514f8697df816044d5d9d3",
            "6cb4a283f8914e769faceba1a53b30e2",
            "fae2fa38b8ab4373a67c94dcfabab940",
            "4e812e8e05a0443a99896e135ca4cc16",
            "e8ebe4032fa5486bad39d47ba2fdf1bb",
            "be7c38cb34c649ccb0bd2478d763b504",
            "3cd38b9bee944503b581294da155a942",
            "7d1c75e9003f4a739ec4cac2f7fd83b3",
            "713f7319c8fe4a3c91b8e0cf5a979c4f",
            "57793fe335624420b94b06afea9b2c6b",
            "1bf5624772a84e5bbfd710491cf8c3b6",
            "c15b042b1a2545f5924861c0ab7e5013",
            "21544dc9a2864243ac71808be4a464e7",
            "5100d9ff5a1c416087609afd68a1db38",
            "77ea8acd89794c829c8780d886c922f7",
            "a373725d509249898f717437f4b78515",
            "3fcb2fc86557460bbddf7fbd0ec12267",
            "e0218ea457c249caac2d39a8079a4b96",
            "610742850acb48088eb05c944cf23b0a",
            "5e2c3234877f42029b4fc2d7ab2e082a",
            "a76eb8094fd949f1bc50b3730ea53894",
            "3088bc68a1d3416b9bf2628f4239c688",
            "ffd5196dd7f544408f890800ea8d71bf",
            "77c681f5ee1f4202acc739bd5087d940",
            "912026d71ae8459abc8ca24ddc597c2a",
            "3a13baef1b844887a087df5b9b4e8b6a",
            "b976661912ce42c19f93ce1bce179dc9",
            "1c5f289498d6414eb40596dc733851d3",
            "f90dd88d5f4b4d0fac15da687cc4787f",
            "c038a558c05246a7995e37c4066aac15",
            "54ba9707fb704cd08bea434ffe06f953",
            "cd472f941c4743a8bd8de3533bda1b03",
            "de4c0187abf64c70bf97cedf93bc66e9",
            "6eb0ffd2dc1648b8b289ffc54259789d",
            "019846a195454165acd8b7cc4d09fa29",
            "3df34327f17442ca96ec96a853c31956",
            "f0bd1e890c9f46368a6bfa362c78b8bd",
            "bd6bb209bee146deb8cd8479cdbbc734",
            "8d7fdee5c9034a93919afa4dfd59dd32",
            "070e0212ff684e7fbb35562356d5159f",
            "a84cb198451f43f3b3d72c563f4c0bbd",
            "f6a149b9e1c44029ac42bbb1e7ccfba6",
            "886cf50c0fdf43cd898d7990f6d5434b",
            "015969f0cfa0409fb141d8b725971ab5",
            "3e99a0093f7e4b38afccd5b3736fa143",
            "8a659cfd05cc4a5da630af87e749aab8",
            "e68ad5e1afe6407ba31a569b7bd7f178",
            "8d1e9055a82a46f89cfd4c400c97d5e2",
            "7a5b45fa0c864c3c8aa02dcd57bee1ce",
            "bb97c3a3d0164b9f854f10ac9f44948c",
            "b801f455e45d43648aaf6a515afbb481",
            "d5e80b027e164d429bda072491c937c4",
            "5786e78e24794f9c9eb60a1610b5db48",
            "64978a54ff184166964cd451abc65034",
            "8b3c2bb2c2684d5795b8008f9454ca48",
            "c73dcef98b034a9787ddb42dbbde8c77",
            "d9e2e4c6b5874597bcc5fe77e4b26d8d",
            "ddd2f92a06d1448da4a9f1eab362c1e2",
            "2dd4d7968d11432d90b5c295693324ef",
            "433029f3f4434d45a0c07bc3cf571c01",
            "186beaf1a4f04c6ea2acbefeeb5b2c54",
            "e8d62cbcdee74792bdb3426dabad8ff0",
            "85ec646ba9de46f597ecc0eead0c59a9",
            "87315ee6b24f4e12be7f872fcb5853be",
            "94ca1bbd77ac4d228ab75e725d9c0dd2",
            "e849625f20d34e7caef3e619e43e4df4",
            "d7e9ec454cab4e23801ee7bacbf7d0c9",
            "b063331d5c6a4fe0b6cb3f6f3f6b76d8",
            "9ca62ac9081e4689a321f43cb591d89d",
            "9328fee70db8443fac61a3805f298215",
            "ebfb312be53b43aca047dcc9792b4148",
            "2c0c03e9188946048d1e8e8ba857e480",
            "64b8b2c6c7f74815b607a2cb8b64f9f9",
            "283201b1e32f487d8fefef5bd6056a08",
            "db8486c82be143e582bf45a51d620a6c",
            "d8a4ad0239ba4994809937c70e6ed0df",
            "a7de2a74b0a34a48b50ee49d73a1df31",
            "b27be6489ceb48aea9543e588307984e",
            "47879a018ce8430c8874df05f89b07d1",
            "c496060bcd9f4ed88ca880656d71d49e",
            "7c67c7952752489d8b31de3c46f2a895",
            "99c00dd015d44326acb7626519814826",
            "20878c9b09334b27b07fdbf1361c373d",
            "adebb83e80814f029a13e921af52ee03",
            "dfd907a982784b3090b9a016f7d13c42",
            "672829d099d0446db644c440a72a8543",
            "b885a535cc154a1e903f8e401e2f91a2",
            "e7c2ea1c5ca4445ca1f2f06e1b005dd8",
            "25dc33105ac04aa4bfe3209bd804ba6a",
            "6787234e99d34e40b9636a60eef02305",
            "674b3ee0c0e54838a89fec57911d2131",
            "f627b48c8c5e4d3e8e6c45ea6544c080",
            "1ffffff4833b4d85a96c10547cfcfe86",
            "f0a246a75b7e46239e9bec5a48bef95d",
            "b07350b53196408094ac449cd986a804",
            "6e3b3f8378884fa088bff4b4c84525dc",
            "a67ccde3e9cb454d954e9604771a0a8f",
            "03cf87113baf47be85365740e2c6029e",
            "e5d618155c284531a1fba0ecd5e76fa2",
            "6f1fe84efda742cb8b4f551620ecd2a9",
            "6805f3c2027447bd88a1d8c2b22b4078",
            "00e4b535612748ff86c555dda9fc2484",
            "4b55316c3e4347bb8faeeddf7448d80e",
            "84e7311c714b4cbe90cdb4ae5e43c902",
            "a361114fd52244f1ae1dcf0cf30aef73",
            "5cbb6b19053e47ea96a806eb2f847224",
            "4869e33586ce478eb01285abfd00eda9",
            "b9d616591cf5404ba49a0816a4365ce1",
            "70230fcfa4d14fd8a91cde7658cca44a",
            "af882a3727094d38a64fe9642f94afe8",
            "62cc836e95594b72a5792d6872609c3b",
            "ec69410f312e451ba58e0d95dd452a35",
            "05f2f28633754d92b914aa7437b7d096",
            "a1199674f420483494514e06be4c00e4",
            "efc005d04c564a6bb549790105aa2864",
            "a5559d83f9824c1688ab5c042711a8d7",
            "6205cd34964e4586875507d027737928",
            "4bc31eea577f407b99fa94b540f25a94",
            "c28266dfb8264d47b59caf0c3a317846",
            "1b3a645b234f44c39cb3b776e83b43e4",
            "e95746f25cb448fcbbbd20f183456f85",
            "cd74f186d4df4420aadd33f74b6ffc50",
            "295c99036c274e8ca59c409d20080bb0",
            "17b96813127e4088a5d2d63bffb4c1c4",
            "9af782085edd404b85424dd656a2bce3",
            "4b756aaae17b4884b367da498d75a341",
            "87fea992248845c6898d524d00809048",
            "d7bf60d123a948c4a5ea18704fd41271",
            "1ae18798efe74696a2af0ec34f7cf4f3",
            "38a13b2012664f38bec749ce53a5f1b4",
            "f29b95c2f4ef43ba9b21c3793a78bb04",
            "7b79c4b76c7846e588194c4f3b185766",
            "eb36cb30c0a24feaae854ce6251370aa",
            "06a055bb51e243968f570f6402182ac6",
            "c85d2a9f44014d83bbdd5be36239f012",
            "7a717c66f57443a88f1d263235e081d8",
            "bc20ba93b0df48fcb304bb8bc4d9c9a0",
            "fe153833ddbd4533b06e5bbb7a63d2d2",
            "a0b3d33e0ae34d8fbb913d76fbc2b5bb",
            "bd1fb90dc7ff461a90f0d43bbbf48e02",
            "771ab32c8d2142238f68cb146adbadb5",
            "d74e5c40375d4bcdb3c6f063192228e9",
            "9bec18d6dabe49bfae5d6c8438737590",
            "9f5c9fba696445deb694f856baf3de58",
            "1e5c141cf8224176a17df4849aa3d88d",
            "c1f33120bb3a4b678fddd3d64cef8dbb",
            "62a149905b5f4a10b7df3b0fd01dc6b5",
            "466e1c1f31eb4b889910d748ebf235d3",
            "4dac9d722a6d44a6858679266ff45e34",
            "bbcba2fcad0d4d8d81490555b62ea4dc",
            "4bcde8607a0c4dd5b79dcd830bbfbc5b",
            "d859f25777bd460290a3ca7f032e7c21",
            "2d9c82a974af4c80867aca6813d331c0",
            "d57ba3c95b344348a0746ae5adeee115",
            "ea2a01adfad44671b4b4feab261f5a17",
            "180db9b0bf404e7d8de48c463ab51167",
            "19df57d114ca4a0da7abf4ca64b289c4",
            "c5c7d942928544adada01e619282142e",
            "68a71696a120455ab8427ef3799b784d",
            "c6acc0619d3b4167b591bd0a2c9d4de7",
            "2be98be56e4a4c3eb93b72ac2a05cdfc",
            "7f70bb06babf4e5c8b40306358a29983",
            "197e665a981e4eda9fef8040b94e649a",
            "0a3ef0697a004af4b6082e675d38c4b3",
            "c74643f86c0d4b988f8895919dde2b2c",
            "4dc97ee6b929417d9df898a8df38e3c9",
            "a6ab5e2cbeb94c83a6a7d42f06da29a7",
            "c9953002dcd144da9d19786b4014ee08",
            "dcee064babf3488e9da0b45335b18638",
            "e0e8d0c3150443ff88fb0f6bd716c9ec",
            "0e885ccd5d424dc3ba189070dc6970f7",
            "1250a0061f4d466298fefcfa45aaa655",
            "eebddebebd1046b1b813acf6cc69ec01",
            "b9fe51e178414127b5233c4753d5de12",
            "a83f2b23b7ed4c4f96474bbc6d9a207b",
            "7fe421e95cd345e189263a0cc9df1ff6",
            "07a5c01942c046308277e56640ad1f1a",
            "86634c0cc5a24bfa9a8c045073cf34d1",
            "4cd1b4817a324bdea52a88f3e4935ece",
            "b4157b833af74980b3676f5dc5fb3031",
            "3ea0e3b41bc1418c956e6cd6cafc101f",
            "979276645e814d7cb5ec8bee3079d0de",
            "090717a8f36a4ea18e315934efe1b31c",
            "8aa75d8418394eaa923384a1fc892348",
            "d4f47bdea3114086a7be73758fde78d2",
            "1d54a73cae3641c2817866797a01f0b3",
            "1d5f2297d72e45e28529ea279ca7dd2b",
            "833d2f41ed2647c187fb4bed8c59379d",
            "f70ac15026eb441ebbe1c600cb69fdca",
            "91db4c0437be4bdd94d6a168c9b71058",
            "71229e7ea37f48a49b2db163bbcb87a6",
            "2f5e5e425c674363b31b6c6c6ca0a093",
            "48feac1aee754c818cb8d34e9520152f",
            "32fe1199d9bc48e49ce6d7d760e55794",
            "fb9f3cb9fe1541f08bff5399c8ab4a9a",
            "c39c387f9cd74beb9a4c8dba124191a9",
            "94f139c1a57142cea9f513ad512b74a0",
            "d3b6828233b54df9a6a5055a051c585f",
            "9ac083f1304242759a9ec319f5ec7a42",
            "576245e25c8e4c5997a2d01718a6a22a",
            "9d39817d1f9a4b76a8ff2050f42c957e",
            "ffe704b1b0f44d1e9a8529e3e32ecc73",
            "fc0a93c886ee49e1b6f14a393266b8cc",
            "caa038ffcb264c6992868223eadce54c",
            "7950cbf5c21a485f80ec9f95e7796ab7",
            "2608db82e20f41e093bc7a1b35105738",
            "3d5d1e44844548d584fd7f8d8317a53e",
            "dbe37a3a9df44967a071659b3404dd91",
            "aa6edd30d8dd4b0e89024363e56449e5",
            "7ac99525c3544800be80228d00b60f7e",
            "8cd4687475784db5abf8dad469866430",
            "51fed03b63564deeb8eb8cad2892e32a",
            "c6db431245514196aa230ddb7553f37d",
            "fce74765b4364a9d8634dce3d0ee7cfe",
            "1cf9d2a6fd9b4cf5a0af68cce0da4e5c",
            "7210a4d929914bc5b0a1a87f9c4e0769",
            "30821bdb5f9c4c2d8b4456371e605fd7",
            "a8b3ede921c74322ad9a284f63bfbc67",
            "096a6f56447c4faab767f17ecfe392eb",
            "54eb58b41c1d4e13b396742871463748",
            "c0b993c1e00046feadd742c29719856a",
            "f45751f5426e490394f9ffc73be1498b",
            "9673f1b0bbbd4d60aadbf7893dfc050e",
            "5c051b810dce40ddba98f1abec64e53c",
            "a1b6caf2e95c4c44bfacf2b502b69ae6",
            "15f7b4c47932421eb2c268cf76837495",
            "d65e58169ed44ba098a96de25b3c06fc",
            "d0f3c6e3ee114b03989d80d7969b1775",
            "ec542cd990d8444ab9001cb6738173f3",
            "717282ec9a8f445da323c8fdb175e95d",
            "119dbc7651784ea5aba82cffce9c0214",
            "05f1137ff8dd44f8a474715ffada94c5",
            "4f1539ec7030426d9bc925c707a1fcaa",
            "baa649aca36c484bb0c33a4de4f12959",
            "531edf5b0dbc49099160b1e4ed0fe991",
            "90f07cf0ea8d434893c36d0603f5c15d",
            "a910470701304b8c9dc565890b0489ed",
            "2f0770f13fd34685b2a0f1264b681e86",
            "26f01943d71740b0954d076e5731c416",
            "ea4e06a8459540c9a853f586d5e8990a",
            "485f517bb94b4d09bcf5b218fde0a37d",
            "71a271255267498bb8ebc2ec540e52ee",
            "408282ae8c3a4517beba7f75dd40c0a7",
            "4b10b193faf44da1a0258bae8e00a0a0",
            "db4039522f9e4c288ad6ec8698a0aa14",
            "2000a78f488f4be984c6420ba2fb33c3",
            "5cff503942e34c7197c554e408296bbb",
            "9e603ef3fb3d454fac2f8c1887a7f70d",
            "1f6d826ae516458398b19d97afd63c3c",
            "0c110dcc5c87451aa924e3de1da6db2a",
            "d2f9846a905949e490b8f78b620f34d7",
            "88c98480bdbb426c98a58dfbdd738822",
            "9f6a463e7f374440baa979442f2d34f6",
            "b7b47501d6104c2c893b566dc36a9a64",
            "e4edaeafa7fe4fc3bd82f35dac5681dc",
            "bbe69ed198df4e08b3cd734e4acaeb15",
            "36d43f07169c451cad262c2c92aee2a1",
            "a2150c246e46433c982a3c9e07ae56ca",
            "14f4083f7ed64451b1077eed51d509be",
            "26d1848b2a5c442ea845bc0c18ff6890",
            "80c7812b2f2a49fb8f36aef751e4e96b",
            "6cff63e84d4741a39732caf3519dc562",
            "5fd50678319b4fa886b1d06519ced0f2",
            "5dca063613a94f58b57b28da47b0d848",
            "e61aaf5170084e75832b89fccebada36",
            "5d3052b0b41a4d648192fc006761b6b2",
            "5642e03ffae24668b30d11df2b48350d",
            "861297e94f5a454fbd3c13acfbaa6df5",
            "df2847ad363f40e9b9052e33d4efd954",
            "dec898af0db74259aeefead557cbfa68",
            "1b8a6ba8e39e465fab21e9704cd5a389",
            "ad696dd39475469cbb6ebc3319e8c9b4",
            "25acb03dc5e34b40a1e9b7d2242c23cb",
            "367a2778158c4f9894a0083d07a75d36",
            "51523d3b8c6540dba95269905004e728",
            "2398ea6cb70d4e36b9fbd66bffb5d3e4",
            "97a7e18411854238ac611e4f6c990f5b",
            "c45ec1d82b1e40eebeb1d02cce1aa7cc",
            "36e636b4a935470ebd842479817bdb43",
            "5252a11c63e24da08145f1776906b50f",
            "b60e2c1b9ee04d32bb304b8d8ab0b8b2",
            "9d6d51373523437091476bd9d3eaa006",
            "827ea76b4f7c4fa89d4c16193b306175",
            "3df99bd7809340a783186c61194745fc",
            "e9a30b3f3be34d99828f70e142bd9620",
            "870cd9566be7403bb295a33f7018eee5",
            "cd9ed1f3968c4933ba35fd9f16d6101b",
            "5a2d5ec4a1c244739a8dbc91ebb3f6b6",
            "a37fa1ebfcf845869b70fef6025b6776",
            "9a6e85ca63fe4e7c839d4f20988305b2",
            "5bd3dfa136364d44abb78997b66b876c",
            "6ed128d21e634fb78b880cdfcd629d22",
            "103be2711d1b41a7aab3cbae06c97af7",
            "10fa6f20e2fc42089d41533e2f02ef9b",
            "5a2df66b370642b8a3c78e0adf02a857",
            "188ae4843ac94d0e9657123a28b6808e",
            "c968cca99c1f43d9a757008c8217c292",
            "920325f3d7774229911d7eb46c1235ea",
            "67d4f1419abb4fbcaad87acda10b8016",
            "c9aa0fa64f344a85bb39caf06f997b74",
            "14a051560bd04bda9be1d511ad9ea7f7",
            "a517d6ea847f4166822484aa3ee6f721",
            "66e6f8ba558541c0aff52b4057dcea2d",
            "17b75b12228541a39100edd109f598b6",
            "f1da929cec7848eab2cf8f57253738c9",
            "98f98445b8ab47ea90a19ca8a04f691f",
            "88423d0a4a034bc8ac838d8515871e42",
            "34b4abc636e84a9fb4204b298b451a54",
            "91f5d309d161402b8f2687b2d754644d",
            "75f82fd74c3c46f591b81a973b9a0d37",
            "481423f7e2544c3baf2b86e2dad500e0",
            "c6c578a3aa714f378e8e330375c6c883",
            "1da2505e80104d32afbac6b261df7c2b",
            "1820c3cb7e374b6b9619a5ee4856b517",
            "8fa6f256d771477595773556132bcd06",
            "62d3496b41b24b74b8419723e4651d1b",
            "e5dcf0b75a9f44c195aa515b81661d6e",
            "5cb198252946462d8d9636ccfbfe1fe4",
            "f2ca9c7091774a86be29392b82b26c28",
            "d5a41405e79d4209a0e43c77c4dd3cc9",
            "30ba39b4742f4564b7e611aa5c087056",
            "86badf334ade44258f73c8722ff887fb",
            "63366dd101cd4870837594fa475f2041",
            "38ca6990ecb345ebad7ed2ce9029b487",
            "b44add154b2e447fa8ccf4b93e643380",
            "fe1c104d5ac046479ba4978d49fb2de2",
            "80a6735da6dd4ef78caf92996b8da8ac",
            "a9fd56e6c84d4daf886ec7eb98c0022b",
            "db4c1fe882be4fcb85f2031453901474",
            "4e0a2b01dbc7457bbafa4737fa7ae57e",
            "d41d13efc16245eca515a612633ab68c",
            "a9bb9cf41a5845708405866d61e53d11",
            "0cd612277c3647c0b7ed91ef9dfd0a5a",
            "2c8cd05238d94d489f3c5662e543534c",
            "f54ead2df1bf4f6cb1433e657f6ebaf5",
            "9b3f64f704ec4f27b10b00b4c31c8955",
            "a30cd387f7904f1ca1432629a493567a",
            "cd9a9230017947c292f94ed851f23991",
            "d781d746e19d4a4883eb93e0d52eb663",
            "49cefe1d06f94681ac8542dbdd46647a",
            "51273db99b5041ae940708eb337f665c"
          ]
        },
        "id": "c-qFUjWNGYlV",
        "outputId": "ef017434-fca6-4e93-9239-da6bb1b792d3"
      },
      "execution_count": null,
      "outputs": [
        {
          "output_type": "stream",
          "name": "stdout",
          "text": [
            "\n",
            "============================================================\n",
            "Epoch [1/200]\n",
            "============================================================\n"
          ]
        },
        {
          "output_type": "display_data",
          "data": {
            "text/plain": [
              "Training:   0%|          | 0/196 [00:00<?, ?it/s]"
            ],
            "application/vnd.jupyter.widget-view+json": {
              "version_major": 2,
              "version_minor": 0,
              "model_id": "d280752e4695415bb75fb76b72ede23c"
            }
          },
          "metadata": {}
        },
        {
          "output_type": "display_data",
          "data": {
            "text/plain": [
              "Evaluating:   0%|          | 0/40 [00:00<?, ?it/s]"
            ],
            "application/vnd.jupyter.widget-view+json": {
              "version_major": 2,
              "version_minor": 0,
              "model_id": "cc5491b0e98d42f2925972192844b4b7"
            }
          },
          "metadata": {}
        },
        {
          "output_type": "stream",
          "name": "stdout",
          "text": [
            "Train Loss: 4.5060 | Ttrain Acc: 2.58%)\n",
            "Test Loss:  4.2552 | Test Acc:  5.35%\n",
            "Learning Rate: 0.012197\n",
            "✓ Best model saved! (Test Acc: 5.35%)\n",
            "\n",
            "============================================================\n",
            "Epoch [2/200]\n",
            "============================================================\n"
          ]
        },
        {
          "output_type": "display_data",
          "data": {
            "text/plain": [
              "Training:   0%|          | 0/196 [00:00<?, ?it/s]"
            ],
            "application/vnd.jupyter.widget-view+json": {
              "version_major": 2,
              "version_minor": 0,
              "model_id": "4bb7ffd063df4eebb6d3c6e93af961f8"
            }
          },
          "metadata": {}
        },
        {
          "output_type": "display_data",
          "data": {
            "text/plain": [
              "Evaluating:   0%|          | 0/40 [00:00<?, ?it/s]"
            ],
            "application/vnd.jupyter.widget-view+json": {
              "version_major": 2,
              "version_minor": 0,
              "model_id": "f0a39dc44eef4e6dbb8e3f511107c542"
            }
          },
          "metadata": {}
        },
        {
          "output_type": "stream",
          "name": "stdout",
          "text": [
            "Train Loss: 4.3305 | Ttrain Acc: 5.61%)\n",
            "Test Loss:  4.1598 | Test Acc:  8.48%\n",
            "Learning Rate: 0.012789\n",
            "✓ Best model saved! (Test Acc: 8.48%)\n",
            "\n",
            "============================================================\n",
            "Epoch [3/200]\n",
            "============================================================\n"
          ]
        },
        {
          "output_type": "display_data",
          "data": {
            "text/plain": [
              "Training:   0%|          | 0/196 [00:00<?, ?it/s]"
            ],
            "application/vnd.jupyter.widget-view+json": {
              "version_major": 2,
              "version_minor": 0,
              "model_id": "930981d5fcf4448bb185bbc00d475829"
            }
          },
          "metadata": {}
        },
        {
          "output_type": "display_data",
          "data": {
            "text/plain": [
              "Evaluating:   0%|          | 0/40 [00:00<?, ?it/s]"
            ],
            "application/vnd.jupyter.widget-view+json": {
              "version_major": 2,
              "version_minor": 0,
              "model_id": "20ed39754f2b49d4b135e7698c927345"
            }
          },
          "metadata": {}
        },
        {
          "output_type": "stream",
          "name": "stdout",
          "text": [
            "Train Loss: 4.2272 | Ttrain Acc: 7.69%)\n",
            "Test Loss:  4.0014 | Test Acc:  11.11%\n",
            "Learning Rate: 0.013773\n",
            "✓ Best model saved! (Test Acc: 11.11%)\n",
            "\n",
            "============================================================\n",
            "Epoch [4/200]\n",
            "============================================================\n"
          ]
        },
        {
          "output_type": "display_data",
          "data": {
            "text/plain": [
              "Training:   0%|          | 0/196 [00:00<?, ?it/s]"
            ],
            "application/vnd.jupyter.widget-view+json": {
              "version_major": 2,
              "version_minor": 0,
              "model_id": "e748c8418957451f813be757994ea088"
            }
          },
          "metadata": {}
        },
        {
          "output_type": "display_data",
          "data": {
            "text/plain": [
              "Evaluating:   0%|          | 0/40 [00:00<?, ?it/s]"
            ],
            "application/vnd.jupyter.widget-view+json": {
              "version_major": 2,
              "version_minor": 0,
              "model_id": "ac997995c45f4e4482f370cdf8763713"
            }
          },
          "metadata": {}
        },
        {
          "output_type": "stream",
          "name": "stdout",
          "text": [
            "Train Loss: 4.1514 | Ttrain Acc: 9.20%)\n",
            "Test Loss:  3.8993 | Test Acc:  12.00%\n",
            "Learning Rate: 0.015147\n",
            "✓ Best model saved! (Test Acc: 12.00%)\n",
            "\n",
            "============================================================\n",
            "Epoch [5/200]\n",
            "============================================================\n"
          ]
        },
        {
          "output_type": "display_data",
          "data": {
            "text/plain": [
              "Training:   0%|          | 0/196 [00:00<?, ?it/s]"
            ],
            "application/vnd.jupyter.widget-view+json": {
              "version_major": 2,
              "version_minor": 0,
              "model_id": "3a1f6b8a600c4aaabba14a75bb008272"
            }
          },
          "metadata": {}
        },
        {
          "output_type": "display_data",
          "data": {
            "text/plain": [
              "Evaluating:   0%|          | 0/40 [00:00<?, ?it/s]"
            ],
            "application/vnd.jupyter.widget-view+json": {
              "version_major": 2,
              "version_minor": 0,
              "model_id": "078e21076f764f85ab639761606841d9"
            }
          },
          "metadata": {}
        },
        {
          "output_type": "stream",
          "name": "stdout",
          "text": [
            "Train Loss: 4.0797 | Ttrain Acc: 10.90%)\n",
            "Test Loss:  3.6752 | Test Acc:  17.24%\n",
            "Learning Rate: 0.016908\n",
            "✓ Best model saved! (Test Acc: 17.24%)\n",
            "\n",
            "============================================================\n",
            "Epoch [6/200]\n",
            "============================================================\n"
          ]
        },
        {
          "output_type": "display_data",
          "data": {
            "text/plain": [
              "Training:   0%|          | 0/196 [00:00<?, ?it/s]"
            ],
            "application/vnd.jupyter.widget-view+json": {
              "version_major": 2,
              "version_minor": 0,
              "model_id": "cca3613b65fd450d95a99d0aafdcde4c"
            }
          },
          "metadata": {}
        },
        {
          "output_type": "display_data",
          "data": {
            "text/plain": [
              "Evaluating:   0%|          | 0/40 [00:00<?, ?it/s]"
            ],
            "application/vnd.jupyter.widget-view+json": {
              "version_major": 2,
              "version_minor": 0,
              "model_id": "8c810216b18948e887f22241eee5d566"
            }
          },
          "metadata": {}
        },
        {
          "output_type": "stream",
          "name": "stdout",
          "text": [
            "Train Loss: 4.0293 | Ttrain Acc: 12.37%)\n",
            "Test Loss:  3.5244 | Test Acc:  20.64%\n",
            "Learning Rate: 0.019049\n",
            "✓ Best model saved! (Test Acc: 20.64%)\n",
            "\n",
            "============================================================\n",
            "Epoch [7/200]\n",
            "============================================================\n"
          ]
        },
        {
          "output_type": "display_data",
          "data": {
            "text/plain": [
              "Training:   0%|          | 0/196 [00:00<?, ?it/s]"
            ],
            "application/vnd.jupyter.widget-view+json": {
              "version_major": 2,
              "version_minor": 0,
              "model_id": "3d9979a6e42b4c32aa4796ef9f6335d1"
            }
          },
          "metadata": {}
        },
        {
          "output_type": "display_data",
          "data": {
            "text/plain": [
              "Evaluating:   0%|          | 0/40 [00:00<?, ?it/s]"
            ],
            "application/vnd.jupyter.widget-view+json": {
              "version_major": 2,
              "version_minor": 0,
              "model_id": "cd02a42a0a154501857b78d20605ef0d"
            }
          },
          "metadata": {}
        },
        {
          "output_type": "stream",
          "name": "stdout",
          "text": [
            "Train Loss: 3.9428 | Ttrain Acc: 14.29%)\n",
            "Test Loss:  3.4121 | Test Acc:  23.62%\n",
            "Learning Rate: 0.021566\n",
            "✓ Best model saved! (Test Acc: 23.62%)\n",
            "\n",
            "============================================================\n",
            "Epoch [8/200]\n",
            "============================================================\n"
          ]
        },
        {
          "output_type": "display_data",
          "data": {
            "text/plain": [
              "Training:   0%|          | 0/196 [00:00<?, ?it/s]"
            ],
            "application/vnd.jupyter.widget-view+json": {
              "version_major": 2,
              "version_minor": 0,
              "model_id": "b94e31b83fc64519b07d234086982650"
            }
          },
          "metadata": {}
        },
        {
          "output_type": "display_data",
          "data": {
            "text/plain": [
              "Evaluating:   0%|          | 0/40 [00:00<?, ?it/s]"
            ],
            "application/vnd.jupyter.widget-view+json": {
              "version_major": 2,
              "version_minor": 0,
              "model_id": "42f047f749ca451e970d86a591c338ac"
            }
          },
          "metadata": {}
        },
        {
          "output_type": "stream",
          "name": "stdout",
          "text": [
            "Train Loss: 3.8583 | Ttrain Acc: 16.55%)\n",
            "Test Loss:  3.3289 | Test Acc:  26.43%\n",
            "Learning Rate: 0.024452\n",
            "✓ Best model saved! (Test Acc: 26.43%)\n",
            "\n",
            "============================================================\n",
            "Epoch [9/200]\n",
            "============================================================\n"
          ]
        },
        {
          "output_type": "display_data",
          "data": {
            "text/plain": [
              "Training:   0%|          | 0/196 [00:00<?, ?it/s]"
            ],
            "application/vnd.jupyter.widget-view+json": {
              "version_major": 2,
              "version_minor": 0,
              "model_id": "56367c7a537f4376b370ff8edc8450d0"
            }
          },
          "metadata": {}
        },
        {
          "output_type": "display_data",
          "data": {
            "text/plain": [
              "Evaluating:   0%|          | 0/40 [00:00<?, ?it/s]"
            ],
            "application/vnd.jupyter.widget-view+json": {
              "version_major": 2,
              "version_minor": 0,
              "model_id": "9fba7b08e279422fb918b3f4caa15f1e"
            }
          },
          "metadata": {}
        },
        {
          "output_type": "stream",
          "name": "stdout",
          "text": [
            "Train Loss: 3.8031 | Ttrain Acc: 18.19%)\n",
            "Test Loss:  3.3169 | Test Acc:  26.45%\n",
            "Learning Rate: 0.027698\n",
            "✓ Best model saved! (Test Acc: 26.45%)\n",
            "\n",
            "============================================================\n",
            "Epoch [10/200]\n",
            "============================================================\n"
          ]
        },
        {
          "output_type": "display_data",
          "data": {
            "text/plain": [
              "Training:   0%|          | 0/196 [00:00<?, ?it/s]"
            ],
            "application/vnd.jupyter.widget-view+json": {
              "version_major": 2,
              "version_minor": 0,
              "model_id": "8d2f2a11e3b94773b1c608878aa63dd8"
            }
          },
          "metadata": {}
        },
        {
          "output_type": "display_data",
          "data": {
            "text/plain": [
              "Evaluating:   0%|          | 0/40 [00:00<?, ?it/s]"
            ],
            "application/vnd.jupyter.widget-view+json": {
              "version_major": 2,
              "version_minor": 0,
              "model_id": "3e386edb755f45d5a2e415c79ff45d70"
            }
          },
          "metadata": {}
        },
        {
          "output_type": "stream",
          "name": "stdout",
          "text": [
            "Train Loss: 3.7412 | Ttrain Acc: 19.57%)\n",
            "Test Loss:  3.1737 | Test Acc:  29.01%\n",
            "Learning Rate: 0.031296\n",
            "✓ Best model saved! (Test Acc: 29.01%)\n",
            "\n",
            "============================================================\n",
            "Epoch [11/200]\n",
            "============================================================\n"
          ]
        },
        {
          "output_type": "display_data",
          "data": {
            "text/plain": [
              "Training:   0%|          | 0/196 [00:00<?, ?it/s]"
            ],
            "application/vnd.jupyter.widget-view+json": {
              "version_major": 2,
              "version_minor": 0,
              "model_id": "bab21680bf6a47b49b77e3d9f2d5501e"
            }
          },
          "metadata": {}
        },
        {
          "output_type": "display_data",
          "data": {
            "text/plain": [
              "Evaluating:   0%|          | 0/40 [00:00<?, ?it/s]"
            ],
            "application/vnd.jupyter.widget-view+json": {
              "version_major": 2,
              "version_minor": 0,
              "model_id": "dad7c0d3ef4048bbb399379f8f6152c3"
            }
          },
          "metadata": {}
        },
        {
          "output_type": "stream",
          "name": "stdout",
          "text": [
            "Train Loss: 3.6333 | Ttrain Acc: 22.16%)\n",
            "Test Loss:  3.2372 | Test Acc:  29.78%\n",
            "Learning Rate: 0.035235\n",
            "✓ Best model saved! (Test Acc: 29.78%)\n",
            "\n",
            "============================================================\n",
            "Epoch [12/200]\n",
            "============================================================\n"
          ]
        },
        {
          "output_type": "display_data",
          "data": {
            "text/plain": [
              "Training:   0%|          | 0/196 [00:00<?, ?it/s]"
            ],
            "application/vnd.jupyter.widget-view+json": {
              "version_major": 2,
              "version_minor": 0,
              "model_id": "cd35199c643c489da66779a783b139e4"
            }
          },
          "metadata": {}
        },
        {
          "output_type": "display_data",
          "data": {
            "text/plain": [
              "Evaluating:   0%|          | 0/40 [00:00<?, ?it/s]"
            ],
            "application/vnd.jupyter.widget-view+json": {
              "version_major": 2,
              "version_minor": 0,
              "model_id": "d9736149de4d439abca7f68df7999465"
            }
          },
          "metadata": {}
        },
        {
          "output_type": "stream",
          "name": "stdout",
          "text": [
            "Train Loss: 3.6361 | Ttrain Acc: 22.33%)\n",
            "Test Loss:  3.0478 | Test Acc:  32.84%\n",
            "Learning Rate: 0.039506\n",
            "✓ Best model saved! (Test Acc: 32.84%)\n",
            "\n",
            "============================================================\n",
            "Epoch [13/200]\n",
            "============================================================\n"
          ]
        },
        {
          "output_type": "display_data",
          "data": {
            "text/plain": [
              "Training:   0%|          | 0/196 [00:00<?, ?it/s]"
            ],
            "application/vnd.jupyter.widget-view+json": {
              "version_major": 2,
              "version_minor": 0,
              "model_id": "12bc128054cd4f41b1b3bc00785d8c0f"
            }
          },
          "metadata": {}
        },
        {
          "output_type": "display_data",
          "data": {
            "text/plain": [
              "Evaluating:   0%|          | 0/40 [00:00<?, ?it/s]"
            ],
            "application/vnd.jupyter.widget-view+json": {
              "version_major": 2,
              "version_minor": 0,
              "model_id": "afd27870b9844578bea66eb18b48c4fd"
            }
          },
          "metadata": {}
        },
        {
          "output_type": "stream",
          "name": "stdout",
          "text": [
            "Train Loss: 3.6053 | Ttrain Acc: 23.53%)\n",
            "Test Loss:  2.8150 | Test Acc:  38.36%\n",
            "Learning Rate: 0.044096\n",
            "✓ Best model saved! (Test Acc: 38.36%)\n",
            "\n",
            "============================================================\n",
            "Epoch [14/200]\n",
            "============================================================\n"
          ]
        },
        {
          "output_type": "display_data",
          "data": {
            "text/plain": [
              "Training:   0%|          | 0/196 [00:00<?, ?it/s]"
            ],
            "application/vnd.jupyter.widget-view+json": {
              "version_major": 2,
              "version_minor": 0,
              "model_id": "aa227184972b40e687173b26ddfb8611"
            }
          },
          "metadata": {}
        },
        {
          "output_type": "display_data",
          "data": {
            "text/plain": [
              "Evaluating:   0%|          | 0/40 [00:00<?, ?it/s]"
            ],
            "application/vnd.jupyter.widget-view+json": {
              "version_major": 2,
              "version_minor": 0,
              "model_id": "42907c1e405d4ba3bc68a12587181d14"
            }
          },
          "metadata": {}
        },
        {
          "output_type": "stream",
          "name": "stdout",
          "text": [
            "Train Loss: 3.5610 | Ttrain Acc: 24.53%)\n",
            "Test Loss:  3.0112 | Test Acc:  33.69%\n",
            "Learning Rate: 0.048993\n",
            "\n",
            "============================================================\n",
            "Epoch [15/200]\n",
            "============================================================\n"
          ]
        },
        {
          "output_type": "display_data",
          "data": {
            "text/plain": [
              "Training:   0%|          | 0/196 [00:00<?, ?it/s]"
            ],
            "application/vnd.jupyter.widget-view+json": {
              "version_major": 2,
              "version_minor": 0,
              "model_id": "a5758e35604a46ddb805490f0d1e9ae7"
            }
          },
          "metadata": {}
        },
        {
          "output_type": "display_data",
          "data": {
            "text/plain": [
              "Evaluating:   0%|          | 0/40 [00:00<?, ?it/s]"
            ],
            "application/vnd.jupyter.widget-view+json": {
              "version_major": 2,
              "version_minor": 0,
              "model_id": "f6ef120271bb4d4a836ea6cb9dce2143"
            }
          },
          "metadata": {}
        },
        {
          "output_type": "stream",
          "name": "stdout",
          "text": [
            "Train Loss: 3.4924 | Ttrain Acc: 26.25%)\n",
            "Test Loss:  2.7500 | Test Acc:  39.37%\n",
            "Learning Rate: 0.054183\n",
            "✓ Best model saved! (Test Acc: 39.37%)\n",
            "\n",
            "============================================================\n",
            "Epoch [16/200]\n",
            "============================================================\n"
          ]
        },
        {
          "output_type": "display_data",
          "data": {
            "text/plain": [
              "Training:   0%|          | 0/196 [00:00<?, ?it/s]"
            ],
            "application/vnd.jupyter.widget-view+json": {
              "version_major": 2,
              "version_minor": 0,
              "model_id": "922f862fc7784a4d867b163d205b4219"
            }
          },
          "metadata": {}
        },
        {
          "output_type": "display_data",
          "data": {
            "text/plain": [
              "Evaluating:   0%|          | 0/40 [00:00<?, ?it/s]"
            ],
            "application/vnd.jupyter.widget-view+json": {
              "version_major": 2,
              "version_minor": 0,
              "model_id": "7c0ebba803974e999a856adbebc3822d"
            }
          },
          "metadata": {}
        },
        {
          "output_type": "stream",
          "name": "stdout",
          "text": [
            "Train Loss: 3.4964 | Ttrain Acc: 26.36%)\n",
            "Test Loss:  2.8117 | Test Acc:  38.74%\n",
            "Learning Rate: 0.059653\n",
            "\n",
            "============================================================\n",
            "Epoch [17/200]\n",
            "============================================================\n"
          ]
        },
        {
          "output_type": "display_data",
          "data": {
            "text/plain": [
              "Training:   0%|          | 0/196 [00:00<?, ?it/s]"
            ],
            "application/vnd.jupyter.widget-view+json": {
              "version_major": 2,
              "version_minor": 0,
              "model_id": "cb4b034e541044be8a1e04ef9f49eaa4"
            }
          },
          "metadata": {}
        },
        {
          "output_type": "display_data",
          "data": {
            "text/plain": [
              "Evaluating:   0%|          | 0/40 [00:00<?, ?it/s]"
            ],
            "application/vnd.jupyter.widget-view+json": {
              "version_major": 2,
              "version_minor": 0,
              "model_id": "cbf075641df94b4cb28cf85b73214189"
            }
          },
          "metadata": {}
        },
        {
          "output_type": "stream",
          "name": "stdout",
          "text": [
            "Train Loss: 3.5071 | Ttrain Acc: 26.53%)\n",
            "Test Loss:  2.8430 | Test Acc:  37.38%\n",
            "Learning Rate: 0.065386\n",
            "\n",
            "============================================================\n",
            "Epoch [18/200]\n",
            "============================================================\n"
          ]
        },
        {
          "output_type": "display_data",
          "data": {
            "text/plain": [
              "Training:   0%|          | 0/196 [00:00<?, ?it/s]"
            ],
            "application/vnd.jupyter.widget-view+json": {
              "version_major": 2,
              "version_minor": 0,
              "model_id": "f82a396f93b8473cba4d6fb231613b83"
            }
          },
          "metadata": {}
        },
        {
          "output_type": "display_data",
          "data": {
            "text/plain": [
              "Evaluating:   0%|          | 0/40 [00:00<?, ?it/s]"
            ],
            "application/vnd.jupyter.widget-view+json": {
              "version_major": 2,
              "version_minor": 0,
              "model_id": "417f5fcf238a462db49bce6f17fe3262"
            }
          },
          "metadata": {}
        },
        {
          "output_type": "stream",
          "name": "stdout",
          "text": [
            "Train Loss: 3.4336 | Ttrain Acc: 28.04%)\n",
            "Test Loss:  2.7281 | Test Acc:  40.93%\n",
            "Learning Rate: 0.071368\n",
            "✓ Best model saved! (Test Acc: 40.93%)\n",
            "\n",
            "============================================================\n",
            "Epoch [19/200]\n",
            "============================================================\n"
          ]
        },
        {
          "output_type": "display_data",
          "data": {
            "text/plain": [
              "Training:   0%|          | 0/196 [00:00<?, ?it/s]"
            ],
            "application/vnd.jupyter.widget-view+json": {
              "version_major": 2,
              "version_minor": 0,
              "model_id": "22e05c670f2e483d8bcc38eacadf6acf"
            }
          },
          "metadata": {}
        },
        {
          "output_type": "display_data",
          "data": {
            "text/plain": [
              "Evaluating:   0%|          | 0/40 [00:00<?, ?it/s]"
            ],
            "application/vnd.jupyter.widget-view+json": {
              "version_major": 2,
              "version_minor": 0,
              "model_id": "6f6f49b9157f4af48d4dc0157c787eb0"
            }
          },
          "metadata": {}
        },
        {
          "output_type": "stream",
          "name": "stdout",
          "text": [
            "Train Loss: 3.4233 | Ttrain Acc: 28.50%)\n",
            "Test Loss:  2.6836 | Test Acc:  41.79%\n",
            "Learning Rate: 0.077582\n",
            "✓ Best model saved! (Test Acc: 41.79%)\n",
            "\n",
            "============================================================\n",
            "Epoch [20/200]\n",
            "============================================================\n"
          ]
        },
        {
          "output_type": "display_data",
          "data": {
            "text/plain": [
              "Training:   0%|          | 0/196 [00:00<?, ?it/s]"
            ],
            "application/vnd.jupyter.widget-view+json": {
              "version_major": 2,
              "version_minor": 0,
              "model_id": "ae78a3a07464473f81e52fd27199d7f2"
            }
          },
          "metadata": {}
        },
        {
          "output_type": "display_data",
          "data": {
            "text/plain": [
              "Evaluating:   0%|          | 0/40 [00:00<?, ?it/s]"
            ],
            "application/vnd.jupyter.widget-view+json": {
              "version_major": 2,
              "version_minor": 0,
              "model_id": "4d02ff3499194fcb8c9ad35c23535123"
            }
          },
          "metadata": {}
        },
        {
          "output_type": "stream",
          "name": "stdout",
          "text": [
            "Train Loss: 3.3872 | Ttrain Acc: 29.58%)\n",
            "Test Loss:  2.6044 | Test Acc:  44.44%\n",
            "Learning Rate: 0.084011\n",
            "✓ Best model saved! (Test Acc: 44.44%)\n",
            "\n",
            "============================================================\n",
            "Epoch [21/200]\n",
            "============================================================\n"
          ]
        },
        {
          "output_type": "display_data",
          "data": {
            "text/plain": [
              "Training:   0%|          | 0/196 [00:00<?, ?it/s]"
            ],
            "application/vnd.jupyter.widget-view+json": {
              "version_major": 2,
              "version_minor": 0,
              "model_id": "358d981a48ff41a4b09480d153eac72a"
            }
          },
          "metadata": {}
        },
        {
          "output_type": "display_data",
          "data": {
            "text/plain": [
              "Evaluating:   0%|          | 0/40 [00:00<?, ?it/s]"
            ],
            "application/vnd.jupyter.widget-view+json": {
              "version_major": 2,
              "version_minor": 0,
              "model_id": "e38ff65dad164a8d9bb28a1e78a3e5ed"
            }
          },
          "metadata": {}
        },
        {
          "output_type": "stream",
          "name": "stdout",
          "text": [
            "Train Loss: 3.3979 | Ttrain Acc: 29.40%)\n",
            "Test Loss:  2.7795 | Test Acc:  39.16%\n",
            "Learning Rate: 0.090637\n",
            "\n",
            "============================================================\n",
            "Epoch [22/200]\n",
            "============================================================\n"
          ]
        },
        {
          "output_type": "display_data",
          "data": {
            "text/plain": [
              "Training:   0%|          | 0/196 [00:00<?, ?it/s]"
            ],
            "application/vnd.jupyter.widget-view+json": {
              "version_major": 2,
              "version_minor": 0,
              "model_id": "48bdd934ce364f1dab8c427d17fb064a"
            }
          },
          "metadata": {}
        },
        {
          "output_type": "display_data",
          "data": {
            "text/plain": [
              "Evaluating:   0%|          | 0/40 [00:00<?, ?it/s]"
            ],
            "application/vnd.jupyter.widget-view+json": {
              "version_major": 2,
              "version_minor": 0,
              "model_id": "8f3e8d123f6744e5b1d7f4c31c67a535"
            }
          },
          "metadata": {}
        },
        {
          "output_type": "stream",
          "name": "stdout",
          "text": [
            "Train Loss: 3.3505 | Ttrain Acc: 31.02%)\n",
            "Test Loss:  2.5259 | Test Acc:  45.84%\n",
            "Learning Rate: 0.097443\n",
            "✓ Best model saved! (Test Acc: 45.84%)\n",
            "\n",
            "============================================================\n",
            "Epoch [23/200]\n",
            "============================================================\n"
          ]
        },
        {
          "output_type": "display_data",
          "data": {
            "text/plain": [
              "Training:   0%|          | 0/196 [00:00<?, ?it/s]"
            ],
            "application/vnd.jupyter.widget-view+json": {
              "version_major": 2,
              "version_minor": 0,
              "model_id": "023e309dbdca4121a0324c57daa348bf"
            }
          },
          "metadata": {}
        },
        {
          "output_type": "display_data",
          "data": {
            "text/plain": [
              "Evaluating:   0%|          | 0/40 [00:00<?, ?it/s]"
            ],
            "application/vnd.jupyter.widget-view+json": {
              "version_major": 2,
              "version_minor": 0,
              "model_id": "7f0a6f48f3b440ffb17c00f3d6ceacfc"
            }
          },
          "metadata": {}
        },
        {
          "output_type": "stream",
          "name": "stdout",
          "text": [
            "Train Loss: 3.3407 | Ttrain Acc: 31.20%)\n",
            "Test Loss:  2.5639 | Test Acc:  44.94%\n",
            "Learning Rate: 0.104409\n",
            "\n",
            "============================================================\n",
            "Epoch [24/200]\n",
            "============================================================\n"
          ]
        },
        {
          "output_type": "display_data",
          "data": {
            "text/plain": [
              "Training:   0%|          | 0/196 [00:00<?, ?it/s]"
            ],
            "application/vnd.jupyter.widget-view+json": {
              "version_major": 2,
              "version_minor": 0,
              "model_id": "d4832dacaded44a58dc83a095bfae875"
            }
          },
          "metadata": {}
        },
        {
          "output_type": "display_data",
          "data": {
            "text/plain": [
              "Evaluating:   0%|          | 0/40 [00:00<?, ?it/s]"
            ],
            "application/vnd.jupyter.widget-view+json": {
              "version_major": 2,
              "version_minor": 0,
              "model_id": "dbc623fd7b7a4b06b060fb5d34343f60"
            }
          },
          "metadata": {}
        },
        {
          "output_type": "stream",
          "name": "stdout",
          "text": [
            "Train Loss: 3.3771 | Ttrain Acc: 30.12%)\n",
            "Test Loss:  2.8968 | Test Acc:  37.89%\n",
            "Learning Rate: 0.111516\n",
            "\n",
            "============================================================\n",
            "Epoch [25/200]\n",
            "============================================================\n"
          ]
        },
        {
          "output_type": "display_data",
          "data": {
            "text/plain": [
              "Training:   0%|          | 0/196 [00:00<?, ?it/s]"
            ],
            "application/vnd.jupyter.widget-view+json": {
              "version_major": 2,
              "version_minor": 0,
              "model_id": "7ae0dcb9775242149b0ada24d6efa398"
            }
          },
          "metadata": {}
        },
        {
          "output_type": "display_data",
          "data": {
            "text/plain": [
              "Evaluating:   0%|          | 0/40 [00:00<?, ?it/s]"
            ],
            "application/vnd.jupyter.widget-view+json": {
              "version_major": 2,
              "version_minor": 0,
              "model_id": "eef77b5cf12f46438b29aa5cd3b2937c"
            }
          },
          "metadata": {}
        },
        {
          "output_type": "stream",
          "name": "stdout",
          "text": [
            "Train Loss: 3.3402 | Ttrain Acc: 31.09%)\n",
            "Test Loss:  2.5886 | Test Acc:  45.39%\n",
            "Learning Rate: 0.118746\n",
            "\n",
            "============================================================\n",
            "Epoch [26/200]\n",
            "============================================================\n"
          ]
        },
        {
          "output_type": "display_data",
          "data": {
            "text/plain": [
              "Training:   0%|          | 0/196 [00:00<?, ?it/s]"
            ],
            "application/vnd.jupyter.widget-view+json": {
              "version_major": 2,
              "version_minor": 0,
              "model_id": "c1724fa1d1fa421a929a4df387bba9ce"
            }
          },
          "metadata": {}
        },
        {
          "output_type": "display_data",
          "data": {
            "text/plain": [
              "Evaluating:   0%|          | 0/40 [00:00<?, ?it/s]"
            ],
            "application/vnd.jupyter.widget-view+json": {
              "version_major": 2,
              "version_minor": 0,
              "model_id": "0a31ddd925cd42d78fa70ea3bcf48203"
            }
          },
          "metadata": {}
        },
        {
          "output_type": "stream",
          "name": "stdout",
          "text": [
            "Train Loss: 3.3459 | Ttrain Acc: 31.05%)\n",
            "Test Loss:  2.4376 | Test Acc:  48.72%\n",
            "Learning Rate: 0.126077\n",
            "✓ Best model saved! (Test Acc: 48.72%)\n",
            "\n",
            "============================================================\n",
            "Epoch [27/200]\n",
            "============================================================\n"
          ]
        },
        {
          "output_type": "display_data",
          "data": {
            "text/plain": [
              "Training:   0%|          | 0/196 [00:00<?, ?it/s]"
            ],
            "application/vnd.jupyter.widget-view+json": {
              "version_major": 2,
              "version_minor": 0,
              "model_id": "551569c24ba249288e44fe026e7b7ca2"
            }
          },
          "metadata": {}
        },
        {
          "output_type": "display_data",
          "data": {
            "text/plain": [
              "Evaluating:   0%|          | 0/40 [00:00<?, ?it/s]"
            ],
            "application/vnd.jupyter.widget-view+json": {
              "version_major": 2,
              "version_minor": 0,
              "model_id": "86cbca23520d43d9b3a0c467a5d39133"
            }
          },
          "metadata": {}
        },
        {
          "output_type": "stream",
          "name": "stdout",
          "text": [
            "Train Loss: 3.2898 | Ttrain Acc: 32.38%)\n",
            "Test Loss:  2.5091 | Test Acc:  46.45%\n",
            "Learning Rate: 0.133491\n",
            "\n",
            "============================================================\n",
            "Epoch [28/200]\n",
            "============================================================\n"
          ]
        },
        {
          "output_type": "display_data",
          "data": {
            "text/plain": [
              "Training:   0%|          | 0/196 [00:00<?, ?it/s]"
            ],
            "application/vnd.jupyter.widget-view+json": {
              "version_major": 2,
              "version_minor": 0,
              "model_id": "fef87dc148904ae5a8c91add0af6646b"
            }
          },
          "metadata": {}
        },
        {
          "output_type": "display_data",
          "data": {
            "text/plain": [
              "Evaluating:   0%|          | 0/40 [00:00<?, ?it/s]"
            ],
            "application/vnd.jupyter.widget-view+json": {
              "version_major": 2,
              "version_minor": 0,
              "model_id": "02a17dfe2c68414d9a5841f4f857475f"
            }
          },
          "metadata": {}
        },
        {
          "output_type": "stream",
          "name": "stdout",
          "text": [
            "Train Loss: 3.3367 | Ttrain Acc: 31.36%)\n",
            "Test Loss:  2.4998 | Test Acc:  47.16%\n",
            "Learning Rate: 0.140966\n",
            "\n",
            "============================================================\n",
            "Epoch [29/200]\n",
            "============================================================\n"
          ]
        },
        {
          "output_type": "display_data",
          "data": {
            "text/plain": [
              "Training:   0%|          | 0/196 [00:00<?, ?it/s]"
            ],
            "application/vnd.jupyter.widget-view+json": {
              "version_major": 2,
              "version_minor": 0,
              "model_id": "9b7e4525ed97447faa29448ab1d8d7d7"
            }
          },
          "metadata": {}
        },
        {
          "output_type": "display_data",
          "data": {
            "text/plain": [
              "Evaluating:   0%|          | 0/40 [00:00<?, ?it/s]"
            ],
            "application/vnd.jupyter.widget-view+json": {
              "version_major": 2,
              "version_minor": 0,
              "model_id": "313b53117d124d11887c87aca3aac85b"
            }
          },
          "metadata": {}
        },
        {
          "output_type": "stream",
          "name": "stdout",
          "text": [
            "Train Loss: 3.2667 | Ttrain Acc: 33.49%)\n",
            "Test Loss:  2.4982 | Test Acc:  47.37%\n",
            "Learning Rate: 0.148482\n",
            "\n",
            "============================================================\n",
            "Epoch [30/200]\n",
            "============================================================\n"
          ]
        },
        {
          "output_type": "display_data",
          "data": {
            "text/plain": [
              "Training:   0%|          | 0/196 [00:00<?, ?it/s]"
            ],
            "application/vnd.jupyter.widget-view+json": {
              "version_major": 2,
              "version_minor": 0,
              "model_id": "971a4044d53b46dd9859b6367f231fe4"
            }
          },
          "metadata": {}
        },
        {
          "output_type": "display_data",
          "data": {
            "text/plain": [
              "Evaluating:   0%|          | 0/40 [00:00<?, ?it/s]"
            ],
            "application/vnd.jupyter.widget-view+json": {
              "version_major": 2,
              "version_minor": 0,
              "model_id": "662e05f49cc34474bbd2e66ea3fa9f31"
            }
          },
          "metadata": {}
        },
        {
          "output_type": "stream",
          "name": "stdout",
          "text": [
            "Train Loss: 3.2892 | Ttrain Acc: 32.87%)\n",
            "Test Loss:  2.5860 | Test Acc:  46.43%\n",
            "Learning Rate: 0.156019\n",
            "\n",
            "============================================================\n",
            "Epoch [31/200]\n",
            "============================================================\n"
          ]
        },
        {
          "output_type": "display_data",
          "data": {
            "text/plain": [
              "Training:   0%|          | 0/196 [00:00<?, ?it/s]"
            ],
            "application/vnd.jupyter.widget-view+json": {
              "version_major": 2,
              "version_minor": 0,
              "model_id": "bcf2c67f3db74ff49a12ab96dcfc725b"
            }
          },
          "metadata": {}
        },
        {
          "output_type": "display_data",
          "data": {
            "text/plain": [
              "Evaluating:   0%|          | 0/40 [00:00<?, ?it/s]"
            ],
            "application/vnd.jupyter.widget-view+json": {
              "version_major": 2,
              "version_minor": 0,
              "model_id": "972dbf18e33046f09f6de23e27191f69"
            }
          },
          "metadata": {}
        },
        {
          "output_type": "stream",
          "name": "stdout",
          "text": [
            "Train Loss: 3.2742 | Ttrain Acc: 33.37%)\n",
            "Test Loss:  2.7025 | Test Acc:  42.87%\n",
            "Learning Rate: 0.163556\n",
            "\n",
            "============================================================\n",
            "Epoch [32/200]\n",
            "============================================================\n"
          ]
        },
        {
          "output_type": "display_data",
          "data": {
            "text/plain": [
              "Training:   0%|          | 0/196 [00:00<?, ?it/s]"
            ],
            "application/vnd.jupyter.widget-view+json": {
              "version_major": 2,
              "version_minor": 0,
              "model_id": "6527570aca6e4f6bab24a593b9dad98a"
            }
          },
          "metadata": {}
        },
        {
          "output_type": "display_data",
          "data": {
            "text/plain": [
              "Evaluating:   0%|          | 0/40 [00:00<?, ?it/s]"
            ],
            "application/vnd.jupyter.widget-view+json": {
              "version_major": 2,
              "version_minor": 0,
              "model_id": "1ca282c9728440169457c4d08c1bbc3b"
            }
          },
          "metadata": {}
        },
        {
          "output_type": "stream",
          "name": "stdout",
          "text": [
            "Train Loss: 3.3200 | Ttrain Acc: 32.02%)\n",
            "Test Loss:  2.5530 | Test Acc:  45.13%\n",
            "Learning Rate: 0.171073\n",
            "\n",
            "============================================================\n",
            "Epoch [33/200]\n",
            "============================================================\n"
          ]
        },
        {
          "output_type": "display_data",
          "data": {
            "text/plain": [
              "Training:   0%|          | 0/196 [00:00<?, ?it/s]"
            ],
            "application/vnd.jupyter.widget-view+json": {
              "version_major": 2,
              "version_minor": 0,
              "model_id": "b76fb5035d0c47d7b2c3ff306442750b"
            }
          },
          "metadata": {}
        },
        {
          "output_type": "display_data",
          "data": {
            "text/plain": [
              "Evaluating:   0%|          | 0/40 [00:00<?, ?it/s]"
            ],
            "application/vnd.jupyter.widget-view+json": {
              "version_major": 2,
              "version_minor": 0,
              "model_id": "fc82c0af0c084f2c956f3659794ef3fc"
            }
          },
          "metadata": {}
        },
        {
          "output_type": "stream",
          "name": "stdout",
          "text": [
            "Train Loss: 3.3485 | Ttrain Acc: 31.57%)\n",
            "Test Loss:  2.5283 | Test Acc:  46.29%\n",
            "Learning Rate: 0.178547\n",
            "\n",
            "============================================================\n",
            "Epoch [34/200]\n",
            "============================================================\n"
          ]
        },
        {
          "output_type": "display_data",
          "data": {
            "text/plain": [
              "Training:   0%|          | 0/196 [00:00<?, ?it/s]"
            ],
            "application/vnd.jupyter.widget-view+json": {
              "version_major": 2,
              "version_minor": 0,
              "model_id": "aed5113ad5044046b76fdcb095964534"
            }
          },
          "metadata": {}
        },
        {
          "output_type": "display_data",
          "data": {
            "text/plain": [
              "Evaluating:   0%|          | 0/40 [00:00<?, ?it/s]"
            ],
            "application/vnd.jupyter.widget-view+json": {
              "version_major": 2,
              "version_minor": 0,
              "model_id": "62f02a8afa804b89b44de02f1e1d47bf"
            }
          },
          "metadata": {}
        },
        {
          "output_type": "stream",
          "name": "stdout",
          "text": [
            "Train Loss: 3.3076 | Ttrain Acc: 31.98%)\n",
            "Test Loss:  2.4971 | Test Acc:  47.74%\n",
            "Learning Rate: 0.185961\n",
            "\n",
            "============================================================\n",
            "Epoch [35/200]\n",
            "============================================================\n"
          ]
        },
        {
          "output_type": "display_data",
          "data": {
            "text/plain": [
              "Training:   0%|          | 0/196 [00:00<?, ?it/s]"
            ],
            "application/vnd.jupyter.widget-view+json": {
              "version_major": 2,
              "version_minor": 0,
              "model_id": "f57ce0b4453a43efb900f4658085752d"
            }
          },
          "metadata": {}
        },
        {
          "output_type": "display_data",
          "data": {
            "text/plain": [
              "Evaluating:   0%|          | 0/40 [00:00<?, ?it/s]"
            ],
            "application/vnd.jupyter.widget-view+json": {
              "version_major": 2,
              "version_minor": 0,
              "model_id": "c1787f2b27c04370babb7693d9c74093"
            }
          },
          "metadata": {}
        },
        {
          "output_type": "stream",
          "name": "stdout",
          "text": [
            "Train Loss: 3.2626 | Ttrain Acc: 33.72%)\n",
            "Test Loss:  2.3705 | Test Acc:  50.72%\n",
            "Learning Rate: 0.193292\n",
            "✓ Best model saved! (Test Acc: 50.72%)\n",
            "\n",
            "============================================================\n",
            "Epoch [36/200]\n",
            "============================================================\n"
          ]
        },
        {
          "output_type": "display_data",
          "data": {
            "text/plain": [
              "Training:   0%|          | 0/196 [00:00<?, ?it/s]"
            ],
            "application/vnd.jupyter.widget-view+json": {
              "version_major": 2,
              "version_minor": 0,
              "model_id": "c6c609650d494dffbe54a8f2fe7f781e"
            }
          },
          "metadata": {}
        },
        {
          "output_type": "display_data",
          "data": {
            "text/plain": [
              "Evaluating:   0%|          | 0/40 [00:00<?, ?it/s]"
            ],
            "application/vnd.jupyter.widget-view+json": {
              "version_major": 2,
              "version_minor": 0,
              "model_id": "6878ea0698d6455baafb5bd1a83fc322"
            }
          },
          "metadata": {}
        },
        {
          "output_type": "stream",
          "name": "stdout",
          "text": [
            "Train Loss: 3.2859 | Ttrain Acc: 33.18%)\n",
            "Test Loss:  2.6796 | Test Acc:  42.62%\n",
            "Learning Rate: 0.200520\n",
            "\n",
            "============================================================\n",
            "Epoch [37/200]\n",
            "============================================================\n"
          ]
        },
        {
          "output_type": "display_data",
          "data": {
            "text/plain": [
              "Training:   0%|          | 0/196 [00:00<?, ?it/s]"
            ],
            "application/vnd.jupyter.widget-view+json": {
              "version_major": 2,
              "version_minor": 0,
              "model_id": "f6b2d2fc7aca4098bbfe0fb5ef12cc23"
            }
          },
          "metadata": {}
        },
        {
          "output_type": "display_data",
          "data": {
            "text/plain": [
              "Evaluating:   0%|          | 0/40 [00:00<?, ?it/s]"
            ],
            "application/vnd.jupyter.widget-view+json": {
              "version_major": 2,
              "version_minor": 0,
              "model_id": "28001f2e34a04a5c9af255029b1572e7"
            }
          },
          "metadata": {}
        },
        {
          "output_type": "stream",
          "name": "stdout",
          "text": [
            "Train Loss: 3.2264 | Ttrain Acc: 34.18%)\n",
            "Test Loss:  2.6007 | Test Acc:  46.91%\n",
            "Learning Rate: 0.207627\n",
            "\n",
            "============================================================\n",
            "Epoch [38/200]\n",
            "============================================================\n"
          ]
        },
        {
          "output_type": "display_data",
          "data": {
            "text/plain": [
              "Training:   0%|          | 0/196 [00:00<?, ?it/s]"
            ],
            "application/vnd.jupyter.widget-view+json": {
              "version_major": 2,
              "version_minor": 0,
              "model_id": "c5c85424e86e40cfbe71b224d9d134fd"
            }
          },
          "metadata": {}
        },
        {
          "output_type": "display_data",
          "data": {
            "text/plain": [
              "Evaluating:   0%|          | 0/40 [00:00<?, ?it/s]"
            ],
            "application/vnd.jupyter.widget-view+json": {
              "version_major": 2,
              "version_minor": 0,
              "model_id": "f217bea7d43a499abbc0d0b098f9a8bb"
            }
          },
          "metadata": {}
        },
        {
          "output_type": "stream",
          "name": "stdout",
          "text": [
            "Train Loss: 3.1945 | Ttrain Acc: 35.18%)\n",
            "Test Loss:  2.5307 | Test Acc:  47.72%\n",
            "Learning Rate: 0.214592\n",
            "\n",
            "============================================================\n",
            "Epoch [39/200]\n",
            "============================================================\n"
          ]
        },
        {
          "output_type": "display_data",
          "data": {
            "text/plain": [
              "Training:   0%|          | 0/196 [00:00<?, ?it/s]"
            ],
            "application/vnd.jupyter.widget-view+json": {
              "version_major": 2,
              "version_minor": 0,
              "model_id": "eb62e30609a141f493c118ad84b682fe"
            }
          },
          "metadata": {}
        },
        {
          "output_type": "display_data",
          "data": {
            "text/plain": [
              "Evaluating:   0%|          | 0/40 [00:00<?, ?it/s]"
            ],
            "application/vnd.jupyter.widget-view+json": {
              "version_major": 2,
              "version_minor": 0,
              "model_id": "70b3c6aa9f7143979a120e763f38dc51"
            }
          },
          "metadata": {}
        },
        {
          "output_type": "stream",
          "name": "stdout",
          "text": [
            "Train Loss: 3.2418 | Ttrain Acc: 34.19%)\n",
            "Test Loss:  2.3898 | Test Acc:  49.82%\n",
            "Learning Rate: 0.221397\n",
            "\n",
            "============================================================\n",
            "Epoch [40/200]\n",
            "============================================================\n"
          ]
        },
        {
          "output_type": "display_data",
          "data": {
            "text/plain": [
              "Training:   0%|          | 0/196 [00:00<?, ?it/s]"
            ],
            "application/vnd.jupyter.widget-view+json": {
              "version_major": 2,
              "version_minor": 0,
              "model_id": "2737e96f567646faa61c41a10fc052b3"
            }
          },
          "metadata": {}
        },
        {
          "output_type": "display_data",
          "data": {
            "text/plain": [
              "Evaluating:   0%|          | 0/40 [00:00<?, ?it/s]"
            ],
            "application/vnd.jupyter.widget-view+json": {
              "version_major": 2,
              "version_minor": 0,
              "model_id": "1864cb376190461ba3b9d5662686af5d"
            }
          },
          "metadata": {}
        },
        {
          "output_type": "stream",
          "name": "stdout",
          "text": [
            "Train Loss: 3.2290 | Ttrain Acc: 34.33%)\n",
            "Test Loss:  2.6087 | Test Acc:  45.01%\n",
            "Learning Rate: 0.228022\n",
            "\n",
            "============================================================\n",
            "Epoch [41/200]\n",
            "============================================================\n"
          ]
        },
        {
          "output_type": "display_data",
          "data": {
            "text/plain": [
              "Training:   0%|          | 0/196 [00:00<?, ?it/s]"
            ],
            "application/vnd.jupyter.widget-view+json": {
              "version_major": 2,
              "version_minor": 0,
              "model_id": "37bafd3de9654215a63e995717241f16"
            }
          },
          "metadata": {}
        },
        {
          "output_type": "display_data",
          "data": {
            "text/plain": [
              "Evaluating:   0%|          | 0/40 [00:00<?, ?it/s]"
            ],
            "application/vnd.jupyter.widget-view+json": {
              "version_major": 2,
              "version_minor": 0,
              "model_id": "dad8d39cf5b740808e883cb9ee0579bf"
            }
          },
          "metadata": {}
        },
        {
          "output_type": "stream",
          "name": "stdout",
          "text": [
            "Train Loss: 3.2994 | Ttrain Acc: 32.44%)\n",
            "Test Loss:  2.5949 | Test Acc:  46.34%\n",
            "Learning Rate: 0.234450\n",
            "\n",
            "============================================================\n",
            "Epoch [42/200]\n",
            "============================================================\n"
          ]
        },
        {
          "output_type": "display_data",
          "data": {
            "text/plain": [
              "Training:   0%|          | 0/196 [00:00<?, ?it/s]"
            ],
            "application/vnd.jupyter.widget-view+json": {
              "version_major": 2,
              "version_minor": 0,
              "model_id": "f773445cec1b4152860fcc69664f1148"
            }
          },
          "metadata": {}
        },
        {
          "output_type": "display_data",
          "data": {
            "text/plain": [
              "Evaluating:   0%|          | 0/40 [00:00<?, ?it/s]"
            ],
            "application/vnd.jupyter.widget-view+json": {
              "version_major": 2,
              "version_minor": 0,
              "model_id": "83fb60ccbd34485196f2fecdb58dfb36"
            }
          },
          "metadata": {}
        },
        {
          "output_type": "stream",
          "name": "stdout",
          "text": [
            "Train Loss: 3.2559 | Ttrain Acc: 33.61%)\n",
            "Test Loss:  2.4772 | Test Acc:  48.41%\n",
            "Learning Rate: 0.240663\n",
            "\n",
            "============================================================\n",
            "Epoch [43/200]\n",
            "============================================================\n"
          ]
        },
        {
          "output_type": "display_data",
          "data": {
            "text/plain": [
              "Training:   0%|          | 0/196 [00:00<?, ?it/s]"
            ],
            "application/vnd.jupyter.widget-view+json": {
              "version_major": 2,
              "version_minor": 0,
              "model_id": "a671604ee8e24f46b32e8c7ddf9d8778"
            }
          },
          "metadata": {}
        },
        {
          "output_type": "display_data",
          "data": {
            "text/plain": [
              "Evaluating:   0%|          | 0/40 [00:00<?, ?it/s]"
            ],
            "application/vnd.jupyter.widget-view+json": {
              "version_major": 2,
              "version_minor": 0,
              "model_id": "faae3794c74440a6931143532b54dc6c"
            }
          },
          "metadata": {}
        },
        {
          "output_type": "stream",
          "name": "stdout",
          "text": [
            "Train Loss: 3.2373 | Ttrain Acc: 34.27%)\n",
            "Test Loss:  2.5712 | Test Acc:  45.96%\n",
            "Learning Rate: 0.246644\n",
            "\n",
            "============================================================\n",
            "Epoch [44/200]\n",
            "============================================================\n"
          ]
        },
        {
          "output_type": "display_data",
          "data": {
            "text/plain": [
              "Training:   0%|          | 0/196 [00:00<?, ?it/s]"
            ],
            "application/vnd.jupyter.widget-view+json": {
              "version_major": 2,
              "version_minor": 0,
              "model_id": "0b23f74214424d4383d9aac8c3fd42f9"
            }
          },
          "metadata": {}
        },
        {
          "output_type": "display_data",
          "data": {
            "text/plain": [
              "Evaluating:   0%|          | 0/40 [00:00<?, ?it/s]"
            ],
            "application/vnd.jupyter.widget-view+json": {
              "version_major": 2,
              "version_minor": 0,
              "model_id": "4ed0ac40e2a2420daf2c881496bcc65c"
            }
          },
          "metadata": {}
        },
        {
          "output_type": "stream",
          "name": "stdout",
          "text": [
            "Train Loss: 3.2823 | Ttrain Acc: 33.09%)\n",
            "Test Loss:  2.6130 | Test Acc:  45.78%\n",
            "Learning Rate: 0.252376\n",
            "\n",
            "============================================================\n",
            "Epoch [45/200]\n",
            "============================================================\n"
          ]
        },
        {
          "output_type": "display_data",
          "data": {
            "text/plain": [
              "Training:   0%|          | 0/196 [00:00<?, ?it/s]"
            ],
            "application/vnd.jupyter.widget-view+json": {
              "version_major": 2,
              "version_minor": 0,
              "model_id": "a32f188fbd2c46d8b48a66b8faeeb254"
            }
          },
          "metadata": {}
        },
        {
          "output_type": "display_data",
          "data": {
            "text/plain": [
              "Evaluating:   0%|          | 0/40 [00:00<?, ?it/s]"
            ],
            "application/vnd.jupyter.widget-view+json": {
              "version_major": 2,
              "version_minor": 0,
              "model_id": "b4980a8fecb94b0c80c9b462f2f673cf"
            }
          },
          "metadata": {}
        },
        {
          "output_type": "stream",
          "name": "stdout",
          "text": [
            "Train Loss: 3.1988 | Ttrain Acc: 35.11%)\n",
            "Test Loss:  3.1631 | Test Acc:  38.48%\n",
            "Learning Rate: 0.257844\n",
            "\n",
            "============================================================\n",
            "Epoch [46/200]\n",
            "============================================================\n"
          ]
        },
        {
          "output_type": "display_data",
          "data": {
            "text/plain": [
              "Training:   0%|          | 0/196 [00:00<?, ?it/s]"
            ],
            "application/vnd.jupyter.widget-view+json": {
              "version_major": 2,
              "version_minor": 0,
              "model_id": "cf5d68ece8ae4189a9a230f9f550ab33"
            }
          },
          "metadata": {}
        },
        {
          "output_type": "display_data",
          "data": {
            "text/plain": [
              "Evaluating:   0%|          | 0/40 [00:00<?, ?it/s]"
            ],
            "application/vnd.jupyter.widget-view+json": {
              "version_major": 2,
              "version_minor": 0,
              "model_id": "fb1c1850581f4e099fbbedbb86962b07"
            }
          },
          "metadata": {}
        },
        {
          "output_type": "stream",
          "name": "stdout",
          "text": [
            "Train Loss: 3.2517 | Ttrain Acc: 34.06%)\n",
            "Test Loss:  2.6083 | Test Acc:  45.98%\n",
            "Learning Rate: 0.263033\n",
            "\n",
            "============================================================\n",
            "Epoch [47/200]\n",
            "============================================================\n"
          ]
        },
        {
          "output_type": "display_data",
          "data": {
            "text/plain": [
              "Training:   0%|          | 0/196 [00:00<?, ?it/s]"
            ],
            "application/vnd.jupyter.widget-view+json": {
              "version_major": 2,
              "version_minor": 0,
              "model_id": "700d05ad6c9e49219d5b4197cb04d8c4"
            }
          },
          "metadata": {}
        },
        {
          "output_type": "display_data",
          "data": {
            "text/plain": [
              "Evaluating:   0%|          | 0/40 [00:00<?, ?it/s]"
            ],
            "application/vnd.jupyter.widget-view+json": {
              "version_major": 2,
              "version_minor": 0,
              "model_id": "2894d6eed99c4638af373ebe674f1bdf"
            }
          },
          "metadata": {}
        },
        {
          "output_type": "stream",
          "name": "stdout",
          "text": [
            "Train Loss: 3.2381 | Ttrain Acc: 34.54%)\n",
            "Test Loss:  2.6851 | Test Acc:  44.40%\n",
            "Learning Rate: 0.267928\n",
            "\n",
            "============================================================\n",
            "Epoch [48/200]\n",
            "============================================================\n"
          ]
        },
        {
          "output_type": "display_data",
          "data": {
            "text/plain": [
              "Training:   0%|          | 0/196 [00:00<?, ?it/s]"
            ],
            "application/vnd.jupyter.widget-view+json": {
              "version_major": 2,
              "version_minor": 0,
              "model_id": "14704b750edd4852acf602752ab8c7e7"
            }
          },
          "metadata": {}
        },
        {
          "output_type": "display_data",
          "data": {
            "text/plain": [
              "Evaluating:   0%|          | 0/40 [00:00<?, ?it/s]"
            ],
            "application/vnd.jupyter.widget-view+json": {
              "version_major": 2,
              "version_minor": 0,
              "model_id": "661e98c0b429467da12037dda8c8ec87"
            }
          },
          "metadata": {}
        },
        {
          "output_type": "stream",
          "name": "stdout",
          "text": [
            "Train Loss: 3.2929 | Ttrain Acc: 33.07%)\n",
            "Test Loss:  2.3847 | Test Acc:  50.94%\n",
            "Learning Rate: 0.272517\n",
            "✓ Best model saved! (Test Acc: 50.94%)\n",
            "\n",
            "============================================================\n",
            "Epoch [49/200]\n",
            "============================================================\n"
          ]
        },
        {
          "output_type": "display_data",
          "data": {
            "text/plain": [
              "Training:   0%|          | 0/196 [00:00<?, ?it/s]"
            ],
            "application/vnd.jupyter.widget-view+json": {
              "version_major": 2,
              "version_minor": 0,
              "model_id": "34e199296800474cbbbe68dfb6a528c7"
            }
          },
          "metadata": {}
        },
        {
          "output_type": "display_data",
          "data": {
            "text/plain": [
              "Evaluating:   0%|          | 0/40 [00:00<?, ?it/s]"
            ],
            "application/vnd.jupyter.widget-view+json": {
              "version_major": 2,
              "version_minor": 0,
              "model_id": "6a230d42d11a46059ce196a02639712f"
            }
          },
          "metadata": {}
        },
        {
          "output_type": "stream",
          "name": "stdout",
          "text": [
            "Train Loss: 3.2694 | Ttrain Acc: 33.54%)\n",
            "Test Loss:  2.4487 | Test Acc:  48.93%\n",
            "Learning Rate: 0.276786\n",
            "\n",
            "============================================================\n",
            "Epoch [50/200]\n",
            "============================================================\n"
          ]
        },
        {
          "output_type": "display_data",
          "data": {
            "text/plain": [
              "Training:   0%|          | 0/196 [00:00<?, ?it/s]"
            ],
            "application/vnd.jupyter.widget-view+json": {
              "version_major": 2,
              "version_minor": 0,
              "model_id": "15d9bdee1ef240cdac3dc1502187f571"
            }
          },
          "metadata": {}
        },
        {
          "output_type": "display_data",
          "data": {
            "text/plain": [
              "Evaluating:   0%|          | 0/40 [00:00<?, ?it/s]"
            ],
            "application/vnd.jupyter.widget-view+json": {
              "version_major": 2,
              "version_minor": 0,
              "model_id": "c09f35476f0d498e8579ede633d6a6b2"
            }
          },
          "metadata": {}
        },
        {
          "output_type": "stream",
          "name": "stdout",
          "text": [
            "Train Loss: 3.2383 | Ttrain Acc: 34.02%)\n",
            "Test Loss:  2.7758 | Test Acc:  41.04%\n",
            "Learning Rate: 0.280724\n",
            "\n",
            "============================================================\n",
            "Epoch [51/200]\n",
            "============================================================\n"
          ]
        },
        {
          "output_type": "display_data",
          "data": {
            "text/plain": [
              "Training:   0%|          | 0/196 [00:00<?, ?it/s]"
            ],
            "application/vnd.jupyter.widget-view+json": {
              "version_major": 2,
              "version_minor": 0,
              "model_id": "f0c1013d1ab34e1bbc15dcfa8d4a5feb"
            }
          },
          "metadata": {}
        },
        {
          "output_type": "display_data",
          "data": {
            "text/plain": [
              "Evaluating:   0%|          | 0/40 [00:00<?, ?it/s]"
            ],
            "application/vnd.jupyter.widget-view+json": {
              "version_major": 2,
              "version_minor": 0,
              "model_id": "9f7ad011be03447bb4501abf1b4eb47c"
            }
          },
          "metadata": {}
        },
        {
          "output_type": "stream",
          "name": "stdout",
          "text": [
            "Train Loss: 3.2833 | Ttrain Acc: 33.26%)\n",
            "Test Loss:  2.5335 | Test Acc:  47.07%\n",
            "Learning Rate: 0.284320\n",
            "\n",
            "============================================================\n",
            "Epoch [52/200]\n",
            "============================================================\n"
          ]
        },
        {
          "output_type": "display_data",
          "data": {
            "text/plain": [
              "Training:   0%|          | 0/196 [00:00<?, ?it/s]"
            ],
            "application/vnd.jupyter.widget-view+json": {
              "version_major": 2,
              "version_minor": 0,
              "model_id": "a6f773e2f1ed4b4aa1032e62205a2e83"
            }
          },
          "metadata": {}
        },
        {
          "output_type": "display_data",
          "data": {
            "text/plain": [
              "Evaluating:   0%|          | 0/40 [00:00<?, ?it/s]"
            ],
            "application/vnd.jupyter.widget-view+json": {
              "version_major": 2,
              "version_minor": 0,
              "model_id": "999b973e8de94b28a46fdf17956cfd74"
            }
          },
          "metadata": {}
        },
        {
          "output_type": "stream",
          "name": "stdout",
          "text": [
            "Train Loss: 3.2384 | Ttrain Acc: 34.57%)\n",
            "Test Loss:  2.6137 | Test Acc:  45.78%\n",
            "Learning Rate: 0.287564\n",
            "\n",
            "============================================================\n",
            "Epoch [53/200]\n",
            "============================================================\n"
          ]
        },
        {
          "output_type": "display_data",
          "data": {
            "text/plain": [
              "Training:   0%|          | 0/196 [00:00<?, ?it/s]"
            ],
            "application/vnd.jupyter.widget-view+json": {
              "version_major": 2,
              "version_minor": 0,
              "model_id": "eef8e08594994eeeac36fb3c496905c0"
            }
          },
          "metadata": {}
        },
        {
          "output_type": "display_data",
          "data": {
            "text/plain": [
              "Evaluating:   0%|          | 0/40 [00:00<?, ?it/s]"
            ],
            "application/vnd.jupyter.widget-view+json": {
              "version_major": 2,
              "version_minor": 0,
              "model_id": "c97e569e18864ba09e307ac9cb6c496f"
            }
          },
          "metadata": {}
        },
        {
          "output_type": "stream",
          "name": "stdout",
          "text": [
            "Train Loss: 3.2273 | Ttrain Acc: 34.67%)\n",
            "Test Loss:  2.3697 | Test Acc:  51.31%\n",
            "Learning Rate: 0.290448\n",
            "✓ Best model saved! (Test Acc: 51.31%)\n",
            "\n",
            "============================================================\n",
            "Epoch [54/200]\n",
            "============================================================\n"
          ]
        },
        {
          "output_type": "display_data",
          "data": {
            "text/plain": [
              "Training:   0%|          | 0/196 [00:00<?, ?it/s]"
            ],
            "application/vnd.jupyter.widget-view+json": {
              "version_major": 2,
              "version_minor": 0,
              "model_id": "cbfb798a25564d9894ea49acd26fab70"
            }
          },
          "metadata": {}
        },
        {
          "output_type": "display_data",
          "data": {
            "text/plain": [
              "Evaluating:   0%|          | 0/40 [00:00<?, ?it/s]"
            ],
            "application/vnd.jupyter.widget-view+json": {
              "version_major": 2,
              "version_minor": 0,
              "model_id": "9c7b96fb41764c5ca5fad73e0ff366bc"
            }
          },
          "metadata": {}
        },
        {
          "output_type": "stream",
          "name": "stdout",
          "text": [
            "Train Loss: 3.1731 | Ttrain Acc: 35.75%)\n",
            "Test Loss:  2.4336 | Test Acc:  49.50%\n",
            "Learning Rate: 0.292963\n",
            "\n",
            "============================================================\n",
            "Epoch [55/200]\n",
            "============================================================\n"
          ]
        },
        {
          "output_type": "display_data",
          "data": {
            "text/plain": [
              "Training:   0%|          | 0/196 [00:00<?, ?it/s]"
            ],
            "application/vnd.jupyter.widget-view+json": {
              "version_major": 2,
              "version_minor": 0,
              "model_id": "7c1b0d51d552440d86e3d75fde91c5d8"
            }
          },
          "metadata": {}
        },
        {
          "output_type": "display_data",
          "data": {
            "text/plain": [
              "Evaluating:   0%|          | 0/40 [00:00<?, ?it/s]"
            ],
            "application/vnd.jupyter.widget-view+json": {
              "version_major": 2,
              "version_minor": 0,
              "model_id": "eb57ceeea505465aa3fc3d11c2ef7750"
            }
          },
          "metadata": {}
        },
        {
          "output_type": "stream",
          "name": "stdout",
          "text": [
            "Train Loss: 3.2824 | Ttrain Acc: 33.33%)\n",
            "Test Loss:  2.5739 | Test Acc:  46.58%\n",
            "Learning Rate: 0.295102\n",
            "\n",
            "============================================================\n",
            "Epoch [56/200]\n",
            "============================================================\n"
          ]
        },
        {
          "output_type": "display_data",
          "data": {
            "text/plain": [
              "Training:   0%|          | 0/196 [00:00<?, ?it/s]"
            ],
            "application/vnd.jupyter.widget-view+json": {
              "version_major": 2,
              "version_minor": 0,
              "model_id": "8f2899d64fc24615a33bf0be987b4bd4"
            }
          },
          "metadata": {}
        },
        {
          "output_type": "display_data",
          "data": {
            "text/plain": [
              "Evaluating:   0%|          | 0/40 [00:00<?, ?it/s]"
            ],
            "application/vnd.jupyter.widget-view+json": {
              "version_major": 2,
              "version_minor": 0,
              "model_id": "f7a2f1c0c13d409f9a51d226a6b12ce6"
            }
          },
          "metadata": {}
        },
        {
          "output_type": "stream",
          "name": "stdout",
          "text": [
            "Train Loss: 3.2513 | Ttrain Acc: 33.89%)\n",
            "Test Loss:  2.5610 | Test Acc:  47.20%\n",
            "Learning Rate: 0.296861\n",
            "\n",
            "============================================================\n",
            "Epoch [57/200]\n",
            "============================================================\n"
          ]
        },
        {
          "output_type": "display_data",
          "data": {
            "text/plain": [
              "Training:   0%|          | 0/196 [00:00<?, ?it/s]"
            ],
            "application/vnd.jupyter.widget-view+json": {
              "version_major": 2,
              "version_minor": 0,
              "model_id": "68a1184f57264f4ba6c7312000f1c645"
            }
          },
          "metadata": {}
        },
        {
          "output_type": "display_data",
          "data": {
            "text/plain": [
              "Evaluating:   0%|          | 0/40 [00:00<?, ?it/s]"
            ],
            "application/vnd.jupyter.widget-view+json": {
              "version_major": 2,
              "version_minor": 0,
              "model_id": "7eeea49f677f4d839cfa05f4f3f565d3"
            }
          },
          "metadata": {}
        },
        {
          "output_type": "stream",
          "name": "stdout",
          "text": [
            "Train Loss: 3.2152 | Ttrain Acc: 34.73%)\n",
            "Test Loss:  2.4086 | Test Acc:  50.41%\n",
            "Learning Rate: 0.298233\n",
            "\n",
            "============================================================\n",
            "Epoch [58/200]\n",
            "============================================================\n"
          ]
        },
        {
          "output_type": "display_data",
          "data": {
            "text/plain": [
              "Training:   0%|          | 0/196 [00:00<?, ?it/s]"
            ],
            "application/vnd.jupyter.widget-view+json": {
              "version_major": 2,
              "version_minor": 0,
              "model_id": "1d906a0abaa944b2a1608afec8973ded"
            }
          },
          "metadata": {}
        },
        {
          "output_type": "display_data",
          "data": {
            "text/plain": [
              "Evaluating:   0%|          | 0/40 [00:00<?, ?it/s]"
            ],
            "application/vnd.jupyter.widget-view+json": {
              "version_major": 2,
              "version_minor": 0,
              "model_id": "6586d8e52951417ba1e6c3586032c5de"
            }
          },
          "metadata": {}
        },
        {
          "output_type": "stream",
          "name": "stdout",
          "text": [
            "Train Loss: 3.2301 | Ttrain Acc: 34.56%)\n",
            "Test Loss:  2.6902 | Test Acc:  43.16%\n",
            "Learning Rate: 0.299215\n",
            "\n",
            "============================================================\n",
            "Epoch [59/200]\n",
            "============================================================\n"
          ]
        },
        {
          "output_type": "display_data",
          "data": {
            "text/plain": [
              "Training:   0%|          | 0/196 [00:00<?, ?it/s]"
            ],
            "application/vnd.jupyter.widget-view+json": {
              "version_major": 2,
              "version_minor": 0,
              "model_id": "171bd83f29e941e7b76ce88a319bb0ee"
            }
          },
          "metadata": {}
        },
        {
          "output_type": "display_data",
          "data": {
            "text/plain": [
              "Evaluating:   0%|          | 0/40 [00:00<?, ?it/s]"
            ],
            "application/vnd.jupyter.widget-view+json": {
              "version_major": 2,
              "version_minor": 0,
              "model_id": "f877f3ab32664b9bb5c9a69840f8eece"
            }
          },
          "metadata": {}
        },
        {
          "output_type": "stream",
          "name": "stdout",
          "text": [
            "Train Loss: 3.2170 | Ttrain Acc: 35.02%)\n",
            "Test Loss:  2.4639 | Test Acc:  48.82%\n",
            "Learning Rate: 0.299805\n",
            "\n",
            "============================================================\n",
            "Epoch [60/200]\n",
            "============================================================\n"
          ]
        },
        {
          "output_type": "display_data",
          "data": {
            "text/plain": [
              "Training:   0%|          | 0/196 [00:00<?, ?it/s]"
            ],
            "application/vnd.jupyter.widget-view+json": {
              "version_major": 2,
              "version_minor": 0,
              "model_id": "de74d0fa179b4b12b023bf8dbf4ac065"
            }
          },
          "metadata": {}
        },
        {
          "output_type": "display_data",
          "data": {
            "text/plain": [
              "Evaluating:   0%|          | 0/40 [00:00<?, ?it/s]"
            ],
            "application/vnd.jupyter.widget-view+json": {
              "version_major": 2,
              "version_minor": 0,
              "model_id": "b92813c4083746d0ae906f01851d8fd6"
            }
          },
          "metadata": {}
        },
        {
          "output_type": "stream",
          "name": "stdout",
          "text": [
            "Train Loss: 3.2711 | Ttrain Acc: 33.88%)\n",
            "Test Loss:  2.4089 | Test Acc:  50.18%\n",
            "Learning Rate: 0.300000\n",
            "\n",
            "============================================================\n",
            "Epoch [61/200]\n",
            "============================================================\n"
          ]
        },
        {
          "output_type": "display_data",
          "data": {
            "text/plain": [
              "Training:   0%|          | 0/196 [00:00<?, ?it/s]"
            ],
            "application/vnd.jupyter.widget-view+json": {
              "version_major": 2,
              "version_minor": 0,
              "model_id": "ac9ff53d96e44a808808c7125c5347c5"
            }
          },
          "metadata": {}
        },
        {
          "output_type": "display_data",
          "data": {
            "text/plain": [
              "Evaluating:   0%|          | 0/40 [00:00<?, ?it/s]"
            ],
            "application/vnd.jupyter.widget-view+json": {
              "version_major": 2,
              "version_minor": 0,
              "model_id": "095895fb020d4819942b5b81268c0f4d"
            }
          },
          "metadata": {}
        },
        {
          "output_type": "stream",
          "name": "stdout",
          "text": [
            "Train Loss: 3.2400 | Ttrain Acc: 34.51%)\n",
            "Test Loss:  2.7682 | Test Acc:  43.25%\n",
            "Learning Rate: 0.299962\n",
            "\n",
            "============================================================\n",
            "Epoch [62/200]\n",
            "============================================================\n"
          ]
        },
        {
          "output_type": "display_data",
          "data": {
            "text/plain": [
              "Training:   0%|          | 0/196 [00:00<?, ?it/s]"
            ],
            "application/vnd.jupyter.widget-view+json": {
              "version_major": 2,
              "version_minor": 0,
              "model_id": "57e5fe47222a4f7794b77dd03fd70841"
            }
          },
          "metadata": {}
        },
        {
          "output_type": "display_data",
          "data": {
            "text/plain": [
              "Evaluating:   0%|          | 0/40 [00:00<?, ?it/s]"
            ],
            "application/vnd.jupyter.widget-view+json": {
              "version_major": 2,
              "version_minor": 0,
              "model_id": "2f16f57328e34eb2b84379023aeb0dae"
            }
          },
          "metadata": {}
        },
        {
          "output_type": "stream",
          "name": "stdout",
          "text": [
            "Train Loss: 3.2294 | Ttrain Acc: 34.43%)\n",
            "Test Loss:  2.5238 | Test Acc:  47.03%\n",
            "Learning Rate: 0.299848\n",
            "\n",
            "============================================================\n",
            "Epoch [63/200]\n",
            "============================================================\n"
          ]
        },
        {
          "output_type": "display_data",
          "data": {
            "text/plain": [
              "Training:   0%|          | 0/196 [00:00<?, ?it/s]"
            ],
            "application/vnd.jupyter.widget-view+json": {
              "version_major": 2,
              "version_minor": 0,
              "model_id": "e1e79e9be3374063a52f1ce04a70ba3e"
            }
          },
          "metadata": {}
        },
        {
          "output_type": "display_data",
          "data": {
            "text/plain": [
              "Evaluating:   0%|          | 0/40 [00:00<?, ?it/s]"
            ],
            "application/vnd.jupyter.widget-view+json": {
              "version_major": 2,
              "version_minor": 0,
              "model_id": "82938afc0e534fbaa67bc72bc7ba5b66"
            }
          },
          "metadata": {}
        },
        {
          "output_type": "stream",
          "name": "stdout",
          "text": [
            "Train Loss: 3.2740 | Ttrain Acc: 33.27%)\n",
            "Test Loss:  2.4248 | Test Acc:  50.69%\n",
            "Learning Rate: 0.299659\n",
            "\n",
            "============================================================\n",
            "Epoch [64/200]\n",
            "============================================================\n"
          ]
        },
        {
          "output_type": "display_data",
          "data": {
            "text/plain": [
              "Training:   0%|          | 0/196 [00:00<?, ?it/s]"
            ],
            "application/vnd.jupyter.widget-view+json": {
              "version_major": 2,
              "version_minor": 0,
              "model_id": "b977881df5554582bbd855fea4704b03"
            }
          },
          "metadata": {}
        },
        {
          "output_type": "display_data",
          "data": {
            "text/plain": [
              "Evaluating:   0%|          | 0/40 [00:00<?, ?it/s]"
            ],
            "application/vnd.jupyter.widget-view+json": {
              "version_major": 2,
              "version_minor": 0,
              "model_id": "3495fb53b36b43c79dcc0f03db7d0228"
            }
          },
          "metadata": {}
        },
        {
          "output_type": "stream",
          "name": "stdout",
          "text": [
            "Train Loss: 3.2767 | Ttrain Acc: 33.62%)\n",
            "Test Loss:  2.7313 | Test Acc:  45.64%\n",
            "Learning Rate: 0.299395\n",
            "\n",
            "============================================================\n",
            "Epoch [65/200]\n",
            "============================================================\n"
          ]
        },
        {
          "output_type": "display_data",
          "data": {
            "text/plain": [
              "Training:   0%|          | 0/196 [00:00<?, ?it/s]"
            ],
            "application/vnd.jupyter.widget-view+json": {
              "version_major": 2,
              "version_minor": 0,
              "model_id": "e0aab4a4856c4e3c911de0123689e9bb"
            }
          },
          "metadata": {}
        },
        {
          "output_type": "display_data",
          "data": {
            "text/plain": [
              "Evaluating:   0%|          | 0/40 [00:00<?, ?it/s]"
            ],
            "application/vnd.jupyter.widget-view+json": {
              "version_major": 2,
              "version_minor": 0,
              "model_id": "fbef9afd1030449ea9f9f4f0b042eb73"
            }
          },
          "metadata": {}
        },
        {
          "output_type": "stream",
          "name": "stdout",
          "text": [
            "Train Loss: 3.2146 | Ttrain Acc: 34.72%)\n",
            "Test Loss:  2.5075 | Test Acc:  47.89%\n",
            "Learning Rate: 0.299055\n",
            "\n",
            "============================================================\n",
            "Epoch [66/200]\n",
            "============================================================\n"
          ]
        },
        {
          "output_type": "display_data",
          "data": {
            "text/plain": [
              "Training:   0%|          | 0/196 [00:00<?, ?it/s]"
            ],
            "application/vnd.jupyter.widget-view+json": {
              "version_major": 2,
              "version_minor": 0,
              "model_id": "862f19f4934444cbb8518fef3b866327"
            }
          },
          "metadata": {}
        },
        {
          "output_type": "display_data",
          "data": {
            "text/plain": [
              "Evaluating:   0%|          | 0/40 [00:00<?, ?it/s]"
            ],
            "application/vnd.jupyter.widget-view+json": {
              "version_major": 2,
              "version_minor": 0,
              "model_id": "244931fc24b94e64af2b06c0ba22ddd2"
            }
          },
          "metadata": {}
        },
        {
          "output_type": "stream",
          "name": "stdout",
          "text": [
            "Train Loss: 3.1882 | Ttrain Acc: 35.52%)\n",
            "Test Loss:  2.6523 | Test Acc:  46.14%\n",
            "Learning Rate: 0.298640\n",
            "\n",
            "============================================================\n",
            "Epoch [67/200]\n",
            "============================================================\n"
          ]
        },
        {
          "output_type": "display_data",
          "data": {
            "text/plain": [
              "Training:   0%|          | 0/196 [00:00<?, ?it/s]"
            ],
            "application/vnd.jupyter.widget-view+json": {
              "version_major": 2,
              "version_minor": 0,
              "model_id": "ef1a9d82bd1b421db2d14ad3db93d6e5"
            }
          },
          "metadata": {}
        },
        {
          "output_type": "display_data",
          "data": {
            "text/plain": [
              "Evaluating:   0%|          | 0/40 [00:00<?, ?it/s]"
            ],
            "application/vnd.jupyter.widget-view+json": {
              "version_major": 2,
              "version_minor": 0,
              "model_id": "0d3c77a0a0b74e26bd0dfffc92f98bae"
            }
          },
          "metadata": {}
        },
        {
          "output_type": "stream",
          "name": "stdout",
          "text": [
            "Train Loss: 3.1856 | Ttrain Acc: 35.73%)\n",
            "Test Loss:  2.6810 | Test Acc:  43.30%\n",
            "Learning Rate: 0.298151\n",
            "\n",
            "============================================================\n",
            "Epoch [68/200]\n",
            "============================================================\n"
          ]
        },
        {
          "output_type": "display_data",
          "data": {
            "text/plain": [
              "Training:   0%|          | 0/196 [00:00<?, ?it/s]"
            ],
            "application/vnd.jupyter.widget-view+json": {
              "version_major": 2,
              "version_minor": 0,
              "model_id": "5c539b4d2008401e8907357fef59a322"
            }
          },
          "metadata": {}
        },
        {
          "output_type": "display_data",
          "data": {
            "text/plain": [
              "Evaluating:   0%|          | 0/40 [00:00<?, ?it/s]"
            ],
            "application/vnd.jupyter.widget-view+json": {
              "version_major": 2,
              "version_minor": 0,
              "model_id": "45cd726db4ac45ddbecf1b36be6f0a53"
            }
          },
          "metadata": {}
        },
        {
          "output_type": "stream",
          "name": "stdout",
          "text": [
            "Train Loss: 3.1798 | Ttrain Acc: 36.03%)\n",
            "Test Loss:  2.5889 | Test Acc:  46.35%\n",
            "Learning Rate: 0.297586\n",
            "\n",
            "============================================================\n",
            "Epoch [69/200]\n",
            "============================================================\n"
          ]
        },
        {
          "output_type": "display_data",
          "data": {
            "text/plain": [
              "Training:   0%|          | 0/196 [00:00<?, ?it/s]"
            ],
            "application/vnd.jupyter.widget-view+json": {
              "version_major": 2,
              "version_minor": 0,
              "model_id": "04eef3c4b99348ae9b1f83b9315635df"
            }
          },
          "metadata": {}
        },
        {
          "output_type": "display_data",
          "data": {
            "text/plain": [
              "Evaluating:   0%|          | 0/40 [00:00<?, ?it/s]"
            ],
            "application/vnd.jupyter.widget-view+json": {
              "version_major": 2,
              "version_minor": 0,
              "model_id": "212d04767a114f00b8800b9c2423d8b1"
            }
          },
          "metadata": {}
        },
        {
          "output_type": "stream",
          "name": "stdout",
          "text": [
            "Train Loss: 3.2363 | Ttrain Acc: 34.46%)\n",
            "Test Loss:  2.4168 | Test Acc:  49.78%\n",
            "Learning Rate: 0.296948\n",
            "\n",
            "============================================================\n",
            "Epoch [70/200]\n",
            "============================================================\n"
          ]
        },
        {
          "output_type": "display_data",
          "data": {
            "text/plain": [
              "Training:   0%|          | 0/196 [00:00<?, ?it/s]"
            ],
            "application/vnd.jupyter.widget-view+json": {
              "version_major": 2,
              "version_minor": 0,
              "model_id": "74b22583dff24a81bb9e4526b61e46e8"
            }
          },
          "metadata": {}
        },
        {
          "output_type": "display_data",
          "data": {
            "text/plain": [
              "Evaluating:   0%|          | 0/40 [00:00<?, ?it/s]"
            ],
            "application/vnd.jupyter.widget-view+json": {
              "version_major": 2,
              "version_minor": 0,
              "model_id": "7d894299a5ae43e0a3f3afe89c9d274f"
            }
          },
          "metadata": {}
        },
        {
          "output_type": "stream",
          "name": "stdout",
          "text": [
            "Train Loss: 3.2451 | Ttrain Acc: 34.10%)\n",
            "Test Loss:  2.5112 | Test Acc:  48.86%\n",
            "Learning Rate: 0.296236\n",
            "\n",
            "============================================================\n",
            "Epoch [71/200]\n",
            "============================================================\n"
          ]
        },
        {
          "output_type": "display_data",
          "data": {
            "text/plain": [
              "Training:   0%|          | 0/196 [00:00<?, ?it/s]"
            ],
            "application/vnd.jupyter.widget-view+json": {
              "version_major": 2,
              "version_minor": 0,
              "model_id": "79fed23c4f8640bdaa4f3337cdf76ec9"
            }
          },
          "metadata": {}
        },
        {
          "output_type": "display_data",
          "data": {
            "text/plain": [
              "Evaluating:   0%|          | 0/40 [00:00<?, ?it/s]"
            ],
            "application/vnd.jupyter.widget-view+json": {
              "version_major": 2,
              "version_minor": 0,
              "model_id": "5d2646ffaf444138a5055c8c83795061"
            }
          },
          "metadata": {}
        },
        {
          "output_type": "stream",
          "name": "stdout",
          "text": [
            "Train Loss: 3.1715 | Ttrain Acc: 36.18%)\n",
            "Test Loss:  2.8264 | Test Acc:  43.94%\n",
            "Learning Rate: 0.295449\n",
            "\n",
            "============================================================\n",
            "Epoch [72/200]\n",
            "============================================================\n"
          ]
        },
        {
          "output_type": "display_data",
          "data": {
            "text/plain": [
              "Training:   0%|          | 0/196 [00:00<?, ?it/s]"
            ],
            "application/vnd.jupyter.widget-view+json": {
              "version_major": 2,
              "version_minor": 0,
              "model_id": "d740a6c28b54405d96e2d1e32a0c1c05"
            }
          },
          "metadata": {}
        },
        {
          "output_type": "display_data",
          "data": {
            "text/plain": [
              "Evaluating:   0%|          | 0/40 [00:00<?, ?it/s]"
            ],
            "application/vnd.jupyter.widget-view+json": {
              "version_major": 2,
              "version_minor": 0,
              "model_id": "f4326f36bdaf4e2b8953a4d6263b771b"
            }
          },
          "metadata": {}
        },
        {
          "output_type": "stream",
          "name": "stdout",
          "text": [
            "Train Loss: 3.2616 | Ttrain Acc: 33.83%)\n",
            "Test Loss:  2.5464 | Test Acc:  48.73%\n",
            "Learning Rate: 0.294590\n",
            "\n",
            "============================================================\n",
            "Epoch [73/200]\n",
            "============================================================\n"
          ]
        },
        {
          "output_type": "display_data",
          "data": {
            "text/plain": [
              "Training:   0%|          | 0/196 [00:00<?, ?it/s]"
            ],
            "application/vnd.jupyter.widget-view+json": {
              "version_major": 2,
              "version_minor": 0,
              "model_id": "069a3443900945b3b43d091d4f54feea"
            }
          },
          "metadata": {}
        },
        {
          "output_type": "display_data",
          "data": {
            "text/plain": [
              "Evaluating:   0%|          | 0/40 [00:00<?, ?it/s]"
            ],
            "application/vnd.jupyter.widget-view+json": {
              "version_major": 2,
              "version_minor": 0,
              "model_id": "817f650a0d73451eb902756f8bedbcce"
            }
          },
          "metadata": {}
        },
        {
          "output_type": "stream",
          "name": "stdout",
          "text": [
            "Train Loss: 3.1978 | Ttrain Acc: 35.50%)\n",
            "Test Loss:  2.7601 | Test Acc:  42.02%\n",
            "Learning Rate: 0.293658\n",
            "\n",
            "============================================================\n",
            "Epoch [74/200]\n",
            "============================================================\n"
          ]
        },
        {
          "output_type": "display_data",
          "data": {
            "text/plain": [
              "Training:   0%|          | 0/196 [00:00<?, ?it/s]"
            ],
            "application/vnd.jupyter.widget-view+json": {
              "version_major": 2,
              "version_minor": 0,
              "model_id": "b96efeb9d71048c3b705d137105f15b3"
            }
          },
          "metadata": {}
        },
        {
          "output_type": "display_data",
          "data": {
            "text/plain": [
              "Evaluating:   0%|          | 0/40 [00:00<?, ?it/s]"
            ],
            "application/vnd.jupyter.widget-view+json": {
              "version_major": 2,
              "version_minor": 0,
              "model_id": "07ac5e0bd19b497f83cb6300fe9d323a"
            }
          },
          "metadata": {}
        },
        {
          "output_type": "stream",
          "name": "stdout",
          "text": [
            "Train Loss: 3.1939 | Ttrain Acc: 35.69%)\n",
            "Test Loss:  2.3250 | Test Acc:  53.55%\n",
            "Learning Rate: 0.292653\n",
            "✓ Best model saved! (Test Acc: 53.55%)\n",
            "\n",
            "============================================================\n",
            "Epoch [75/200]\n",
            "============================================================\n"
          ]
        },
        {
          "output_type": "display_data",
          "data": {
            "text/plain": [
              "Training:   0%|          | 0/196 [00:00<?, ?it/s]"
            ],
            "application/vnd.jupyter.widget-view+json": {
              "version_major": 2,
              "version_minor": 0,
              "model_id": "0fa07b4b3af24a0a8a888fb716ab12b2"
            }
          },
          "metadata": {}
        },
        {
          "output_type": "display_data",
          "data": {
            "text/plain": [
              "Evaluating:   0%|          | 0/40 [00:00<?, ?it/s]"
            ],
            "application/vnd.jupyter.widget-view+json": {
              "version_major": 2,
              "version_minor": 0,
              "model_id": "0d2295c57cba4a38a5db1d4d23a1f683"
            }
          },
          "metadata": {}
        },
        {
          "output_type": "stream",
          "name": "stdout",
          "text": [
            "Train Loss: 3.2294 | Ttrain Acc: 34.62%)\n",
            "Test Loss:  2.9087 | Test Acc:  38.63%\n",
            "Learning Rate: 0.291577\n",
            "\n",
            "============================================================\n",
            "Epoch [76/200]\n",
            "============================================================\n"
          ]
        },
        {
          "output_type": "display_data",
          "data": {
            "text/plain": [
              "Training:   0%|          | 0/196 [00:00<?, ?it/s]"
            ],
            "application/vnd.jupyter.widget-view+json": {
              "version_major": 2,
              "version_minor": 0,
              "model_id": "bff8257cac414c9992d1470dfa46b60f"
            }
          },
          "metadata": {}
        },
        {
          "output_type": "display_data",
          "data": {
            "text/plain": [
              "Evaluating:   0%|          | 0/40 [00:00<?, ?it/s]"
            ],
            "application/vnd.jupyter.widget-view+json": {
              "version_major": 2,
              "version_minor": 0,
              "model_id": "d7b2e91312ec499dbd0588199036e2c4"
            }
          },
          "metadata": {}
        },
        {
          "output_type": "stream",
          "name": "stdout",
          "text": [
            "Train Loss: 3.2441 | Ttrain Acc: 34.33%)\n",
            "Test Loss:  2.4229 | Test Acc:  49.40%\n",
            "Learning Rate: 0.290430\n",
            "\n",
            "============================================================\n",
            "Epoch [77/200]\n",
            "============================================================\n"
          ]
        },
        {
          "output_type": "display_data",
          "data": {
            "text/plain": [
              "Training:   0%|          | 0/196 [00:00<?, ?it/s]"
            ],
            "application/vnd.jupyter.widget-view+json": {
              "version_major": 2,
              "version_minor": 0,
              "model_id": "6f0664d6e06344d8aa613a40ba95b69c"
            }
          },
          "metadata": {}
        },
        {
          "output_type": "display_data",
          "data": {
            "text/plain": [
              "Evaluating:   0%|          | 0/40 [00:00<?, ?it/s]"
            ],
            "application/vnd.jupyter.widget-view+json": {
              "version_major": 2,
              "version_minor": 0,
              "model_id": "a105cc8aa08a48a9b6d8d274acff66e3"
            }
          },
          "metadata": {}
        },
        {
          "output_type": "stream",
          "name": "stdout",
          "text": [
            "Train Loss: 3.2045 | Ttrain Acc: 35.15%)\n",
            "Test Loss:  2.2605 | Test Acc:  53.58%\n",
            "Learning Rate: 0.289211\n",
            "✓ Best model saved! (Test Acc: 53.58%)\n",
            "\n",
            "============================================================\n",
            "Epoch [78/200]\n",
            "============================================================\n"
          ]
        },
        {
          "output_type": "display_data",
          "data": {
            "text/plain": [
              "Training:   0%|          | 0/196 [00:00<?, ?it/s]"
            ],
            "application/vnd.jupyter.widget-view+json": {
              "version_major": 2,
              "version_minor": 0,
              "model_id": "591cd2843fb34fd48e26fbeec8a7fc9e"
            }
          },
          "metadata": {}
        },
        {
          "output_type": "display_data",
          "data": {
            "text/plain": [
              "Evaluating:   0%|          | 0/40 [00:00<?, ?it/s]"
            ],
            "application/vnd.jupyter.widget-view+json": {
              "version_major": 2,
              "version_minor": 0,
              "model_id": "6f8ed31b6a6d4c99a1fa4d3fb382259b"
            }
          },
          "metadata": {}
        },
        {
          "output_type": "stream",
          "name": "stdout",
          "text": [
            "Train Loss: 3.1792 | Ttrain Acc: 35.97%)\n",
            "Test Loss:  2.4904 | Test Acc:  47.98%\n",
            "Learning Rate: 0.287923\n",
            "\n",
            "============================================================\n",
            "Epoch [79/200]\n",
            "============================================================\n"
          ]
        },
        {
          "output_type": "display_data",
          "data": {
            "text/plain": [
              "Training:   0%|          | 0/196 [00:00<?, ?it/s]"
            ],
            "application/vnd.jupyter.widget-view+json": {
              "version_major": 2,
              "version_minor": 0,
              "model_id": "87f92b8893464d35af3eb844722731f9"
            }
          },
          "metadata": {}
        },
        {
          "output_type": "display_data",
          "data": {
            "text/plain": [
              "Evaluating:   0%|          | 0/40 [00:00<?, ?it/s]"
            ],
            "application/vnd.jupyter.widget-view+json": {
              "version_major": 2,
              "version_minor": 0,
              "model_id": "e9fb19c74c3447a791bd5f58b6b0986d"
            }
          },
          "metadata": {}
        },
        {
          "output_type": "stream",
          "name": "stdout",
          "text": [
            "Train Loss: 3.1681 | Ttrain Acc: 36.04%)\n",
            "Test Loss:  2.4402 | Test Acc:  50.20%\n",
            "Learning Rate: 0.286565\n",
            "\n",
            "============================================================\n",
            "Epoch [80/200]\n",
            "============================================================\n"
          ]
        },
        {
          "output_type": "display_data",
          "data": {
            "text/plain": [
              "Training:   0%|          | 0/196 [00:00<?, ?it/s]"
            ],
            "application/vnd.jupyter.widget-view+json": {
              "version_major": 2,
              "version_minor": 0,
              "model_id": "1b9ec99ee78a4a749c36b1a628d9bd26"
            }
          },
          "metadata": {}
        },
        {
          "output_type": "display_data",
          "data": {
            "text/plain": [
              "Evaluating:   0%|          | 0/40 [00:00<?, ?it/s]"
            ],
            "application/vnd.jupyter.widget-view+json": {
              "version_major": 2,
              "version_minor": 0,
              "model_id": "50d3c963feeb42f2b2bac434698eea73"
            }
          },
          "metadata": {}
        },
        {
          "output_type": "stream",
          "name": "stdout",
          "text": [
            "Train Loss: 3.2238 | Ttrain Acc: 34.83%)\n",
            "Test Loss:  2.3913 | Test Acc:  51.12%\n",
            "Learning Rate: 0.285138\n",
            "\n",
            "============================================================\n",
            "Epoch [81/200]\n",
            "============================================================\n"
          ]
        },
        {
          "output_type": "display_data",
          "data": {
            "text/plain": [
              "Training:   0%|          | 0/196 [00:00<?, ?it/s]"
            ],
            "application/vnd.jupyter.widget-view+json": {
              "version_major": 2,
              "version_minor": 0,
              "model_id": "491562ca34bf49af89bc23325c8c4fc2"
            }
          },
          "metadata": {}
        },
        {
          "output_type": "display_data",
          "data": {
            "text/plain": [
              "Evaluating:   0%|          | 0/40 [00:00<?, ?it/s]"
            ],
            "application/vnd.jupyter.widget-view+json": {
              "version_major": 2,
              "version_minor": 0,
              "model_id": "ba08a50b1ffc4d6c97fc7e1ea03b3102"
            }
          },
          "metadata": {}
        },
        {
          "output_type": "stream",
          "name": "stdout",
          "text": [
            "Train Loss: 3.2074 | Ttrain Acc: 35.01%)\n",
            "Test Loss:  2.4806 | Test Acc:  50.10%\n",
            "Learning Rate: 0.283644\n",
            "\n",
            "============================================================\n",
            "Epoch [82/200]\n",
            "============================================================\n"
          ]
        },
        {
          "output_type": "display_data",
          "data": {
            "text/plain": [
              "Training:   0%|          | 0/196 [00:00<?, ?it/s]"
            ],
            "application/vnd.jupyter.widget-view+json": {
              "version_major": 2,
              "version_minor": 0,
              "model_id": "e66421dca6d24643b314e6e143154d30"
            }
          },
          "metadata": {}
        },
        {
          "output_type": "display_data",
          "data": {
            "text/plain": [
              "Evaluating:   0%|          | 0/40 [00:00<?, ?it/s]"
            ],
            "application/vnd.jupyter.widget-view+json": {
              "version_major": 2,
              "version_minor": 0,
              "model_id": "a0e4bcea4f9b47f98f70405a7542a43e"
            }
          },
          "metadata": {}
        },
        {
          "output_type": "stream",
          "name": "stdout",
          "text": [
            "Train Loss: 3.1789 | Ttrain Acc: 35.80%)\n",
            "Test Loss:  2.3086 | Test Acc:  53.19%\n",
            "Learning Rate: 0.282082\n",
            "\n",
            "============================================================\n",
            "Epoch [83/200]\n",
            "============================================================\n"
          ]
        },
        {
          "output_type": "display_data",
          "data": {
            "text/plain": [
              "Training:   0%|          | 0/196 [00:00<?, ?it/s]"
            ],
            "application/vnd.jupyter.widget-view+json": {
              "version_major": 2,
              "version_minor": 0,
              "model_id": "4630a1e130d146f8a9905a6b979817ea"
            }
          },
          "metadata": {}
        },
        {
          "output_type": "display_data",
          "data": {
            "text/plain": [
              "Evaluating:   0%|          | 0/40 [00:00<?, ?it/s]"
            ],
            "application/vnd.jupyter.widget-view+json": {
              "version_major": 2,
              "version_minor": 0,
              "model_id": "2d2a8e1cc15242bbab2f36735c739a0a"
            }
          },
          "metadata": {}
        },
        {
          "output_type": "stream",
          "name": "stdout",
          "text": [
            "Train Loss: 3.2097 | Ttrain Acc: 35.21%)\n",
            "Test Loss:  2.4900 | Test Acc:  47.88%\n",
            "Learning Rate: 0.280453\n",
            "\n",
            "============================================================\n",
            "Epoch [84/200]\n",
            "============================================================\n"
          ]
        },
        {
          "output_type": "display_data",
          "data": {
            "text/plain": [
              "Training:   0%|          | 0/196 [00:00<?, ?it/s]"
            ],
            "application/vnd.jupyter.widget-view+json": {
              "version_major": 2,
              "version_minor": 0,
              "model_id": "d5172666e88b4bb49c3b0834920b6320"
            }
          },
          "metadata": {}
        },
        {
          "output_type": "display_data",
          "data": {
            "text/plain": [
              "Evaluating:   0%|          | 0/40 [00:00<?, ?it/s]"
            ],
            "application/vnd.jupyter.widget-view+json": {
              "version_major": 2,
              "version_minor": 0,
              "model_id": "0894172158af4ce892def1c5c0b80039"
            }
          },
          "metadata": {}
        },
        {
          "output_type": "stream",
          "name": "stdout",
          "text": [
            "Train Loss: 3.1832 | Ttrain Acc: 36.16%)\n",
            "Test Loss:  2.3772 | Test Acc:  51.21%\n",
            "Learning Rate: 0.278759\n",
            "\n",
            "============================================================\n",
            "Epoch [85/200]\n",
            "============================================================\n"
          ]
        },
        {
          "output_type": "display_data",
          "data": {
            "text/plain": [
              "Training:   0%|          | 0/196 [00:00<?, ?it/s]"
            ],
            "application/vnd.jupyter.widget-view+json": {
              "version_major": 2,
              "version_minor": 0,
              "model_id": "d4ccfd214f7541e59d1eb0aab1fc2317"
            }
          },
          "metadata": {}
        },
        {
          "output_type": "display_data",
          "data": {
            "text/plain": [
              "Evaluating:   0%|          | 0/40 [00:00<?, ?it/s]"
            ],
            "application/vnd.jupyter.widget-view+json": {
              "version_major": 2,
              "version_minor": 0,
              "model_id": "545fa784a9464595a3468ff363166bc2"
            }
          },
          "metadata": {}
        },
        {
          "output_type": "stream",
          "name": "stdout",
          "text": [
            "Train Loss: 3.1789 | Ttrain Acc: 35.99%)\n",
            "Test Loss:  2.6183 | Test Acc:  45.97%\n",
            "Learning Rate: 0.277000\n",
            "\n",
            "============================================================\n",
            "Epoch [86/200]\n",
            "============================================================\n"
          ]
        },
        {
          "output_type": "display_data",
          "data": {
            "text/plain": [
              "Training:   0%|          | 0/196 [00:00<?, ?it/s]"
            ],
            "application/vnd.jupyter.widget-view+json": {
              "version_major": 2,
              "version_minor": 0,
              "model_id": "8ea924ad12bc43d79f29438485ac6bec"
            }
          },
          "metadata": {}
        },
        {
          "output_type": "display_data",
          "data": {
            "text/plain": [
              "Evaluating:   0%|          | 0/40 [00:00<?, ?it/s]"
            ],
            "application/vnd.jupyter.widget-view+json": {
              "version_major": 2,
              "version_minor": 0,
              "model_id": "447f5a1704a6458d99106b9dc3d9c8a0"
            }
          },
          "metadata": {}
        },
        {
          "output_type": "stream",
          "name": "stdout",
          "text": [
            "Train Loss: 3.2446 | Ttrain Acc: 34.35%)\n",
            "Test Loss:  2.4231 | Test Acc:  51.62%\n",
            "Learning Rate: 0.275178\n",
            "\n",
            "============================================================\n",
            "Epoch [87/200]\n",
            "============================================================\n"
          ]
        },
        {
          "output_type": "display_data",
          "data": {
            "text/plain": [
              "Training:   0%|          | 0/196 [00:00<?, ?it/s]"
            ],
            "application/vnd.jupyter.widget-view+json": {
              "version_major": 2,
              "version_minor": 0,
              "model_id": "d4a55801513b4576b9377cb3fdb0face"
            }
          },
          "metadata": {}
        },
        {
          "output_type": "display_data",
          "data": {
            "text/plain": [
              "Evaluating:   0%|          | 0/40 [00:00<?, ?it/s]"
            ],
            "application/vnd.jupyter.widget-view+json": {
              "version_major": 2,
              "version_minor": 0,
              "model_id": "7f9b3129cb4c461996923965e4d1ec53"
            }
          },
          "metadata": {}
        },
        {
          "output_type": "stream",
          "name": "stdout",
          "text": [
            "Train Loss: 3.1909 | Ttrain Acc: 35.37%)\n",
            "Test Loss:  2.2867 | Test Acc:  53.91%\n",
            "Learning Rate: 0.273292\n",
            "✓ Best model saved! (Test Acc: 53.91%)\n",
            "\n",
            "============================================================\n",
            "Epoch [88/200]\n",
            "============================================================\n"
          ]
        },
        {
          "output_type": "display_data",
          "data": {
            "text/plain": [
              "Training:   0%|          | 0/196 [00:00<?, ?it/s]"
            ],
            "application/vnd.jupyter.widget-view+json": {
              "version_major": 2,
              "version_minor": 0,
              "model_id": "67a6e0bdeddf48a29106ee404d52bfe5"
            }
          },
          "metadata": {}
        },
        {
          "output_type": "display_data",
          "data": {
            "text/plain": [
              "Evaluating:   0%|          | 0/40 [00:00<?, ?it/s]"
            ],
            "application/vnd.jupyter.widget-view+json": {
              "version_major": 2,
              "version_minor": 0,
              "model_id": "f619aaa07b4443779a304a5cc2773ccb"
            }
          },
          "metadata": {}
        },
        {
          "output_type": "stream",
          "name": "stdout",
          "text": [
            "Train Loss: 3.1952 | Ttrain Acc: 35.91%)\n",
            "Test Loss:  2.6383 | Test Acc:  44.39%\n",
            "Learning Rate: 0.271344\n",
            "\n",
            "============================================================\n",
            "Epoch [89/200]\n",
            "============================================================\n"
          ]
        },
        {
          "output_type": "display_data",
          "data": {
            "text/plain": [
              "Training:   0%|          | 0/196 [00:00<?, ?it/s]"
            ],
            "application/vnd.jupyter.widget-view+json": {
              "version_major": 2,
              "version_minor": 0,
              "model_id": "023946dbba7d4341937262cbf8332315"
            }
          },
          "metadata": {}
        },
        {
          "output_type": "display_data",
          "data": {
            "text/plain": [
              "Evaluating:   0%|          | 0/40 [00:00<?, ?it/s]"
            ],
            "application/vnd.jupyter.widget-view+json": {
              "version_major": 2,
              "version_minor": 0,
              "model_id": "e2f83e4a554242348a7d8727460643e0"
            }
          },
          "metadata": {}
        },
        {
          "output_type": "stream",
          "name": "stdout",
          "text": [
            "Train Loss: 3.1603 | Ttrain Acc: 36.47%)\n",
            "Test Loss:  2.5347 | Test Acc:  48.35%\n",
            "Learning Rate: 0.269335\n",
            "\n",
            "============================================================\n",
            "Epoch [90/200]\n",
            "============================================================\n"
          ]
        },
        {
          "output_type": "display_data",
          "data": {
            "text/plain": [
              "Training:   0%|          | 0/196 [00:00<?, ?it/s]"
            ],
            "application/vnd.jupyter.widget-view+json": {
              "version_major": 2,
              "version_minor": 0,
              "model_id": "ef7dc276fc3b4e68814fc3e3e1e66297"
            }
          },
          "metadata": {}
        },
        {
          "output_type": "display_data",
          "data": {
            "text/plain": [
              "Evaluating:   0%|          | 0/40 [00:00<?, ?it/s]"
            ],
            "application/vnd.jupyter.widget-view+json": {
              "version_major": 2,
              "version_minor": 0,
              "model_id": "604f527990d948028bfaf0df8577d4eb"
            }
          },
          "metadata": {}
        },
        {
          "output_type": "stream",
          "name": "stdout",
          "text": [
            "Train Loss: 3.1681 | Ttrain Acc: 36.15%)\n",
            "Test Loss:  2.2833 | Test Acc:  54.32%\n",
            "Learning Rate: 0.267265\n",
            "✓ Best model saved! (Test Acc: 54.32%)\n",
            "\n",
            "============================================================\n",
            "Epoch [91/200]\n",
            "============================================================\n"
          ]
        },
        {
          "output_type": "display_data",
          "data": {
            "text/plain": [
              "Training:   0%|          | 0/196 [00:00<?, ?it/s]"
            ],
            "application/vnd.jupyter.widget-view+json": {
              "version_major": 2,
              "version_minor": 0,
              "model_id": "c1830fa81847423b8fa0eb23e81996d4"
            }
          },
          "metadata": {}
        },
        {
          "output_type": "display_data",
          "data": {
            "text/plain": [
              "Evaluating:   0%|          | 0/40 [00:00<?, ?it/s]"
            ],
            "application/vnd.jupyter.widget-view+json": {
              "version_major": 2,
              "version_minor": 0,
              "model_id": "c91c3b8f7b674e468b85fb368de49a5e"
            }
          },
          "metadata": {}
        },
        {
          "output_type": "stream",
          "name": "stdout",
          "text": [
            "Train Loss: 3.1526 | Ttrain Acc: 36.70%)\n",
            "Test Loss:  2.5173 | Test Acc:  48.25%\n",
            "Learning Rate: 0.265137\n",
            "\n",
            "============================================================\n",
            "Epoch [92/200]\n",
            "============================================================\n"
          ]
        },
        {
          "output_type": "display_data",
          "data": {
            "text/plain": [
              "Training:   0%|          | 0/196 [00:00<?, ?it/s]"
            ],
            "application/vnd.jupyter.widget-view+json": {
              "version_major": 2,
              "version_minor": 0,
              "model_id": "5bec973554a74865a98dc6e9d5eda32f"
            }
          },
          "metadata": {}
        },
        {
          "output_type": "display_data",
          "data": {
            "text/plain": [
              "Evaluating:   0%|          | 0/40 [00:00<?, ?it/s]"
            ],
            "application/vnd.jupyter.widget-view+json": {
              "version_major": 2,
              "version_minor": 0,
              "model_id": "ac198451f46e4f8184ad10ba475226aa"
            }
          },
          "metadata": {}
        },
        {
          "output_type": "stream",
          "name": "stdout",
          "text": [
            "Train Loss: 3.1457 | Ttrain Acc: 36.95%)\n",
            "Test Loss:  2.5229 | Test Acc:  47.56%\n",
            "Learning Rate: 0.262951\n",
            "\n",
            "============================================================\n",
            "Epoch [93/200]\n",
            "============================================================\n"
          ]
        },
        {
          "output_type": "display_data",
          "data": {
            "text/plain": [
              "Training:   0%|          | 0/196 [00:00<?, ?it/s]"
            ],
            "application/vnd.jupyter.widget-view+json": {
              "version_major": 2,
              "version_minor": 0,
              "model_id": "e4432e9a966749c49647a9e24a1b3cd2"
            }
          },
          "metadata": {}
        },
        {
          "output_type": "display_data",
          "data": {
            "text/plain": [
              "Evaluating:   0%|          | 0/40 [00:00<?, ?it/s]"
            ],
            "application/vnd.jupyter.widget-view+json": {
              "version_major": 2,
              "version_minor": 0,
              "model_id": "50aa74a095a84384a28e8c5f32a19449"
            }
          },
          "metadata": {}
        },
        {
          "output_type": "stream",
          "name": "stdout",
          "text": [
            "Train Loss: 3.1844 | Ttrain Acc: 36.01%)\n",
            "Test Loss:  2.5355 | Test Acc:  48.83%\n",
            "Learning Rate: 0.260708\n",
            "\n",
            "============================================================\n",
            "Epoch [94/200]\n",
            "============================================================\n"
          ]
        },
        {
          "output_type": "display_data",
          "data": {
            "text/plain": [
              "Training:   0%|          | 0/196 [00:00<?, ?it/s]"
            ],
            "application/vnd.jupyter.widget-view+json": {
              "version_major": 2,
              "version_minor": 0,
              "model_id": "1510478ee4ea4784ae0a284558bf8f73"
            }
          },
          "metadata": {}
        },
        {
          "output_type": "display_data",
          "data": {
            "text/plain": [
              "Evaluating:   0%|          | 0/40 [00:00<?, ?it/s]"
            ],
            "application/vnd.jupyter.widget-view+json": {
              "version_major": 2,
              "version_minor": 0,
              "model_id": "e5f31565378e403584f0581f3877654c"
            }
          },
          "metadata": {}
        },
        {
          "output_type": "stream",
          "name": "stdout",
          "text": [
            "Train Loss: 3.1912 | Ttrain Acc: 35.81%)\n",
            "Test Loss:  2.5150 | Test Acc:  48.22%\n",
            "Learning Rate: 0.258409\n",
            "\n",
            "============================================================\n",
            "Epoch [95/200]\n",
            "============================================================\n"
          ]
        },
        {
          "output_type": "display_data",
          "data": {
            "text/plain": [
              "Training:   0%|          | 0/196 [00:00<?, ?it/s]"
            ],
            "application/vnd.jupyter.widget-view+json": {
              "version_major": 2,
              "version_minor": 0,
              "model_id": "72cc20eda2f0456190f096a55039add3"
            }
          },
          "metadata": {}
        },
        {
          "output_type": "display_data",
          "data": {
            "text/plain": [
              "Evaluating:   0%|          | 0/40 [00:00<?, ?it/s]"
            ],
            "application/vnd.jupyter.widget-view+json": {
              "version_major": 2,
              "version_minor": 0,
              "model_id": "c60170cbb9ea4a1cab10884dd709c4df"
            }
          },
          "metadata": {}
        },
        {
          "output_type": "stream",
          "name": "stdout",
          "text": [
            "Train Loss: 3.2123 | Ttrain Acc: 35.13%)\n",
            "Test Loss:  2.4638 | Test Acc:  48.99%\n",
            "Learning Rate: 0.256056\n",
            "\n",
            "============================================================\n",
            "Epoch [96/200]\n",
            "============================================================\n"
          ]
        },
        {
          "output_type": "display_data",
          "data": {
            "text/plain": [
              "Training:   0%|          | 0/196 [00:00<?, ?it/s]"
            ],
            "application/vnd.jupyter.widget-view+json": {
              "version_major": 2,
              "version_minor": 0,
              "model_id": "18fa0109ebf2480eb86ca7afa322849f"
            }
          },
          "metadata": {}
        },
        {
          "output_type": "display_data",
          "data": {
            "text/plain": [
              "Evaluating:   0%|          | 0/40 [00:00<?, ?it/s]"
            ],
            "application/vnd.jupyter.widget-view+json": {
              "version_major": 2,
              "version_minor": 0,
              "model_id": "f0c801f633b44926b9082fbc6c38caaf"
            }
          },
          "metadata": {}
        },
        {
          "output_type": "stream",
          "name": "stdout",
          "text": [
            "Train Loss: 3.1847 | Ttrain Acc: 35.78%)\n",
            "Test Loss:  2.3856 | Test Acc:  51.32%\n",
            "Learning Rate: 0.253649\n",
            "\n",
            "============================================================\n",
            "Epoch [97/200]\n",
            "============================================================\n"
          ]
        },
        {
          "output_type": "display_data",
          "data": {
            "text/plain": [
              "Training:   0%|          | 0/196 [00:00<?, ?it/s]"
            ],
            "application/vnd.jupyter.widget-view+json": {
              "version_major": 2,
              "version_minor": 0,
              "model_id": "3fbcf87b4d124b329194f5eefd4ab6e7"
            }
          },
          "metadata": {}
        },
        {
          "output_type": "display_data",
          "data": {
            "text/plain": [
              "Evaluating:   0%|          | 0/40 [00:00<?, ?it/s]"
            ],
            "application/vnd.jupyter.widget-view+json": {
              "version_major": 2,
              "version_minor": 0,
              "model_id": "fda74f7629e64b10ab57d36330e9febf"
            }
          },
          "metadata": {}
        },
        {
          "output_type": "stream",
          "name": "stdout",
          "text": [
            "Train Loss: 3.1777 | Ttrain Acc: 35.85%)\n",
            "Test Loss:  2.4154 | Test Acc:  50.23%\n",
            "Learning Rate: 0.251190\n",
            "\n",
            "============================================================\n",
            "Epoch [98/200]\n",
            "============================================================\n"
          ]
        },
        {
          "output_type": "display_data",
          "data": {
            "text/plain": [
              "Training:   0%|          | 0/196 [00:00<?, ?it/s]"
            ],
            "application/vnd.jupyter.widget-view+json": {
              "version_major": 2,
              "version_minor": 0,
              "model_id": "68188949f64e41a19642d1cd6e9b7232"
            }
          },
          "metadata": {}
        },
        {
          "output_type": "display_data",
          "data": {
            "text/plain": [
              "Evaluating:   0%|          | 0/40 [00:00<?, ?it/s]"
            ],
            "application/vnd.jupyter.widget-view+json": {
              "version_major": 2,
              "version_minor": 0,
              "model_id": "0157dcb61f4048eca165f30b087dd0d8"
            }
          },
          "metadata": {}
        },
        {
          "output_type": "stream",
          "name": "stdout",
          "text": [
            "Train Loss: 3.1715 | Ttrain Acc: 36.27%)\n",
            "Test Loss:  2.6844 | Test Acc:  45.23%\n",
            "Learning Rate: 0.248680\n",
            "\n",
            "============================================================\n",
            "Epoch [99/200]\n",
            "============================================================\n"
          ]
        },
        {
          "output_type": "display_data",
          "data": {
            "text/plain": [
              "Training:   0%|          | 0/196 [00:00<?, ?it/s]"
            ],
            "application/vnd.jupyter.widget-view+json": {
              "version_major": 2,
              "version_minor": 0,
              "model_id": "b998732dac3141ea8651bfd7ffc51f1b"
            }
          },
          "metadata": {}
        },
        {
          "output_type": "display_data",
          "data": {
            "text/plain": [
              "Evaluating:   0%|          | 0/40 [00:00<?, ?it/s]"
            ],
            "application/vnd.jupyter.widget-view+json": {
              "version_major": 2,
              "version_minor": 0,
              "model_id": "cc943d85aa3d4f0c840c215bd8da9162"
            }
          },
          "metadata": {}
        },
        {
          "output_type": "stream",
          "name": "stdout",
          "text": [
            "Train Loss: 3.1621 | Ttrain Acc: 36.39%)\n",
            "Test Loss:  2.4923 | Test Acc:  48.96%\n",
            "Learning Rate: 0.246120\n",
            "\n",
            "============================================================\n",
            "Epoch [100/200]\n",
            "============================================================\n"
          ]
        },
        {
          "output_type": "display_data",
          "data": {
            "text/plain": [
              "Training:   0%|          | 0/196 [00:00<?, ?it/s]"
            ],
            "application/vnd.jupyter.widget-view+json": {
              "version_major": 2,
              "version_minor": 0,
              "model_id": "157dfbbba6b443df8bf374dd2c6287c2"
            }
          },
          "metadata": {}
        },
        {
          "output_type": "display_data",
          "data": {
            "text/plain": [
              "Evaluating:   0%|          | 0/40 [00:00<?, ?it/s]"
            ],
            "application/vnd.jupyter.widget-view+json": {
              "version_major": 2,
              "version_minor": 0,
              "model_id": "fb15a102fdea4fa69f9fc14bd8a6370f"
            }
          },
          "metadata": {}
        },
        {
          "output_type": "stream",
          "name": "stdout",
          "text": [
            "Train Loss: 3.1285 | Ttrain Acc: 37.41%)\n",
            "Test Loss:  2.3713 | Test Acc:  52.03%\n",
            "Learning Rate: 0.243512\n",
            "\n",
            "============================================================\n",
            "Epoch [101/200]\n",
            "============================================================\n"
          ]
        },
        {
          "output_type": "display_data",
          "data": {
            "text/plain": [
              "Training:   0%|          | 0/196 [00:00<?, ?it/s]"
            ],
            "application/vnd.jupyter.widget-view+json": {
              "version_major": 2,
              "version_minor": 0,
              "model_id": "e7b8a5e229c347d8a11e0443d1c0cd7b"
            }
          },
          "metadata": {}
        },
        {
          "output_type": "display_data",
          "data": {
            "text/plain": [
              "Evaluating:   0%|          | 0/40 [00:00<?, ?it/s]"
            ],
            "application/vnd.jupyter.widget-view+json": {
              "version_major": 2,
              "version_minor": 0,
              "model_id": "7b28c08d2d3b41fe875a2e9548e1ea36"
            }
          },
          "metadata": {}
        },
        {
          "output_type": "stream",
          "name": "stdout",
          "text": [
            "Train Loss: 3.1923 | Ttrain Acc: 35.57%)\n",
            "Test Loss:  2.2682 | Test Acc:  53.38%\n",
            "Learning Rate: 0.240857\n",
            "\n",
            "============================================================\n",
            "Epoch [102/200]\n",
            "============================================================\n"
          ]
        },
        {
          "output_type": "display_data",
          "data": {
            "text/plain": [
              "Training:   0%|          | 0/196 [00:00<?, ?it/s]"
            ],
            "application/vnd.jupyter.widget-view+json": {
              "version_major": 2,
              "version_minor": 0,
              "model_id": "45654bf45d5c4007922bfe1ac4390ada"
            }
          },
          "metadata": {}
        },
        {
          "output_type": "display_data",
          "data": {
            "text/plain": [
              "Evaluating:   0%|          | 0/40 [00:00<?, ?it/s]"
            ],
            "application/vnd.jupyter.widget-view+json": {
              "version_major": 2,
              "version_minor": 0,
              "model_id": "ea100f744c3d425eb5efd084882bb16f"
            }
          },
          "metadata": {}
        },
        {
          "output_type": "stream",
          "name": "stdout",
          "text": [
            "Train Loss: 3.1439 | Ttrain Acc: 37.00%)\n",
            "Test Loss:  2.2971 | Test Acc:  53.40%\n",
            "Learning Rate: 0.238156\n",
            "\n",
            "============================================================\n",
            "Epoch [103/200]\n",
            "============================================================\n"
          ]
        },
        {
          "output_type": "display_data",
          "data": {
            "text/plain": [
              "Training:   0%|          | 0/196 [00:00<?, ?it/s]"
            ],
            "application/vnd.jupyter.widget-view+json": {
              "version_major": 2,
              "version_minor": 0,
              "model_id": "39d692a2e7a645bba00ee67e2bb29116"
            }
          },
          "metadata": {}
        },
        {
          "output_type": "display_data",
          "data": {
            "text/plain": [
              "Evaluating:   0%|          | 0/40 [00:00<?, ?it/s]"
            ],
            "application/vnd.jupyter.widget-view+json": {
              "version_major": 2,
              "version_minor": 0,
              "model_id": "b6d372f5ad90412d993fc14c1409f3bd"
            }
          },
          "metadata": {}
        },
        {
          "output_type": "stream",
          "name": "stdout",
          "text": [
            "Train Loss: 3.1894 | Ttrain Acc: 35.87%)\n",
            "Test Loss:  2.3358 | Test Acc:  52.07%\n",
            "Learning Rate: 0.235411\n",
            "\n",
            "============================================================\n",
            "Epoch [104/200]\n",
            "============================================================\n"
          ]
        },
        {
          "output_type": "display_data",
          "data": {
            "text/plain": [
              "Training:   0%|          | 0/196 [00:00<?, ?it/s]"
            ],
            "application/vnd.jupyter.widget-view+json": {
              "version_major": 2,
              "version_minor": 0,
              "model_id": "faec25aeb5064a8788da9362f7e8d74d"
            }
          },
          "metadata": {}
        },
        {
          "output_type": "display_data",
          "data": {
            "text/plain": [
              "Evaluating:   0%|          | 0/40 [00:00<?, ?it/s]"
            ],
            "application/vnd.jupyter.widget-view+json": {
              "version_major": 2,
              "version_minor": 0,
              "model_id": "acbb0bc323814e9695a0d237a830ad29"
            }
          },
          "metadata": {}
        },
        {
          "output_type": "stream",
          "name": "stdout",
          "text": [
            "Train Loss: 3.1669 | Ttrain Acc: 36.67%)\n",
            "Test Loss:  2.2609 | Test Acc:  53.76%\n",
            "Learning Rate: 0.232623\n",
            "\n",
            "============================================================\n",
            "Epoch [105/200]\n",
            "============================================================\n"
          ]
        },
        {
          "output_type": "display_data",
          "data": {
            "text/plain": [
              "Training:   0%|          | 0/196 [00:00<?, ?it/s]"
            ],
            "application/vnd.jupyter.widget-view+json": {
              "version_major": 2,
              "version_minor": 0,
              "model_id": "b8b5ee546f1e44aba463680eb23f3a62"
            }
          },
          "metadata": {}
        },
        {
          "output_type": "display_data",
          "data": {
            "text/plain": [
              "Evaluating:   0%|          | 0/40 [00:00<?, ?it/s]"
            ],
            "application/vnd.jupyter.widget-view+json": {
              "version_major": 2,
              "version_minor": 0,
              "model_id": "7ce88ae8209042edbd505087143ff514"
            }
          },
          "metadata": {}
        },
        {
          "output_type": "stream",
          "name": "stdout",
          "text": [
            "Train Loss: 3.1358 | Ttrain Acc: 37.25%)\n",
            "Test Loss:  2.3563 | Test Acc:  52.61%\n",
            "Learning Rate: 0.229793\n",
            "\n",
            "============================================================\n",
            "Epoch [106/200]\n",
            "============================================================\n"
          ]
        },
        {
          "output_type": "display_data",
          "data": {
            "text/plain": [
              "Training:   0%|          | 0/196 [00:00<?, ?it/s]"
            ],
            "application/vnd.jupyter.widget-view+json": {
              "version_major": 2,
              "version_minor": 0,
              "model_id": "81b46d379aa94e16aaf759c9a57966dd"
            }
          },
          "metadata": {}
        },
        {
          "output_type": "display_data",
          "data": {
            "text/plain": [
              "Evaluating:   0%|          | 0/40 [00:00<?, ?it/s]"
            ],
            "application/vnd.jupyter.widget-view+json": {
              "version_major": 2,
              "version_minor": 0,
              "model_id": "6925f3b16fe64f8d8cffd0a9bad73f5e"
            }
          },
          "metadata": {}
        },
        {
          "output_type": "stream",
          "name": "stdout",
          "text": [
            "Train Loss: 3.1549 | Ttrain Acc: 36.76%)\n",
            "Test Loss:  2.4234 | Test Acc:  50.36%\n",
            "Learning Rate: 0.226923\n",
            "\n",
            "============================================================\n",
            "Epoch [107/200]\n",
            "============================================================\n"
          ]
        },
        {
          "output_type": "display_data",
          "data": {
            "text/plain": [
              "Training:   0%|          | 0/196 [00:00<?, ?it/s]"
            ],
            "application/vnd.jupyter.widget-view+json": {
              "version_major": 2,
              "version_minor": 0,
              "model_id": "7205405b073b4a3dba49f917253a401a"
            }
          },
          "metadata": {}
        },
        {
          "output_type": "display_data",
          "data": {
            "text/plain": [
              "Evaluating:   0%|          | 0/40 [00:00<?, ?it/s]"
            ],
            "application/vnd.jupyter.widget-view+json": {
              "version_major": 2,
              "version_minor": 0,
              "model_id": "403420d56f17402d9ddd0b23e0290bab"
            }
          },
          "metadata": {}
        },
        {
          "output_type": "stream",
          "name": "stdout",
          "text": [
            "Train Loss: 3.1222 | Ttrain Acc: 37.64%)\n",
            "Test Loss:  2.3472 | Test Acc:  52.87%\n",
            "Learning Rate: 0.224014\n",
            "\n",
            "============================================================\n",
            "Epoch [108/200]\n",
            "============================================================\n"
          ]
        },
        {
          "output_type": "display_data",
          "data": {
            "text/plain": [
              "Training:   0%|          | 0/196 [00:00<?, ?it/s]"
            ],
            "application/vnd.jupyter.widget-view+json": {
              "version_major": 2,
              "version_minor": 0,
              "model_id": "fb40d40d192647de9a77bda41707ab52"
            }
          },
          "metadata": {}
        },
        {
          "output_type": "display_data",
          "data": {
            "text/plain": [
              "Evaluating:   0%|          | 0/40 [00:00<?, ?it/s]"
            ],
            "application/vnd.jupyter.widget-view+json": {
              "version_major": 2,
              "version_minor": 0,
              "model_id": "065ef98b6d364227a0ef99c7192276a9"
            }
          },
          "metadata": {}
        },
        {
          "output_type": "stream",
          "name": "stdout",
          "text": [
            "Train Loss: 3.1256 | Ttrain Acc: 37.32%)\n",
            "Test Loss:  2.3021 | Test Acc:  54.06%\n",
            "Learning Rate: 0.221068\n",
            "\n",
            "============================================================\n",
            "Epoch [109/200]\n",
            "============================================================\n"
          ]
        },
        {
          "output_type": "display_data",
          "data": {
            "text/plain": [
              "Training:   0%|          | 0/196 [00:00<?, ?it/s]"
            ],
            "application/vnd.jupyter.widget-view+json": {
              "version_major": 2,
              "version_minor": 0,
              "model_id": "3a330e2d7af049b2a01cdf1b5d70bacf"
            }
          },
          "metadata": {}
        },
        {
          "output_type": "display_data",
          "data": {
            "text/plain": [
              "Evaluating:   0%|          | 0/40 [00:00<?, ?it/s]"
            ],
            "application/vnd.jupyter.widget-view+json": {
              "version_major": 2,
              "version_minor": 0,
              "model_id": "596dd5eae08e4e4780130df1a76ac522"
            }
          },
          "metadata": {}
        },
        {
          "output_type": "stream",
          "name": "stdout",
          "text": [
            "Train Loss: 3.1401 | Ttrain Acc: 36.77%)\n",
            "Test Loss:  2.4069 | Test Acc:  50.34%\n",
            "Learning Rate: 0.218087\n",
            "\n",
            "============================================================\n",
            "Epoch [110/200]\n",
            "============================================================\n"
          ]
        },
        {
          "output_type": "display_data",
          "data": {
            "text/plain": [
              "Training:   0%|          | 0/196 [00:00<?, ?it/s]"
            ],
            "application/vnd.jupyter.widget-view+json": {
              "version_major": 2,
              "version_minor": 0,
              "model_id": "4a2952e413db46eaba15d742580df329"
            }
          },
          "metadata": {}
        },
        {
          "output_type": "display_data",
          "data": {
            "text/plain": [
              "Evaluating:   0%|          | 0/40 [00:00<?, ?it/s]"
            ],
            "application/vnd.jupyter.widget-view+json": {
              "version_major": 2,
              "version_minor": 0,
              "model_id": "eb39ab1b960d4f5b917fbee4429532d3"
            }
          },
          "metadata": {}
        },
        {
          "output_type": "stream",
          "name": "stdout",
          "text": [
            "Train Loss: 3.1208 | Ttrain Acc: 37.99%)\n",
            "Test Loss:  2.1712 | Test Acc:  56.78%\n",
            "Learning Rate: 0.215070\n",
            "✓ Best model saved! (Test Acc: 56.78%)\n",
            "\n",
            "============================================================\n",
            "Epoch [111/200]\n",
            "============================================================\n"
          ]
        },
        {
          "output_type": "display_data",
          "data": {
            "text/plain": [
              "Training:   0%|          | 0/196 [00:00<?, ?it/s]"
            ],
            "application/vnd.jupyter.widget-view+json": {
              "version_major": 2,
              "version_minor": 0,
              "model_id": "e68af664b0574942a91bae5791239420"
            }
          },
          "metadata": {}
        },
        {
          "output_type": "display_data",
          "data": {
            "text/plain": [
              "Evaluating:   0%|          | 0/40 [00:00<?, ?it/s]"
            ],
            "application/vnd.jupyter.widget-view+json": {
              "version_major": 2,
              "version_minor": 0,
              "model_id": "6edff79a1fb14572ae2f0453da440c8c"
            }
          },
          "metadata": {}
        },
        {
          "output_type": "stream",
          "name": "stdout",
          "text": [
            "Train Loss: 3.1065 | Ttrain Acc: 37.85%)\n",
            "Test Loss:  2.6707 | Test Acc:  45.71%\n",
            "Learning Rate: 0.212022\n",
            "\n",
            "============================================================\n",
            "Epoch [112/200]\n",
            "============================================================\n"
          ]
        },
        {
          "output_type": "display_data",
          "data": {
            "text/plain": [
              "Training:   0%|          | 0/196 [00:00<?, ?it/s]"
            ],
            "application/vnd.jupyter.widget-view+json": {
              "version_major": 2,
              "version_minor": 0,
              "model_id": "93bcff9293aa490d8338be8ddcf3c4d3"
            }
          },
          "metadata": {}
        },
        {
          "output_type": "display_data",
          "data": {
            "text/plain": [
              "Evaluating:   0%|          | 0/40 [00:00<?, ?it/s]"
            ],
            "application/vnd.jupyter.widget-view+json": {
              "version_major": 2,
              "version_minor": 0,
              "model_id": "f44b6a4288d94f1ba8689a06994d4c3a"
            }
          },
          "metadata": {}
        },
        {
          "output_type": "stream",
          "name": "stdout",
          "text": [
            "Train Loss: 3.1408 | Ttrain Acc: 37.02%)\n",
            "Test Loss:  2.2005 | Test Acc:  56.41%\n",
            "Learning Rate: 0.208942\n",
            "\n",
            "============================================================\n",
            "Epoch [113/200]\n",
            "============================================================\n"
          ]
        },
        {
          "output_type": "display_data",
          "data": {
            "text/plain": [
              "Training:   0%|          | 0/196 [00:00<?, ?it/s]"
            ],
            "application/vnd.jupyter.widget-view+json": {
              "version_major": 2,
              "version_minor": 0,
              "model_id": "31726f04c829472aac49298fb7d67ff1"
            }
          },
          "metadata": {}
        },
        {
          "output_type": "display_data",
          "data": {
            "text/plain": [
              "Evaluating:   0%|          | 0/40 [00:00<?, ?it/s]"
            ],
            "application/vnd.jupyter.widget-view+json": {
              "version_major": 2,
              "version_minor": 0,
              "model_id": "12cc8326c43841719a9eed40e7174997"
            }
          },
          "metadata": {}
        },
        {
          "output_type": "stream",
          "name": "stdout",
          "text": [
            "Train Loss: 3.2177 | Ttrain Acc: 35.15%)\n",
            "Test Loss:  2.3188 | Test Acc:  53.08%\n",
            "Learning Rate: 0.205832\n",
            "\n",
            "============================================================\n",
            "Epoch [114/200]\n",
            "============================================================\n"
          ]
        },
        {
          "output_type": "display_data",
          "data": {
            "text/plain": [
              "Training:   0%|          | 0/196 [00:00<?, ?it/s]"
            ],
            "application/vnd.jupyter.widget-view+json": {
              "version_major": 2,
              "version_minor": 0,
              "model_id": "2abada8ec2a845be9d181440edee3913"
            }
          },
          "metadata": {}
        },
        {
          "output_type": "display_data",
          "data": {
            "text/plain": [
              "Evaluating:   0%|          | 0/40 [00:00<?, ?it/s]"
            ],
            "application/vnd.jupyter.widget-view+json": {
              "version_major": 2,
              "version_minor": 0,
              "model_id": "5b1e1eb59ac742759edb0b4885191aef"
            }
          },
          "metadata": {}
        },
        {
          "output_type": "stream",
          "name": "stdout",
          "text": [
            "Train Loss: 3.1362 | Ttrain Acc: 37.42%)\n",
            "Test Loss:  2.1105 | Test Acc:  58.47%\n",
            "Learning Rate: 0.202694\n",
            "✓ Best model saved! (Test Acc: 58.47%)\n",
            "\n",
            "============================================================\n",
            "Epoch [115/200]\n",
            "============================================================\n"
          ]
        },
        {
          "output_type": "display_data",
          "data": {
            "text/plain": [
              "Training:   0%|          | 0/196 [00:00<?, ?it/s]"
            ],
            "application/vnd.jupyter.widget-view+json": {
              "version_major": 2,
              "version_minor": 0,
              "model_id": "43a34d5981f74ee8bba21842b3175c77"
            }
          },
          "metadata": {}
        },
        {
          "output_type": "display_data",
          "data": {
            "text/plain": [
              "Evaluating:   0%|          | 0/40 [00:00<?, ?it/s]"
            ],
            "application/vnd.jupyter.widget-view+json": {
              "version_major": 2,
              "version_minor": 0,
              "model_id": "9a68644d6bb64632a753bf9d17874758"
            }
          },
          "metadata": {}
        },
        {
          "output_type": "stream",
          "name": "stdout",
          "text": [
            "Train Loss: 3.1438 | Ttrain Acc: 37.05%)\n",
            "Test Loss:  2.2920 | Test Acc:  53.57%\n",
            "Learning Rate: 0.199530\n",
            "\n",
            "============================================================\n",
            "Epoch [116/200]\n",
            "============================================================\n"
          ]
        },
        {
          "output_type": "display_data",
          "data": {
            "text/plain": [
              "Training:   0%|          | 0/196 [00:00<?, ?it/s]"
            ],
            "application/vnd.jupyter.widget-view+json": {
              "version_major": 2,
              "version_minor": 0,
              "model_id": "ef796009eb0340eb89807bb32fc2583b"
            }
          },
          "metadata": {}
        },
        {
          "output_type": "display_data",
          "data": {
            "text/plain": [
              "Evaluating:   0%|          | 0/40 [00:00<?, ?it/s]"
            ],
            "application/vnd.jupyter.widget-view+json": {
              "version_major": 2,
              "version_minor": 0,
              "model_id": "0b259d0b1c9140b5ac53fd0418d5b4ee"
            }
          },
          "metadata": {}
        },
        {
          "output_type": "stream",
          "name": "stdout",
          "text": [
            "Train Loss: 3.2056 | Ttrain Acc: 35.49%)\n",
            "Test Loss:  2.2877 | Test Acc:  54.19%\n",
            "Learning Rate: 0.196340\n",
            "\n",
            "============================================================\n",
            "Epoch [117/200]\n",
            "============================================================\n"
          ]
        },
        {
          "output_type": "display_data",
          "data": {
            "text/plain": [
              "Training:   0%|          | 0/196 [00:00<?, ?it/s]"
            ],
            "application/vnd.jupyter.widget-view+json": {
              "version_major": 2,
              "version_minor": 0,
              "model_id": "86441dce4e0041b2a3a7ce581b7f2bd2"
            }
          },
          "metadata": {}
        },
        {
          "output_type": "display_data",
          "data": {
            "text/plain": [
              "Evaluating:   0%|          | 0/40 [00:00<?, ?it/s]"
            ],
            "application/vnd.jupyter.widget-view+json": {
              "version_major": 2,
              "version_minor": 0,
              "model_id": "d866d2807f6c4690b5f7564a7b8a3102"
            }
          },
          "metadata": {}
        },
        {
          "output_type": "stream",
          "name": "stdout",
          "text": [
            "Train Loss: 3.1406 | Ttrain Acc: 37.48%)\n",
            "Test Loss:  2.3958 | Test Acc:  52.56%\n",
            "Learning Rate: 0.193128\n",
            "\n",
            "============================================================\n",
            "Epoch [118/200]\n",
            "============================================================\n"
          ]
        },
        {
          "output_type": "display_data",
          "data": {
            "text/plain": [
              "Training:   0%|          | 0/196 [00:00<?, ?it/s]"
            ],
            "application/vnd.jupyter.widget-view+json": {
              "version_major": 2,
              "version_minor": 0,
              "model_id": "fcbf6d0ad0a9461e82bef9262c76faeb"
            }
          },
          "metadata": {}
        },
        {
          "output_type": "display_data",
          "data": {
            "text/plain": [
              "Evaluating:   0%|          | 0/40 [00:00<?, ?it/s]"
            ],
            "application/vnd.jupyter.widget-view+json": {
              "version_major": 2,
              "version_minor": 0,
              "model_id": "79498e9b688146afbdee3411a1308b4e"
            }
          },
          "metadata": {}
        },
        {
          "output_type": "stream",
          "name": "stdout",
          "text": [
            "Train Loss: 3.0950 | Ttrain Acc: 38.32%)\n",
            "Test Loss:  2.2130 | Test Acc:  55.44%\n",
            "Learning Rate: 0.189893\n",
            "\n",
            "============================================================\n",
            "Epoch [119/200]\n",
            "============================================================\n"
          ]
        },
        {
          "output_type": "display_data",
          "data": {
            "text/plain": [
              "Training:   0%|          | 0/196 [00:00<?, ?it/s]"
            ],
            "application/vnd.jupyter.widget-view+json": {
              "version_major": 2,
              "version_minor": 0,
              "model_id": "4dea66ec4f634e0ab24508c3601f0840"
            }
          },
          "metadata": {}
        },
        {
          "output_type": "display_data",
          "data": {
            "text/plain": [
              "Evaluating:   0%|          | 0/40 [00:00<?, ?it/s]"
            ],
            "application/vnd.jupyter.widget-view+json": {
              "version_major": 2,
              "version_minor": 0,
              "model_id": "99bd36da5e3f40c78cbee0de4447ce24"
            }
          },
          "metadata": {}
        },
        {
          "output_type": "stream",
          "name": "stdout",
          "text": [
            "Train Loss: 3.0857 | Ttrain Acc: 38.54%)\n",
            "Test Loss:  2.3168 | Test Acc:  54.56%\n",
            "Learning Rate: 0.186639\n",
            "\n",
            "============================================================\n",
            "Epoch [120/200]\n",
            "============================================================\n"
          ]
        },
        {
          "output_type": "display_data",
          "data": {
            "text/plain": [
              "Training:   0%|          | 0/196 [00:00<?, ?it/s]"
            ],
            "application/vnd.jupyter.widget-view+json": {
              "version_major": 2,
              "version_minor": 0,
              "model_id": "4713aa286e8b47c4bbf9295be523db21"
            }
          },
          "metadata": {}
        },
        {
          "output_type": "display_data",
          "data": {
            "text/plain": [
              "Evaluating:   0%|          | 0/40 [00:00<?, ?it/s]"
            ],
            "application/vnd.jupyter.widget-view+json": {
              "version_major": 2,
              "version_minor": 0,
              "model_id": "d41100b91a014b70a06066fc20d45f23"
            }
          },
          "metadata": {}
        },
        {
          "output_type": "stream",
          "name": "stdout",
          "text": [
            "Train Loss: 3.1405 | Ttrain Acc: 37.12%)\n",
            "Test Loss:  2.3323 | Test Acc:  53.18%\n",
            "Learning Rate: 0.183366\n",
            "\n",
            "============================================================\n",
            "Epoch [121/200]\n",
            "============================================================\n"
          ]
        },
        {
          "output_type": "display_data",
          "data": {
            "text/plain": [
              "Training:   0%|          | 0/196 [00:00<?, ?it/s]"
            ],
            "application/vnd.jupyter.widget-view+json": {
              "version_major": 2,
              "version_minor": 0,
              "model_id": "87c20d0efb32414992c623358eba4be4"
            }
          },
          "metadata": {}
        },
        {
          "output_type": "display_data",
          "data": {
            "text/plain": [
              "Evaluating:   0%|          | 0/40 [00:00<?, ?it/s]"
            ],
            "application/vnd.jupyter.widget-view+json": {
              "version_major": 2,
              "version_minor": 0,
              "model_id": "5c805b4f304a41a79b20eb4efea43a2f"
            }
          },
          "metadata": {}
        },
        {
          "output_type": "stream",
          "name": "stdout",
          "text": [
            "Train Loss: 3.1141 | Ttrain Acc: 37.87%)\n",
            "Test Loss:  2.0306 | Test Acc:  60.53%\n",
            "Learning Rate: 0.180076\n",
            "✓ Best model saved! (Test Acc: 60.53%)\n",
            "\n",
            "============================================================\n",
            "Epoch [122/200]\n",
            "============================================================\n"
          ]
        },
        {
          "output_type": "display_data",
          "data": {
            "text/plain": [
              "Training:   0%|          | 0/196 [00:00<?, ?it/s]"
            ],
            "application/vnd.jupyter.widget-view+json": {
              "version_major": 2,
              "version_minor": 0,
              "model_id": "6671d83eb17546d1914bd91d96cb0ba3"
            }
          },
          "metadata": {}
        },
        {
          "output_type": "display_data",
          "data": {
            "text/plain": [
              "Evaluating:   0%|          | 0/40 [00:00<?, ?it/s]"
            ],
            "application/vnd.jupyter.widget-view+json": {
              "version_major": 2,
              "version_minor": 0,
              "model_id": "8d8b4150ba5442e1adfe7bd0a29c6980"
            }
          },
          "metadata": {}
        },
        {
          "output_type": "stream",
          "name": "stdout",
          "text": [
            "Train Loss: 3.1092 | Ttrain Acc: 38.09%)\n",
            "Test Loss:  2.4620 | Test Acc:  50.68%\n",
            "Learning Rate: 0.176772\n",
            "\n",
            "============================================================\n",
            "Epoch [123/200]\n",
            "============================================================\n"
          ]
        },
        {
          "output_type": "display_data",
          "data": {
            "text/plain": [
              "Training:   0%|          | 0/196 [00:00<?, ?it/s]"
            ],
            "application/vnd.jupyter.widget-view+json": {
              "version_major": 2,
              "version_minor": 0,
              "model_id": "8cf77f48d0d046b2a70290c69d1e8715"
            }
          },
          "metadata": {}
        },
        {
          "output_type": "display_data",
          "data": {
            "text/plain": [
              "Evaluating:   0%|          | 0/40 [00:00<?, ?it/s]"
            ],
            "application/vnd.jupyter.widget-view+json": {
              "version_major": 2,
              "version_minor": 0,
              "model_id": "25929e36d0f44f7eb4cc0702d26b4258"
            }
          },
          "metadata": {}
        },
        {
          "output_type": "stream",
          "name": "stdout",
          "text": [
            "Train Loss: 3.1240 | Ttrain Acc: 37.67%)\n",
            "Test Loss:  2.3314 | Test Acc:  54.02%\n",
            "Learning Rate: 0.173453\n",
            "\n",
            "============================================================\n",
            "Epoch [124/200]\n",
            "============================================================\n"
          ]
        },
        {
          "output_type": "display_data",
          "data": {
            "text/plain": [
              "Training:   0%|          | 0/196 [00:00<?, ?it/s]"
            ],
            "application/vnd.jupyter.widget-view+json": {
              "version_major": 2,
              "version_minor": 0,
              "model_id": "9a8810a31a2541919ed0dfcf792e82e1"
            }
          },
          "metadata": {}
        },
        {
          "output_type": "display_data",
          "data": {
            "text/plain": [
              "Evaluating:   0%|          | 0/40 [00:00<?, ?it/s]"
            ],
            "application/vnd.jupyter.widget-view+json": {
              "version_major": 2,
              "version_minor": 0,
              "model_id": "04f9cd30cb0a496b863d8a71fd39605d"
            }
          },
          "metadata": {}
        },
        {
          "output_type": "stream",
          "name": "stdout",
          "text": [
            "Train Loss: 3.1078 | Ttrain Acc: 37.90%)\n",
            "Test Loss:  2.5715 | Test Acc:  46.57%\n",
            "Learning Rate: 0.170123\n",
            "\n",
            "============================================================\n",
            "Epoch [125/200]\n",
            "============================================================\n"
          ]
        },
        {
          "output_type": "display_data",
          "data": {
            "text/plain": [
              "Training:   0%|          | 0/196 [00:00<?, ?it/s]"
            ],
            "application/vnd.jupyter.widget-view+json": {
              "version_major": 2,
              "version_minor": 0,
              "model_id": "eed6f8a4dc4840b194817367ba91a281"
            }
          },
          "metadata": {}
        },
        {
          "output_type": "display_data",
          "data": {
            "text/plain": [
              "Evaluating:   0%|          | 0/40 [00:00<?, ?it/s]"
            ],
            "application/vnd.jupyter.widget-view+json": {
              "version_major": 2,
              "version_minor": 0,
              "model_id": "64e99a6fac914f0fb4ad1c8336260110"
            }
          },
          "metadata": {}
        },
        {
          "output_type": "stream",
          "name": "stdout",
          "text": [
            "Train Loss: 3.1451 | Ttrain Acc: 36.95%)\n",
            "Test Loss:  2.2482 | Test Acc:  55.12%\n",
            "Learning Rate: 0.166783\n",
            "\n",
            "============================================================\n",
            "Epoch [126/200]\n",
            "============================================================\n"
          ]
        },
        {
          "output_type": "display_data",
          "data": {
            "text/plain": [
              "Training:   0%|          | 0/196 [00:00<?, ?it/s]"
            ],
            "application/vnd.jupyter.widget-view+json": {
              "version_major": 2,
              "version_minor": 0,
              "model_id": "7387c07717f1421ab205f5c01e52220a"
            }
          },
          "metadata": {}
        },
        {
          "output_type": "display_data",
          "data": {
            "text/plain": [
              "Evaluating:   0%|          | 0/40 [00:00<?, ?it/s]"
            ],
            "application/vnd.jupyter.widget-view+json": {
              "version_major": 2,
              "version_minor": 0,
              "model_id": "53caae5544e449eca746a964efea843f"
            }
          },
          "metadata": {}
        },
        {
          "output_type": "stream",
          "name": "stdout",
          "text": [
            "Train Loss: 3.1677 | Ttrain Acc: 36.31%)\n",
            "Test Loss:  2.3304 | Test Acc:  52.99%\n",
            "Learning Rate: 0.163434\n",
            "\n",
            "============================================================\n",
            "Epoch [127/200]\n",
            "============================================================\n"
          ]
        },
        {
          "output_type": "display_data",
          "data": {
            "text/plain": [
              "Training:   0%|          | 0/196 [00:00<?, ?it/s]"
            ],
            "application/vnd.jupyter.widget-view+json": {
              "version_major": 2,
              "version_minor": 0,
              "model_id": "43a8cd661f8442a6a0b1f8d01bc4e845"
            }
          },
          "metadata": {}
        },
        {
          "output_type": "display_data",
          "data": {
            "text/plain": [
              "Evaluating:   0%|          | 0/40 [00:00<?, ?it/s]"
            ],
            "application/vnd.jupyter.widget-view+json": {
              "version_major": 2,
              "version_minor": 0,
              "model_id": "b3ed69867b3442b4a1019695a3cfbd1e"
            }
          },
          "metadata": {}
        },
        {
          "output_type": "stream",
          "name": "stdout",
          "text": [
            "Train Loss: 3.1433 | Ttrain Acc: 37.07%)\n",
            "Test Loss:  2.1699 | Test Acc:  58.00%\n",
            "Learning Rate: 0.160079\n",
            "\n",
            "============================================================\n",
            "Epoch [128/200]\n",
            "============================================================\n"
          ]
        },
        {
          "output_type": "display_data",
          "data": {
            "text/plain": [
              "Training:   0%|          | 0/196 [00:00<?, ?it/s]"
            ],
            "application/vnd.jupyter.widget-view+json": {
              "version_major": 2,
              "version_minor": 0,
              "model_id": "c12861005be041acac8bc67c41ee523b"
            }
          },
          "metadata": {}
        },
        {
          "output_type": "display_data",
          "data": {
            "text/plain": [
              "Evaluating:   0%|          | 0/40 [00:00<?, ?it/s]"
            ],
            "application/vnd.jupyter.widget-view+json": {
              "version_major": 2,
              "version_minor": 0,
              "model_id": "79d86d287bbe454b99ee6c46330b9544"
            }
          },
          "metadata": {}
        },
        {
          "output_type": "stream",
          "name": "stdout",
          "text": [
            "Train Loss: 3.1115 | Ttrain Acc: 38.00%)\n",
            "Test Loss:  2.4737 | Test Acc:  48.75%\n",
            "Learning Rate: 0.156718\n",
            "\n",
            "============================================================\n",
            "Epoch [129/200]\n",
            "============================================================\n"
          ]
        },
        {
          "output_type": "display_data",
          "data": {
            "text/plain": [
              "Training:   0%|          | 0/196 [00:00<?, ?it/s]"
            ],
            "application/vnd.jupyter.widget-view+json": {
              "version_major": 2,
              "version_minor": 0,
              "model_id": "fb0aa29d8bfb42ca9161844a2a37c58b"
            }
          },
          "metadata": {}
        },
        {
          "output_type": "display_data",
          "data": {
            "text/plain": [
              "Evaluating:   0%|          | 0/40 [00:00<?, ?it/s]"
            ],
            "application/vnd.jupyter.widget-view+json": {
              "version_major": 2,
              "version_minor": 0,
              "model_id": "a460b3b5691c41a28418f7a7ee030d4f"
            }
          },
          "metadata": {}
        },
        {
          "output_type": "stream",
          "name": "stdout",
          "text": [
            "Train Loss: 3.0504 | Ttrain Acc: 39.49%)\n",
            "Test Loss:  2.1856 | Test Acc:  56.77%\n",
            "Learning Rate: 0.153354\n",
            "\n",
            "============================================================\n",
            "Epoch [130/200]\n",
            "============================================================\n"
          ]
        },
        {
          "output_type": "display_data",
          "data": {
            "text/plain": [
              "Training:   0%|          | 0/196 [00:00<?, ?it/s]"
            ],
            "application/vnd.jupyter.widget-view+json": {
              "version_major": 2,
              "version_minor": 0,
              "model_id": "e6f48a1139d748dcb1832941fec75363"
            }
          },
          "metadata": {}
        },
        {
          "output_type": "display_data",
          "data": {
            "text/plain": [
              "Evaluating:   0%|          | 0/40 [00:00<?, ?it/s]"
            ],
            "application/vnd.jupyter.widget-view+json": {
              "version_major": 2,
              "version_minor": 0,
              "model_id": "f0e3dcca065f44afbac2a54f06eeb981"
            }
          },
          "metadata": {}
        },
        {
          "output_type": "stream",
          "name": "stdout",
          "text": [
            "Train Loss: 3.0579 | Ttrain Acc: 39.53%)\n",
            "Test Loss:  2.1820 | Test Acc:  56.57%\n",
            "Learning Rate: 0.149989\n",
            "\n",
            "============================================================\n",
            "Epoch [131/200]\n",
            "============================================================\n"
          ]
        },
        {
          "output_type": "display_data",
          "data": {
            "text/plain": [
              "Training:   0%|          | 0/196 [00:00<?, ?it/s]"
            ],
            "application/vnd.jupyter.widget-view+json": {
              "version_major": 2,
              "version_minor": 0,
              "model_id": "25892d6657e747e8b1d123a521844be8"
            }
          },
          "metadata": {}
        },
        {
          "output_type": "display_data",
          "data": {
            "text/plain": [
              "Evaluating:   0%|          | 0/40 [00:00<?, ?it/s]"
            ],
            "application/vnd.jupyter.widget-view+json": {
              "version_major": 2,
              "version_minor": 0,
              "model_id": "dad708f301ab48ce83b265c776db86c8"
            }
          },
          "metadata": {}
        },
        {
          "output_type": "stream",
          "name": "stdout",
          "text": [
            "Train Loss: 3.0638 | Ttrain Acc: 39.49%)\n",
            "Test Loss:  2.1909 | Test Acc:  56.71%\n",
            "Learning Rate: 0.146623\n",
            "\n",
            "============================================================\n",
            "Epoch [132/200]\n",
            "============================================================\n"
          ]
        },
        {
          "output_type": "display_data",
          "data": {
            "text/plain": [
              "Training:   0%|          | 0/196 [00:00<?, ?it/s]"
            ],
            "application/vnd.jupyter.widget-view+json": {
              "version_major": 2,
              "version_minor": 0,
              "model_id": "5003c76296a74b8388d9a8fadc475a4d"
            }
          },
          "metadata": {}
        },
        {
          "output_type": "display_data",
          "data": {
            "text/plain": [
              "Evaluating:   0%|          | 0/40 [00:00<?, ?it/s]"
            ],
            "application/vnd.jupyter.widget-view+json": {
              "version_major": 2,
              "version_minor": 0,
              "model_id": "2c92aa5d028c4216b9b1d77a20ffe119"
            }
          },
          "metadata": {}
        },
        {
          "output_type": "stream",
          "name": "stdout",
          "text": [
            "Train Loss: 3.1523 | Ttrain Acc: 37.14%)\n",
            "Test Loss:  2.1908 | Test Acc:  56.53%\n",
            "Learning Rate: 0.143259\n",
            "\n",
            "============================================================\n",
            "Epoch [133/200]\n",
            "============================================================\n"
          ]
        },
        {
          "output_type": "display_data",
          "data": {
            "text/plain": [
              "Training:   0%|          | 0/196 [00:00<?, ?it/s]"
            ],
            "application/vnd.jupyter.widget-view+json": {
              "version_major": 2,
              "version_minor": 0,
              "model_id": "d8228d01e135455b88cee5022b243cab"
            }
          },
          "metadata": {}
        },
        {
          "output_type": "display_data",
          "data": {
            "text/plain": [
              "Evaluating:   0%|          | 0/40 [00:00<?, ?it/s]"
            ],
            "application/vnd.jupyter.widget-view+json": {
              "version_major": 2,
              "version_minor": 0,
              "model_id": "6e8b066914d94cbd89951e0dd8331a00"
            }
          },
          "metadata": {}
        },
        {
          "output_type": "stream",
          "name": "stdout",
          "text": [
            "Train Loss: 3.0614 | Ttrain Acc: 39.38%)\n",
            "Test Loss:  2.1880 | Test Acc:  57.07%\n",
            "Learning Rate: 0.139899\n",
            "\n",
            "============================================================\n",
            "Epoch [134/200]\n",
            "============================================================\n"
          ]
        },
        {
          "output_type": "display_data",
          "data": {
            "text/plain": [
              "Training:   0%|          | 0/196 [00:00<?, ?it/s]"
            ],
            "application/vnd.jupyter.widget-view+json": {
              "version_major": 2,
              "version_minor": 0,
              "model_id": "37733035c52648d798f9bfc32747f57b"
            }
          },
          "metadata": {}
        },
        {
          "output_type": "display_data",
          "data": {
            "text/plain": [
              "Evaluating:   0%|          | 0/40 [00:00<?, ?it/s]"
            ],
            "application/vnd.jupyter.widget-view+json": {
              "version_major": 2,
              "version_minor": 0,
              "model_id": "916efa4eae25451884941c81d8732a14"
            }
          },
          "metadata": {}
        },
        {
          "output_type": "stream",
          "name": "stdout",
          "text": [
            "Train Loss: 3.0817 | Ttrain Acc: 38.79%)\n",
            "Test Loss:  2.2361 | Test Acc:  54.87%\n",
            "Learning Rate: 0.136544\n",
            "\n",
            "============================================================\n",
            "Epoch [135/200]\n",
            "============================================================\n"
          ]
        },
        {
          "output_type": "display_data",
          "data": {
            "text/plain": [
              "Training:   0%|          | 0/196 [00:00<?, ?it/s]"
            ],
            "application/vnd.jupyter.widget-view+json": {
              "version_major": 2,
              "version_minor": 0,
              "model_id": "c65ace0257f74fe990b57ab8a0716c0c"
            }
          },
          "metadata": {}
        },
        {
          "output_type": "display_data",
          "data": {
            "text/plain": [
              "Evaluating:   0%|          | 0/40 [00:00<?, ?it/s]"
            ],
            "application/vnd.jupyter.widget-view+json": {
              "version_major": 2,
              "version_minor": 0,
              "model_id": "ca1863e652ee4114b7ec9fa31bb2fc62"
            }
          },
          "metadata": {}
        },
        {
          "output_type": "stream",
          "name": "stdout",
          "text": [
            "Train Loss: 3.0670 | Ttrain Acc: 39.10%)\n",
            "Test Loss:  2.1609 | Test Acc:  56.83%\n",
            "Learning Rate: 0.133195\n",
            "\n",
            "============================================================\n",
            "Epoch [136/200]\n",
            "============================================================\n"
          ]
        },
        {
          "output_type": "display_data",
          "data": {
            "text/plain": [
              "Training:   0%|          | 0/196 [00:00<?, ?it/s]"
            ],
            "application/vnd.jupyter.widget-view+json": {
              "version_major": 2,
              "version_minor": 0,
              "model_id": "ea15a67523ae49fca9c8ebf825e9b249"
            }
          },
          "metadata": {}
        },
        {
          "output_type": "display_data",
          "data": {
            "text/plain": [
              "Evaluating:   0%|          | 0/40 [00:00<?, ?it/s]"
            ],
            "application/vnd.jupyter.widget-view+json": {
              "version_major": 2,
              "version_minor": 0,
              "model_id": "87ca8b8f75a14e349a42816680dc173f"
            }
          },
          "metadata": {}
        },
        {
          "output_type": "stream",
          "name": "stdout",
          "text": [
            "Train Loss: 3.1028 | Ttrain Acc: 38.26%)\n",
            "Test Loss:  2.2485 | Test Acc:  55.60%\n",
            "Learning Rate: 0.129855\n",
            "\n",
            "============================================================\n",
            "Epoch [137/200]\n",
            "============================================================\n"
          ]
        },
        {
          "output_type": "display_data",
          "data": {
            "text/plain": [
              "Training:   0%|          | 0/196 [00:00<?, ?it/s]"
            ],
            "application/vnd.jupyter.widget-view+json": {
              "version_major": 2,
              "version_minor": 0,
              "model_id": "e086376036444e37b1d32f4cf598b31a"
            }
          },
          "metadata": {}
        },
        {
          "output_type": "display_data",
          "data": {
            "text/plain": [
              "Evaluating:   0%|          | 0/40 [00:00<?, ?it/s]"
            ],
            "application/vnd.jupyter.widget-view+json": {
              "version_major": 2,
              "version_minor": 0,
              "model_id": "37e81f7357d64931bd41fcaf275099a8"
            }
          },
          "metadata": {}
        },
        {
          "output_type": "stream",
          "name": "stdout",
          "text": [
            "Train Loss: 3.0744 | Ttrain Acc: 38.91%)\n",
            "Test Loss:  2.4451 | Test Acc:  50.24%\n",
            "Learning Rate: 0.126525\n",
            "\n",
            "============================================================\n",
            "Epoch [138/200]\n",
            "============================================================\n"
          ]
        },
        {
          "output_type": "display_data",
          "data": {
            "text/plain": [
              "Training:   0%|          | 0/196 [00:00<?, ?it/s]"
            ],
            "application/vnd.jupyter.widget-view+json": {
              "version_major": 2,
              "version_minor": 0,
              "model_id": "a69765a4e78447e4a7a2ddb0049ad7b0"
            }
          },
          "metadata": {}
        },
        {
          "output_type": "display_data",
          "data": {
            "text/plain": [
              "Evaluating:   0%|          | 0/40 [00:00<?, ?it/s]"
            ],
            "application/vnd.jupyter.widget-view+json": {
              "version_major": 2,
              "version_minor": 0,
              "model_id": "88ced0e33a3d425c881bbc096071996b"
            }
          },
          "metadata": {}
        },
        {
          "output_type": "stream",
          "name": "stdout",
          "text": [
            "Train Loss: 3.0122 | Ttrain Acc: 40.74%)\n",
            "Test Loss:  2.1403 | Test Acc:  58.19%\n",
            "Learning Rate: 0.123207\n",
            "\n",
            "============================================================\n",
            "Epoch [139/200]\n",
            "============================================================\n"
          ]
        },
        {
          "output_type": "display_data",
          "data": {
            "text/plain": [
              "Training:   0%|          | 0/196 [00:00<?, ?it/s]"
            ],
            "application/vnd.jupyter.widget-view+json": {
              "version_major": 2,
              "version_minor": 0,
              "model_id": "aeb12b30414b458c86ba986c2130c021"
            }
          },
          "metadata": {}
        },
        {
          "output_type": "display_data",
          "data": {
            "text/plain": [
              "Evaluating:   0%|          | 0/40 [00:00<?, ?it/s]"
            ],
            "application/vnd.jupyter.widget-view+json": {
              "version_major": 2,
              "version_minor": 0,
              "model_id": "7e7c623f2df14d96b675e1423fc4e4d3"
            }
          },
          "metadata": {}
        },
        {
          "output_type": "stream",
          "name": "stdout",
          "text": [
            "Train Loss: 3.0448 | Ttrain Acc: 39.89%)\n",
            "Test Loss:  2.0775 | Test Acc:  59.57%\n",
            "Learning Rate: 0.119902\n",
            "\n",
            "============================================================\n",
            "Epoch [140/200]\n",
            "============================================================\n"
          ]
        },
        {
          "output_type": "display_data",
          "data": {
            "text/plain": [
              "Training:   0%|          | 0/196 [00:00<?, ?it/s]"
            ],
            "application/vnd.jupyter.widget-view+json": {
              "version_major": 2,
              "version_minor": 0,
              "model_id": "e6f003149e724970a7188ec4d83bef86"
            }
          },
          "metadata": {}
        },
        {
          "output_type": "display_data",
          "data": {
            "text/plain": [
              "Evaluating:   0%|          | 0/40 [00:00<?, ?it/s]"
            ],
            "application/vnd.jupyter.widget-view+json": {
              "version_major": 2,
              "version_minor": 0,
              "model_id": "f04f6eee12704b2e8e3f44f5114a2a17"
            }
          },
          "metadata": {}
        },
        {
          "output_type": "stream",
          "name": "stdout",
          "text": [
            "Train Loss: 3.0398 | Ttrain Acc: 39.69%)\n",
            "Test Loss:  2.1469 | Test Acc:  58.26%\n",
            "Learning Rate: 0.116612\n",
            "\n",
            "============================================================\n",
            "Epoch [141/200]\n",
            "============================================================\n"
          ]
        },
        {
          "output_type": "display_data",
          "data": {
            "text/plain": [
              "Training:   0%|          | 0/196 [00:00<?, ?it/s]"
            ],
            "application/vnd.jupyter.widget-view+json": {
              "version_major": 2,
              "version_minor": 0,
              "model_id": "51e6954e6ff54242853db34f9397655a"
            }
          },
          "metadata": {}
        },
        {
          "output_type": "display_data",
          "data": {
            "text/plain": [
              "Evaluating:   0%|          | 0/40 [00:00<?, ?it/s]"
            ],
            "application/vnd.jupyter.widget-view+json": {
              "version_major": 2,
              "version_minor": 0,
              "model_id": "37123f57d6454fc4aac8ca326ad128af"
            }
          },
          "metadata": {}
        },
        {
          "output_type": "stream",
          "name": "stdout",
          "text": [
            "Train Loss: 3.0111 | Ttrain Acc: 40.67%)\n",
            "Test Loss:  2.0736 | Test Acc:  59.80%\n",
            "Learning Rate: 0.113340\n",
            "\n",
            "============================================================\n",
            "Epoch [142/200]\n",
            "============================================================\n"
          ]
        },
        {
          "output_type": "display_data",
          "data": {
            "text/plain": [
              "Training:   0%|          | 0/196 [00:00<?, ?it/s]"
            ],
            "application/vnd.jupyter.widget-view+json": {
              "version_major": 2,
              "version_minor": 0,
              "model_id": "01a07a2163e847afb725d53b1f51f4f5"
            }
          },
          "metadata": {}
        },
        {
          "output_type": "display_data",
          "data": {
            "text/plain": [
              "Evaluating:   0%|          | 0/40 [00:00<?, ?it/s]"
            ],
            "application/vnd.jupyter.widget-view+json": {
              "version_major": 2,
              "version_minor": 0,
              "model_id": "327348d3e26941e7bee503a443c2bbca"
            }
          },
          "metadata": {}
        },
        {
          "output_type": "stream",
          "name": "stdout",
          "text": [
            "Train Loss: 2.9596 | Ttrain Acc: 42.06%)\n",
            "Test Loss:  2.0385 | Test Acc:  61.27%\n",
            "Learning Rate: 0.110086\n",
            "✓ Best model saved! (Test Acc: 61.27%)\n",
            "\n",
            "============================================================\n",
            "Epoch [143/200]\n",
            "============================================================\n"
          ]
        },
        {
          "output_type": "display_data",
          "data": {
            "text/plain": [
              "Training:   0%|          | 0/196 [00:00<?, ?it/s]"
            ],
            "application/vnd.jupyter.widget-view+json": {
              "version_major": 2,
              "version_minor": 0,
              "model_id": "f6a7dfa5931b410886432f10c27c4f62"
            }
          },
          "metadata": {}
        },
        {
          "output_type": "display_data",
          "data": {
            "text/plain": [
              "Evaluating:   0%|          | 0/40 [00:00<?, ?it/s]"
            ],
            "application/vnd.jupyter.widget-view+json": {
              "version_major": 2,
              "version_minor": 0,
              "model_id": "c62ce6518eb1443989e593acf2822b7f"
            }
          },
          "metadata": {}
        },
        {
          "output_type": "stream",
          "name": "stdout",
          "text": [
            "Train Loss: 3.0137 | Ttrain Acc: 40.25%)\n",
            "Test Loss:  2.2453 | Test Acc:  56.04%\n",
            "Learning Rate: 0.106851\n",
            "\n",
            "============================================================\n",
            "Epoch [144/200]\n",
            "============================================================\n"
          ]
        },
        {
          "output_type": "display_data",
          "data": {
            "text/plain": [
              "Training:   0%|          | 0/196 [00:00<?, ?it/s]"
            ],
            "application/vnd.jupyter.widget-view+json": {
              "version_major": 2,
              "version_minor": 0,
              "model_id": "6777d9f11b2d488c9696333c6a632ab7"
            }
          },
          "metadata": {}
        },
        {
          "output_type": "display_data",
          "data": {
            "text/plain": [
              "Evaluating:   0%|          | 0/40 [00:00<?, ?it/s]"
            ],
            "application/vnd.jupyter.widget-view+json": {
              "version_major": 2,
              "version_minor": 0,
              "model_id": "5cddfa43d9ba4efab970bd0bf8b4eaa1"
            }
          },
          "metadata": {}
        },
        {
          "output_type": "stream",
          "name": "stdout",
          "text": [
            "Train Loss: 3.0454 | Ttrain Acc: 40.20%)\n",
            "Test Loss:  1.9450 | Test Acc:  63.60%\n",
            "Learning Rate: 0.103639\n",
            "✓ Best model saved! (Test Acc: 63.60%)\n",
            "\n",
            "============================================================\n",
            "Epoch [145/200]\n",
            "============================================================\n"
          ]
        },
        {
          "output_type": "display_data",
          "data": {
            "text/plain": [
              "Training:   0%|          | 0/196 [00:00<?, ?it/s]"
            ],
            "application/vnd.jupyter.widget-view+json": {
              "version_major": 2,
              "version_minor": 0,
              "model_id": "3f4e2613a56b4334a288701d862f9896"
            }
          },
          "metadata": {}
        },
        {
          "output_type": "display_data",
          "data": {
            "text/plain": [
              "Evaluating:   0%|          | 0/40 [00:00<?, ?it/s]"
            ],
            "application/vnd.jupyter.widget-view+json": {
              "version_major": 2,
              "version_minor": 0,
              "model_id": "642cdb962718402ca8fc74a0e9b99c49"
            }
          },
          "metadata": {}
        },
        {
          "output_type": "stream",
          "name": "stdout",
          "text": [
            "Train Loss: 2.9717 | Ttrain Acc: 41.81%)\n",
            "Test Loss:  2.1301 | Test Acc:  58.64%\n",
            "Learning Rate: 0.100450\n",
            "\n",
            "============================================================\n",
            "Epoch [146/200]\n",
            "============================================================\n"
          ]
        },
        {
          "output_type": "display_data",
          "data": {
            "text/plain": [
              "Training:   0%|          | 0/196 [00:00<?, ?it/s]"
            ],
            "application/vnd.jupyter.widget-view+json": {
              "version_major": 2,
              "version_minor": 0,
              "model_id": "485afacafeb04fad9a085ae05dc72afb"
            }
          },
          "metadata": {}
        },
        {
          "output_type": "display_data",
          "data": {
            "text/plain": [
              "Evaluating:   0%|          | 0/40 [00:00<?, ?it/s]"
            ],
            "application/vnd.jupyter.widget-view+json": {
              "version_major": 2,
              "version_minor": 0,
              "model_id": "64f3647dd31e4bf49b62ca2ca16365f6"
            }
          },
          "metadata": {}
        },
        {
          "output_type": "stream",
          "name": "stdout",
          "text": [
            "Train Loss: 3.0085 | Ttrain Acc: 41.35%)\n",
            "Test Loss:  1.9798 | Test Acc:  62.45%\n",
            "Learning Rate: 0.097286\n",
            "\n",
            "============================================================\n",
            "Epoch [147/200]\n",
            "============================================================\n"
          ]
        },
        {
          "output_type": "display_data",
          "data": {
            "text/plain": [
              "Training:   0%|          | 0/196 [00:00<?, ?it/s]"
            ],
            "application/vnd.jupyter.widget-view+json": {
              "version_major": 2,
              "version_minor": 0,
              "model_id": "37a79825652d4e1e8ef624cf3c6b6360"
            }
          },
          "metadata": {}
        },
        {
          "output_type": "display_data",
          "data": {
            "text/plain": [
              "Evaluating:   0%|          | 0/40 [00:00<?, ?it/s]"
            ],
            "application/vnd.jupyter.widget-view+json": {
              "version_major": 2,
              "version_minor": 0,
              "model_id": "10a4e244cb81487ebe7091757669188c"
            }
          },
          "metadata": {}
        },
        {
          "output_type": "stream",
          "name": "stdout",
          "text": [
            "Train Loss: 3.0466 | Ttrain Acc: 40.02%)\n",
            "Test Loss:  1.9841 | Test Acc:  62.40%\n",
            "Learning Rate: 0.094148\n",
            "\n",
            "============================================================\n",
            "Epoch [148/200]\n",
            "============================================================\n"
          ]
        },
        {
          "output_type": "display_data",
          "data": {
            "text/plain": [
              "Training:   0%|          | 0/196 [00:00<?, ?it/s]"
            ],
            "application/vnd.jupyter.widget-view+json": {
              "version_major": 2,
              "version_minor": 0,
              "model_id": "548f8be15b2f47fc816ace1510130845"
            }
          },
          "metadata": {}
        },
        {
          "output_type": "display_data",
          "data": {
            "text/plain": [
              "Evaluating:   0%|          | 0/40 [00:00<?, ?it/s]"
            ],
            "application/vnd.jupyter.widget-view+json": {
              "version_major": 2,
              "version_minor": 0,
              "model_id": "79812c633c364a3c976cc05731f577c0"
            }
          },
          "metadata": {}
        },
        {
          "output_type": "stream",
          "name": "stdout",
          "text": [
            "Train Loss: 3.0350 | Ttrain Acc: 40.07%)\n",
            "Test Loss:  2.0399 | Test Acc:  61.53%\n",
            "Learning Rate: 0.091039\n",
            "\n",
            "============================================================\n",
            "Epoch [149/200]\n",
            "============================================================\n"
          ]
        },
        {
          "output_type": "display_data",
          "data": {
            "text/plain": [
              "Training:   0%|          | 0/196 [00:00<?, ?it/s]"
            ],
            "application/vnd.jupyter.widget-view+json": {
              "version_major": 2,
              "version_minor": 0,
              "model_id": "a9473e4c75d8434ebe33925b4a234490"
            }
          },
          "metadata": {}
        },
        {
          "output_type": "display_data",
          "data": {
            "text/plain": [
              "Evaluating:   0%|          | 0/40 [00:00<?, ?it/s]"
            ],
            "application/vnd.jupyter.widget-view+json": {
              "version_major": 2,
              "version_minor": 0,
              "model_id": "9573b6dc2b9d44f29f9feebb66978a51"
            }
          },
          "metadata": {}
        },
        {
          "output_type": "stream",
          "name": "stdout",
          "text": [
            "Train Loss: 2.9903 | Ttrain Acc: 41.60%)\n",
            "Test Loss:  2.0362 | Test Acc:  61.39%\n",
            "Learning Rate: 0.087959\n",
            "\n",
            "============================================================\n",
            "Epoch [150/200]\n",
            "============================================================\n"
          ]
        },
        {
          "output_type": "display_data",
          "data": {
            "text/plain": [
              "Training:   0%|          | 0/196 [00:00<?, ?it/s]"
            ],
            "application/vnd.jupyter.widget-view+json": {
              "version_major": 2,
              "version_minor": 0,
              "model_id": "4c5277f7964140c8b9e2a8b1c747e9aa"
            }
          },
          "metadata": {}
        },
        {
          "output_type": "display_data",
          "data": {
            "text/plain": [
              "Evaluating:   0%|          | 0/40 [00:00<?, ?it/s]"
            ],
            "application/vnd.jupyter.widget-view+json": {
              "version_major": 2,
              "version_minor": 0,
              "model_id": "61dbee19fdb34083b553b1dc60c871f7"
            }
          },
          "metadata": {}
        },
        {
          "output_type": "stream",
          "name": "stdout",
          "text": [
            "Train Loss: 2.9675 | Ttrain Acc: 41.92%)\n",
            "Test Loss:  1.8957 | Test Acc:  65.00%\n",
            "Learning Rate: 0.084911\n",
            "✓ Best model saved! (Test Acc: 65.00%)\n",
            "\n",
            "============================================================\n",
            "Epoch [151/200]\n",
            "============================================================\n"
          ]
        },
        {
          "output_type": "display_data",
          "data": {
            "text/plain": [
              "Training:   0%|          | 0/196 [00:00<?, ?it/s]"
            ],
            "application/vnd.jupyter.widget-view+json": {
              "version_major": 2,
              "version_minor": 0,
              "model_id": "0a85ce03157a467887c030d221cff740"
            }
          },
          "metadata": {}
        },
        {
          "output_type": "display_data",
          "data": {
            "text/plain": [
              "Evaluating:   0%|          | 0/40 [00:00<?, ?it/s]"
            ],
            "application/vnd.jupyter.widget-view+json": {
              "version_major": 2,
              "version_minor": 0,
              "model_id": "f543c3fb920a4a93ae819e42d3a2bc5b"
            }
          },
          "metadata": {}
        },
        {
          "output_type": "stream",
          "name": "stdout",
          "text": [
            "Train Loss: 3.0226 | Ttrain Acc: 40.58%)\n",
            "Test Loss:  1.9360 | Test Acc:  63.83%\n",
            "Learning Rate: 0.081895\n",
            "\n",
            "============================================================\n",
            "Epoch [152/200]\n",
            "============================================================\n"
          ]
        },
        {
          "output_type": "display_data",
          "data": {
            "text/plain": [
              "Training:   0%|          | 0/196 [00:00<?, ?it/s]"
            ],
            "application/vnd.jupyter.widget-view+json": {
              "version_major": 2,
              "version_minor": 0,
              "model_id": "885ac4084b2f41778fe2c6a19d03b0b5"
            }
          },
          "metadata": {}
        },
        {
          "output_type": "display_data",
          "data": {
            "text/plain": [
              "Evaluating:   0%|          | 0/40 [00:00<?, ?it/s]"
            ],
            "application/vnd.jupyter.widget-view+json": {
              "version_major": 2,
              "version_minor": 0,
              "model_id": "f8a9db6735e54d3a952e5819db632817"
            }
          },
          "metadata": {}
        },
        {
          "output_type": "stream",
          "name": "stdout",
          "text": [
            "Train Loss: 2.9818 | Ttrain Acc: 41.91%)\n",
            "Test Loss:  2.0756 | Test Acc:  60.42%\n",
            "Learning Rate: 0.078913\n",
            "\n",
            "============================================================\n",
            "Epoch [153/200]\n",
            "============================================================\n"
          ]
        },
        {
          "output_type": "display_data",
          "data": {
            "text/plain": [
              "Training:   0%|          | 0/196 [00:00<?, ?it/s]"
            ],
            "application/vnd.jupyter.widget-view+json": {
              "version_major": 2,
              "version_minor": 0,
              "model_id": "8a3e3b122e5049958c17e74293cf749d"
            }
          },
          "metadata": {}
        },
        {
          "output_type": "display_data",
          "data": {
            "text/plain": [
              "Evaluating:   0%|          | 0/40 [00:00<?, ?it/s]"
            ],
            "application/vnd.jupyter.widget-view+json": {
              "version_major": 2,
              "version_minor": 0,
              "model_id": "7af48783b189460487c456340c04ab83"
            }
          },
          "metadata": {}
        },
        {
          "output_type": "stream",
          "name": "stdout",
          "text": [
            "Train Loss: 2.9827 | Ttrain Acc: 41.73%)\n",
            "Test Loss:  1.9130 | Test Acc:  64.45%\n",
            "Learning Rate: 0.075968\n",
            "\n",
            "============================================================\n",
            "Epoch [154/200]\n",
            "============================================================\n"
          ]
        },
        {
          "output_type": "display_data",
          "data": {
            "text/plain": [
              "Training:   0%|          | 0/196 [00:00<?, ?it/s]"
            ],
            "application/vnd.jupyter.widget-view+json": {
              "version_major": 2,
              "version_minor": 0,
              "model_id": "6de77f7c97bf4a138980aeb51995e222"
            }
          },
          "metadata": {}
        },
        {
          "output_type": "display_data",
          "data": {
            "text/plain": [
              "Evaluating:   0%|          | 0/40 [00:00<?, ?it/s]"
            ],
            "application/vnd.jupyter.widget-view+json": {
              "version_major": 2,
              "version_minor": 0,
              "model_id": "4d43b68757f24441a05ca76ddf538319"
            }
          },
          "metadata": {}
        },
        {
          "output_type": "stream",
          "name": "stdout",
          "text": [
            "Train Loss: 2.8966 | Ttrain Acc: 43.74%)\n",
            "Test Loss:  2.0054 | Test Acc:  62.57%\n",
            "Learning Rate: 0.073059\n",
            "\n",
            "============================================================\n",
            "Epoch [155/200]\n",
            "============================================================\n"
          ]
        },
        {
          "output_type": "display_data",
          "data": {
            "text/plain": [
              "Training:   0%|          | 0/196 [00:00<?, ?it/s]"
            ],
            "application/vnd.jupyter.widget-view+json": {
              "version_major": 2,
              "version_minor": 0,
              "model_id": "eba51f66089d4689ba2cd4b62ff98292"
            }
          },
          "metadata": {}
        },
        {
          "output_type": "display_data",
          "data": {
            "text/plain": [
              "Evaluating:   0%|          | 0/40 [00:00<?, ?it/s]"
            ],
            "application/vnd.jupyter.widget-view+json": {
              "version_major": 2,
              "version_minor": 0,
              "model_id": "d8af55cdca9a48048a0659bdf6347677"
            }
          },
          "metadata": {}
        },
        {
          "output_type": "stream",
          "name": "stdout",
          "text": [
            "Train Loss: 2.9897 | Ttrain Acc: 41.43%)\n",
            "Test Loss:  2.0400 | Test Acc:  61.47%\n",
            "Learning Rate: 0.070190\n",
            "\n",
            "============================================================\n",
            "Epoch [156/200]\n",
            "============================================================\n"
          ]
        },
        {
          "output_type": "display_data",
          "data": {
            "text/plain": [
              "Training:   0%|          | 0/196 [00:00<?, ?it/s]"
            ],
            "application/vnd.jupyter.widget-view+json": {
              "version_major": 2,
              "version_minor": 0,
              "model_id": "6df0860b9b864cb7911cb7bb08812a26"
            }
          },
          "metadata": {}
        },
        {
          "output_type": "display_data",
          "data": {
            "text/plain": [
              "Evaluating:   0%|          | 0/40 [00:00<?, ?it/s]"
            ],
            "application/vnd.jupyter.widget-view+json": {
              "version_major": 2,
              "version_minor": 0,
              "model_id": "a9ccf39bf9a647b7adf815833c8e5d2b"
            }
          },
          "metadata": {}
        },
        {
          "output_type": "stream",
          "name": "stdout",
          "text": [
            "Train Loss: 2.9215 | Ttrain Acc: 43.13%)\n",
            "Test Loss:  1.9600 | Test Acc:  63.74%\n",
            "Learning Rate: 0.067360\n",
            "\n",
            "============================================================\n",
            "Epoch [157/200]\n",
            "============================================================\n"
          ]
        },
        {
          "output_type": "display_data",
          "data": {
            "text/plain": [
              "Training:   0%|          | 0/196 [00:00<?, ?it/s]"
            ],
            "application/vnd.jupyter.widget-view+json": {
              "version_major": 2,
              "version_minor": 0,
              "model_id": "a71849c29c8f447bbdb81781fb687190"
            }
          },
          "metadata": {}
        },
        {
          "output_type": "display_data",
          "data": {
            "text/plain": [
              "Evaluating:   0%|          | 0/40 [00:00<?, ?it/s]"
            ],
            "application/vnd.jupyter.widget-view+json": {
              "version_major": 2,
              "version_minor": 0,
              "model_id": "1bc1d771e91c400d9bfda3b7909ba3a3"
            }
          },
          "metadata": {}
        },
        {
          "output_type": "stream",
          "name": "stdout",
          "text": [
            "Train Loss: 2.9285 | Ttrain Acc: 43.37%)\n",
            "Test Loss:  1.9667 | Test Acc:  63.40%\n",
            "Learning Rate: 0.064573\n",
            "\n",
            "============================================================\n",
            "Epoch [158/200]\n",
            "============================================================\n"
          ]
        },
        {
          "output_type": "display_data",
          "data": {
            "text/plain": [
              "Training:   0%|          | 0/196 [00:00<?, ?it/s]"
            ],
            "application/vnd.jupyter.widget-view+json": {
              "version_major": 2,
              "version_minor": 0,
              "model_id": "f60dd416e5ee4092adfedf91cccbbb45"
            }
          },
          "metadata": {}
        },
        {
          "output_type": "display_data",
          "data": {
            "text/plain": [
              "Evaluating:   0%|          | 0/40 [00:00<?, ?it/s]"
            ],
            "application/vnd.jupyter.widget-view+json": {
              "version_major": 2,
              "version_minor": 0,
              "model_id": "feb5a2020d8f40cf93865e36baee9d82"
            }
          },
          "metadata": {}
        },
        {
          "output_type": "stream",
          "name": "stdout",
          "text": [
            "Train Loss: 2.9817 | Ttrain Acc: 41.79%)\n",
            "Test Loss:  1.8777 | Test Acc:  65.20%\n",
            "Learning Rate: 0.061828\n",
            "✓ Best model saved! (Test Acc: 65.20%)\n",
            "\n",
            "============================================================\n",
            "Epoch [159/200]\n",
            "============================================================\n"
          ]
        },
        {
          "output_type": "display_data",
          "data": {
            "text/plain": [
              "Training:   0%|          | 0/196 [00:00<?, ?it/s]"
            ],
            "application/vnd.jupyter.widget-view+json": {
              "version_major": 2,
              "version_minor": 0,
              "model_id": "ed90fab469bc4c129713783ab60f6738"
            }
          },
          "metadata": {}
        },
        {
          "output_type": "display_data",
          "data": {
            "text/plain": [
              "Evaluating:   0%|          | 0/40 [00:00<?, ?it/s]"
            ],
            "application/vnd.jupyter.widget-view+json": {
              "version_major": 2,
              "version_minor": 0,
              "model_id": "fb87c3e5250645debd22de630d95fd92"
            }
          },
          "metadata": {}
        },
        {
          "output_type": "stream",
          "name": "stdout",
          "text": [
            "Train Loss: 2.9113 | Ttrain Acc: 43.33%)\n",
            "Test Loss:  1.8926 | Test Acc:  65.89%\n",
            "Learning Rate: 0.059127\n",
            "✓ Best model saved! (Test Acc: 65.89%)\n",
            "\n",
            "============================================================\n",
            "Epoch [160/200]\n",
            "============================================================\n"
          ]
        },
        {
          "output_type": "display_data",
          "data": {
            "text/plain": [
              "Training:   0%|          | 0/196 [00:00<?, ?it/s]"
            ],
            "application/vnd.jupyter.widget-view+json": {
              "version_major": 2,
              "version_minor": 0,
              "model_id": "856a47fa1545449783f259c7010b708b"
            }
          },
          "metadata": {}
        },
        {
          "output_type": "display_data",
          "data": {
            "text/plain": [
              "Evaluating:   0%|          | 0/40 [00:00<?, ?it/s]"
            ],
            "application/vnd.jupyter.widget-view+json": {
              "version_major": 2,
              "version_minor": 0,
              "model_id": "16f70944998b41a29db5399cc7dfdd0d"
            }
          },
          "metadata": {}
        },
        {
          "output_type": "stream",
          "name": "stdout",
          "text": [
            "Train Loss: 2.8805 | Ttrain Acc: 44.29%)\n",
            "Test Loss:  1.8824 | Test Acc:  65.10%\n",
            "Learning Rate: 0.056473\n",
            "\n",
            "============================================================\n",
            "Epoch [161/200]\n",
            "============================================================\n"
          ]
        },
        {
          "output_type": "display_data",
          "data": {
            "text/plain": [
              "Training:   0%|          | 0/196 [00:00<?, ?it/s]"
            ],
            "application/vnd.jupyter.widget-view+json": {
              "version_major": 2,
              "version_minor": 0,
              "model_id": "f1a401f5d2d54825918f429e6e1ddf51"
            }
          },
          "metadata": {}
        },
        {
          "output_type": "display_data",
          "data": {
            "text/plain": [
              "Evaluating:   0%|          | 0/40 [00:00<?, ?it/s]"
            ],
            "application/vnd.jupyter.widget-view+json": {
              "version_major": 2,
              "version_minor": 0,
              "model_id": "94c6f6e809194080a32e581f9e3a015b"
            }
          },
          "metadata": {}
        },
        {
          "output_type": "stream",
          "name": "stdout",
          "text": [
            "Train Loss: 2.9547 | Ttrain Acc: 42.20%)\n",
            "Test Loss:  1.9471 | Test Acc:  63.69%\n",
            "Learning Rate: 0.053865\n",
            "\n",
            "============================================================\n",
            "Epoch [162/200]\n",
            "============================================================\n"
          ]
        },
        {
          "output_type": "display_data",
          "data": {
            "text/plain": [
              "Training:   0%|          | 0/196 [00:00<?, ?it/s]"
            ],
            "application/vnd.jupyter.widget-view+json": {
              "version_major": 2,
              "version_minor": 0,
              "model_id": "69219a223c06481e9715108616ffd3e4"
            }
          },
          "metadata": {}
        },
        {
          "output_type": "display_data",
          "data": {
            "text/plain": [
              "Evaluating:   0%|          | 0/40 [00:00<?, ?it/s]"
            ],
            "application/vnd.jupyter.widget-view+json": {
              "version_major": 2,
              "version_minor": 0,
              "model_id": "fb9f89813e28431f8035bdabd6f42750"
            }
          },
          "metadata": {}
        },
        {
          "output_type": "stream",
          "name": "stdout",
          "text": [
            "Train Loss: 2.8876 | Ttrain Acc: 44.22%)\n",
            "Test Loss:  1.8214 | Test Acc:  67.46%\n",
            "Learning Rate: 0.051306\n",
            "✓ Best model saved! (Test Acc: 67.46%)\n",
            "\n",
            "============================================================\n",
            "Epoch [163/200]\n",
            "============================================================\n"
          ]
        },
        {
          "output_type": "display_data",
          "data": {
            "text/plain": [
              "Training:   0%|          | 0/196 [00:00<?, ?it/s]"
            ],
            "application/vnd.jupyter.widget-view+json": {
              "version_major": 2,
              "version_minor": 0,
              "model_id": "5f949ffa8a4642388dd4d8556beff3b6"
            }
          },
          "metadata": {}
        },
        {
          "output_type": "display_data",
          "data": {
            "text/plain": [
              "Evaluating:   0%|          | 0/40 [00:00<?, ?it/s]"
            ],
            "application/vnd.jupyter.widget-view+json": {
              "version_major": 2,
              "version_minor": 0,
              "model_id": "6530e0785fd4458992fb7a8d7e7be9d3"
            }
          },
          "metadata": {}
        },
        {
          "output_type": "stream",
          "name": "stdout",
          "text": [
            "Train Loss: 2.8466 | Ttrain Acc: 45.42%)\n",
            "Test Loss:  1.8411 | Test Acc:  66.76%\n",
            "Learning Rate: 0.048797\n",
            "\n",
            "============================================================\n",
            "Epoch [164/200]\n",
            "============================================================\n"
          ]
        },
        {
          "output_type": "display_data",
          "data": {
            "text/plain": [
              "Training:   0%|          | 0/196 [00:00<?, ?it/s]"
            ],
            "application/vnd.jupyter.widget-view+json": {
              "version_major": 2,
              "version_minor": 0,
              "model_id": "1059afb8339c4f00bd690ae43abf4fd3"
            }
          },
          "metadata": {}
        },
        {
          "output_type": "display_data",
          "data": {
            "text/plain": [
              "Evaluating:   0%|          | 0/40 [00:00<?, ?it/s]"
            ],
            "application/vnd.jupyter.widget-view+json": {
              "version_major": 2,
              "version_minor": 0,
              "model_id": "ae793d98ff37447a980263085ac8a32e"
            }
          },
          "metadata": {}
        },
        {
          "output_type": "stream",
          "name": "stdout",
          "text": [
            "Train Loss: 2.8278 | Ttrain Acc: 46.07%)\n",
            "Test Loss:  1.9024 | Test Acc:  65.54%\n",
            "Learning Rate: 0.046338\n",
            "\n",
            "============================================================\n",
            "Epoch [165/200]\n",
            "============================================================\n"
          ]
        },
        {
          "output_type": "display_data",
          "data": {
            "text/plain": [
              "Training:   0%|          | 0/196 [00:00<?, ?it/s]"
            ],
            "application/vnd.jupyter.widget-view+json": {
              "version_major": 2,
              "version_minor": 0,
              "model_id": "7f89fd7616374e60a156e7ef23e3e02a"
            }
          },
          "metadata": {}
        },
        {
          "output_type": "display_data",
          "data": {
            "text/plain": [
              "Evaluating:   0%|          | 0/40 [00:00<?, ?it/s]"
            ],
            "application/vnd.jupyter.widget-view+json": {
              "version_major": 2,
              "version_minor": 0,
              "model_id": "8de9761c367340ab8f270fd0ff008484"
            }
          },
          "metadata": {}
        },
        {
          "output_type": "stream",
          "name": "stdout",
          "text": [
            "Train Loss: 2.9158 | Ttrain Acc: 43.52%)\n",
            "Test Loss:  1.8161 | Test Acc:  67.73%\n",
            "Learning Rate: 0.043932\n",
            "✓ Best model saved! (Test Acc: 67.73%)\n",
            "\n",
            "============================================================\n",
            "Epoch [166/200]\n",
            "============================================================\n"
          ]
        },
        {
          "output_type": "display_data",
          "data": {
            "text/plain": [
              "Training:   0%|          | 0/196 [00:00<?, ?it/s]"
            ],
            "application/vnd.jupyter.widget-view+json": {
              "version_major": 2,
              "version_minor": 0,
              "model_id": "e4be903a07c84b3e80e4f43ba594a174"
            }
          },
          "metadata": {}
        },
        {
          "output_type": "display_data",
          "data": {
            "text/plain": [
              "Evaluating:   0%|          | 0/40 [00:00<?, ?it/s]"
            ],
            "application/vnd.jupyter.widget-view+json": {
              "version_major": 2,
              "version_minor": 0,
              "model_id": "45ed2b20ad794c1f9f66ce4b420931b6"
            }
          },
          "metadata": {}
        },
        {
          "output_type": "stream",
          "name": "stdout",
          "text": [
            "Train Loss: 2.9237 | Ttrain Acc: 43.44%)\n",
            "Test Loss:  1.7804 | Test Acc:  68.33%\n",
            "Learning Rate: 0.041579\n",
            "✓ Best model saved! (Test Acc: 68.33%)\n",
            "\n",
            "============================================================\n",
            "Epoch [167/200]\n",
            "============================================================\n"
          ]
        },
        {
          "output_type": "display_data",
          "data": {
            "text/plain": [
              "Training:   0%|          | 0/196 [00:00<?, ?it/s]"
            ],
            "application/vnd.jupyter.widget-view+json": {
              "version_major": 2,
              "version_minor": 0,
              "model_id": "4be58274d58e424f9d5425e8c1a21b37"
            }
          },
          "metadata": {}
        },
        {
          "output_type": "display_data",
          "data": {
            "text/plain": [
              "Evaluating:   0%|          | 0/40 [00:00<?, ?it/s]"
            ],
            "application/vnd.jupyter.widget-view+json": {
              "version_major": 2,
              "version_minor": 0,
              "model_id": "f9ae2f25a89d4bf490395bad014e6414"
            }
          },
          "metadata": {}
        },
        {
          "output_type": "stream",
          "name": "stdout",
          "text": [
            "Train Loss: 2.8549 | Ttrain Acc: 44.96%)\n",
            "Test Loss:  1.8227 | Test Acc:  67.77%\n",
            "Learning Rate: 0.039281\n",
            "\n",
            "============================================================\n",
            "Epoch [168/200]\n",
            "============================================================\n"
          ]
        },
        {
          "output_type": "display_data",
          "data": {
            "text/plain": [
              "Training:   0%|          | 0/196 [00:00<?, ?it/s]"
            ],
            "application/vnd.jupyter.widget-view+json": {
              "version_major": 2,
              "version_minor": 0,
              "model_id": "dccf1c78866e4e3fae7892d11e7a27cd"
            }
          },
          "metadata": {}
        },
        {
          "output_type": "display_data",
          "data": {
            "text/plain": [
              "Evaluating:   0%|          | 0/40 [00:00<?, ?it/s]"
            ],
            "application/vnd.jupyter.widget-view+json": {
              "version_major": 2,
              "version_minor": 0,
              "model_id": "8cdb54e6b9e54173a50eef8d81b6d401"
            }
          },
          "metadata": {}
        },
        {
          "output_type": "stream",
          "name": "stdout",
          "text": [
            "Train Loss: 2.8665 | Ttrain Acc: 44.92%)\n",
            "Test Loss:  1.6987 | Test Acc:  71.05%\n",
            "Learning Rate: 0.037039\n",
            "✓ Best model saved! (Test Acc: 71.05%)\n",
            "\n",
            "============================================================\n",
            "Epoch [169/200]\n",
            "============================================================\n"
          ]
        },
        {
          "output_type": "display_data",
          "data": {
            "text/plain": [
              "Training:   0%|          | 0/196 [00:00<?, ?it/s]"
            ],
            "application/vnd.jupyter.widget-view+json": {
              "version_major": 2,
              "version_minor": 0,
              "model_id": "89e31cd8e0064db18bfc76628944e3e5"
            }
          },
          "metadata": {}
        },
        {
          "output_type": "display_data",
          "data": {
            "text/plain": [
              "Evaluating:   0%|          | 0/40 [00:00<?, ?it/s]"
            ],
            "application/vnd.jupyter.widget-view+json": {
              "version_major": 2,
              "version_minor": 0,
              "model_id": "29fc7b596e164310afa80667e5355ff3"
            }
          },
          "metadata": {}
        },
        {
          "output_type": "stream",
          "name": "stdout",
          "text": [
            "Train Loss: 2.7508 | Ttrain Acc: 48.05%)\n",
            "Test Loss:  1.8616 | Test Acc:  65.99%\n",
            "Learning Rate: 0.034853\n",
            "\n",
            "============================================================\n",
            "Epoch [170/200]\n",
            "============================================================\n"
          ]
        },
        {
          "output_type": "display_data",
          "data": {
            "text/plain": [
              "Training:   0%|          | 0/196 [00:00<?, ?it/s]"
            ],
            "application/vnd.jupyter.widget-view+json": {
              "version_major": 2,
              "version_minor": 0,
              "model_id": "1fb9f88dcc174ecb95bbcda95483de11"
            }
          },
          "metadata": {}
        },
        {
          "output_type": "display_data",
          "data": {
            "text/plain": [
              "Evaluating:   0%|          | 0/40 [00:00<?, ?it/s]"
            ],
            "application/vnd.jupyter.widget-view+json": {
              "version_major": 2,
              "version_minor": 0,
              "model_id": "a68b39a205f5402da36218ef511d050d"
            }
          },
          "metadata": {}
        },
        {
          "output_type": "stream",
          "name": "stdout",
          "text": [
            "Train Loss: 2.7893 | Ttrain Acc: 47.04%)\n",
            "Test Loss:  1.7793 | Test Acc:  68.96%\n",
            "Learning Rate: 0.032725\n",
            "\n",
            "============================================================\n",
            "Epoch [171/200]\n",
            "============================================================\n"
          ]
        },
        {
          "output_type": "display_data",
          "data": {
            "text/plain": [
              "Training:   0%|          | 0/196 [00:00<?, ?it/s]"
            ],
            "application/vnd.jupyter.widget-view+json": {
              "version_major": 2,
              "version_minor": 0,
              "model_id": "2802cdd94c1149f5ad357a79246b4d38"
            }
          },
          "metadata": {}
        },
        {
          "output_type": "display_data",
          "data": {
            "text/plain": [
              "Evaluating:   0%|          | 0/40 [00:00<?, ?it/s]"
            ],
            "application/vnd.jupyter.widget-view+json": {
              "version_major": 2,
              "version_minor": 0,
              "model_id": "cb720b9aeba54909a166ec135b5a22a3"
            }
          },
          "metadata": {}
        },
        {
          "output_type": "stream",
          "name": "stdout",
          "text": [
            "Train Loss: 2.7306 | Ttrain Acc: 48.52%)\n",
            "Test Loss:  1.7161 | Test Acc:  70.93%\n",
            "Learning Rate: 0.030657\n",
            "\n",
            "============================================================\n",
            "Epoch [172/200]\n",
            "============================================================\n"
          ]
        },
        {
          "output_type": "display_data",
          "data": {
            "text/plain": [
              "Training:   0%|          | 0/196 [00:00<?, ?it/s]"
            ],
            "application/vnd.jupyter.widget-view+json": {
              "version_major": 2,
              "version_minor": 0,
              "model_id": "32b2c4328c3c452a81331170ef116e56"
            }
          },
          "metadata": {}
        },
        {
          "output_type": "display_data",
          "data": {
            "text/plain": [
              "Evaluating:   0%|          | 0/40 [00:00<?, ?it/s]"
            ],
            "application/vnd.jupyter.widget-view+json": {
              "version_major": 2,
              "version_minor": 0,
              "model_id": "6e67ad87f3564835b28ba9b5c17e9304"
            }
          },
          "metadata": {}
        },
        {
          "output_type": "stream",
          "name": "stdout",
          "text": [
            "Train Loss: 2.7140 | Ttrain Acc: 49.40%)\n",
            "Test Loss:  1.6827 | Test Acc:  70.95%\n",
            "Learning Rate: 0.028648\n",
            "\n",
            "============================================================\n",
            "Epoch [173/200]\n",
            "============================================================\n"
          ]
        },
        {
          "output_type": "display_data",
          "data": {
            "text/plain": [
              "Training:   0%|          | 0/196 [00:00<?, ?it/s]"
            ],
            "application/vnd.jupyter.widget-view+json": {
              "version_major": 2,
              "version_minor": 0,
              "model_id": "d650ac5c92bf4aeb9973b450647e232c"
            }
          },
          "metadata": {}
        },
        {
          "output_type": "display_data",
          "data": {
            "text/plain": [
              "Evaluating:   0%|          | 0/40 [00:00<?, ?it/s]"
            ],
            "application/vnd.jupyter.widget-view+json": {
              "version_major": 2,
              "version_minor": 0,
              "model_id": "27bdca4a082c410097bbb6fded2899c7"
            }
          },
          "metadata": {}
        },
        {
          "output_type": "stream",
          "name": "stdout",
          "text": [
            "Train Loss: 2.8386 | Ttrain Acc: 45.26%)\n",
            "Test Loss:  1.6748 | Test Acc:  72.07%\n",
            "Learning Rate: 0.026701\n",
            "✓ Best model saved! (Test Acc: 72.07%)\n",
            "\n",
            "============================================================\n",
            "Epoch [174/200]\n",
            "============================================================\n"
          ]
        },
        {
          "output_type": "display_data",
          "data": {
            "text/plain": [
              "Training:   0%|          | 0/196 [00:00<?, ?it/s]"
            ],
            "application/vnd.jupyter.widget-view+json": {
              "version_major": 2,
              "version_minor": 0,
              "model_id": "3333b5497abf4bfe8a85c9c90154742b"
            }
          },
          "metadata": {}
        },
        {
          "output_type": "display_data",
          "data": {
            "text/plain": [
              "Evaluating:   0%|          | 0/40 [00:00<?, ?it/s]"
            ],
            "application/vnd.jupyter.widget-view+json": {
              "version_major": 2,
              "version_minor": 0,
              "model_id": "0a5000380b1348cbad19936d08166b70"
            }
          },
          "metadata": {}
        },
        {
          "output_type": "stream",
          "name": "stdout",
          "text": [
            "Train Loss: 2.7338 | Ttrain Acc: 49.19%)\n",
            "Test Loss:  1.6315 | Test Acc:  73.03%\n",
            "Learning Rate: 0.024816\n",
            "✓ Best model saved! (Test Acc: 73.03%)\n",
            "\n",
            "============================================================\n",
            "Epoch [175/200]\n",
            "============================================================\n"
          ]
        },
        {
          "output_type": "display_data",
          "data": {
            "text/plain": [
              "Training:   0%|          | 0/196 [00:00<?, ?it/s]"
            ],
            "application/vnd.jupyter.widget-view+json": {
              "version_major": 2,
              "version_minor": 0,
              "model_id": "81c0043283b1451fb5887de1172117eb"
            }
          },
          "metadata": {}
        },
        {
          "output_type": "display_data",
          "data": {
            "text/plain": [
              "Evaluating:   0%|          | 0/40 [00:00<?, ?it/s]"
            ],
            "application/vnd.jupyter.widget-view+json": {
              "version_major": 2,
              "version_minor": 0,
              "model_id": "939ab68c3e7946b983da91c460f3243b"
            }
          },
          "metadata": {}
        },
        {
          "output_type": "stream",
          "name": "stdout",
          "text": [
            "Train Loss: 2.7410 | Ttrain Acc: 48.28%)\n",
            "Test Loss:  1.6032 | Test Acc:  74.26%\n",
            "Learning Rate: 0.022993\n",
            "✓ Best model saved! (Test Acc: 74.26%)\n",
            "\n",
            "============================================================\n",
            "Epoch [176/200]\n",
            "============================================================\n"
          ]
        },
        {
          "output_type": "display_data",
          "data": {
            "text/plain": [
              "Training:   0%|          | 0/196 [00:00<?, ?it/s]"
            ],
            "application/vnd.jupyter.widget-view+json": {
              "version_major": 2,
              "version_minor": 0,
              "model_id": "f7e5081dd3584a98b4464c8b7c914667"
            }
          },
          "metadata": {}
        },
        {
          "output_type": "display_data",
          "data": {
            "text/plain": [
              "Evaluating:   0%|          | 0/40 [00:00<?, ?it/s]"
            ],
            "application/vnd.jupyter.widget-view+json": {
              "version_major": 2,
              "version_minor": 0,
              "model_id": "8782c2f689a54b1f956e971d225d16da"
            }
          },
          "metadata": {}
        },
        {
          "output_type": "stream",
          "name": "stdout",
          "text": [
            "Train Loss: 2.6907 | Ttrain Acc: 49.74%)\n",
            "Test Loss:  1.6463 | Test Acc:  73.06%\n",
            "Learning Rate: 0.021235\n",
            "\n",
            "============================================================\n",
            "Epoch [177/200]\n",
            "============================================================\n"
          ]
        },
        {
          "output_type": "display_data",
          "data": {
            "text/plain": [
              "Training:   0%|          | 0/196 [00:00<?, ?it/s]"
            ],
            "application/vnd.jupyter.widget-view+json": {
              "version_major": 2,
              "version_minor": 0,
              "model_id": "f211fdf809854736bec427acb09b324d"
            }
          },
          "metadata": {}
        },
        {
          "output_type": "display_data",
          "data": {
            "text/plain": [
              "Evaluating:   0%|          | 0/40 [00:00<?, ?it/s]"
            ],
            "application/vnd.jupyter.widget-view+json": {
              "version_major": 2,
              "version_minor": 0,
              "model_id": "08c81921967b45358b39dbf1fc4871a1"
            }
          },
          "metadata": {}
        },
        {
          "output_type": "stream",
          "name": "stdout",
          "text": [
            "Train Loss: 2.7033 | Ttrain Acc: 49.80%)\n",
            "Test Loss:  1.6180 | Test Acc:  73.43%\n",
            "Learning Rate: 0.019542\n",
            "\n",
            "============================================================\n",
            "Epoch [178/200]\n",
            "============================================================\n"
          ]
        },
        {
          "output_type": "display_data",
          "data": {
            "text/plain": [
              "Training:   0%|          | 0/196 [00:00<?, ?it/s]"
            ],
            "application/vnd.jupyter.widget-view+json": {
              "version_major": 2,
              "version_minor": 0,
              "model_id": "ccbd416eff404f97bb96cbb757ae0411"
            }
          },
          "metadata": {}
        },
        {
          "output_type": "display_data",
          "data": {
            "text/plain": [
              "Evaluating:   0%|          | 0/40 [00:00<?, ?it/s]"
            ],
            "application/vnd.jupyter.widget-view+json": {
              "version_major": 2,
              "version_minor": 0,
              "model_id": "ef4e3a72017745c7a3f0b0c6c870ba8b"
            }
          },
          "metadata": {}
        },
        {
          "output_type": "stream",
          "name": "stdout",
          "text": [
            "Train Loss: 2.7269 | Ttrain Acc: 48.99%)\n",
            "Test Loss:  1.5737 | Test Acc:  75.00%\n",
            "Learning Rate: 0.017914\n",
            "✓ Best model saved! (Test Acc: 75.00%)\n",
            "\n",
            "============================================================\n",
            "Epoch [179/200]\n",
            "============================================================\n"
          ]
        },
        {
          "output_type": "display_data",
          "data": {
            "text/plain": [
              "Training:   0%|          | 0/196 [00:00<?, ?it/s]"
            ],
            "application/vnd.jupyter.widget-view+json": {
              "version_major": 2,
              "version_minor": 0,
              "model_id": "21de3dd7ece9473084eb355b9803ef02"
            }
          },
          "metadata": {}
        },
        {
          "output_type": "display_data",
          "data": {
            "text/plain": [
              "Evaluating:   0%|          | 0/40 [00:00<?, ?it/s]"
            ],
            "application/vnd.jupyter.widget-view+json": {
              "version_major": 2,
              "version_minor": 0,
              "model_id": "d79c5af9bc1f4d55b57dea03873e08c6"
            }
          },
          "metadata": {}
        },
        {
          "output_type": "stream",
          "name": "stdout",
          "text": [
            "Train Loss: 2.7292 | Ttrain Acc: 48.68%)\n",
            "Test Loss:  1.6006 | Test Acc:  74.33%\n",
            "Learning Rate: 0.016353\n",
            "\n",
            "============================================================\n",
            "Epoch [180/200]\n",
            "============================================================\n"
          ]
        },
        {
          "output_type": "display_data",
          "data": {
            "text/plain": [
              "Training:   0%|          | 0/196 [00:00<?, ?it/s]"
            ],
            "application/vnd.jupyter.widget-view+json": {
              "version_major": 2,
              "version_minor": 0,
              "model_id": "31503bd23ed842b3933c31b0b6bf6a68"
            }
          },
          "metadata": {}
        },
        {
          "output_type": "display_data",
          "data": {
            "text/plain": [
              "Evaluating:   0%|          | 0/40 [00:00<?, ?it/s]"
            ],
            "application/vnd.jupyter.widget-view+json": {
              "version_major": 2,
              "version_minor": 0,
              "model_id": "04e7d85b468c441188aa5ee080faa1e5"
            }
          },
          "metadata": {}
        },
        {
          "output_type": "stream",
          "name": "stdout",
          "text": [
            "Train Loss: 2.6675 | Ttrain Acc: 50.70%)\n",
            "Test Loss:  1.6051 | Test Acc:  73.99%\n",
            "Learning Rate: 0.014859\n",
            "\n",
            "============================================================\n",
            "Epoch [181/200]\n",
            "============================================================\n"
          ]
        },
        {
          "output_type": "display_data",
          "data": {
            "text/plain": [
              "Training:   0%|          | 0/196 [00:00<?, ?it/s]"
            ],
            "application/vnd.jupyter.widget-view+json": {
              "version_major": 2,
              "version_minor": 0,
              "model_id": "901c35df0c734c9ba57bb9450efdb5bb"
            }
          },
          "metadata": {}
        },
        {
          "output_type": "display_data",
          "data": {
            "text/plain": [
              "Evaluating:   0%|          | 0/40 [00:00<?, ?it/s]"
            ],
            "application/vnd.jupyter.widget-view+json": {
              "version_major": 2,
              "version_minor": 0,
              "model_id": "5f39369cfe804581ad8d8b7f48a91799"
            }
          },
          "metadata": {}
        },
        {
          "output_type": "stream",
          "name": "stdout",
          "text": [
            "Train Loss: 2.6148 | Ttrain Acc: 51.87%)\n",
            "Test Loss:  1.5935 | Test Acc:  74.67%\n",
            "Learning Rate: 0.013433\n",
            "\n",
            "============================================================\n",
            "Epoch [182/200]\n",
            "============================================================\n"
          ]
        },
        {
          "output_type": "display_data",
          "data": {
            "text/plain": [
              "Training:   0%|          | 0/196 [00:00<?, ?it/s]"
            ],
            "application/vnd.jupyter.widget-view+json": {
              "version_major": 2,
              "version_minor": 0,
              "model_id": "c6e94ae832f4448fb5defad6bc7eba79"
            }
          },
          "metadata": {}
        },
        {
          "output_type": "display_data",
          "data": {
            "text/plain": [
              "Evaluating:   0%|          | 0/40 [00:00<?, ?it/s]"
            ],
            "application/vnd.jupyter.widget-view+json": {
              "version_major": 2,
              "version_minor": 0,
              "model_id": "07c39abef39b45b8a62e0e74cfda58c5"
            }
          },
          "metadata": {}
        },
        {
          "output_type": "stream",
          "name": "stdout",
          "text": [
            "Train Loss: 2.6011 | Ttrain Acc: 52.38%)\n",
            "Test Loss:  1.5317 | Test Acc:  76.18%\n",
            "Learning Rate: 0.012076\n",
            "✓ Best model saved! (Test Acc: 76.18%)\n",
            "\n",
            "============================================================\n",
            "Epoch [183/200]\n",
            "============================================================\n"
          ]
        },
        {
          "output_type": "display_data",
          "data": {
            "text/plain": [
              "Training:   0%|          | 0/196 [00:00<?, ?it/s]"
            ],
            "application/vnd.jupyter.widget-view+json": {
              "version_major": 2,
              "version_minor": 0,
              "model_id": "47c6be408bed4f64bff9fa7289e4ead5"
            }
          },
          "metadata": {}
        },
        {
          "output_type": "display_data",
          "data": {
            "text/plain": [
              "Evaluating:   0%|          | 0/40 [00:00<?, ?it/s]"
            ],
            "application/vnd.jupyter.widget-view+json": {
              "version_major": 2,
              "version_minor": 0,
              "model_id": "3abf7a99f2e949409d9e2a399f112186"
            }
          },
          "metadata": {}
        },
        {
          "output_type": "stream",
          "name": "stdout",
          "text": [
            "Train Loss: 2.5597 | Ttrain Acc: 53.45%)\n",
            "Test Loss:  1.5346 | Test Acc:  75.99%\n",
            "Learning Rate: 0.010788\n",
            "\n",
            "============================================================\n",
            "Epoch [184/200]\n",
            "============================================================\n"
          ]
        },
        {
          "output_type": "display_data",
          "data": {
            "text/plain": [
              "Training:   0%|          | 0/196 [00:00<?, ?it/s]"
            ],
            "application/vnd.jupyter.widget-view+json": {
              "version_major": 2,
              "version_minor": 0,
              "model_id": "88d37018ee254b69bb2285bea0d25dbe"
            }
          },
          "metadata": {}
        },
        {
          "output_type": "display_data",
          "data": {
            "text/plain": [
              "Evaluating:   0%|          | 0/40 [00:00<?, ?it/s]"
            ],
            "application/vnd.jupyter.widget-view+json": {
              "version_major": 2,
              "version_minor": 0,
              "model_id": "731138df89174af1b318121a18f267d8"
            }
          },
          "metadata": {}
        },
        {
          "output_type": "stream",
          "name": "stdout",
          "text": [
            "Train Loss: 2.6783 | Ttrain Acc: 50.31%)\n",
            "Test Loss:  1.5196 | Test Acc:  77.53%\n",
            "Learning Rate: 0.009570\n",
            "✓ Best model saved! (Test Acc: 77.53%)\n",
            "\n",
            "============================================================\n",
            "Epoch [185/200]\n",
            "============================================================\n"
          ]
        },
        {
          "output_type": "display_data",
          "data": {
            "text/plain": [
              "Training:   0%|          | 0/196 [00:00<?, ?it/s]"
            ],
            "application/vnd.jupyter.widget-view+json": {
              "version_major": 2,
              "version_minor": 0,
              "model_id": "3d1f7a80f3ec48cbbb5feb8502609a1f"
            }
          },
          "metadata": {}
        },
        {
          "output_type": "display_data",
          "data": {
            "text/plain": [
              "Evaluating:   0%|          | 0/40 [00:00<?, ?it/s]"
            ],
            "application/vnd.jupyter.widget-view+json": {
              "version_major": 2,
              "version_minor": 0,
              "model_id": "97a3e4f9e4514f8697df816044d5d9d3"
            }
          },
          "metadata": {}
        },
        {
          "output_type": "stream",
          "name": "stdout",
          "text": [
            "Train Loss: 2.4934 | Ttrain Acc: 55.62%)\n",
            "Test Loss:  1.4889 | Test Acc:  77.48%\n",
            "Learning Rate: 0.008423\n",
            "\n",
            "============================================================\n",
            "Epoch [186/200]\n",
            "============================================================\n"
          ]
        },
        {
          "output_type": "display_data",
          "data": {
            "text/plain": [
              "Training:   0%|          | 0/196 [00:00<?, ?it/s]"
            ],
            "application/vnd.jupyter.widget-view+json": {
              "version_major": 2,
              "version_minor": 0,
              "model_id": "c15b042b1a2545f5924861c0ab7e5013"
            }
          },
          "metadata": {}
        },
        {
          "output_type": "display_data",
          "data": {
            "text/plain": [
              "Evaluating:   0%|          | 0/40 [00:00<?, ?it/s]"
            ],
            "application/vnd.jupyter.widget-view+json": {
              "version_major": 2,
              "version_minor": 0,
              "model_id": "ffd5196dd7f544408f890800ea8d71bf"
            }
          },
          "metadata": {}
        },
        {
          "output_type": "stream",
          "name": "stdout",
          "text": [
            "Train Loss: 2.4671 | Ttrain Acc: 56.43%)\n",
            "Test Loss:  1.4628 | Test Acc:  78.69%\n",
            "Learning Rate: 0.007348\n",
            "✓ Best model saved! (Test Acc: 78.69%)\n",
            "\n",
            "============================================================\n",
            "Epoch [187/200]\n",
            "============================================================\n"
          ]
        },
        {
          "output_type": "display_data",
          "data": {
            "text/plain": [
              "Training:   0%|          | 0/196 [00:00<?, ?it/s]"
            ],
            "application/vnd.jupyter.widget-view+json": {
              "version_major": 2,
              "version_minor": 0,
              "model_id": "6eb0ffd2dc1648b8b289ffc54259789d"
            }
          },
          "metadata": {}
        },
        {
          "output_type": "display_data",
          "data": {
            "text/plain": [
              "Evaluating:   0%|          | 0/40 [00:00<?, ?it/s]"
            ],
            "application/vnd.jupyter.widget-view+json": {
              "version_major": 2,
              "version_minor": 0,
              "model_id": "3e99a0093f7e4b38afccd5b3736fa143"
            }
          },
          "metadata": {}
        },
        {
          "output_type": "stream",
          "name": "stdout",
          "text": [
            "Train Loss: 2.4654 | Ttrain Acc: 56.25%)\n",
            "Test Loss:  1.4712 | Test Acc:  78.32%\n",
            "Learning Rate: 0.006344\n",
            "\n",
            "============================================================\n",
            "Epoch [188/200]\n",
            "============================================================\n"
          ]
        },
        {
          "output_type": "display_data",
          "data": {
            "text/plain": [
              "Training:   0%|          | 0/196 [00:00<?, ?it/s]"
            ],
            "application/vnd.jupyter.widget-view+json": {
              "version_major": 2,
              "version_minor": 0,
              "model_id": "c73dcef98b034a9787ddb42dbbde8c77"
            }
          },
          "metadata": {}
        },
        {
          "output_type": "display_data",
          "data": {
            "text/plain": [
              "Evaluating:   0%|          | 0/40 [00:00<?, ?it/s]"
            ],
            "application/vnd.jupyter.widget-view+json": {
              "version_major": 2,
              "version_minor": 0,
              "model_id": "d7e9ec454cab4e23801ee7bacbf7d0c9"
            }
          },
          "metadata": {}
        },
        {
          "output_type": "stream",
          "name": "stdout",
          "text": [
            "Train Loss: 2.4912 | Ttrain Acc: 55.54%)\n",
            "Test Loss:  1.4636 | Test Acc:  78.71%\n",
            "Learning Rate: 0.005413\n",
            "✓ Best model saved! (Test Acc: 78.71%)\n",
            "\n",
            "============================================================\n",
            "Epoch [189/200]\n",
            "============================================================\n"
          ]
        },
        {
          "output_type": "display_data",
          "data": {
            "text/plain": [
              "Training:   0%|          | 0/196 [00:00<?, ?it/s]"
            ],
            "application/vnd.jupyter.widget-view+json": {
              "version_major": 2,
              "version_minor": 0,
              "model_id": "b27be6489ceb48aea9543e588307984e"
            }
          },
          "metadata": {}
        },
        {
          "output_type": "display_data",
          "data": {
            "text/plain": [
              "Evaluating:   0%|          | 0/40 [00:00<?, ?it/s]"
            ],
            "application/vnd.jupyter.widget-view+json": {
              "version_major": 2,
              "version_minor": 0,
              "model_id": "25dc33105ac04aa4bfe3209bd804ba6a"
            }
          },
          "metadata": {}
        },
        {
          "output_type": "stream",
          "name": "stdout",
          "text": [
            "Train Loss: 2.4618 | Ttrain Acc: 56.35%)\n",
            "Test Loss:  1.4561 | Test Acc:  79.07%\n",
            "Learning Rate: 0.004554\n",
            "✓ Best model saved! (Test Acc: 79.07%)\n",
            "\n",
            "============================================================\n",
            "Epoch [190/200]\n",
            "============================================================\n"
          ]
        },
        {
          "output_type": "display_data",
          "data": {
            "text/plain": [
              "Training:   0%|          | 0/196 [00:00<?, ?it/s]"
            ],
            "application/vnd.jupyter.widget-view+json": {
              "version_major": 2,
              "version_minor": 0,
              "model_id": "6f1fe84efda742cb8b4f551620ecd2a9"
            }
          },
          "metadata": {}
        },
        {
          "output_type": "display_data",
          "data": {
            "text/plain": [
              "Evaluating:   0%|          | 0/40 [00:00<?, ?it/s]"
            ],
            "application/vnd.jupyter.widget-view+json": {
              "version_major": 2,
              "version_minor": 0,
              "model_id": "62cc836e95594b72a5792d6872609c3b"
            }
          },
          "metadata": {}
        },
        {
          "output_type": "stream",
          "name": "stdout",
          "text": [
            "Train Loss: 2.4843 | Ttrain Acc: 55.85%)\n",
            "Test Loss:  1.4470 | Test Acc:  78.96%\n",
            "Learning Rate: 0.003769\n",
            "\n",
            "============================================================\n",
            "Epoch [191/200]\n",
            "============================================================\n"
          ]
        },
        {
          "output_type": "display_data",
          "data": {
            "text/plain": [
              "Training:   0%|          | 0/196 [00:00<?, ?it/s]"
            ],
            "application/vnd.jupyter.widget-view+json": {
              "version_major": 2,
              "version_minor": 0,
              "model_id": "cd74f186d4df4420aadd33f74b6ffc50"
            }
          },
          "metadata": {}
        },
        {
          "output_type": "display_data",
          "data": {
            "text/plain": [
              "Evaluating:   0%|          | 0/40 [00:00<?, ?it/s]"
            ],
            "application/vnd.jupyter.widget-view+json": {
              "version_major": 2,
              "version_minor": 0,
              "model_id": "eb36cb30c0a24feaae854ce6251370aa"
            }
          },
          "metadata": {}
        },
        {
          "output_type": "stream",
          "name": "stdout",
          "text": [
            "Train Loss: 2.4893 | Ttrain Acc: 55.30%)\n",
            "Test Loss:  1.4405 | Test Acc:  79.47%\n",
            "Learning Rate: 0.003057\n",
            "✓ Best model saved! (Test Acc: 79.47%)\n",
            "\n",
            "============================================================\n",
            "Epoch [192/200]\n",
            "============================================================\n"
          ]
        },
        {
          "output_type": "display_data",
          "data": {
            "text/plain": [
              "Training:   0%|          | 0/196 [00:00<?, ?it/s]"
            ],
            "application/vnd.jupyter.widget-view+json": {
              "version_major": 2,
              "version_minor": 0,
              "model_id": "9f5c9fba696445deb694f856baf3de58"
            }
          },
          "metadata": {}
        },
        {
          "output_type": "display_data",
          "data": {
            "text/plain": [
              "Evaluating:   0%|          | 0/40 [00:00<?, ?it/s]"
            ],
            "application/vnd.jupyter.widget-view+json": {
              "version_major": 2,
              "version_minor": 0,
              "model_id": "ea2a01adfad44671b4b4feab261f5a17"
            }
          },
          "metadata": {}
        },
        {
          "output_type": "stream",
          "name": "stdout",
          "text": [
            "Train Loss: 2.4359 | Ttrain Acc: 57.09%)\n",
            "Test Loss:  1.4102 | Test Acc:  80.39%\n",
            "Learning Rate: 0.002419\n",
            "✓ Best model saved! (Test Acc: 80.39%)\n",
            "\n",
            "============================================================\n",
            "Epoch [193/200]\n",
            "============================================================\n"
          ]
        },
        {
          "output_type": "display_data",
          "data": {
            "text/plain": [
              "Training:   0%|          | 0/196 [00:00<?, ?it/s]"
            ],
            "application/vnd.jupyter.widget-view+json": {
              "version_major": 2,
              "version_minor": 0,
              "model_id": "4dc97ee6b929417d9df898a8df38e3c9"
            }
          },
          "metadata": {}
        },
        {
          "output_type": "display_data",
          "data": {
            "text/plain": [
              "Evaluating:   0%|          | 0/40 [00:00<?, ?it/s]"
            ],
            "application/vnd.jupyter.widget-view+json": {
              "version_major": 2,
              "version_minor": 0,
              "model_id": "07a5c01942c046308277e56640ad1f1a"
            }
          },
          "metadata": {}
        },
        {
          "output_type": "stream",
          "name": "stdout",
          "text": [
            "Train Loss: 2.4425 | Ttrain Acc: 57.12%)\n",
            "Test Loss:  1.4142 | Test Acc:  80.21%\n",
            "Learning Rate: 0.001856\n",
            "\n",
            "============================================================\n",
            "Epoch [194/200]\n",
            "============================================================\n"
          ]
        },
        {
          "output_type": "display_data",
          "data": {
            "text/plain": [
              "Training:   0%|          | 0/196 [00:00<?, ?it/s]"
            ],
            "application/vnd.jupyter.widget-view+json": {
              "version_major": 2,
              "version_minor": 0,
              "model_id": "833d2f41ed2647c187fb4bed8c59379d"
            }
          },
          "metadata": {}
        },
        {
          "output_type": "display_data",
          "data": {
            "text/plain": [
              "Evaluating:   0%|          | 0/40 [00:00<?, ?it/s]"
            ],
            "application/vnd.jupyter.widget-view+json": {
              "version_major": 2,
              "version_minor": 0,
              "model_id": "9ac083f1304242759a9ec319f5ec7a42"
            }
          },
          "metadata": {}
        },
        {
          "output_type": "stream",
          "name": "stdout",
          "text": [
            "Train Loss: 2.4109 | Ttrain Acc: 57.81%)\n",
            "Test Loss:  1.3902 | Test Acc:  80.84%\n",
            "Learning Rate: 0.001367\n",
            "✓ Best model saved! (Test Acc: 80.84%)\n",
            "\n",
            "============================================================\n",
            "Epoch [195/200]\n",
            "============================================================\n"
          ]
        },
        {
          "output_type": "display_data",
          "data": {
            "text/plain": [
              "Training:   0%|          | 0/196 [00:00<?, ?it/s]"
            ],
            "application/vnd.jupyter.widget-view+json": {
              "version_major": 2,
              "version_minor": 0,
              "model_id": "7ac99525c3544800be80228d00b60f7e"
            }
          },
          "metadata": {}
        },
        {
          "output_type": "display_data",
          "data": {
            "text/plain": [
              "Evaluating:   0%|          | 0/40 [00:00<?, ?it/s]"
            ],
            "application/vnd.jupyter.widget-view+json": {
              "version_major": 2,
              "version_minor": 0,
              "model_id": "c0b993c1e00046feadd742c29719856a"
            }
          },
          "metadata": {}
        },
        {
          "output_type": "stream",
          "name": "stdout",
          "text": [
            "Train Loss: 2.4005 | Ttrain Acc: 58.16%)\n",
            "Test Loss:  1.4042 | Test Acc:  80.45%\n",
            "Learning Rate: 0.000953\n",
            "\n",
            "============================================================\n",
            "Epoch [196/200]\n",
            "============================================================\n"
          ]
        },
        {
          "output_type": "display_data",
          "data": {
            "text/plain": [
              "Training:   0%|          | 0/196 [00:00<?, ?it/s]"
            ],
            "application/vnd.jupyter.widget-view+json": {
              "version_major": 2,
              "version_minor": 0,
              "model_id": "05f1137ff8dd44f8a474715ffada94c5"
            }
          },
          "metadata": {}
        },
        {
          "output_type": "display_data",
          "data": {
            "text/plain": [
              "Evaluating:   0%|          | 0/40 [00:00<?, ?it/s]"
            ],
            "application/vnd.jupyter.widget-view+json": {
              "version_major": 2,
              "version_minor": 0,
              "model_id": "408282ae8c3a4517beba7f75dd40c0a7"
            }
          },
          "metadata": {}
        },
        {
          "output_type": "stream",
          "name": "stdout",
          "text": [
            "Train Loss: 2.4164 | Ttrain Acc: 57.82%)\n",
            "Test Loss:  1.3934 | Test Acc:  80.58%\n",
            "Learning Rate: 0.000614\n",
            "\n",
            "============================================================\n",
            "Epoch [197/200]\n",
            "============================================================\n"
          ]
        },
        {
          "output_type": "display_data",
          "data": {
            "text/plain": [
              "Training:   0%|          | 0/196 [00:00<?, ?it/s]"
            ],
            "application/vnd.jupyter.widget-view+json": {
              "version_major": 2,
              "version_minor": 0,
              "model_id": "b7b47501d6104c2c893b566dc36a9a64"
            }
          },
          "metadata": {}
        },
        {
          "output_type": "display_data",
          "data": {
            "text/plain": [
              "Evaluating:   0%|          | 0/40 [00:00<?, ?it/s]"
            ],
            "application/vnd.jupyter.widget-view+json": {
              "version_major": 2,
              "version_minor": 0,
              "model_id": "e61aaf5170084e75832b89fccebada36"
            }
          },
          "metadata": {}
        },
        {
          "output_type": "stream",
          "name": "stdout",
          "text": [
            "Train Loss: 2.3785 | Ttrain Acc: 58.64%)\n",
            "Test Loss:  1.4002 | Test Acc:  80.70%\n",
            "Learning Rate: 0.000351\n",
            "\n",
            "============================================================\n",
            "Epoch [198/200]\n",
            "============================================================\n"
          ]
        },
        {
          "output_type": "display_data",
          "data": {
            "text/plain": [
              "Training:   0%|          | 0/196 [00:00<?, ?it/s]"
            ],
            "application/vnd.jupyter.widget-view+json": {
              "version_major": 2,
              "version_minor": 0,
              "model_id": "2398ea6cb70d4e36b9fbd66bffb5d3e4"
            }
          },
          "metadata": {}
        },
        {
          "output_type": "display_data",
          "data": {
            "text/plain": [
              "Evaluating:   0%|          | 0/40 [00:00<?, ?it/s]"
            ],
            "application/vnd.jupyter.widget-view+json": {
              "version_major": 2,
              "version_minor": 0,
              "model_id": "cd9ed1f3968c4933ba35fd9f16d6101b"
            }
          },
          "metadata": {}
        },
        {
          "output_type": "stream",
          "name": "stdout",
          "text": [
            "Train Loss: 2.4093 | Ttrain Acc: 57.71%)\n",
            "Test Loss:  1.3795 | Test Acc:  81.01%\n",
            "Learning Rate: 0.000162\n",
            "✓ Best model saved! (Test Acc: 81.01%)\n",
            "\n",
            "============================================================\n",
            "Epoch [199/200]\n",
            "============================================================\n"
          ]
        },
        {
          "output_type": "display_data",
          "data": {
            "text/plain": [
              "Training:   0%|          | 0/196 [00:00<?, ?it/s]"
            ],
            "application/vnd.jupyter.widget-view+json": {
              "version_major": 2,
              "version_minor": 0,
              "model_id": "920325f3d7774229911d7eb46c1235ea"
            }
          },
          "metadata": {}
        },
        {
          "output_type": "display_data",
          "data": {
            "text/plain": [
              "Evaluating:   0%|          | 0/40 [00:00<?, ?it/s]"
            ],
            "application/vnd.jupyter.widget-view+json": {
              "version_major": 2,
              "version_minor": 0,
              "model_id": "91f5d309d161402b8f2687b2d754644d"
            }
          },
          "metadata": {}
        },
        {
          "output_type": "stream",
          "name": "stdout",
          "text": [
            "Train Loss: 2.3621 | Ttrain Acc: 59.06%)\n",
            "Test Loss:  1.3692 | Test Acc:  81.36%\n",
            "Learning Rate: 0.000049\n",
            "✓ Best model saved! (Test Acc: 81.36%)\n",
            "\n",
            "============================================================\n",
            "Epoch [200/200]\n",
            "============================================================\n"
          ]
        },
        {
          "output_type": "display_data",
          "data": {
            "text/plain": [
              "Training:   0%|          | 0/196 [00:00<?, ?it/s]"
            ],
            "application/vnd.jupyter.widget-view+json": {
              "version_major": 2,
              "version_minor": 0,
              "model_id": "d5a41405e79d4209a0e43c77c4dd3cc9"
            }
          },
          "metadata": {}
        },
        {
          "output_type": "display_data",
          "data": {
            "text/plain": [
              "Evaluating:   0%|          | 0/40 [00:00<?, ?it/s]"
            ],
            "application/vnd.jupyter.widget-view+json": {
              "version_major": 2,
              "version_minor": 0,
              "model_id": "d41d13efc16245eca515a612633ab68c"
            }
          },
          "metadata": {}
        },
        {
          "output_type": "stream",
          "name": "stdout",
          "text": [
            "Train Loss: 2.3671 | Ttrain Acc: 59.24%)\n",
            "Test Loss:  1.3940 | Test Acc:  80.61%\n",
            "Learning Rate: 0.000012\n",
            "\n",
            "============================================================\n",
            "Training Complete!\n",
            "Best Test Accuracy: 81.36%\n",
            "============================================================\n",
            "\n"
          ]
        }
      ]
    },
    {
      "cell_type": "code",
      "source": [
        "plot_training_history(history)"
      ],
      "metadata": {
        "colab": {
          "base_uri": "https://localhost:8080/",
          "height": 712
        },
        "id": "KLu1_sGCGcYf",
        "outputId": "6bcc474e-8eeb-425c-db1a-f855a8b7f0c9"
      },
      "execution_count": null,
      "outputs": [
        {
          "output_type": "stream",
          "name": "stdout",
          "text": [
            "✓ Training plots saved to training_plots.png\n"
          ]
        },
        {
          "output_type": "display_data",
          "data": {
            "text/plain": [
              "<Figure size 1500x1000 with 4 Axes>"
            ],
            "image/png": "[encoded data removed]"
          },
          "metadata": {}
        }
      ]
    },
    {
      "cell_type": "code",
      "source": [],
      "metadata": {
        "id": "98ozHQYNfJ8i"
      },
      "execution_count": null,
      "outputs": []
    }
  ]
}